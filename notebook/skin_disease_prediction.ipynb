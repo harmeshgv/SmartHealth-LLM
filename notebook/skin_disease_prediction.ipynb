{
 "cells": [
  {
   "cell_type": "code",
   "execution_count": 1,
   "id": "1a9ebcad",
   "metadata": {},
   "outputs": [],
   "source": [
    "import os\n",
    "import pandas as pd\n",
    "import matplotlib.pyplot as plt\n",
    "import seaborn as sns\n",
    "import torch\n",
    "import torch.nn as nn\n",
    "import kornia.augmentation as K\n",
    "from kornia.geometry.transform import Resize\n",
    "from kornia.constants import Resample\n",
    "from PIL import Image\n",
    "import torchvision.transforms.functional as TF"
   ]
  },
  {
   "cell_type": "code",
   "execution_count": 2,
   "id": "6814671f",
   "metadata": {},
   "outputs": [],
   "source": [
    "import os\n",
    "import sys\n",
    "\n",
    "# Add root path to sys.path so imports work\n",
    "sys.path.append(os.path.abspath(os.path.join('..')))\n"
   ]
  },
  {
   "cell_type": "code",
   "execution_count": 3,
   "id": "8a995b90",
   "metadata": {},
   "outputs": [],
   "source": [
    "train_data_path = os.path.join(\"..\",\"skin-disease-datasaet\",\"train_set\")\n",
    "test_data_path = os.path.join(\"..\",\"skin-disease-datasaet\",\"test_set\")"
   ]
  },
  {
   "cell_type": "code",
   "execution_count": 4,
   "id": "ee94d59f",
   "metadata": {},
   "outputs": [],
   "source": [
    "train_list_dir = os.listdir(train_data_path)\n",
    "test_list_dir = os.listdir(test_data_path)"
   ]
  },
  {
   "cell_type": "code",
   "execution_count": 5,
   "id": "7f2a95d0",
   "metadata": {},
   "outputs": [
    {
     "data": {
      "text/plain": [
       "['BA- cellulitis',\n",
       " 'BA-impetigo',\n",
       " 'FU-athlete-foot',\n",
       " 'FU-nail-fungus',\n",
       " 'FU-ringworm',\n",
       " 'PA-cutaneous-larva-migrans',\n",
       " 'VI-chickenpox',\n",
       " 'VI-shingles']"
      ]
     },
     "execution_count": 5,
     "metadata": {},
     "output_type": "execute_result"
    }
   ],
   "source": [
    "test_list_dir"
   ]
  },
  {
   "cell_type": "code",
   "execution_count": 6,
   "id": "f4143311",
   "metadata": {},
   "outputs": [],
   "source": [
    "data_train = []\n",
    "\n",
    "for disease_name in train_list_dir:\n",
    "    disease_folder_path = os.path.join(train_data_path, disease_name)\n",
    "    train_disease_pic_names = os.listdir(disease_folder_path)\n",
    "\n",
    "    for pic_name in train_disease_pic_names:\n",
    "        pic_path = os.path.join(disease_folder_path, pic_name)\n",
    "        data_train.append({\"image_path\": pic_path, \"label\": disease_name})\n",
    "        \n",
    "df_train = pd.DataFrame(data_train)"
   ]
  },
  {
   "cell_type": "code",
   "execution_count": 7,
   "id": "2e970ae1",
   "metadata": {},
   "outputs": [
    {
     "data": {
      "text/html": [
       "<div>\n",
       "<style scoped>\n",
       "    .dataframe tbody tr th:only-of-type {\n",
       "        vertical-align: middle;\n",
       "    }\n",
       "\n",
       "    .dataframe tbody tr th {\n",
       "        vertical-align: top;\n",
       "    }\n",
       "\n",
       "    .dataframe thead th {\n",
       "        text-align: right;\n",
       "    }\n",
       "</style>\n",
       "<table border=\"1\" class=\"dataframe\">\n",
       "  <thead>\n",
       "    <tr style=\"text-align: right;\">\n",
       "      <th></th>\n",
       "      <th>image_path</th>\n",
       "      <th>label</th>\n",
       "    </tr>\n",
       "  </thead>\n",
       "  <tbody>\n",
       "    <tr>\n",
       "      <th>0</th>\n",
       "      <td>..\\skin-disease-datasaet\\train_set\\BA- celluli...</td>\n",
       "      <td>BA- cellulitis</td>\n",
       "    </tr>\n",
       "    <tr>\n",
       "      <th>1</th>\n",
       "      <td>..\\skin-disease-datasaet\\train_set\\BA- celluli...</td>\n",
       "      <td>BA- cellulitis</td>\n",
       "    </tr>\n",
       "    <tr>\n",
       "      <th>2</th>\n",
       "      <td>..\\skin-disease-datasaet\\train_set\\BA- celluli...</td>\n",
       "      <td>BA- cellulitis</td>\n",
       "    </tr>\n",
       "    <tr>\n",
       "      <th>3</th>\n",
       "      <td>..\\skin-disease-datasaet\\train_set\\BA- celluli...</td>\n",
       "      <td>BA- cellulitis</td>\n",
       "    </tr>\n",
       "    <tr>\n",
       "      <th>4</th>\n",
       "      <td>..\\skin-disease-datasaet\\train_set\\BA- celluli...</td>\n",
       "      <td>BA- cellulitis</td>\n",
       "    </tr>\n",
       "    <tr>\n",
       "      <th>...</th>\n",
       "      <td>...</td>\n",
       "      <td>...</td>\n",
       "    </tr>\n",
       "    <tr>\n",
       "      <th>920</th>\n",
       "      <td>..\\skin-disease-datasaet\\train_set\\VI-shingles...</td>\n",
       "      <td>VI-shingles</td>\n",
       "    </tr>\n",
       "    <tr>\n",
       "      <th>921</th>\n",
       "      <td>..\\skin-disease-datasaet\\train_set\\VI-shingles...</td>\n",
       "      <td>VI-shingles</td>\n",
       "    </tr>\n",
       "    <tr>\n",
       "      <th>922</th>\n",
       "      <td>..\\skin-disease-datasaet\\train_set\\VI-shingles...</td>\n",
       "      <td>VI-shingles</td>\n",
       "    </tr>\n",
       "    <tr>\n",
       "      <th>923</th>\n",
       "      <td>..\\skin-disease-datasaet\\train_set\\VI-shingles...</td>\n",
       "      <td>VI-shingles</td>\n",
       "    </tr>\n",
       "    <tr>\n",
       "      <th>924</th>\n",
       "      <td>..\\skin-disease-datasaet\\train_set\\VI-shingles...</td>\n",
       "      <td>VI-shingles</td>\n",
       "    </tr>\n",
       "  </tbody>\n",
       "</table>\n",
       "<p>925 rows × 2 columns</p>\n",
       "</div>"
      ],
      "text/plain": [
       "                                            image_path           label\n",
       "0    ..\\skin-disease-datasaet\\train_set\\BA- celluli...  BA- cellulitis\n",
       "1    ..\\skin-disease-datasaet\\train_set\\BA- celluli...  BA- cellulitis\n",
       "2    ..\\skin-disease-datasaet\\train_set\\BA- celluli...  BA- cellulitis\n",
       "3    ..\\skin-disease-datasaet\\train_set\\BA- celluli...  BA- cellulitis\n",
       "4    ..\\skin-disease-datasaet\\train_set\\BA- celluli...  BA- cellulitis\n",
       "..                                                 ...             ...\n",
       "920  ..\\skin-disease-datasaet\\train_set\\VI-shingles...     VI-shingles\n",
       "921  ..\\skin-disease-datasaet\\train_set\\VI-shingles...     VI-shingles\n",
       "922  ..\\skin-disease-datasaet\\train_set\\VI-shingles...     VI-shingles\n",
       "923  ..\\skin-disease-datasaet\\train_set\\VI-shingles...     VI-shingles\n",
       "924  ..\\skin-disease-datasaet\\train_set\\VI-shingles...     VI-shingles\n",
       "\n",
       "[925 rows x 2 columns]"
      ]
     },
     "execution_count": 7,
     "metadata": {},
     "output_type": "execute_result"
    }
   ],
   "source": [
    "df_train"
   ]
  },
  {
   "cell_type": "code",
   "execution_count": 8,
   "id": "711eaad5",
   "metadata": {},
   "outputs": [],
   "source": [
    "data_test = []\n",
    "\n",
    "for disease_name in test_list_dir:\n",
    "    disease_folder_path = os.path.join(test_data_path, disease_name)\n",
    "    test_disease_pic_names = os.listdir(disease_folder_path)\n",
    "\n",
    "    for pic_name in test_disease_pic_names:\n",
    "        pic_path = os.path.join(disease_folder_path, pic_name)\n",
    "        data_test.append({\"image_path\": pic_path, \"label\": disease_name})\n",
    "        \n",
    "df_test = pd.DataFrame(data_test)"
   ]
  },
  {
   "cell_type": "code",
   "execution_count": 9,
   "id": "37a41c4e",
   "metadata": {},
   "outputs": [
    {
     "data": {
      "text/html": [
       "<div>\n",
       "<style scoped>\n",
       "    .dataframe tbody tr th:only-of-type {\n",
       "        vertical-align: middle;\n",
       "    }\n",
       "\n",
       "    .dataframe tbody tr th {\n",
       "        vertical-align: top;\n",
       "    }\n",
       "\n",
       "    .dataframe thead th {\n",
       "        text-align: right;\n",
       "    }\n",
       "</style>\n",
       "<table border=\"1\" class=\"dataframe\">\n",
       "  <thead>\n",
       "    <tr style=\"text-align: right;\">\n",
       "      <th></th>\n",
       "      <th>image_path</th>\n",
       "      <th>label</th>\n",
       "    </tr>\n",
       "  </thead>\n",
       "  <tbody>\n",
       "    <tr>\n",
       "      <th>0</th>\n",
       "      <td>..\\skin-disease-datasaet\\test_set\\BA- cellulit...</td>\n",
       "      <td>BA- cellulitis</td>\n",
       "    </tr>\n",
       "    <tr>\n",
       "      <th>1</th>\n",
       "      <td>..\\skin-disease-datasaet\\test_set\\BA- cellulit...</td>\n",
       "      <td>BA- cellulitis</td>\n",
       "    </tr>\n",
       "    <tr>\n",
       "      <th>2</th>\n",
       "      <td>..\\skin-disease-datasaet\\test_set\\BA- cellulit...</td>\n",
       "      <td>BA- cellulitis</td>\n",
       "    </tr>\n",
       "    <tr>\n",
       "      <th>3</th>\n",
       "      <td>..\\skin-disease-datasaet\\test_set\\BA- cellulit...</td>\n",
       "      <td>BA- cellulitis</td>\n",
       "    </tr>\n",
       "    <tr>\n",
       "      <th>4</th>\n",
       "      <td>..\\skin-disease-datasaet\\test_set\\BA- cellulit...</td>\n",
       "      <td>BA- cellulitis</td>\n",
       "    </tr>\n",
       "    <tr>\n",
       "      <th>...</th>\n",
       "      <td>...</td>\n",
       "      <td>...</td>\n",
       "    </tr>\n",
       "    <tr>\n",
       "      <th>229</th>\n",
       "      <td>..\\skin-disease-datasaet\\test_set\\VI-shingles\\...</td>\n",
       "      <td>VI-shingles</td>\n",
       "    </tr>\n",
       "    <tr>\n",
       "      <th>230</th>\n",
       "      <td>..\\skin-disease-datasaet\\test_set\\VI-shingles\\...</td>\n",
       "      <td>VI-shingles</td>\n",
       "    </tr>\n",
       "    <tr>\n",
       "      <th>231</th>\n",
       "      <td>..\\skin-disease-datasaet\\test_set\\VI-shingles\\...</td>\n",
       "      <td>VI-shingles</td>\n",
       "    </tr>\n",
       "    <tr>\n",
       "      <th>232</th>\n",
       "      <td>..\\skin-disease-datasaet\\test_set\\VI-shingles\\...</td>\n",
       "      <td>VI-shingles</td>\n",
       "    </tr>\n",
       "    <tr>\n",
       "      <th>233</th>\n",
       "      <td>..\\skin-disease-datasaet\\test_set\\VI-shingles\\...</td>\n",
       "      <td>VI-shingles</td>\n",
       "    </tr>\n",
       "  </tbody>\n",
       "</table>\n",
       "<p>234 rows × 2 columns</p>\n",
       "</div>"
      ],
      "text/plain": [
       "                                            image_path           label\n",
       "0    ..\\skin-disease-datasaet\\test_set\\BA- cellulit...  BA- cellulitis\n",
       "1    ..\\skin-disease-datasaet\\test_set\\BA- cellulit...  BA- cellulitis\n",
       "2    ..\\skin-disease-datasaet\\test_set\\BA- cellulit...  BA- cellulitis\n",
       "3    ..\\skin-disease-datasaet\\test_set\\BA- cellulit...  BA- cellulitis\n",
       "4    ..\\skin-disease-datasaet\\test_set\\BA- cellulit...  BA- cellulitis\n",
       "..                                                 ...             ...\n",
       "229  ..\\skin-disease-datasaet\\test_set\\VI-shingles\\...     VI-shingles\n",
       "230  ..\\skin-disease-datasaet\\test_set\\VI-shingles\\...     VI-shingles\n",
       "231  ..\\skin-disease-datasaet\\test_set\\VI-shingles\\...     VI-shingles\n",
       "232  ..\\skin-disease-datasaet\\test_set\\VI-shingles\\...     VI-shingles\n",
       "233  ..\\skin-disease-datasaet\\test_set\\VI-shingles\\...     VI-shingles\n",
       "\n",
       "[234 rows x 2 columns]"
      ]
     },
     "execution_count": 9,
     "metadata": {},
     "output_type": "execute_result"
    }
   ],
   "source": [
    "df_test"
   ]
  },
  {
   "cell_type": "code",
   "execution_count": 10,
   "id": "ab71666a",
   "metadata": {},
   "outputs": [],
   "source": [
    "label_map = {\n",
    "    \"BA- cellulitis\" : 0,\n",
    "    'BA-impetigo':1,\n",
    " 'FU-athlete-foot':2,\n",
    " 'FU-nail-fungus':3,\n",
    " 'FU-ringworm':4,\n",
    " 'PA-cutaneous-larva-migrans':5,\n",
    " 'VI-chickenpox':6,\n",
    " 'VI-shingles':7\n",
    "    \n",
    "}"
   ]
  },
  {
   "cell_type": "code",
   "execution_count": 11,
   "id": "cf0e2b68",
   "metadata": {},
   "outputs": [],
   "source": [
    "df_train[\"num_label\"] = df_train[\"label\"].map(label_map)"
   ]
  },
  {
   "cell_type": "code",
   "execution_count": 12,
   "id": "3d4c1d2a",
   "metadata": {},
   "outputs": [],
   "source": [
    "df_train = df_train.sample(frac=1, random_state=42).reset_index(drop=True)\n"
   ]
  },
  {
   "cell_type": "code",
   "execution_count": 13,
   "id": "7e48814c",
   "metadata": {},
   "outputs": [
    {
     "data": {
      "text/html": [
       "<div>\n",
       "<style scoped>\n",
       "    .dataframe tbody tr th:only-of-type {\n",
       "        vertical-align: middle;\n",
       "    }\n",
       "\n",
       "    .dataframe tbody tr th {\n",
       "        vertical-align: top;\n",
       "    }\n",
       "\n",
       "    .dataframe thead th {\n",
       "        text-align: right;\n",
       "    }\n",
       "</style>\n",
       "<table border=\"1\" class=\"dataframe\">\n",
       "  <thead>\n",
       "    <tr style=\"text-align: right;\">\n",
       "      <th></th>\n",
       "      <th>image_path</th>\n",
       "      <th>label</th>\n",
       "      <th>num_label</th>\n",
       "    </tr>\n",
       "  </thead>\n",
       "  <tbody>\n",
       "    <tr>\n",
       "      <th>0</th>\n",
       "      <td>..\\skin-disease-datasaet\\train_set\\FU-athlete-...</td>\n",
       "      <td>FU-athlete-foot</td>\n",
       "      <td>2</td>\n",
       "    </tr>\n",
       "    <tr>\n",
       "      <th>1</th>\n",
       "      <td>..\\skin-disease-datasaet\\train_set\\VI-shingles...</td>\n",
       "      <td>VI-shingles</td>\n",
       "      <td>7</td>\n",
       "    </tr>\n",
       "    <tr>\n",
       "      <th>2</th>\n",
       "      <td>..\\skin-disease-datasaet\\train_set\\BA- celluli...</td>\n",
       "      <td>BA- cellulitis</td>\n",
       "      <td>0</td>\n",
       "    </tr>\n",
       "    <tr>\n",
       "      <th>3</th>\n",
       "      <td>..\\skin-disease-datasaet\\train_set\\VI-shingles...</td>\n",
       "      <td>VI-shingles</td>\n",
       "      <td>7</td>\n",
       "    </tr>\n",
       "    <tr>\n",
       "      <th>4</th>\n",
       "      <td>..\\skin-disease-datasaet\\train_set\\FU-athlete-...</td>\n",
       "      <td>FU-athlete-foot</td>\n",
       "      <td>2</td>\n",
       "    </tr>\n",
       "    <tr>\n",
       "      <th>...</th>\n",
       "      <td>...</td>\n",
       "      <td>...</td>\n",
       "      <td>...</td>\n",
       "    </tr>\n",
       "    <tr>\n",
       "      <th>920</th>\n",
       "      <td>..\\skin-disease-datasaet\\train_set\\BA- celluli...</td>\n",
       "      <td>BA- cellulitis</td>\n",
       "      <td>0</td>\n",
       "    </tr>\n",
       "    <tr>\n",
       "      <th>921</th>\n",
       "      <td>..\\skin-disease-datasaet\\train_set\\FU-athlete-...</td>\n",
       "      <td>FU-athlete-foot</td>\n",
       "      <td>2</td>\n",
       "    </tr>\n",
       "    <tr>\n",
       "      <th>922</th>\n",
       "      <td>..\\skin-disease-datasaet\\train_set\\VI-shingles...</td>\n",
       "      <td>VI-shingles</td>\n",
       "      <td>7</td>\n",
       "    </tr>\n",
       "    <tr>\n",
       "      <th>923</th>\n",
       "      <td>..\\skin-disease-datasaet\\train_set\\FU-nail-fun...</td>\n",
       "      <td>FU-nail-fungus</td>\n",
       "      <td>3</td>\n",
       "    </tr>\n",
       "    <tr>\n",
       "      <th>924</th>\n",
       "      <td>..\\skin-disease-datasaet\\train_set\\BA- celluli...</td>\n",
       "      <td>BA- cellulitis</td>\n",
       "      <td>0</td>\n",
       "    </tr>\n",
       "  </tbody>\n",
       "</table>\n",
       "<p>925 rows × 3 columns</p>\n",
       "</div>"
      ],
      "text/plain": [
       "                                            image_path            label  \\\n",
       "0    ..\\skin-disease-datasaet\\train_set\\FU-athlete-...  FU-athlete-foot   \n",
       "1    ..\\skin-disease-datasaet\\train_set\\VI-shingles...      VI-shingles   \n",
       "2    ..\\skin-disease-datasaet\\train_set\\BA- celluli...   BA- cellulitis   \n",
       "3    ..\\skin-disease-datasaet\\train_set\\VI-shingles...      VI-shingles   \n",
       "4    ..\\skin-disease-datasaet\\train_set\\FU-athlete-...  FU-athlete-foot   \n",
       "..                                                 ...              ...   \n",
       "920  ..\\skin-disease-datasaet\\train_set\\BA- celluli...   BA- cellulitis   \n",
       "921  ..\\skin-disease-datasaet\\train_set\\FU-athlete-...  FU-athlete-foot   \n",
       "922  ..\\skin-disease-datasaet\\train_set\\VI-shingles...      VI-shingles   \n",
       "923  ..\\skin-disease-datasaet\\train_set\\FU-nail-fun...   FU-nail-fungus   \n",
       "924  ..\\skin-disease-datasaet\\train_set\\BA- celluli...   BA- cellulitis   \n",
       "\n",
       "     num_label  \n",
       "0            2  \n",
       "1            7  \n",
       "2            0  \n",
       "3            7  \n",
       "4            2  \n",
       "..         ...  \n",
       "920          0  \n",
       "921          2  \n",
       "922          7  \n",
       "923          3  \n",
       "924          0  \n",
       "\n",
       "[925 rows x 3 columns]"
      ]
     },
     "execution_count": 13,
     "metadata": {},
     "output_type": "execute_result"
    }
   ],
   "source": [
    "df_train"
   ]
  },
  {
   "cell_type": "code",
   "execution_count": 14,
   "id": "6527b67a",
   "metadata": {},
   "outputs": [],
   "source": [
    "df_test[\"num_label\"] = df_test[\"label\"].map(label_map)\n",
    "df_test = df_test.sample(frac=1, random_state=42).reset_index(drop=True)\n"
   ]
  },
  {
   "cell_type": "code",
   "execution_count": 15,
   "id": "830a18d1",
   "metadata": {},
   "outputs": [
    {
     "data": {
      "text/html": [
       "<div>\n",
       "<style scoped>\n",
       "    .dataframe tbody tr th:only-of-type {\n",
       "        vertical-align: middle;\n",
       "    }\n",
       "\n",
       "    .dataframe tbody tr th {\n",
       "        vertical-align: top;\n",
       "    }\n",
       "\n",
       "    .dataframe thead th {\n",
       "        text-align: right;\n",
       "    }\n",
       "</style>\n",
       "<table border=\"1\" class=\"dataframe\">\n",
       "  <thead>\n",
       "    <tr style=\"text-align: right;\">\n",
       "      <th></th>\n",
       "      <th>image_path</th>\n",
       "      <th>label</th>\n",
       "      <th>num_label</th>\n",
       "    </tr>\n",
       "  </thead>\n",
       "  <tbody>\n",
       "    <tr>\n",
       "      <th>0</th>\n",
       "      <td>..\\skin-disease-datasaet\\test_set\\FU-athlete-f...</td>\n",
       "      <td>FU-athlete-foot</td>\n",
       "      <td>2</td>\n",
       "    </tr>\n",
       "    <tr>\n",
       "      <th>1</th>\n",
       "      <td>..\\skin-disease-datasaet\\test_set\\VI-shingles\\...</td>\n",
       "      <td>VI-shingles</td>\n",
       "      <td>7</td>\n",
       "    </tr>\n",
       "    <tr>\n",
       "      <th>2</th>\n",
       "      <td>..\\skin-disease-datasaet\\test_set\\VI-chickenpo...</td>\n",
       "      <td>VI-chickenpox</td>\n",
       "      <td>6</td>\n",
       "    </tr>\n",
       "    <tr>\n",
       "      <th>3</th>\n",
       "      <td>..\\skin-disease-datasaet\\test_set\\BA- cellulit...</td>\n",
       "      <td>BA- cellulitis</td>\n",
       "      <td>0</td>\n",
       "    </tr>\n",
       "    <tr>\n",
       "      <th>4</th>\n",
       "      <td>..\\skin-disease-datasaet\\test_set\\FU-ringworm\\...</td>\n",
       "      <td>FU-ringworm</td>\n",
       "      <td>4</td>\n",
       "    </tr>\n",
       "    <tr>\n",
       "      <th>...</th>\n",
       "      <td>...</td>\n",
       "      <td>...</td>\n",
       "      <td>...</td>\n",
       "    </tr>\n",
       "    <tr>\n",
       "      <th>229</th>\n",
       "      <td>..\\skin-disease-datasaet\\test_set\\FU-nail-fung...</td>\n",
       "      <td>FU-nail-fungus</td>\n",
       "      <td>3</td>\n",
       "    </tr>\n",
       "    <tr>\n",
       "      <th>230</th>\n",
       "      <td>..\\skin-disease-datasaet\\test_set\\BA- cellulit...</td>\n",
       "      <td>BA- cellulitis</td>\n",
       "      <td>0</td>\n",
       "    </tr>\n",
       "    <tr>\n",
       "      <th>231</th>\n",
       "      <td>..\\skin-disease-datasaet\\test_set\\FU-nail-fung...</td>\n",
       "      <td>FU-nail-fungus</td>\n",
       "      <td>3</td>\n",
       "    </tr>\n",
       "    <tr>\n",
       "      <th>232</th>\n",
       "      <td>..\\skin-disease-datasaet\\test_set\\VI-chickenpo...</td>\n",
       "      <td>VI-chickenpox</td>\n",
       "      <td>6</td>\n",
       "    </tr>\n",
       "    <tr>\n",
       "      <th>233</th>\n",
       "      <td>..\\skin-disease-datasaet\\test_set\\FU-nail-fung...</td>\n",
       "      <td>FU-nail-fungus</td>\n",
       "      <td>3</td>\n",
       "    </tr>\n",
       "  </tbody>\n",
       "</table>\n",
       "<p>234 rows × 3 columns</p>\n",
       "</div>"
      ],
      "text/plain": [
       "                                            image_path            label  \\\n",
       "0    ..\\skin-disease-datasaet\\test_set\\FU-athlete-f...  FU-athlete-foot   \n",
       "1    ..\\skin-disease-datasaet\\test_set\\VI-shingles\\...      VI-shingles   \n",
       "2    ..\\skin-disease-datasaet\\test_set\\VI-chickenpo...    VI-chickenpox   \n",
       "3    ..\\skin-disease-datasaet\\test_set\\BA- cellulit...   BA- cellulitis   \n",
       "4    ..\\skin-disease-datasaet\\test_set\\FU-ringworm\\...      FU-ringworm   \n",
       "..                                                 ...              ...   \n",
       "229  ..\\skin-disease-datasaet\\test_set\\FU-nail-fung...   FU-nail-fungus   \n",
       "230  ..\\skin-disease-datasaet\\test_set\\BA- cellulit...   BA- cellulitis   \n",
       "231  ..\\skin-disease-datasaet\\test_set\\FU-nail-fung...   FU-nail-fungus   \n",
       "232  ..\\skin-disease-datasaet\\test_set\\VI-chickenpo...    VI-chickenpox   \n",
       "233  ..\\skin-disease-datasaet\\test_set\\FU-nail-fung...   FU-nail-fungus   \n",
       "\n",
       "     num_label  \n",
       "0            2  \n",
       "1            7  \n",
       "2            6  \n",
       "3            0  \n",
       "4            4  \n",
       "..         ...  \n",
       "229          3  \n",
       "230          0  \n",
       "231          3  \n",
       "232          6  \n",
       "233          3  \n",
       "\n",
       "[234 rows x 3 columns]"
      ]
     },
     "execution_count": 15,
     "metadata": {},
     "output_type": "execute_result"
    }
   ],
   "source": [
    "df_test"
   ]
  },
  {
   "cell_type": "code",
   "execution_count": 16,
   "id": "afe60e5e",
   "metadata": {},
   "outputs": [],
   "source": [
    "from torch.utils.data import Dataset, DataLoader\n",
    "from PIL import Image\n",
    "import torchvision.transforms as T\n",
    "import torch\n",
    "import kornia.augmentation as K\n",
    "import kornia.geometry.transform as KG\n",
    "from tqdm import tqdm\n",
    "\n",
    "class SkinDataset(Dataset):\n",
    "    def __init__(self, df, img_size=(224, 224)):\n",
    "        self.df = df\n",
    "        self.img_size = img_size\n",
    "        self.to_tensor = T.ToTensor()\n",
    "        self.resize = T.Resize(self.img_size)\n",
    "    \n",
    "    def __len__(self):\n",
    "        return len(self.df)\n",
    "    \n",
    "    def __getitem__(self, idx):\n",
    "        img_path = self.df.iloc[idx]['image_path']\n",
    "        label = self.df.iloc[idx]['num_label']\n",
    "        image = Image.open(img_path).convert(\"RGB\")\n",
    "        image = self.resize(image)\n",
    "        image = self.to_tensor(image)\n",
    "        \n",
    "        # Convert label to tensor (if it's not already)\n",
    "        label = torch.tensor(label, dtype=torch.long)  # Use torch.float32 for regression\n",
    "        return image, label"
   ]
  },
  {
   "cell_type": "code",
   "execution_count": 17,
   "id": "ddac3f66",
   "metadata": {},
   "outputs": [
    {
     "name": "stdout",
     "output_type": "stream",
     "text": [
      "cpu\n"
     ]
    }
   ],
   "source": [
    "device = torch.device(\"cuda\" if torch.cuda.is_available() else \"cpu\")\n",
    "print(device)"
   ]
  },
  {
   "cell_type": "code",
   "execution_count": 18,
   "id": "e6cf4ca2",
   "metadata": {},
   "outputs": [],
   "source": [
    "kornia_transform = nn.Sequential(\n",
    "    K.Normalize(mean=torch.tensor([0.485, 0.456, 0.406], device=device),\n",
    "                std=torch.tensor([0.229, 0.224, 0.225], device=device))\n",
    ").to(device)"
   ]
  },
  {
   "cell_type": "code",
   "execution_count": 19,
   "id": "3a63953c",
   "metadata": {},
   "outputs": [],
   "source": [
    "dataset_train = SkinDataset(df_train)\n",
    "dataloader_train = DataLoader(dataset_train, batch_size=32, shuffle=True)\n",
    "\n",
    "dataset_test = SkinDataset(df_test)\n",
    "dataloader_test = DataLoader(dataset_test, batch_size=32, shuffle=True)"
   ]
  },
  {
   "cell_type": "code",
   "execution_count": 185,
   "id": "9187e6ea",
   "metadata": {},
   "outputs": [],
   "source": [
    "import torch.nn as nn\n",
    "import torch.nn.functional as F\n",
    "\n",
    "class SimpleCNN(nn.Module):\n",
    "    def __init__(self, num_classes=8):  # Now supports 8 classes\n",
    "        super(SimpleCNN, self).__init__()\n",
    "        \n",
    "        # Convolutional layers\n",
    "        self.conv1 = nn.Conv2d(3, 16, kernel_size=3, stride=1, padding=1)\n",
    "        self.conv2 = nn.Conv2d(16, 32, kernel_size=3, stride=1, padding=1)\n",
    "        self.conv3 = nn.Conv2d(32, 64, kernel_size=3, stride=1, padding=1)\n",
    "        \n",
    "        # Max pooling\n",
    "        self.pool = nn.MaxPool2d(kernel_size=2, stride=2)\n",
    "        \n",
    "        # Fully connected layers (adjust input size if needed)\n",
    "        self.fc1 = nn.Linear(64 * 28 * 28, 512)  # Input after conv layers\n",
    "        self.fc2 = nn.Linear(512, num_classes)    # Output = 8 classes\n",
    "        \n",
    "        # Dropout for regularization\n",
    "        self.dropout = nn.Dropout(0.5)\n",
    "    \n",
    "    def forward(self, x):\n",
    "        # Conv + ReLU + Pooling\n",
    "        x = self.pool(F.relu(self.conv1(x)))  # Output: (16, 112, 112)\n",
    "        x = self.pool(F.relu(self.conv2(x)))  # Output: (32, 56, 56)\n",
    "        x = self.pool(F.relu(self.conv3(x)))  # Output: (64, 28, 28)\n",
    "        \n",
    "        # Flatten for FC layers\n",
    "        x = x.view(-1, 64 * 28 * 28)\n",
    "        \n",
    "        # FC layers\n",
    "        x = F.relu(self.fc1(x))\n",
    "        x = self.dropout(x)\n",
    "        x = self.fc2(x)  # Output shape: (batch_size, 8)\n",
    "        \n",
    "        return x"
   ]
  },
  {
   "cell_type": "code",
   "execution_count": 186,
   "id": "71942fed",
   "metadata": {},
   "outputs": [
    {
     "name": "stderr",
     "output_type": "stream",
     "text": [
      "100%|██████████| 29/29 [00:02<00:00, 10.13it/s]\n"
     ]
    },
    {
     "name": "stdout",
     "output_type": "stream",
     "text": [
      "Epoch 1/10, Loss: 2.0613\n"
     ]
    },
    {
     "name": "stderr",
     "output_type": "stream",
     "text": [
      "100%|██████████| 29/29 [00:02<00:00, 11.30it/s]\n"
     ]
    },
    {
     "name": "stdout",
     "output_type": "stream",
     "text": [
      "Epoch 2/10, Loss: 1.7881\n"
     ]
    },
    {
     "name": "stderr",
     "output_type": "stream",
     "text": [
      "100%|██████████| 29/29 [00:02<00:00, 10.58it/s]\n"
     ]
    },
    {
     "name": "stdout",
     "output_type": "stream",
     "text": [
      "Epoch 3/10, Loss: 1.4912\n"
     ]
    },
    {
     "name": "stderr",
     "output_type": "stream",
     "text": [
      "100%|██████████| 29/29 [00:02<00:00, 10.28it/s]\n"
     ]
    },
    {
     "name": "stdout",
     "output_type": "stream",
     "text": [
      "Epoch 4/10, Loss: 1.2585\n"
     ]
    },
    {
     "name": "stderr",
     "output_type": "stream",
     "text": [
      "100%|██████████| 29/29 [00:02<00:00, 11.18it/s]\n"
     ]
    },
    {
     "name": "stdout",
     "output_type": "stream",
     "text": [
      "Epoch 5/10, Loss: 0.9834\n"
     ]
    },
    {
     "name": "stderr",
     "output_type": "stream",
     "text": [
      "100%|██████████| 29/29 [00:02<00:00, 11.17it/s]\n"
     ]
    },
    {
     "name": "stdout",
     "output_type": "stream",
     "text": [
      "Epoch 6/10, Loss: 0.7726\n"
     ]
    },
    {
     "name": "stderr",
     "output_type": "stream",
     "text": [
      "100%|██████████| 29/29 [00:02<00:00, 11.21it/s]\n"
     ]
    },
    {
     "name": "stdout",
     "output_type": "stream",
     "text": [
      "Epoch 7/10, Loss: 0.5140\n"
     ]
    },
    {
     "name": "stderr",
     "output_type": "stream",
     "text": [
      "100%|██████████| 29/29 [00:02<00:00, 11.12it/s]\n"
     ]
    },
    {
     "name": "stdout",
     "output_type": "stream",
     "text": [
      "Epoch 8/10, Loss: 0.4293\n"
     ]
    },
    {
     "name": "stderr",
     "output_type": "stream",
     "text": [
      "100%|██████████| 29/29 [00:02<00:00, 10.90it/s]\n"
     ]
    },
    {
     "name": "stdout",
     "output_type": "stream",
     "text": [
      "Epoch 9/10, Loss: 0.3907\n"
     ]
    },
    {
     "name": "stderr",
     "output_type": "stream",
     "text": [
      "100%|██████████| 29/29 [00:02<00:00, 10.15it/s]"
     ]
    },
    {
     "name": "stdout",
     "output_type": "stream",
     "text": [
      "Epoch 10/10, Loss: 0.2211\n"
     ]
    },
    {
     "name": "stderr",
     "output_type": "stream",
     "text": [
      "\n"
     ]
    }
   ],
   "source": [
    "import torch.optim as optim\n",
    "from torch.utils.data import DataLoader\n",
    "\n",
    "# Initialize\n",
    "model = SimpleCNN(num_classes=8).to(device)\n",
    "criterion = nn.CrossEntropyLoss()  # For multi-class classification\n",
    "optimizer = optim.Adam(model.parameters(), lr=0.001)\n",
    "\n",
    "# Training loop\n",
    "num_epochs = 10\n",
    "for epoch in range(num_epochs):\n",
    "    model.train()\n",
    "    running_loss = 0.0\n",
    "    \n",
    "    for images, labels in tqdm(dataloader_train):\n",
    "        images = images.to(device)\n",
    "        labels = labels.to(device)\n",
    "        \n",
    "        # Forward pass\n",
    "        outputs = model(images)\n",
    "        loss = criterion(outputs, labels)\n",
    "        \n",
    "        # Backward pass\n",
    "        optimizer.zero_grad()\n",
    "        loss.backward()\n",
    "        optimizer.step()\n",
    "        \n",
    "        running_loss += loss.item()\n",
    "    \n",
    "    print(f\"Epoch {epoch+1}/{num_epochs}, Loss: {running_loss/len(dataloader_train):.4f}\")"
   ]
  },
  {
   "cell_type": "code",
   "execution_count": 187,
   "id": "a8697973",
   "metadata": {},
   "outputs": [
    {
     "name": "stdout",
     "output_type": "stream",
     "text": [
      "Accuracy: 76.50%\n"
     ]
    }
   ],
   "source": [
    "model.eval()\n",
    "correct = 0\n",
    "total = 0\n",
    "\n",
    "with torch.no_grad():\n",
    "    for images, labels in dataloader_test:\n",
    "        images = images.to(device)\n",
    "        labels = labels.to(device)\n",
    "        outputs = model(images)\n",
    "        _, predicted = torch.max(outputs.data, 1)  # Get class index\n",
    "        total += labels.size(0)\n",
    "        correct += (predicted == labels).sum().item()\n",
    "\n",
    "print(f\"Accuracy: {100 * correct / total:.2f}%\")"
   ]
  },
  {
   "cell_type": "code",
   "execution_count": 38,
   "id": "91e9293a",
   "metadata": {},
   "outputs": [
    {
     "name": "stdout",
     "output_type": "stream",
     "text": [
      "Memory allocated: 85.65 MB\n",
      "Memory cached: 232.00 MB\n"
     ]
    }
   ],
   "source": [
    "print(f\"Memory allocated: {torch.cuda.memory_allocated()/1024**2:.2f} MB\")\n",
    "print(f\"Memory cached: {torch.cuda.memory_reserved()/1024**2:.2f} MB\")"
   ]
  },
  {
   "cell_type": "code",
   "execution_count": 20,
   "id": "1854a2ce",
   "metadata": {},
   "outputs": [],
   "source": [
    "dataset_train = SkinDataset(df_train)\n",
    "dataloader_train = DataLoader(dataset_train, batch_size=16, shuffle=True)"
   ]
  },
  {
   "cell_type": "code",
   "execution_count": 21,
   "id": "b59b9bf3",
   "metadata": {},
   "outputs": [],
   "source": [
    "import torch\n",
    "import torch.nn as nn\n",
    "import torch.nn.functional as F\n",
    "\n",
    "class BasicBlock(nn.Module):\n",
    "    expansion = 1\n",
    "    \n",
    "    def __init__(self, in_channels, out_channels, stride=1):\n",
    "        super(BasicBlock, self).__init__()\n",
    "        self.conv1 = nn.Conv2d(\n",
    "            in_channels, out_channels, kernel_size=3, stride=stride, padding=1, bias=False)\n",
    "        self.bn1 = nn.BatchNorm2d(out_channels)\n",
    "        self.conv2 = nn.Conv2d(\n",
    "            out_channels, out_channels, kernel_size=3, stride=1, padding=1, bias=False)\n",
    "        self.bn2 = nn.BatchNorm2d(out_channels)\n",
    "        \n",
    "        self.shortcut = nn.Sequential()\n",
    "        if stride != 1 or in_channels != self.expansion * out_channels:\n",
    "            self.shortcut = nn.Sequential(\n",
    "                nn.Conv2d(in_channels, self.expansion * out_channels,\n",
    "                          kernel_size=1, stride=stride, bias=False),\n",
    "                nn.BatchNorm2d(self.expansion * out_channels)\n",
    "            )\n",
    "    \n",
    "    def forward(self, x):\n",
    "        out = F.relu(self.bn1(self.conv1(x)))\n",
    "        out = self.bn2(self.conv2(out))\n",
    "        out += self.shortcut(x)\n",
    "        out = F.relu(out)\n",
    "        return out\n",
    "\n",
    "class ResNet(nn.Module):\n",
    "    def __init__(self, block, num_blocks, num_classes=8):\n",
    "        super(ResNet, self).__init__()\n",
    "        self.in_channels = 64\n",
    "        \n",
    "        self.conv1 = nn.Conv2d(3, 64, kernel_size=3, stride=1, padding=1, bias=False)\n",
    "        self.bn1 = nn.BatchNorm2d(64)\n",
    "        self.layer1 = self._make_layer(block, 64, num_blocks[0], stride=1)\n",
    "        self.layer2 = self._make_layer(block, 128, num_blocks[1], stride=2)\n",
    "        self.layer3 = self._make_layer(block, 256, num_blocks[2], stride=2)\n",
    "        self.layer4 = self._make_layer(block, 512, num_blocks[3], stride=2)\n",
    "        \n",
    "        # Adaptive pooling layer to handle varying input sizes\n",
    "        self.avgpool = nn.AdaptiveAvgPool2d((1, 1))\n",
    "        self.linear = nn.Linear(512 * block.expansion, num_classes)\n",
    "    \n",
    "    def _make_layer(self, block, out_channels, num_blocks, stride):\n",
    "        strides = [stride] + [1] * (num_blocks - 1)\n",
    "        layers = []\n",
    "        for stride in strides:\n",
    "            layers.append(block(self.in_channels, out_channels, stride))\n",
    "            self.in_channels = out_channels * block.expansion\n",
    "        return nn.Sequential(*layers)\n",
    "    \n",
    "    def forward(self, x):\n",
    "        out = F.relu(self.bn1(self.conv1(x)))\n",
    "        out = self.layer1(out)\n",
    "        out = self.layer2(out)\n",
    "        out = self.layer3(out)\n",
    "        out = self.layer4(out)\n",
    "        out = self.avgpool(out)\n",
    "        out = out.view(out.size(0), -1)\n",
    "        out = self.linear(out)\n",
    "        return out\n",
    "\n",
    "def ResNet18(num_classes=8):\n",
    "    return ResNet(BasicBlock, [2, 2, 2, 2], num_classes=num_classes)"
   ]
  },
  {
   "cell_type": "code",
   "execution_count": 22,
   "id": "d26f50d4",
   "metadata": {},
   "outputs": [],
   "source": [
    "# Initialize\n",
    "import torch.optim as optim\n",
    "\n",
    "model = ResNet18(num_classes=8).to(device)\n",
    "criterion = nn.CrossEntropyLoss()\n",
    "optimizer = optim.Adam(model.parameters(), lr=0.001)\n",
    "\n",
    "# Training and evaluation code remains the same as before"
   ]
  },
  {
   "cell_type": "code",
   "execution_count": null,
   "id": "c825739e",
   "metadata": {},
   "outputs": [
    {
     "name": "stderr",
     "output_type": "stream",
     "text": [
      "100%|██████████| 58/58 [09:30<00:00,  9.84s/it]\n"
     ]
    },
    {
     "name": "stdout",
     "output_type": "stream",
     "text": [
      "Epoch 1/10, Loss: 2.0375\n"
     ]
    },
    {
     "name": "stderr",
     "output_type": "stream",
     "text": [
      "100%|██████████| 58/58 [10:46<00:00, 11.15s/it]\n"
     ]
    },
    {
     "name": "stdout",
     "output_type": "stream",
     "text": [
      "Epoch 2/10, Loss: 1.7774\n"
     ]
    },
    {
     "name": "stderr",
     "output_type": "stream",
     "text": [
      "100%|██████████| 58/58 [10:46<00:00, 11.15s/it]\n"
     ]
    },
    {
     "name": "stdout",
     "output_type": "stream",
     "text": [
      "Epoch 3/10, Loss: 1.7719\n"
     ]
    },
    {
     "name": "stderr",
     "output_type": "stream",
     "text": [
      "100%|██████████| 58/58 [10:41<00:00, 11.05s/it]\n"
     ]
    },
    {
     "name": "stdout",
     "output_type": "stream",
     "text": [
      "Epoch 4/10, Loss: 1.6782\n"
     ]
    },
    {
     "name": "stderr",
     "output_type": "stream",
     "text": [
      "100%|██████████| 58/58 [10:48<00:00, 11.18s/it]\n"
     ]
    },
    {
     "name": "stdout",
     "output_type": "stream",
     "text": [
      "Epoch 5/10, Loss: 1.6225\n"
     ]
    },
    {
     "name": "stderr",
     "output_type": "stream",
     "text": [
      "100%|██████████| 58/58 [10:46<00:00, 11.15s/it]\n"
     ]
    },
    {
     "name": "stdout",
     "output_type": "stream",
     "text": [
      "Epoch 6/10, Loss: 1.5810\n"
     ]
    },
    {
     "name": "stderr",
     "output_type": "stream",
     "text": [
      "100%|██████████| 58/58 [10:55<00:00, 11.30s/it]\n"
     ]
    },
    {
     "name": "stdout",
     "output_type": "stream",
     "text": [
      "Epoch 7/10, Loss: 1.5885\n"
     ]
    },
    {
     "name": "stderr",
     "output_type": "stream",
     "text": [
      "100%|██████████| 58/58 [10:34<00:00, 10.94s/it]\n"
     ]
    },
    {
     "name": "stdout",
     "output_type": "stream",
     "text": [
      "Epoch 8/10, Loss: 1.4980\n"
     ]
    },
    {
     "name": "stderr",
     "output_type": "stream",
     "text": [
      "100%|██████████| 58/58 [10:11<00:00, 10.53s/it]\n"
     ]
    },
    {
     "name": "stdout",
     "output_type": "stream",
     "text": [
      "Epoch 9/10, Loss: 1.5006\n"
     ]
    },
    {
     "name": "stderr",
     "output_type": "stream",
     "text": [
      "100%|██████████| 58/58 [10:13<00:00, 10.58s/it]"
     ]
    },
    {
     "name": "stdout",
     "output_type": "stream",
     "text": [
      "Epoch 10/10, Loss: 1.5044\n"
     ]
    },
    {
     "name": "stderr",
     "output_type": "stream",
     "text": [
      "\n"
     ]
    }
   ],
   "source": [
    "import torch.optim as optim\n",
    "from torch.utils.data import DataLoader\n",
    "\n",
    "# Initialize\n",
    "model = ResNet18(num_classes=8).to(device)\n",
    "criterion = nn.CrossEntropyLoss()\n",
    "optimizer = optim.Adam(model.parameters(), lr=0.001)\n",
    "\n",
    "# Training loop\n",
    "num_epochs = 10\n",
    "for epoch in range(num_epochs):\n",
    "    model.train()\n",
    "    running_loss = 0.0\n",
    "    \n",
    "    for images, labels in tqdm(dataloader_train):\n",
    "        images = images.to(device)\n",
    "        labels = labels.to(device)\n",
    "        \n",
    "        # Forward pass\n",
    "        outputs = model(images)\n",
    "        loss = criterion(outputs, labels)\n",
    "        \n",
    "        # Backward pass\n",
    "        optimizer.zero_grad()\n",
    "        loss.backward()\n",
    "        optimizer.step()\n",
    "        \n",
    "        running_loss += loss.item()\n",
    "    \n",
    "    print(f\"Epoch {epoch+1}/{num_epochs}, Loss: {running_loss/len(dataloader_train):.4f}\")"
   ]
  },
  {
   "cell_type": "code",
   "execution_count": 1,
   "id": "4f8ea89f",
   "metadata": {},
   "outputs": [],
   "source": [
    "import torch, gc\n",
    "\n",
    "gc.collect()\n",
    "torch.cuda.empty_cache()\n",
    "torch.cuda.ipc_collect()\n"
   ]
  },
  {
   "cell_type": "code",
   "execution_count": 24,
   "id": "75a568b4",
   "metadata": {},
   "outputs": [
    {
     "name": "stdout",
     "output_type": "stream",
     "text": [
      "Accuracy: 44.87%\n"
     ]
    }
   ],
   "source": [
    "model.eval()\n",
    "correct = 0\n",
    "total = 0\n",
    "\n",
    "with torch.no_grad():\n",
    "    for images, labels in dataloader_test:\n",
    "        images = images.to(device)\n",
    "        labels = labels.to(device)\n",
    "        outputs = model(images)\n",
    "        _, predicted = torch.max(outputs.data, 1)  # Get class index\n",
    "        total += labels.size(0)\n",
    "        correct += (predicted == labels).sum().item()\n",
    "\n",
    "print(f\"Accuracy: {100 * correct / total:.2f}%\")"
   ]
  },
  {
   "cell_type": "code",
   "execution_count": 20,
   "id": "dd093c02",
   "metadata": {},
   "outputs": [],
   "source": [
    "import torch\n",
    "import torch.nn as nn\n",
    "import torch.optim as optim\n",
    "from torch.utils.data import DataLoader\n",
    "from tqdm import tqdm\n",
    "import timm  # For EfficientNet models\n"
   ]
  },
  {
   "cell_type": "code",
   "execution_count": 21,
   "id": "52a97e9e",
   "metadata": {},
   "outputs": [],
   "source": [
    "device = torch.device(\"cuda\" if torch.cuda.is_available() else \"cpu\")\n",
    "\n",
    "# Load pretrained EfficientNet\n",
    "model = timm.create_model('efficientnet_b0', pretrained=True)\n",
    "\n",
    "# Modify the final classification layer \n",
    "model.classifier = nn.Linear(model.classifier.in_features, 8)\n",
    "model = model.to(device)\n"
   ]
  },
  {
   "cell_type": "code",
   "execution_count": null,
   "id": "35a29d1b",
   "metadata": {},
   "outputs": [],
   "source": [
    "criterion = nn.CrossEntropyLoss()\n",
    "optimizer = optim.Adam(model.parameters(), lr=0.001)\n"
   ]
  },
  {
   "cell_type": "code",
   "execution_count": 23,
   "id": "81c0f4d0",
   "metadata": {},
   "outputs": [
    {
     "name": "stderr",
     "output_type": "stream",
     "text": [
      "100%|██████████| 29/29 [01:45<00:00,  3.64s/it]\n"
     ]
    },
    {
     "name": "stdout",
     "output_type": "stream",
     "text": [
      "Epoch [1/10], Loss: 0.6263\n"
     ]
    },
    {
     "name": "stderr",
     "output_type": "stream",
     "text": [
      "100%|██████████| 29/29 [01:21<00:00,  2.83s/it]\n"
     ]
    },
    {
     "name": "stdout",
     "output_type": "stream",
     "text": [
      "Epoch [2/10], Loss: 0.2454\n"
     ]
    },
    {
     "name": "stderr",
     "output_type": "stream",
     "text": [
      "100%|██████████| 29/29 [01:23<00:00,  2.88s/it]\n"
     ]
    },
    {
     "name": "stdout",
     "output_type": "stream",
     "text": [
      "Epoch [3/10], Loss: 0.1169\n"
     ]
    },
    {
     "name": "stderr",
     "output_type": "stream",
     "text": [
      "100%|██████████| 29/29 [01:20<00:00,  2.78s/it]\n"
     ]
    },
    {
     "name": "stdout",
     "output_type": "stream",
     "text": [
      "Epoch [4/10], Loss: 0.0683\n"
     ]
    },
    {
     "name": "stderr",
     "output_type": "stream",
     "text": [
      "100%|██████████| 29/29 [01:23<00:00,  2.86s/it]\n"
     ]
    },
    {
     "name": "stdout",
     "output_type": "stream",
     "text": [
      "Epoch [5/10], Loss: 0.0410\n"
     ]
    },
    {
     "name": "stderr",
     "output_type": "stream",
     "text": [
      " 17%|█▋        | 5/29 [00:14<01:10,  2.94s/it]\n"
     ]
    },
    {
     "ename": "KeyboardInterrupt",
     "evalue": "",
     "output_type": "error",
     "traceback": [
      "\u001b[1;31m---------------------------------------------------------------------------\u001b[0m",
      "\u001b[1;31mKeyboardInterrupt\u001b[0m                         Traceback (most recent call last)",
      "Cell \u001b[1;32mIn[23], line 11\u001b[0m\n\u001b[0;32m      8\u001b[0m images \u001b[38;5;241m=\u001b[39m images\u001b[38;5;241m.\u001b[39mto(device)\n\u001b[0;32m      9\u001b[0m labels \u001b[38;5;241m=\u001b[39m labels\u001b[38;5;241m.\u001b[39mto(device)\n\u001b[1;32m---> 11\u001b[0m outputs \u001b[38;5;241m=\u001b[39m \u001b[43mmodel\u001b[49m\u001b[43m(\u001b[49m\u001b[43mimages\u001b[49m\u001b[43m)\u001b[49m\n\u001b[0;32m     12\u001b[0m loss \u001b[38;5;241m=\u001b[39m criterion(outputs, labels)\n\u001b[0;32m     14\u001b[0m optimizer\u001b[38;5;241m.\u001b[39mzero_grad()\n",
      "File \u001b[1;32mc:\\Users\\harme\\AppData\\Local\\Programs\\Python\\Python39\\lib\\site-packages\\torch\\nn\\modules\\module.py:1736\u001b[0m, in \u001b[0;36mModule._wrapped_call_impl\u001b[1;34m(self, *args, **kwargs)\u001b[0m\n\u001b[0;32m   1734\u001b[0m     \u001b[38;5;28;01mreturn\u001b[39;00m \u001b[38;5;28mself\u001b[39m\u001b[38;5;241m.\u001b[39m_compiled_call_impl(\u001b[38;5;241m*\u001b[39margs, \u001b[38;5;241m*\u001b[39m\u001b[38;5;241m*\u001b[39mkwargs)  \u001b[38;5;66;03m# type: ignore[misc]\u001b[39;00m\n\u001b[0;32m   1735\u001b[0m \u001b[38;5;28;01melse\u001b[39;00m:\n\u001b[1;32m-> 1736\u001b[0m     \u001b[38;5;28;01mreturn\u001b[39;00m \u001b[38;5;28mself\u001b[39m\u001b[38;5;241m.\u001b[39m_call_impl(\u001b[38;5;241m*\u001b[39margs, \u001b[38;5;241m*\u001b[39m\u001b[38;5;241m*\u001b[39mkwargs)\n",
      "File \u001b[1;32mc:\\Users\\harme\\AppData\\Local\\Programs\\Python\\Python39\\lib\\site-packages\\torch\\nn\\modules\\module.py:1747\u001b[0m, in \u001b[0;36mModule._call_impl\u001b[1;34m(self, *args, **kwargs)\u001b[0m\n\u001b[0;32m   1742\u001b[0m \u001b[38;5;66;03m# If we don't have any hooks, we want to skip the rest of the logic in\u001b[39;00m\n\u001b[0;32m   1743\u001b[0m \u001b[38;5;66;03m# this function, and just call forward.\u001b[39;00m\n\u001b[0;32m   1744\u001b[0m \u001b[38;5;28;01mif\u001b[39;00m \u001b[38;5;129;01mnot\u001b[39;00m (\u001b[38;5;28mself\u001b[39m\u001b[38;5;241m.\u001b[39m_backward_hooks \u001b[38;5;129;01mor\u001b[39;00m \u001b[38;5;28mself\u001b[39m\u001b[38;5;241m.\u001b[39m_backward_pre_hooks \u001b[38;5;129;01mor\u001b[39;00m \u001b[38;5;28mself\u001b[39m\u001b[38;5;241m.\u001b[39m_forward_hooks \u001b[38;5;129;01mor\u001b[39;00m \u001b[38;5;28mself\u001b[39m\u001b[38;5;241m.\u001b[39m_forward_pre_hooks\n\u001b[0;32m   1745\u001b[0m         \u001b[38;5;129;01mor\u001b[39;00m _global_backward_pre_hooks \u001b[38;5;129;01mor\u001b[39;00m _global_backward_hooks\n\u001b[0;32m   1746\u001b[0m         \u001b[38;5;129;01mor\u001b[39;00m _global_forward_hooks \u001b[38;5;129;01mor\u001b[39;00m _global_forward_pre_hooks):\n\u001b[1;32m-> 1747\u001b[0m     \u001b[38;5;28;01mreturn\u001b[39;00m forward_call(\u001b[38;5;241m*\u001b[39margs, \u001b[38;5;241m*\u001b[39m\u001b[38;5;241m*\u001b[39mkwargs)\n\u001b[0;32m   1749\u001b[0m result \u001b[38;5;241m=\u001b[39m \u001b[38;5;28;01mNone\u001b[39;00m\n\u001b[0;32m   1750\u001b[0m called_always_called_hooks \u001b[38;5;241m=\u001b[39m \u001b[38;5;28mset\u001b[39m()\n",
      "File \u001b[1;32mc:\\Users\\harme\\AppData\\Local\\Programs\\Python\\Python39\\lib\\site-packages\\timm\\models\\efficientnet.py:339\u001b[0m, in \u001b[0;36mEfficientNet.forward\u001b[1;34m(self, x)\u001b[0m\n\u001b[0;32m    337\u001b[0m \u001b[38;5;28;01mdef\u001b[39;00m \u001b[38;5;21mforward\u001b[39m(\u001b[38;5;28mself\u001b[39m, x: torch\u001b[38;5;241m.\u001b[39mTensor) \u001b[38;5;241m-\u001b[39m\u001b[38;5;241m>\u001b[39m torch\u001b[38;5;241m.\u001b[39mTensor:\n\u001b[0;32m    338\u001b[0m \u001b[38;5;250m    \u001b[39m\u001b[38;5;124;03m\"\"\"Forward pass.\"\"\"\u001b[39;00m\n\u001b[1;32m--> 339\u001b[0m     x \u001b[38;5;241m=\u001b[39m \u001b[38;5;28;43mself\u001b[39;49m\u001b[38;5;241;43m.\u001b[39;49m\u001b[43mforward_features\u001b[49m\u001b[43m(\u001b[49m\u001b[43mx\u001b[49m\u001b[43m)\u001b[49m\n\u001b[0;32m    340\u001b[0m     x \u001b[38;5;241m=\u001b[39m \u001b[38;5;28mself\u001b[39m\u001b[38;5;241m.\u001b[39mforward_head(x)\n\u001b[0;32m    341\u001b[0m     \u001b[38;5;28;01mreturn\u001b[39;00m x\n",
      "File \u001b[1;32mc:\\Users\\harme\\AppData\\Local\\Programs\\Python\\Python39\\lib\\site-packages\\timm\\models\\efficientnet.py:317\u001b[0m, in \u001b[0;36mEfficientNet.forward_features\u001b[1;34m(self, x)\u001b[0m\n\u001b[0;32m    315\u001b[0m     x \u001b[38;5;241m=\u001b[39m checkpoint_seq(\u001b[38;5;28mself\u001b[39m\u001b[38;5;241m.\u001b[39mblocks, x, flatten\u001b[38;5;241m=\u001b[39m\u001b[38;5;28;01mTrue\u001b[39;00m)\n\u001b[0;32m    316\u001b[0m \u001b[38;5;28;01melse\u001b[39;00m:\n\u001b[1;32m--> 317\u001b[0m     x \u001b[38;5;241m=\u001b[39m \u001b[38;5;28;43mself\u001b[39;49m\u001b[38;5;241;43m.\u001b[39;49m\u001b[43mblocks\u001b[49m\u001b[43m(\u001b[49m\u001b[43mx\u001b[49m\u001b[43m)\u001b[49m\n\u001b[0;32m    318\u001b[0m x \u001b[38;5;241m=\u001b[39m \u001b[38;5;28mself\u001b[39m\u001b[38;5;241m.\u001b[39mconv_head(x)\n\u001b[0;32m    319\u001b[0m x \u001b[38;5;241m=\u001b[39m \u001b[38;5;28mself\u001b[39m\u001b[38;5;241m.\u001b[39mbn2(x)\n",
      "File \u001b[1;32mc:\\Users\\harme\\AppData\\Local\\Programs\\Python\\Python39\\lib\\site-packages\\torch\\nn\\modules\\module.py:1736\u001b[0m, in \u001b[0;36mModule._wrapped_call_impl\u001b[1;34m(self, *args, **kwargs)\u001b[0m\n\u001b[0;32m   1734\u001b[0m     \u001b[38;5;28;01mreturn\u001b[39;00m \u001b[38;5;28mself\u001b[39m\u001b[38;5;241m.\u001b[39m_compiled_call_impl(\u001b[38;5;241m*\u001b[39margs, \u001b[38;5;241m*\u001b[39m\u001b[38;5;241m*\u001b[39mkwargs)  \u001b[38;5;66;03m# type: ignore[misc]\u001b[39;00m\n\u001b[0;32m   1735\u001b[0m \u001b[38;5;28;01melse\u001b[39;00m:\n\u001b[1;32m-> 1736\u001b[0m     \u001b[38;5;28;01mreturn\u001b[39;00m \u001b[38;5;28mself\u001b[39m\u001b[38;5;241m.\u001b[39m_call_impl(\u001b[38;5;241m*\u001b[39margs, \u001b[38;5;241m*\u001b[39m\u001b[38;5;241m*\u001b[39mkwargs)\n",
      "File \u001b[1;32mc:\\Users\\harme\\AppData\\Local\\Programs\\Python\\Python39\\lib\\site-packages\\torch\\nn\\modules\\module.py:1747\u001b[0m, in \u001b[0;36mModule._call_impl\u001b[1;34m(self, *args, **kwargs)\u001b[0m\n\u001b[0;32m   1742\u001b[0m \u001b[38;5;66;03m# If we don't have any hooks, we want to skip the rest of the logic in\u001b[39;00m\n\u001b[0;32m   1743\u001b[0m \u001b[38;5;66;03m# this function, and just call forward.\u001b[39;00m\n\u001b[0;32m   1744\u001b[0m \u001b[38;5;28;01mif\u001b[39;00m \u001b[38;5;129;01mnot\u001b[39;00m (\u001b[38;5;28mself\u001b[39m\u001b[38;5;241m.\u001b[39m_backward_hooks \u001b[38;5;129;01mor\u001b[39;00m \u001b[38;5;28mself\u001b[39m\u001b[38;5;241m.\u001b[39m_backward_pre_hooks \u001b[38;5;129;01mor\u001b[39;00m \u001b[38;5;28mself\u001b[39m\u001b[38;5;241m.\u001b[39m_forward_hooks \u001b[38;5;129;01mor\u001b[39;00m \u001b[38;5;28mself\u001b[39m\u001b[38;5;241m.\u001b[39m_forward_pre_hooks\n\u001b[0;32m   1745\u001b[0m         \u001b[38;5;129;01mor\u001b[39;00m _global_backward_pre_hooks \u001b[38;5;129;01mor\u001b[39;00m _global_backward_hooks\n\u001b[0;32m   1746\u001b[0m         \u001b[38;5;129;01mor\u001b[39;00m _global_forward_hooks \u001b[38;5;129;01mor\u001b[39;00m _global_forward_pre_hooks):\n\u001b[1;32m-> 1747\u001b[0m     \u001b[38;5;28;01mreturn\u001b[39;00m forward_call(\u001b[38;5;241m*\u001b[39margs, \u001b[38;5;241m*\u001b[39m\u001b[38;5;241m*\u001b[39mkwargs)\n\u001b[0;32m   1749\u001b[0m result \u001b[38;5;241m=\u001b[39m \u001b[38;5;28;01mNone\u001b[39;00m\n\u001b[0;32m   1750\u001b[0m called_always_called_hooks \u001b[38;5;241m=\u001b[39m \u001b[38;5;28mset\u001b[39m()\n",
      "File \u001b[1;32mc:\\Users\\harme\\AppData\\Local\\Programs\\Python\\Python39\\lib\\site-packages\\torch\\nn\\modules\\container.py:250\u001b[0m, in \u001b[0;36mSequential.forward\u001b[1;34m(self, input)\u001b[0m\n\u001b[0;32m    248\u001b[0m \u001b[38;5;28;01mdef\u001b[39;00m \u001b[38;5;21mforward\u001b[39m(\u001b[38;5;28mself\u001b[39m, \u001b[38;5;28minput\u001b[39m):\n\u001b[0;32m    249\u001b[0m     \u001b[38;5;28;01mfor\u001b[39;00m module \u001b[38;5;129;01min\u001b[39;00m \u001b[38;5;28mself\u001b[39m:\n\u001b[1;32m--> 250\u001b[0m         \u001b[38;5;28minput\u001b[39m \u001b[38;5;241m=\u001b[39m \u001b[43mmodule\u001b[49m\u001b[43m(\u001b[49m\u001b[38;5;28;43minput\u001b[39;49m\u001b[43m)\u001b[49m\n\u001b[0;32m    251\u001b[0m     \u001b[38;5;28;01mreturn\u001b[39;00m \u001b[38;5;28minput\u001b[39m\n",
      "File \u001b[1;32mc:\\Users\\harme\\AppData\\Local\\Programs\\Python\\Python39\\lib\\site-packages\\torch\\nn\\modules\\module.py:1736\u001b[0m, in \u001b[0;36mModule._wrapped_call_impl\u001b[1;34m(self, *args, **kwargs)\u001b[0m\n\u001b[0;32m   1734\u001b[0m     \u001b[38;5;28;01mreturn\u001b[39;00m \u001b[38;5;28mself\u001b[39m\u001b[38;5;241m.\u001b[39m_compiled_call_impl(\u001b[38;5;241m*\u001b[39margs, \u001b[38;5;241m*\u001b[39m\u001b[38;5;241m*\u001b[39mkwargs)  \u001b[38;5;66;03m# type: ignore[misc]\u001b[39;00m\n\u001b[0;32m   1735\u001b[0m \u001b[38;5;28;01melse\u001b[39;00m:\n\u001b[1;32m-> 1736\u001b[0m     \u001b[38;5;28;01mreturn\u001b[39;00m \u001b[38;5;28mself\u001b[39m\u001b[38;5;241m.\u001b[39m_call_impl(\u001b[38;5;241m*\u001b[39margs, \u001b[38;5;241m*\u001b[39m\u001b[38;5;241m*\u001b[39mkwargs)\n",
      "File \u001b[1;32mc:\\Users\\harme\\AppData\\Local\\Programs\\Python\\Python39\\lib\\site-packages\\torch\\nn\\modules\\module.py:1747\u001b[0m, in \u001b[0;36mModule._call_impl\u001b[1;34m(self, *args, **kwargs)\u001b[0m\n\u001b[0;32m   1742\u001b[0m \u001b[38;5;66;03m# If we don't have any hooks, we want to skip the rest of the logic in\u001b[39;00m\n\u001b[0;32m   1743\u001b[0m \u001b[38;5;66;03m# this function, and just call forward.\u001b[39;00m\n\u001b[0;32m   1744\u001b[0m \u001b[38;5;28;01mif\u001b[39;00m \u001b[38;5;129;01mnot\u001b[39;00m (\u001b[38;5;28mself\u001b[39m\u001b[38;5;241m.\u001b[39m_backward_hooks \u001b[38;5;129;01mor\u001b[39;00m \u001b[38;5;28mself\u001b[39m\u001b[38;5;241m.\u001b[39m_backward_pre_hooks \u001b[38;5;129;01mor\u001b[39;00m \u001b[38;5;28mself\u001b[39m\u001b[38;5;241m.\u001b[39m_forward_hooks \u001b[38;5;129;01mor\u001b[39;00m \u001b[38;5;28mself\u001b[39m\u001b[38;5;241m.\u001b[39m_forward_pre_hooks\n\u001b[0;32m   1745\u001b[0m         \u001b[38;5;129;01mor\u001b[39;00m _global_backward_pre_hooks \u001b[38;5;129;01mor\u001b[39;00m _global_backward_hooks\n\u001b[0;32m   1746\u001b[0m         \u001b[38;5;129;01mor\u001b[39;00m _global_forward_hooks \u001b[38;5;129;01mor\u001b[39;00m _global_forward_pre_hooks):\n\u001b[1;32m-> 1747\u001b[0m     \u001b[38;5;28;01mreturn\u001b[39;00m forward_call(\u001b[38;5;241m*\u001b[39margs, \u001b[38;5;241m*\u001b[39m\u001b[38;5;241m*\u001b[39mkwargs)\n\u001b[0;32m   1749\u001b[0m result \u001b[38;5;241m=\u001b[39m \u001b[38;5;28;01mNone\u001b[39;00m\n\u001b[0;32m   1750\u001b[0m called_always_called_hooks \u001b[38;5;241m=\u001b[39m \u001b[38;5;28mset\u001b[39m()\n",
      "File \u001b[1;32mc:\\Users\\harme\\AppData\\Local\\Programs\\Python\\Python39\\lib\\site-packages\\torch\\nn\\modules\\container.py:250\u001b[0m, in \u001b[0;36mSequential.forward\u001b[1;34m(self, input)\u001b[0m\n\u001b[0;32m    248\u001b[0m \u001b[38;5;28;01mdef\u001b[39;00m \u001b[38;5;21mforward\u001b[39m(\u001b[38;5;28mself\u001b[39m, \u001b[38;5;28minput\u001b[39m):\n\u001b[0;32m    249\u001b[0m     \u001b[38;5;28;01mfor\u001b[39;00m module \u001b[38;5;129;01min\u001b[39;00m \u001b[38;5;28mself\u001b[39m:\n\u001b[1;32m--> 250\u001b[0m         \u001b[38;5;28minput\u001b[39m \u001b[38;5;241m=\u001b[39m \u001b[43mmodule\u001b[49m\u001b[43m(\u001b[49m\u001b[38;5;28;43minput\u001b[39;49m\u001b[43m)\u001b[49m\n\u001b[0;32m    251\u001b[0m     \u001b[38;5;28;01mreturn\u001b[39;00m \u001b[38;5;28minput\u001b[39m\n",
      "File \u001b[1;32mc:\\Users\\harme\\AppData\\Local\\Programs\\Python\\Python39\\lib\\site-packages\\torch\\nn\\modules\\module.py:1736\u001b[0m, in \u001b[0;36mModule._wrapped_call_impl\u001b[1;34m(self, *args, **kwargs)\u001b[0m\n\u001b[0;32m   1734\u001b[0m     \u001b[38;5;28;01mreturn\u001b[39;00m \u001b[38;5;28mself\u001b[39m\u001b[38;5;241m.\u001b[39m_compiled_call_impl(\u001b[38;5;241m*\u001b[39margs, \u001b[38;5;241m*\u001b[39m\u001b[38;5;241m*\u001b[39mkwargs)  \u001b[38;5;66;03m# type: ignore[misc]\u001b[39;00m\n\u001b[0;32m   1735\u001b[0m \u001b[38;5;28;01melse\u001b[39;00m:\n\u001b[1;32m-> 1736\u001b[0m     \u001b[38;5;28;01mreturn\u001b[39;00m \u001b[38;5;28mself\u001b[39m\u001b[38;5;241m.\u001b[39m_call_impl(\u001b[38;5;241m*\u001b[39margs, \u001b[38;5;241m*\u001b[39m\u001b[38;5;241m*\u001b[39mkwargs)\n",
      "File \u001b[1;32mc:\\Users\\harme\\AppData\\Local\\Programs\\Python\\Python39\\lib\\site-packages\\torch\\nn\\modules\\module.py:1747\u001b[0m, in \u001b[0;36mModule._call_impl\u001b[1;34m(self, *args, **kwargs)\u001b[0m\n\u001b[0;32m   1742\u001b[0m \u001b[38;5;66;03m# If we don't have any hooks, we want to skip the rest of the logic in\u001b[39;00m\n\u001b[0;32m   1743\u001b[0m \u001b[38;5;66;03m# this function, and just call forward.\u001b[39;00m\n\u001b[0;32m   1744\u001b[0m \u001b[38;5;28;01mif\u001b[39;00m \u001b[38;5;129;01mnot\u001b[39;00m (\u001b[38;5;28mself\u001b[39m\u001b[38;5;241m.\u001b[39m_backward_hooks \u001b[38;5;129;01mor\u001b[39;00m \u001b[38;5;28mself\u001b[39m\u001b[38;5;241m.\u001b[39m_backward_pre_hooks \u001b[38;5;129;01mor\u001b[39;00m \u001b[38;5;28mself\u001b[39m\u001b[38;5;241m.\u001b[39m_forward_hooks \u001b[38;5;129;01mor\u001b[39;00m \u001b[38;5;28mself\u001b[39m\u001b[38;5;241m.\u001b[39m_forward_pre_hooks\n\u001b[0;32m   1745\u001b[0m         \u001b[38;5;129;01mor\u001b[39;00m _global_backward_pre_hooks \u001b[38;5;129;01mor\u001b[39;00m _global_backward_hooks\n\u001b[0;32m   1746\u001b[0m         \u001b[38;5;129;01mor\u001b[39;00m _global_forward_hooks \u001b[38;5;129;01mor\u001b[39;00m _global_forward_pre_hooks):\n\u001b[1;32m-> 1747\u001b[0m     \u001b[38;5;28;01mreturn\u001b[39;00m forward_call(\u001b[38;5;241m*\u001b[39margs, \u001b[38;5;241m*\u001b[39m\u001b[38;5;241m*\u001b[39mkwargs)\n\u001b[0;32m   1749\u001b[0m result \u001b[38;5;241m=\u001b[39m \u001b[38;5;28;01mNone\u001b[39;00m\n\u001b[0;32m   1750\u001b[0m called_always_called_hooks \u001b[38;5;241m=\u001b[39m \u001b[38;5;28mset\u001b[39m()\n",
      "File \u001b[1;32mc:\\Users\\harme\\AppData\\Local\\Programs\\Python\\Python39\\lib\\site-packages\\timm\\models\\_efficientnet_blocks.py:286\u001b[0m, in \u001b[0;36mInvertedResidual.forward\u001b[1;34m(self, x)\u001b[0m\n\u001b[0;32m    284\u001b[0m     x \u001b[38;5;241m=\u001b[39m \u001b[38;5;28mself\u001b[39m\u001b[38;5;241m.\u001b[39mconv_s2d(x)\n\u001b[0;32m    285\u001b[0m     x \u001b[38;5;241m=\u001b[39m \u001b[38;5;28mself\u001b[39m\u001b[38;5;241m.\u001b[39mbn_s2d(x)\n\u001b[1;32m--> 286\u001b[0m x \u001b[38;5;241m=\u001b[39m \u001b[38;5;28;43mself\u001b[39;49m\u001b[38;5;241;43m.\u001b[39;49m\u001b[43mconv_pw\u001b[49m\u001b[43m(\u001b[49m\u001b[43mx\u001b[49m\u001b[43m)\u001b[49m\n\u001b[0;32m    287\u001b[0m x \u001b[38;5;241m=\u001b[39m \u001b[38;5;28mself\u001b[39m\u001b[38;5;241m.\u001b[39mbn1(x)\n\u001b[0;32m    288\u001b[0m x \u001b[38;5;241m=\u001b[39m \u001b[38;5;28mself\u001b[39m\u001b[38;5;241m.\u001b[39mconv_dw(x)\n",
      "File \u001b[1;32mc:\\Users\\harme\\AppData\\Local\\Programs\\Python\\Python39\\lib\\site-packages\\torch\\nn\\modules\\module.py:1736\u001b[0m, in \u001b[0;36mModule._wrapped_call_impl\u001b[1;34m(self, *args, **kwargs)\u001b[0m\n\u001b[0;32m   1734\u001b[0m     \u001b[38;5;28;01mreturn\u001b[39;00m \u001b[38;5;28mself\u001b[39m\u001b[38;5;241m.\u001b[39m_compiled_call_impl(\u001b[38;5;241m*\u001b[39margs, \u001b[38;5;241m*\u001b[39m\u001b[38;5;241m*\u001b[39mkwargs)  \u001b[38;5;66;03m# type: ignore[misc]\u001b[39;00m\n\u001b[0;32m   1735\u001b[0m \u001b[38;5;28;01melse\u001b[39;00m:\n\u001b[1;32m-> 1736\u001b[0m     \u001b[38;5;28;01mreturn\u001b[39;00m \u001b[38;5;28mself\u001b[39m\u001b[38;5;241m.\u001b[39m_call_impl(\u001b[38;5;241m*\u001b[39margs, \u001b[38;5;241m*\u001b[39m\u001b[38;5;241m*\u001b[39mkwargs)\n",
      "File \u001b[1;32mc:\\Users\\harme\\AppData\\Local\\Programs\\Python\\Python39\\lib\\site-packages\\torch\\nn\\modules\\module.py:1747\u001b[0m, in \u001b[0;36mModule._call_impl\u001b[1;34m(self, *args, **kwargs)\u001b[0m\n\u001b[0;32m   1742\u001b[0m \u001b[38;5;66;03m# If we don't have any hooks, we want to skip the rest of the logic in\u001b[39;00m\n\u001b[0;32m   1743\u001b[0m \u001b[38;5;66;03m# this function, and just call forward.\u001b[39;00m\n\u001b[0;32m   1744\u001b[0m \u001b[38;5;28;01mif\u001b[39;00m \u001b[38;5;129;01mnot\u001b[39;00m (\u001b[38;5;28mself\u001b[39m\u001b[38;5;241m.\u001b[39m_backward_hooks \u001b[38;5;129;01mor\u001b[39;00m \u001b[38;5;28mself\u001b[39m\u001b[38;5;241m.\u001b[39m_backward_pre_hooks \u001b[38;5;129;01mor\u001b[39;00m \u001b[38;5;28mself\u001b[39m\u001b[38;5;241m.\u001b[39m_forward_hooks \u001b[38;5;129;01mor\u001b[39;00m \u001b[38;5;28mself\u001b[39m\u001b[38;5;241m.\u001b[39m_forward_pre_hooks\n\u001b[0;32m   1745\u001b[0m         \u001b[38;5;129;01mor\u001b[39;00m _global_backward_pre_hooks \u001b[38;5;129;01mor\u001b[39;00m _global_backward_hooks\n\u001b[0;32m   1746\u001b[0m         \u001b[38;5;129;01mor\u001b[39;00m _global_forward_hooks \u001b[38;5;129;01mor\u001b[39;00m _global_forward_pre_hooks):\n\u001b[1;32m-> 1747\u001b[0m     \u001b[38;5;28;01mreturn\u001b[39;00m forward_call(\u001b[38;5;241m*\u001b[39margs, \u001b[38;5;241m*\u001b[39m\u001b[38;5;241m*\u001b[39mkwargs)\n\u001b[0;32m   1749\u001b[0m result \u001b[38;5;241m=\u001b[39m \u001b[38;5;28;01mNone\u001b[39;00m\n\u001b[0;32m   1750\u001b[0m called_always_called_hooks \u001b[38;5;241m=\u001b[39m \u001b[38;5;28mset\u001b[39m()\n",
      "File \u001b[1;32mc:\\Users\\harme\\AppData\\Local\\Programs\\Python\\Python39\\lib\\site-packages\\torch\\nn\\modules\\conv.py:554\u001b[0m, in \u001b[0;36mConv2d.forward\u001b[1;34m(self, input)\u001b[0m\n\u001b[0;32m    553\u001b[0m \u001b[38;5;28;01mdef\u001b[39;00m \u001b[38;5;21mforward\u001b[39m(\u001b[38;5;28mself\u001b[39m, \u001b[38;5;28minput\u001b[39m: Tensor) \u001b[38;5;241m-\u001b[39m\u001b[38;5;241m>\u001b[39m Tensor:\n\u001b[1;32m--> 554\u001b[0m     \u001b[38;5;28;01mreturn\u001b[39;00m \u001b[38;5;28;43mself\u001b[39;49m\u001b[38;5;241;43m.\u001b[39;49m\u001b[43m_conv_forward\u001b[49m\u001b[43m(\u001b[49m\u001b[38;5;28;43minput\u001b[39;49m\u001b[43m,\u001b[49m\u001b[43m \u001b[49m\u001b[38;5;28;43mself\u001b[39;49m\u001b[38;5;241;43m.\u001b[39;49m\u001b[43mweight\u001b[49m\u001b[43m,\u001b[49m\u001b[43m \u001b[49m\u001b[38;5;28;43mself\u001b[39;49m\u001b[38;5;241;43m.\u001b[39;49m\u001b[43mbias\u001b[49m\u001b[43m)\u001b[49m\n",
      "File \u001b[1;32mc:\\Users\\harme\\AppData\\Local\\Programs\\Python\\Python39\\lib\\site-packages\\torch\\nn\\modules\\conv.py:549\u001b[0m, in \u001b[0;36mConv2d._conv_forward\u001b[1;34m(self, input, weight, bias)\u001b[0m\n\u001b[0;32m    537\u001b[0m \u001b[38;5;28;01mif\u001b[39;00m \u001b[38;5;28mself\u001b[39m\u001b[38;5;241m.\u001b[39mpadding_mode \u001b[38;5;241m!=\u001b[39m \u001b[38;5;124m\"\u001b[39m\u001b[38;5;124mzeros\u001b[39m\u001b[38;5;124m\"\u001b[39m:\n\u001b[0;32m    538\u001b[0m     \u001b[38;5;28;01mreturn\u001b[39;00m F\u001b[38;5;241m.\u001b[39mconv2d(\n\u001b[0;32m    539\u001b[0m         F\u001b[38;5;241m.\u001b[39mpad(\n\u001b[0;32m    540\u001b[0m             \u001b[38;5;28minput\u001b[39m, \u001b[38;5;28mself\u001b[39m\u001b[38;5;241m.\u001b[39m_reversed_padding_repeated_twice, mode\u001b[38;5;241m=\u001b[39m\u001b[38;5;28mself\u001b[39m\u001b[38;5;241m.\u001b[39mpadding_mode\n\u001b[1;32m   (...)\u001b[0m\n\u001b[0;32m    547\u001b[0m         \u001b[38;5;28mself\u001b[39m\u001b[38;5;241m.\u001b[39mgroups,\n\u001b[0;32m    548\u001b[0m     )\n\u001b[1;32m--> 549\u001b[0m \u001b[38;5;28;01mreturn\u001b[39;00m \u001b[43mF\u001b[49m\u001b[38;5;241;43m.\u001b[39;49m\u001b[43mconv2d\u001b[49m\u001b[43m(\u001b[49m\n\u001b[0;32m    550\u001b[0m \u001b[43m    \u001b[49m\u001b[38;5;28;43minput\u001b[39;49m\u001b[43m,\u001b[49m\u001b[43m \u001b[49m\u001b[43mweight\u001b[49m\u001b[43m,\u001b[49m\u001b[43m \u001b[49m\u001b[43mbias\u001b[49m\u001b[43m,\u001b[49m\u001b[43m \u001b[49m\u001b[38;5;28;43mself\u001b[39;49m\u001b[38;5;241;43m.\u001b[39;49m\u001b[43mstride\u001b[49m\u001b[43m,\u001b[49m\u001b[43m \u001b[49m\u001b[38;5;28;43mself\u001b[39;49m\u001b[38;5;241;43m.\u001b[39;49m\u001b[43mpadding\u001b[49m\u001b[43m,\u001b[49m\u001b[43m \u001b[49m\u001b[38;5;28;43mself\u001b[39;49m\u001b[38;5;241;43m.\u001b[39;49m\u001b[43mdilation\u001b[49m\u001b[43m,\u001b[49m\u001b[43m \u001b[49m\u001b[38;5;28;43mself\u001b[39;49m\u001b[38;5;241;43m.\u001b[39;49m\u001b[43mgroups\u001b[49m\n\u001b[0;32m    551\u001b[0m \u001b[43m\u001b[49m\u001b[43m)\u001b[49m\n",
      "\u001b[1;31mKeyboardInterrupt\u001b[0m: "
     ]
    }
   ],
   "source": [
    "num_epochs = 10\n",
    "\n",
    "for epoch in range(num_epochs):\n",
    "    model.train()\n",
    "    running_loss = 0.0\n",
    "\n",
    "    for images, labels in tqdm(dataloader_train):\n",
    "        images = images.to(device)\n",
    "        labels = labels.to(device)\n",
    "\n",
    "        outputs = model(images)\n",
    "        loss = criterion(outputs, labels)\n",
    "\n",
    "        optimizer.zero_grad()\n",
    "        loss.backward()\n",
    "        optimizer.step()\n",
    "\n",
    "        running_loss += loss.item()\n",
    "\n",
    "    print(f\"Epoch [{epoch+1}/{num_epochs}], Loss: {running_loss / len(dataloader_train):.4f}\")\n"
   ]
  },
  {
   "cell_type": "code",
   "execution_count": 23,
   "id": "cee2f987",
   "metadata": {},
   "outputs": [
    {
     "name": "stdout",
     "output_type": "stream",
     "text": [
      "Test Accuracy: 94.87%\n"
     ]
    }
   ],
   "source": [
    "model.eval()\n",
    "correct = 0\n",
    "total = 0\n",
    "\n",
    "with torch.no_grad():\n",
    "    for images, labels in dataloader_test:\n",
    "        images = images.to(device)\n",
    "        labels = labels.to(device)\n",
    "        outputs = model(images)\n",
    "        _, predicted = torch.max(outputs.data, 1)\n",
    "        total += labels.size(0)\n",
    "        correct += (predicted == labels).sum().item()\n",
    "\n",
    "print(f\"Test Accuracy: {100 * correct / total:.2f}%\")\n"
   ]
  },
  {
   "cell_type": "code",
   "execution_count": 28,
   "id": "f9f037b0",
   "metadata": {},
   "outputs": [],
   "source": [
    "torch.save(model.state_dict(), \"efficientnet_b0_skin_classifier_weights.pth\")\n"
   ]
  },
  {
   "cell_type": "code",
   "execution_count": 34,
   "id": "2bcbc58a",
   "metadata": {},
   "outputs": [
    {
     "data": {
      "image/png": "[encoded data removed]",
      "text/plain": [
       "<Figure size 800x500 with 1 Axes>"
      ]
     },
     "metadata": {},
     "output_type": "display_data"
    }
   ],
   "source": [
    "import matplotlib.pyplot as plt\n",
    "import pandas as pd\n",
    "\n",
    "# Count each label\n",
    "label_counts = df_train[\"label\"].value_counts().sort_index()\n",
    "\n",
    "# Plot\n",
    "plt.figure(figsize=(8, 5))\n",
    "bars = plt.bar(label_counts.index, label_counts.values, color='skyblue', edgecolor='black')\n",
    "\n",
    "# Add count labels on top of each bar\n",
    "for bar in bars:\n",
    "    yval = bar.get_height()\n",
    "    plt.text(bar.get_x() + bar.get_width()/2.0, yval + 1, int(yval), ha='center', va='bottom')\n",
    "\n",
    "plt.title(\"Label Distribution in Training Data\")\n",
    "plt.xlabel(\"Labels\")\n",
    "plt.ylabel(\"Count\")\n",
    "plt.xticks(rotation=45)\n",
    "plt.tight_layout()\n",
    "plt.show()\n"
   ]
  },
  {
   "cell_type": "code",
   "execution_count": 35,
   "id": "40a23fae",
   "metadata": {},
   "outputs": [
    {
     "data": {
      "text/plain": [
       "label\n",
       "BA- cellulitis                136\n",
       "BA-impetigo                    80\n",
       "FU-athlete-foot               124\n",
       "FU-nail-fungus                129\n",
       "FU-ringworm                    90\n",
       "PA-cutaneous-larva-migrans    100\n",
       "VI-chickenpox                 136\n",
       "VI-shingles                   130\n",
       "Name: count, dtype: int64"
      ]
     },
     "execution_count": 35,
     "metadata": {},
     "output_type": "execute_result"
    }
   ],
   "source": [
    "label_counts"
   ]
  },
  {
   "cell_type": "code",
   "execution_count": 41,
   "id": "e7bebc05",
   "metadata": {},
   "outputs": [],
   "source": [
    "import torch, gc\n",
    "\n",
    "gc.collect()\n",
    "torch.cuda.empty_cache()\n",
    "torch.cuda.ipc_collect()\n"
   ]
  },
  {
   "cell_type": "code",
   "execution_count": 88,
   "id": "c3050406",
   "metadata": {},
   "outputs": [],
   "source": [
    "import torch\n",
    "import timm\n",
    "import torch.nn as nn\n",
    "import torch.nn.functional as F\n",
    "\n",
    "@torch.no_grad()\n",
    "def load_model(model_path, device=None):\n",
    "    device = device or torch.device(\"cuda\" if torch.cuda.is_available() else \"cpu\")\n",
    "    model = timm.create_model('efficientnet_b0', pretrained=False)\n",
    "    model.classifier = nn.Linear(model.classifier.in_features, 8)  # 8 classes\n",
    "    model.load_state_dict(torch.load(model_path, map_location=device))\n",
    "    model.to(device)\n",
    "    model.eval()\n",
    "    return model\n",
    "\n",
    "\n",
    "@torch.no_grad()\n",
    "def predict(model, image_tensor, class_names=None, device=None):\n",
    "    device = device or torch.device(\"cuda\" if torch.cuda.is_available() else \"cpu\")\n",
    "    image_tensor = image_tensor.unsqueeze(0).to(device)  # add batch dim\n",
    "\n",
    "    output = model(image_tensor)\n",
    "    probabilities = F.softmax(output, dim=1).squeeze()\n",
    "    predicted_idx = torch.argmax(probabilities).item()\n",
    "\n",
    "    if class_names:\n",
    "        return class_names[predicted_idx], probabilities.cpu().numpy()\n",
    "    return predicted_idx, probabilities.cpu().numpy()\n"
   ]
  },
  {
   "cell_type": "code",
   "execution_count": 89,
   "id": "e5e9a779",
   "metadata": {},
   "outputs": [],
   "source": [
    "from PIL import Image\n",
    "import torchvision.transforms as T\n",
    "import torch\n",
    "import torch.nn as nn\n",
    "import kornia.augmentation as K\n",
    "\n",
    "class ImagePreprocessor:\n",
    "    def __init__(self, img_size=(224, 224), device=None):\n",
    "        self.img_size = img_size\n",
    "        self.device = device or torch.device(\"cuda\" if torch.cuda.is_available() else \"cpu\")\n",
    "\n",
    "        self.base_transform = T.Compose([\n",
    "            T.Resize(self.img_size),\n",
    "            T.ToTensor()\n",
    "        ])\n",
    "\n",
    "        self.kornia_norm = nn.Sequential(\n",
    "            K.Normalize(\n",
    "                mean=torch.tensor([0.485, 0.456, 0.406], device=self.device),\n",
    "                std=torch.tensor([0.229, 0.224, 0.225], device=self.device)\n",
    "            )\n",
    "        ).to(self.device)\n",
    "\n",
    "    def preprocess(self, file) -> torch.Tensor:\n",
    "        image = Image.open(file).convert(\"RGB\")\n",
    "        image = self.base_transform(image)\n",
    "        image = image.to(self.device).unsqueeze(0)\n",
    "        image = self.kornia_norm(image)\n",
    "        return image.squeeze(0)  # Return [3, H, W]\n"
   ]
  },
  {
   "cell_type": "code",
   "execution_count": 90,
   "id": "f75e3be9",
   "metadata": {},
   "outputs": [],
   "source": [
    "from image_preprocessing import ImagePreprocessor\n",
    "\n",
    "processor = ImagePreprocessor(device=device)\n",
    "model = load_model(\"efficientnet_b0_skin_classifier_weights.pth\", device=device)"
   ]
  },
  {
   "cell_type": "code",
   "execution_count": 91,
   "id": "b31319a4",
   "metadata": {},
   "outputs": [],
   "source": [
    "image_tensor = processor.preprocess(\"skin-disease-datasaet/test_set/VI-chickenpox/14_VI-chickenpox (20).jpg\")"
   ]
  },
  {
   "cell_type": "code",
   "execution_count": 92,
   "id": "c53ec24a",
   "metadata": {},
   "outputs": [
    {
     "data": {
      "text/plain": [
       "tensor([[[ 0.2111,  0.2111,  0.2282,  ...,  0.1426,  0.1254,  0.1083],\n",
       "         [ 0.2111,  0.2111,  0.2282,  ...,  0.1939,  0.1768,  0.1768],\n",
       "         [ 0.2111,  0.2111,  0.2282,  ...,  0.2624,  0.2624,  0.2624],\n",
       "         ...,\n",
       "         [-0.4397, -0.4226, -0.4054,  ..., -1.1589, -1.5185, -1.5870],\n",
       "         [-0.4568, -0.4568, -0.4397,  ..., -1.6384, -1.7240, -1.2274],\n",
       "         [-0.4568, -0.4397, -0.4226,  ..., -1.6042, -1.5528, -0.8678]],\n",
       "\n",
       "        [[ 0.3978,  0.3978,  0.4153,  ...,  0.3102,  0.2927,  0.2752],\n",
       "         [ 0.3978,  0.3978,  0.4153,  ...,  0.3627,  0.3452,  0.3452],\n",
       "         [ 0.3978,  0.3978,  0.4153,  ...,  0.4328,  0.4328,  0.4328],\n",
       "         ...,\n",
       "         [-0.3725, -0.3550, -0.3375,  ..., -1.1954, -1.5630, -1.6331],\n",
       "         [-0.3901, -0.3901, -0.3725,  ..., -1.6856, -1.7731, -1.2829],\n",
       "         [-0.3901, -0.3725, -0.3550,  ..., -1.6506, -1.6155, -0.9153]],\n",
       "\n",
       "        [[ 0.4614,  0.4614,  0.4788,  ...,  0.4788,  0.4614,  0.4439],\n",
       "         [ 0.4614,  0.4614,  0.4788,  ...,  0.5311,  0.5136,  0.5136],\n",
       "         [ 0.4614,  0.4614,  0.4788,  ...,  0.6008,  0.6008,  0.6008],\n",
       "         ...,\n",
       "         [-0.3055, -0.2881, -0.2707,  ..., -1.0201, -1.3687, -1.4384],\n",
       "         [-0.3230, -0.3230, -0.3055,  ..., -1.5081, -1.5779, -1.0376],\n",
       "         [-0.3230, -0.3055, -0.2881,  ..., -1.4733, -1.3687, -0.6715]]],\n",
       "       device='cuda:0')"
      ]
     },
     "execution_count": 92,
     "metadata": {},
     "output_type": "execute_result"
    }
   ],
   "source": [
    "image_tensor"
   ]
  },
  {
   "cell_type": "code",
   "execution_count": 93,
   "id": "5b0f6fe8",
   "metadata": {},
   "outputs": [],
   "source": [
    "label_map = {\n",
    "    \"BA-cellulitis\": 0,\n",
    "    \"BA-impetigo\": 1,\n",
    "    \"FU-athlete-foot\": 2,\n",
    "    \"FU-nail-fungus\": 3,\n",
    "    \"FU-ringworm\": 4,\n",
    "    \"PA-cutaneous-larva-migrans\": 5,\n",
    "    \"VI-chickenpox\": 6,\n",
    "    \"VI-shingles\": 7\n",
    "}\n",
    "idx_to_label = {v: k for k, v in label_map.items()}"
   ]
  },
  {
   "cell_type": "code",
   "execution_count": 94,
   "id": "275594f4",
   "metadata": {},
   "outputs": [
    {
     "data": {
      "text/plain": [
       "{0: 'BA-cellulitis',\n",
       " 1: 'BA-impetigo',\n",
       " 2: 'FU-athlete-foot',\n",
       " 3: 'FU-nail-fungus',\n",
       " 4: 'FU-ringworm',\n",
       " 5: 'PA-cutaneous-larva-migrans',\n",
       " 6: 'VI-chickenpox',\n",
       " 7: 'VI-shingles'}"
      ]
     },
     "execution_count": 94,
     "metadata": {},
     "output_type": "execute_result"
    }
   ],
   "source": [
    "idx_to_label"
   ]
  },
  {
   "cell_type": "code",
   "execution_count": 95,
   "id": "86fb68f7",
   "metadata": {},
   "outputs": [],
   "source": [
    "\n",
    "label, probs = predict(model, image_tensor, class_names=idx_to_label, device=device)"
   ]
  },
  {
   "cell_type": "code",
   "execution_count": 96,
   "id": "ff54a420",
   "metadata": {},
   "outputs": [
    {
     "name": "stdout",
     "output_type": "stream",
     "text": [
      "Predicted label: VI-chickenpox\n",
      "Probabilities: [0.08968432 0.00836672 0.027208   0.04355299 0.02703942 0.10591336\n",
      " 0.6174882  0.08074704]\n"
     ]
    }
   ],
   "source": [
    "print(\"Predicted label:\", label)\n",
    "print(\"Probabilities:\", probs)"
   ]
  },
  {
   "cell_type": "code",
   "execution_count": 104,
   "id": "5e541255",
   "metadata": {},
   "outputs": [],
   "source": [
    "import tensorflow as tf\n",
    "from tensorflow.keras.preprocessing.image import ImageDataGenerator\n",
    "from tensorflow.keras.applications import MobileNetV2\n",
    "from tensorflow.keras.layers import Dense, GlobalAveragePooling2D\n",
    "from tensorflow.keras.models import Model\n"
   ]
  },
  {
   "cell_type": "code",
   "execution_count": 105,
   "id": "5263414d",
   "metadata": {},
   "outputs": [],
   "source": [
    "\n",
    "# Paths to your data directories\n",
    "train_dir = 'skin-disease-datasaet/train_set'\n",
    "val_dir = 'skin-disease-datasaet/test_set'"
   ]
  },
  {
   "cell_type": "code",
   "execution_count": 106,
   "id": "6e272370",
   "metadata": {},
   "outputs": [],
   "source": [
    "\n",
    "\n",
    "# Data augmentation for training set\n",
    "train_datagen = ImageDataGenerator(\n",
    "    rescale=1./255,\n",
    "    rotation_range=30,\n",
    "    zoom_range=0.2,\n",
    "    horizontal_flip=True\n",
    ")\n",
    "val_datagen = ImageDataGenerator(rescale=1./255)\n"
   ]
  },
  {
   "cell_type": "code",
   "execution_count": 107,
   "id": "0dcad9c7",
   "metadata": {},
   "outputs": [
    {
     "name": "stdout",
     "output_type": "stream",
     "text": [
      "Found 924 images belonging to 8 classes.\n"
     ]
    },
    {
     "name": "stdout",
     "output_type": "stream",
     "text": [
      "Found 233 images belonging to 8 classes.\n"
     ]
    }
   ],
   "source": [
    "\n",
    "# Load images from directories\n",
    "train_gen = train_datagen.flow_from_directory(\n",
    "    train_dir, target_size=(224,224), batch_size=32, class_mode='categorical'\n",
    ")\n",
    "val_gen = val_datagen.flow_from_directory(\n",
    "    val_dir, target_size=(224,224), batch_size=32, class_mode='categorical'\n",
    ")\n"
   ]
  },
  {
   "cell_type": "code",
   "execution_count": 108,
   "id": "a182650a",
   "metadata": {},
   "outputs": [],
   "source": [
    "\n",
    "# Model setup using transfer learning\n",
    "base_model = MobileNetV2(weights='imagenet', include_top=False, input_shape=(224,224,3))\n",
    "x = base_model.output\n",
    "x = GlobalAveragePooling2D()(x)\n",
    "x = Dense(128, activation='relu')(x)\n",
    "predictions = Dense(8, activation='softmax')(x)  # 8 classes\n",
    "\n",
    "model = Model(inputs=base_model.input, outputs=predictions)\n",
    "\n",
    "# Freeze base model layers\n",
    "for layer in base_model.layers:\n",
    "    layer.trainable = False\n",
    "\n",
    "# Compile the model\n",
    "model.compile(optimizer='adam', loss='categorical_crossentropy', metrics=['accuracy'])"
   ]
  },
  {
   "cell_type": "code",
   "execution_count": 109,
   "id": "634681bf",
   "metadata": {},
   "outputs": [
    {
     "name": "stdout",
     "output_type": "stream",
     "text": [
      "Epoch 1/10\n",
      "\u001b[1m29/29\u001b[0m \u001b[32m━━━━━━━━━━━━━━━━━━━━\u001b[0m\u001b[37m\u001b[0m \u001b[1m21s\u001b[0m 609ms/step - accuracy: 0.5476 - loss: 1.3736 - val_accuracy: 0.8069 - val_loss: 0.5506\n",
      "Epoch 2/10\n",
      "\u001b[1m29/29\u001b[0m \u001b[32m━━━━━━━━━━━━━━━━━━━━\u001b[0m\u001b[37m\u001b[0m \u001b[1m16s\u001b[0m 556ms/step - accuracy: 0.8727 - loss: 0.4024 - val_accuracy: 0.8970 - val_loss: 0.3034\n",
      "Epoch 3/10\n",
      "\u001b[1m29/29\u001b[0m \u001b[32m━━━━━━━━━━━━━━━━━━━━\u001b[0m\u001b[37m\u001b[0m \u001b[1m17s\u001b[0m 570ms/step - accuracy: 0.9373 - loss: 0.1982 - val_accuracy: 0.8798 - val_loss: 0.2703\n",
      "Epoch 4/10\n",
      "\u001b[1m29/29\u001b[0m \u001b[32m━━━━━━━━━━━━━━━━━━━━\u001b[0m\u001b[37m\u001b[0m \u001b[1m17s\u001b[0m 600ms/step - accuracy: 0.9382 - loss: 0.1910 - val_accuracy: 0.9056 - val_loss: 0.2602\n",
      "Epoch 5/10\n",
      "\u001b[1m29/29\u001b[0m \u001b[32m━━━━━━━━━━━━━━━━━━━━\u001b[0m\u001b[37m\u001b[0m \u001b[1m17s\u001b[0m 598ms/step - accuracy: 0.9532 - loss: 0.1432 - val_accuracy: 0.9270 - val_loss: 0.2309\n",
      "Epoch 6/10\n",
      "\u001b[1m29/29\u001b[0m \u001b[32m━━━━━━━━━━━━━━━━━━━━\u001b[0m\u001b[37m\u001b[0m \u001b[1m17s\u001b[0m 599ms/step - accuracy: 0.9669 - loss: 0.1213 - val_accuracy: 0.9227 - val_loss: 0.2102\n",
      "Epoch 7/10\n",
      "\u001b[1m29/29\u001b[0m \u001b[32m━━━━━━━━━━━━━━━━━━━━\u001b[0m\u001b[37m\u001b[0m \u001b[1m17s\u001b[0m 574ms/step - accuracy: 0.9795 - loss: 0.0899 - val_accuracy: 0.9185 - val_loss: 0.2367\n",
      "Epoch 8/10\n",
      "\u001b[1m29/29\u001b[0m \u001b[32m━━━━━━━━━━━━━━━━━━━━\u001b[0m\u001b[37m\u001b[0m \u001b[1m16s\u001b[0m 539ms/step - accuracy: 0.9753 - loss: 0.0903 - val_accuracy: 0.9185 - val_loss: 0.2193\n",
      "Epoch 9/10\n",
      "\u001b[1m29/29\u001b[0m \u001b[32m━━━━━━━━━━━━━━━━━━━━\u001b[0m\u001b[37m\u001b[0m \u001b[1m16s\u001b[0m 552ms/step - accuracy: 0.9827 - loss: 0.0721 - val_accuracy: 0.9227 - val_loss: 0.1769\n",
      "Epoch 10/10\n",
      "\u001b[1m29/29\u001b[0m \u001b[32m━━━━━━━━━━━━━━━━━━━━\u001b[0m\u001b[37m\u001b[0m \u001b[1m16s\u001b[0m 561ms/step - accuracy: 0.9769 - loss: 0.0764 - val_accuracy: 0.9099 - val_loss: 0.2751\n"
     ]
    },
    {
     "data": {
      "text/plain": [
       "<keras.src.callbacks.history.History at 0x16958d08e50>"
      ]
     },
     "execution_count": 109,
     "metadata": {},
     "output_type": "execute_result"
    }
   ],
   "source": [
    "\n",
    "\n",
    "# Train the model\n",
    "model.fit(\n",
    "    train_gen,\n",
    "    epochs=10,\n",
    "    validation_data=val_gen\n",
    ")"
   ]
  },
  {
   "cell_type": "code",
   "execution_count": 110,
   "id": "28586e55",
   "metadata": {},
   "outputs": [
    {
     "name": "stderr",
     "output_type": "stream",
     "text": [
      "WARNING:absl:You are saving your model as an HDF5 file via `model.save()` or `keras.saving.save_model(model)`. This file format is considered legacy. We recommend using instead the native Keras format, e.g. `model.save('my_model.keras')` or `keras.saving.save_model(model, 'my_model.keras')`. \n"
     ]
    }
   ],
   "source": [
    "model.save('skin_disease_model_8_classes.h5')"
   ]
  },
  {
   "cell_type": "code",
   "execution_count": 103,
   "id": "6aaef5b4",
   "metadata": {},
   "outputs": [
    {
     "name": "stderr",
     "output_type": "stream",
     "text": [
      "Epoch 1/10: 100%|██████████| 29/29 [00:18<00:00,  1.56it/s]\n"
     ]
    },
    {
     "name": "stdout",
     "output_type": "stream",
     "text": [
      "Epoch [1/10], Loss: 0.6765\n"
     ]
    },
    {
     "name": "stderr",
     "output_type": "stream",
     "text": [
      "Epoch 2/10: 100%|██████████| 29/29 [00:17<00:00,  1.64it/s]\n"
     ]
    },
    {
     "name": "stdout",
     "output_type": "stream",
     "text": [
      "Epoch [2/10], Loss: 0.2036\n"
     ]
    },
    {
     "name": "stderr",
     "output_type": "stream",
     "text": [
      "Epoch 3/10: 100%|██████████| 29/29 [00:18<00:00,  1.58it/s]\n"
     ]
    },
    {
     "name": "stdout",
     "output_type": "stream",
     "text": [
      "Epoch [3/10], Loss: 0.1710\n"
     ]
    },
    {
     "name": "stderr",
     "output_type": "stream",
     "text": [
      "Epoch 4/10: 100%|██████████| 29/29 [00:18<00:00,  1.58it/s]\n"
     ]
    },
    {
     "name": "stdout",
     "output_type": "stream",
     "text": [
      "Epoch [4/10], Loss: 0.1500\n"
     ]
    },
    {
     "name": "stderr",
     "output_type": "stream",
     "text": [
      "Epoch 5/10: 100%|██████████| 29/29 [00:17<00:00,  1.62it/s]\n"
     ]
    },
    {
     "name": "stdout",
     "output_type": "stream",
     "text": [
      "Epoch [5/10], Loss: 0.0751\n"
     ]
    },
    {
     "name": "stderr",
     "output_type": "stream",
     "text": [
      "Epoch 6/10: 100%|██████████| 29/29 [00:17<00:00,  1.64it/s]\n"
     ]
    },
    {
     "name": "stdout",
     "output_type": "stream",
     "text": [
      "Epoch [6/10], Loss: 0.0547\n"
     ]
    },
    {
     "name": "stderr",
     "output_type": "stream",
     "text": [
      "Epoch 7/10: 100%|██████████| 29/29 [00:18<00:00,  1.61it/s]\n"
     ]
    },
    {
     "name": "stdout",
     "output_type": "stream",
     "text": [
      "Epoch [7/10], Loss: 0.0658\n"
     ]
    },
    {
     "name": "stderr",
     "output_type": "stream",
     "text": [
      "Epoch 8/10: 100%|██████████| 29/29 [00:17<00:00,  1.64it/s]\n"
     ]
    },
    {
     "name": "stdout",
     "output_type": "stream",
     "text": [
      "Epoch [8/10], Loss: 0.0541\n"
     ]
    },
    {
     "name": "stderr",
     "output_type": "stream",
     "text": [
      "Epoch 9/10: 100%|██████████| 29/29 [00:17<00:00,  1.65it/s]\n"
     ]
    },
    {
     "name": "stdout",
     "output_type": "stream",
     "text": [
      "Epoch [9/10], Loss: 0.0825\n"
     ]
    },
    {
     "name": "stderr",
     "output_type": "stream",
     "text": [
      "Epoch 10/10: 100%|██████████| 29/29 [00:17<00:00,  1.63it/s]\n"
     ]
    },
    {
     "name": "stdout",
     "output_type": "stream",
     "text": [
      "Epoch [10/10], Loss: 0.0872\n",
      "Test Accuracy: 93.16%\n"
     ]
    }
   ],
   "source": [
    "import torch\n",
    "import torch.nn as nn\n",
    "import torch.optim as optim\n",
    "from torch.utils.data import DataLoader\n",
    "from torchvision import transforms, datasets\n",
    "from tqdm import tqdm\n",
    "import timm\n",
    "\n",
    "# Device configuration\n",
    "device = torch.device(\"cuda\" if torch.cuda.is_available() else \"cpu\")\n",
    "\n",
    "\n",
    "# Paths to your data directories\n",
    "train_dir = 'skin-disease-datasaet/train_set'\n",
    "val_dir = 'skin-disease-datasaet/test_set'\n",
    "\n",
    "# Data augmentation and normalization for training\n",
    "train_transforms = transforms.Compose([\n",
    "    transforms.Resize((224, 224)),\n",
    "    transforms.RandomHorizontalFlip(),\n",
    "    transforms.RandomRotation(30),\n",
    "    transforms.ToTensor(),\n",
    "    transforms.Normalize([0.485, 0.456, 0.406], [0.229, 0.224, 0.225])\n",
    "])\n",
    "\n",
    "val_transforms = transforms.Compose([\n",
    "    transforms.Resize((224, 224)),\n",
    "    transforms.ToTensor(),\n",
    "    transforms.Normalize([0.485, 0.456, 0.406], [0.229, 0.224, 0.225])\n",
    "])\n",
    "\n",
    "# Datasets and loaders\n",
    "train_dataset = datasets.ImageFolder(train_dir, transform=train_transforms)\n",
    "val_dataset = datasets.ImageFolder(val_dir, transform=val_transforms)\n",
    "\n",
    "train_loader = DataLoader(train_dataset, batch_size=32, shuffle=True, num_workers=4)\n",
    "val_loader = DataLoader(val_dataset, batch_size=32, shuffle=False, num_workers=4)\n",
    "\n",
    "# Load pretrained EfficientNet\n",
    "model = timm.create_model('efficientnet_b0', pretrained=True)\n",
    "model.classifier = nn.Linear(model.classifier.in_features, 8)  # 8 classes\n",
    "model = model.to(device)\n",
    "\n",
    "# Loss and optimizer\n",
    "criterion = nn.CrossEntropyLoss()\n",
    "optimizer = optim.Adam(model.parameters(), lr=0.001)\n",
    "num_epochs = 10\n",
    "\n",
    "# Training loop\n",
    "for epoch in range(num_epochs):\n",
    "    model.train()\n",
    "    running_loss = 0.0\n",
    "    for images, labels in tqdm(train_loader, desc=f\"Epoch {epoch+1}/{num_epochs}\"):\n",
    "        images = images.to(device)\n",
    "        labels = labels.to(device)\n",
    "\n",
    "        outputs = model(images)\n",
    "        loss = criterion(outputs, labels)\n",
    "\n",
    "        optimizer.zero_grad()\n",
    "        loss.backward()\n",
    "        optimizer.step()\n",
    "\n",
    "        running_loss += loss.item()\n",
    "\n",
    "    avg_loss = running_loss / len(train_loader)\n",
    "    print(f\"Epoch [{epoch+1}/{num_epochs}], Loss: {avg_loss:.4f}\")\n",
    "\n",
    "# Validation / Test loop\n",
    "model.eval()\n",
    "correct = 0\n",
    "total = 0\n",
    "with torch.no_grad():\n",
    "    for images, labels in val_loader:\n",
    "        images = images.to(device)\n",
    "        labels = labels.to(device)\n",
    "        outputs = model(images)\n",
    "        _, predicted = torch.max(outputs.data, 1)\n",
    "        total += labels.size(0)\n",
    "        correct += (predicted == labels).sum().item()\n",
    "\n",
    "print(f\"Test Accuracy: {100 * correct / total:.2f}%\")\n",
    "\n",
    "# Save the trained model\n",
    "torch.save(model.state_dict(), 'skin_disease_efficientnet8.pth')"
   ]
  },
  {
   "cell_type": "code",
   "execution_count": 27,
   "id": "ad0c8872",
   "metadata": {},
   "outputs": [],
   "source": [
    "import os\n",
    "BASE_DIR = os.path.abspath(os.path.join(os.path.dirname(\"skin_disease_prediction.ipynb\"), \"..\"))\n"
   ]
  },
  {
   "cell_type": "code",
   "execution_count": 28,
   "id": "dd4bfbb1",
   "metadata": {},
   "outputs": [],
   "source": [
    "import pandas as pd\n",
    "import csv\n",
    "\n",
    "# Load user's disease CSV file\n",
    "csv_path = os.path.join(BASE_DIR, \"data\", \"mayo_diseases.csv\")  # User's uploaded CSV file\n",
    "df = pd.read_csv(csv_path)"
   ]
  },
  {
   "cell_type": "code",
   "execution_count": 29,
   "id": "55c16963",
   "metadata": {},
   "outputs": [],
   "source": [
    "\n",
    "# Input and output file paths\n",
    "input_csv = os.path.join(BASE_DIR, \"data\", \"mayo_diseases.csv\")\n",
    "output_csv = \"selected_diseases_symptoms.csv\"  # New CSV to create"
   ]
  },
  {
   "cell_type": "code",
   "execution_count": 30,
   "id": "35060baa",
   "metadata": {},
   "outputs": [
    {
     "data": {
      "text/html": [
       "<div>\n",
       "<style scoped>\n",
       "    .dataframe tbody tr th:only-of-type {\n",
       "        vertical-align: middle;\n",
       "    }\n",
       "\n",
       "    .dataframe tbody tr th {\n",
       "        vertical-align: top;\n",
       "    }\n",
       "\n",
       "    .dataframe thead th {\n",
       "        text-align: right;\n",
       "    }\n",
       "</style>\n",
       "<table border=\"1\" class=\"dataframe\">\n",
       "  <thead>\n",
       "    <tr style=\"text-align: right;\">\n",
       "      <th></th>\n",
       "      <th>disease</th>\n",
       "      <th>main_link</th>\n",
       "      <th>Diagnosis_treatment_link</th>\n",
       "      <th>Doctors_departments_link</th>\n",
       "      <th>Overview</th>\n",
       "      <th>Symptoms</th>\n",
       "      <th>When to see a doctor</th>\n",
       "      <th>Causes</th>\n",
       "      <th>Risk factors</th>\n",
       "      <th>Complications</th>\n",
       "      <th>Prevention</th>\n",
       "      <th>Diagnosis</th>\n",
       "      <th>Treatment</th>\n",
       "      <th>Coping and support</th>\n",
       "      <th>Preparing for your appointment</th>\n",
       "      <th>Lifestyle and home remedies</th>\n",
       "    </tr>\n",
       "  </thead>\n",
       "  <tbody>\n",
       "    <tr>\n",
       "      <th>0</th>\n",
       "      <td>Atrial fibrillation</td>\n",
       "      <td>https://www.mayoclinic.org/diseases-conditions...</td>\n",
       "      <td>https://www.mayoclinic.org/diseases-conditions...</td>\n",
       "      <td>https://www.mayoclinic.org/diseases-conditions...</td>\n",
       "      <td>Atrial fibrillation (AFib) is an irregular and...</td>\n",
       "      <td>Symptoms ofAFibmay include:\\nFeelings of a fas...</td>\n",
       "      <td>If you have symptoms of atrial fibrillation, m...</td>\n",
       "      <td>To understand the causes of atrial fibrillatio...</td>\n",
       "      <td>Things that can increase the risk of atrial fi...</td>\n",
       "      <td>Blood clots are a dangerous complication of at...</td>\n",
       "      <td>Healthy lifestyle choices can reduce the risk ...</td>\n",
       "      <td>You may not know you have atrial fibrillation ...</td>\n",
       "      <td>The goals of atrial fibrillation treatment are...</td>\n",
       "      <td>NaN</td>\n",
       "      <td>If you have an irregular or pounding heartbeat...</td>\n",
       "      <td>Following a heart-healthy lifestyle can help p...</td>\n",
       "    </tr>\n",
       "    <tr>\n",
       "      <th>1</th>\n",
       "      <td>Hyperhidrosis</td>\n",
       "      <td>https://www.mayoclinic.org/diseases-conditions...</td>\n",
       "      <td>https://www.mayoclinic.org/diseases-conditions...</td>\n",
       "      <td>https://www.mayoclinic.org/diseases-conditions...</td>\n",
       "      <td>Hyperhidrosis (hi-pur-hi-DROE-sis) is excessiv...</td>\n",
       "      <td>The main symptom of hyperhidrosis is heavy swe...</td>\n",
       "      <td>Sometimes excessive sweating is a sign of a se...</td>\n",
       "      <td>Sweating is the body's mechanism to cool itsel...</td>\n",
       "      <td>Risk factors for hyperhidrosis include:\\nHavin...</td>\n",
       "      <td>Complications of hyperhidrosis include:\\nInfec...</td>\n",
       "      <td>NaN</td>\n",
       "      <td>Diagnosing hyperhidrosis may start with your h...</td>\n",
       "      <td>Treating hyperhidrosis may start with treating...</td>\n",
       "      <td>Hyperhidrosis can be the cause of discomfort a...</td>\n",
       "      <td>You may start by seeing your primary care prov...</td>\n",
       "      <td>The following suggestions may help control swe...</td>\n",
       "    </tr>\n",
       "    <tr>\n",
       "      <th>2</th>\n",
       "      <td>Bartholin's cyst</td>\n",
       "      <td>https://www.mayoclinic.org/diseases-conditions...</td>\n",
       "      <td>https://www.mayoclinic.org/diseases-conditions...</td>\n",
       "      <td>https://www.mayoclinic.org/diseases-conditions...</td>\n",
       "      <td>The Bartholin's (BAHR-toe-linz) glands are loc...</td>\n",
       "      <td>If you have a small, noninfected Bartholin's c...</td>\n",
       "      <td>Call your doctor if you have a painful lump ne...</td>\n",
       "      <td>Experts believe that the cause of a Bartholin'...</td>\n",
       "      <td>NaN</td>\n",
       "      <td>A Bartholin's cyst or abscess may recur and ag...</td>\n",
       "      <td>There's no way to prevent a Bartholin's cyst. ...</td>\n",
       "      <td>To diagnose a Bartholin's cyst, your doctor ma...</td>\n",
       "      <td>Often a Bartholin's cyst requires no treatment...</td>\n",
       "      <td>NaN</td>\n",
       "      <td>Your first appointment will likely be with eit...</td>\n",
       "      <td>NaN</td>\n",
       "    </tr>\n",
       "    <tr>\n",
       "      <th>3</th>\n",
       "      <td>Infant reflux</td>\n",
       "      <td>https://www.mayoclinic.org/diseases-conditions...</td>\n",
       "      <td>https://www.mayoclinic.org/diseases-conditions...</td>\n",
       "      <td>NaN</td>\n",
       "      <td>Infant reflux is when a baby spits up liquid o...</td>\n",
       "      <td>Most of the time, infant reflux isn't a cause ...</td>\n",
       "      <td>See a healthcare professional if a baby:\\nIsn'...</td>\n",
       "      <td>In infants, the ring of muscle between the eso...</td>\n",
       "      <td>Infant reflux is common. But some things make ...</td>\n",
       "      <td>Infant reflux usually gets better on its own. ...</td>\n",
       "      <td>NaN</td>\n",
       "      <td>To diagnose infant reflux, a healthcare profes...</td>\n",
       "      <td>For most babies, making some changes to feedin...</td>\n",
       "      <td>NaN</td>\n",
       "      <td>You may start by seeing your baby's primary he...</td>\n",
       "      <td>To minimize reflux:\\nFeed your baby in an upri...</td>\n",
       "    </tr>\n",
       "    <tr>\n",
       "      <th>4</th>\n",
       "      <td>Hidradenitis suppurativa</td>\n",
       "      <td>https://www.mayoclinic.org/diseases-conditions...</td>\n",
       "      <td>https://www.mayoclinic.org/diseases-conditions...</td>\n",
       "      <td>https://www.mayoclinic.org/diseases-conditions...</td>\n",
       "      <td>Hidradenitis suppurativa (hi-drad-uh-NIE-tis s...</td>\n",
       "      <td>Hidradenitis suppurativa can affect one or sev...</td>\n",
       "      <td>Early diagnosis of hidradenitis suppurativa is...</td>\n",
       "      <td>Hidradenitis suppurativa develops when hair fo...</td>\n",
       "      <td>Factors that increase your chance of developin...</td>\n",
       "      <td>Persistent and severe hidradenitis suppurativa...</td>\n",
       "      <td>NaN</td>\n",
       "      <td>Hidradenitis suppurativa can be mistaken for p...</td>\n",
       "      <td>Treatment with medicines, surgery or both can ...</td>\n",
       "      <td>Hidradenitis suppurativa can be a challenge to...</td>\n",
       "      <td>You'll likely first see your primary care prov...</td>\n",
       "      <td>Mild hidradenitis suppurativa can sometimes be...</td>\n",
       "    </tr>\n",
       "  </tbody>\n",
       "</table>\n",
       "</div>"
      ],
      "text/plain": [
       "                    disease  \\\n",
       "0       Atrial fibrillation   \n",
       "1             Hyperhidrosis   \n",
       "2          Bartholin's cyst   \n",
       "3             Infant reflux   \n",
       "4  Hidradenitis suppurativa   \n",
       "\n",
       "                                           main_link  \\\n",
       "0  https://www.mayoclinic.org/diseases-conditions...   \n",
       "1  https://www.mayoclinic.org/diseases-conditions...   \n",
       "2  https://www.mayoclinic.org/diseases-conditions...   \n",
       "3  https://www.mayoclinic.org/diseases-conditions...   \n",
       "4  https://www.mayoclinic.org/diseases-conditions...   \n",
       "\n",
       "                            Diagnosis_treatment_link  \\\n",
       "0  https://www.mayoclinic.org/diseases-conditions...   \n",
       "1  https://www.mayoclinic.org/diseases-conditions...   \n",
       "2  https://www.mayoclinic.org/diseases-conditions...   \n",
       "3  https://www.mayoclinic.org/diseases-conditions...   \n",
       "4  https://www.mayoclinic.org/diseases-conditions...   \n",
       "\n",
       "                            Doctors_departments_link  \\\n",
       "0  https://www.mayoclinic.org/diseases-conditions...   \n",
       "1  https://www.mayoclinic.org/diseases-conditions...   \n",
       "2  https://www.mayoclinic.org/diseases-conditions...   \n",
       "3                                                NaN   \n",
       "4  https://www.mayoclinic.org/diseases-conditions...   \n",
       "\n",
       "                                            Overview  \\\n",
       "0  Atrial fibrillation (AFib) is an irregular and...   \n",
       "1  Hyperhidrosis (hi-pur-hi-DROE-sis) is excessiv...   \n",
       "2  The Bartholin's (BAHR-toe-linz) glands are loc...   \n",
       "3  Infant reflux is when a baby spits up liquid o...   \n",
       "4  Hidradenitis suppurativa (hi-drad-uh-NIE-tis s...   \n",
       "\n",
       "                                            Symptoms  \\\n",
       "0  Symptoms ofAFibmay include:\\nFeelings of a fas...   \n",
       "1  The main symptom of hyperhidrosis is heavy swe...   \n",
       "2  If you have a small, noninfected Bartholin's c...   \n",
       "3  Most of the time, infant reflux isn't a cause ...   \n",
       "4  Hidradenitis suppurativa can affect one or sev...   \n",
       "\n",
       "                                When to see a doctor  \\\n",
       "0  If you have symptoms of atrial fibrillation, m...   \n",
       "1  Sometimes excessive sweating is a sign of a se...   \n",
       "2  Call your doctor if you have a painful lump ne...   \n",
       "3  See a healthcare professional if a baby:\\nIsn'...   \n",
       "4  Early diagnosis of hidradenitis suppurativa is...   \n",
       "\n",
       "                                              Causes  \\\n",
       "0  To understand the causes of atrial fibrillatio...   \n",
       "1  Sweating is the body's mechanism to cool itsel...   \n",
       "2  Experts believe that the cause of a Bartholin'...   \n",
       "3  In infants, the ring of muscle between the eso...   \n",
       "4  Hidradenitis suppurativa develops when hair fo...   \n",
       "\n",
       "                                        Risk factors  \\\n",
       "0  Things that can increase the risk of atrial fi...   \n",
       "1  Risk factors for hyperhidrosis include:\\nHavin...   \n",
       "2                                                NaN   \n",
       "3  Infant reflux is common. But some things make ...   \n",
       "4  Factors that increase your chance of developin...   \n",
       "\n",
       "                                       Complications  \\\n",
       "0  Blood clots are a dangerous complication of at...   \n",
       "1  Complications of hyperhidrosis include:\\nInfec...   \n",
       "2  A Bartholin's cyst or abscess may recur and ag...   \n",
       "3  Infant reflux usually gets better on its own. ...   \n",
       "4  Persistent and severe hidradenitis suppurativa...   \n",
       "\n",
       "                                          Prevention  \\\n",
       "0  Healthy lifestyle choices can reduce the risk ...   \n",
       "1                                                NaN   \n",
       "2  There's no way to prevent a Bartholin's cyst. ...   \n",
       "3                                                NaN   \n",
       "4                                                NaN   \n",
       "\n",
       "                                           Diagnosis  \\\n",
       "0  You may not know you have atrial fibrillation ...   \n",
       "1  Diagnosing hyperhidrosis may start with your h...   \n",
       "2  To diagnose a Bartholin's cyst, your doctor ma...   \n",
       "3  To diagnose infant reflux, a healthcare profes...   \n",
       "4  Hidradenitis suppurativa can be mistaken for p...   \n",
       "\n",
       "                                           Treatment  \\\n",
       "0  The goals of atrial fibrillation treatment are...   \n",
       "1  Treating hyperhidrosis may start with treating...   \n",
       "2  Often a Bartholin's cyst requires no treatment...   \n",
       "3  For most babies, making some changes to feedin...   \n",
       "4  Treatment with medicines, surgery or both can ...   \n",
       "\n",
       "                                  Coping and support  \\\n",
       "0                                                NaN   \n",
       "1  Hyperhidrosis can be the cause of discomfort a...   \n",
       "2                                                NaN   \n",
       "3                                                NaN   \n",
       "4  Hidradenitis suppurativa can be a challenge to...   \n",
       "\n",
       "                      Preparing for your appointment  \\\n",
       "0  If you have an irregular or pounding heartbeat...   \n",
       "1  You may start by seeing your primary care prov...   \n",
       "2  Your first appointment will likely be with eit...   \n",
       "3  You may start by seeing your baby's primary he...   \n",
       "4  You'll likely first see your primary care prov...   \n",
       "\n",
       "                         Lifestyle and home remedies  \n",
       "0  Following a heart-healthy lifestyle can help p...  \n",
       "1  The following suggestions may help control swe...  \n",
       "2                                                NaN  \n",
       "3  To minimize reflux:\\nFeed your baby in an upri...  \n",
       "4  Mild hidradenitis suppurativa can sometimes be...  "
      ]
     },
     "execution_count": 30,
     "metadata": {},
     "output_type": "execute_result"
    }
   ],
   "source": [
    "df.head()"
   ]
  },
  {
   "cell_type": "code",
   "execution_count": 31,
   "id": "01cb9efc",
   "metadata": {},
   "outputs": [],
   "source": [
    "diseases = [\n",
    "    \"Atrial fibrillation\",\n",
    "    \"Hyperhidrosis\",\n",
    "    \"Hidradenitis suppurativa\",\n",
    "    \"Guillain-Barre syndrome\",\n",
    "    \"Acute kidney injury\",\n",
    "    \"Radiation sickness\",\n",
    "    \"ARDS\",\n",
    "    \"Autoimmune epilepsy\",\n",
    "    \"Frozen shoulder\",\n",
    "    \"Dry macular degeneration\",\n",
    "    \"Myelofibrosis\",\n",
    "    \"Alcoholic hepatitis\",\n",
    "    \"Churg-Strauss syndrome\",\n",
    "    \"Egg allergy\",\n",
    "    \"Peanut allergy\",\n",
    "    \"Amyotrophic lateral sclerosis (ALS)\",\n",
    "    \"Amyloidosis\",\n",
    "    \"Aplastic anemia\",\n",
    "    \"Thalassemia\",\n",
    "    \"Abdominal aortic aneurysm\",\n",
    "    \"Brain aneurysm\",\n",
    "    \"Angina\",\n",
    "    \"Castleman disease\",\n",
    "    \"Anorexia nervosa\",\n",
    "    \"Generalized anxiety disorder\",\n",
    "    \"Aortic dissection\",\n",
    "    \"Color blindness\",\n",
    "    \"Severe acute respiratory syndrome (SARS)\",\n",
    "    \"Age spots (liver spots)\",\n",
    "    \"Complex regional pain syndrome\",\n",
    "    \"Interstitial cystitis\",\n",
    "    \"Cytomegalovirus (CMV) infection\",\n",
    "    \"Delayed sleep phase\",\n",
    "    \"Frontotemporal dementia\",\n",
    "    \"Dermatographia (Dermatographism)\",\n",
    "    \"Dysphagia\",\n",
    "    \"Persistent depressive disorder\",\n",
    "    \"Pulmonary embolism\",\n",
    "    \"Erectile dysfunction\",\n",
    "    \"Familial Mediterranean fever\",\n",
    "    \"Pulmonary fibrosis\",\n",
    "    \"Eye floaters\",\n",
    "    \"Functional neurologic disorder/conversion disorder\",\n",
    "    \"Gastroparesis\",\n",
    "    \"Gender dysphoria\",\n",
    "    \"Gaucher disease\",\n",
    "    \"Cluster headache\",\n",
    "    \"Hemochromatosis\",\n",
    "    \"Hiatal hernia\",\n",
    "    \"Horner syndrome\",\n",
    "    \"HPV infection\",\n",
    "    \"Idiopathic intracranial hypertension\",\n",
    "    \"Irritable bowel syndrome\",\n",
    "    \"Kawasaki disease\",\n",
    "    \"Lactose intolerance\",\n",
    "    \"Lewy body dementia\",\n",
    "    \"Lynch syndrome\",\n",
    "    \"Meralgia paresthetica\",\n",
    "    \"Morton neuroma\",\n",
    "    \"Myasthenia gravis\",\n",
    "    \"Narcolepsy\",\n",
    "    \"Neuromyelitis optica\",\n",
    "    \"Obsessive-compulsive disorder (OCD)\",\n",
    "    \"Orthostatic hypotension\",\n",
    "    \"Patellar tendinitis\",\n",
    "    \"Polycystic ovary syndrome (PCOS)\",\n",
    "    \"Postherpetic neuralgia\",\n",
    "    \"Primary biliary cholangitis\",\n",
    "    \"Raynaud's phenomenon\",\n",
    "    \"Restless legs syndrome\",\n",
    "    \"Rosacea\",\n",
    "    \"Sarcoidosis\",\n",
    "    \"Sjogren's syndrome\",\n",
    "    \"Small intestinal bacterial overgrowth (SIBO)\",\n",
    "    \"Temporomandibular joint (TMJ) disorders\",\n",
    "    \"Trigeminal neuralgia\",\n",
    "    \"Vasovagal syncope\",\n",
    "    \"Waldenstrom macroglobulinemia\",\n",
    "    \"Whipple's disease\",\n",
    "    \"Wilson's disease\",\n",
    "    \"Acoustic neuroma\",\n",
    "    \"Burning mouth syndrome\",\n",
    "    \"Chronic fatigue syndrome\",\n",
    "    \"Dumping syndrome\",\n",
    "    \"Ehlers-Danlos syndrome\",\n",
    "    \"Fibromyalgia\",\n",
    "    \"Gilbert syndrome\",\n",
    "    \"Hashimoto's thyroiditis\",\n",
    "    \"Interstitial lung disease\",\n",
    "    \"Klinefelter syndrome\",\n",
    "    \"Mast cell activation syndrome\",\n",
    "    \"Nephrotic syndrome\",\n",
    "    \"Osgood-Schlatter disease\",\n",
    "    \"Paget's disease of bone\",\n",
    "    \"Quadriceps tendonitis\",\n",
    "    \"Retroperitoneal fibrosis\",\n",
    "    \"Stevens-Johnson syndrome\",\n",
    "    \"Tourette syndrome\",\n",
    "    \"Uveitis\",\n",
    "    \"Vitiligo\",\n",
    "    \"Wegener's granulomatosis\",\n",
    "    \"Xerostomia\",\n",
    "    \"Yellow nail syndrome\",\n",
    "    \"Zollinger-Ellison syndrome\"\n",
    "]"
   ]
  },
  {
   "cell_type": "code",
   "execution_count": 34,
   "id": "c4684ff8",
   "metadata": {},
   "outputs": [
    {
     "name": "stdout",
     "output_type": "stream",
     "text": [
      "Created selected_diseases_symptoms.csv with 104 diseases\n"
     ]
    }
   ],
   "source": [
    "with open(input_csv, mode='r', encoding='utf-8') as infile, \\\n",
    "     open(output_csv, mode='w', newline='', encoding='utf-8') as outfile:\n",
    "    \n",
    "    reader = csv.DictReader(infile)\n",
    "    writer = csv.DictWriter(outfile, fieldnames=['Disease', 'Symptoms'])\n",
    "    writer.writeheader()\n",
    "    \n",
    "    for row in reader:\n",
    "        if row['disease'] in diseases:\n",
    "            writer.writerow({\n",
    "                'Disease': row['disease'],\n",
    "                'Symptoms': row['Symptoms']\n",
    "            })\n",
    "\n",
    "print(f\"Created {output_csv} with {len(diseases)} diseases\")"
   ]
  },
  {
   "cell_type": "code",
   "execution_count": 1,
   "id": "004c977c",
   "metadata": {},
   "outputs": [
    {
     "name": "stderr",
     "output_type": "stream",
     "text": [
      "C:\\Users\\harme\\AppData\\Local\\Temp\\ipykernel_12452\\3443397209.py:9: LangChainDeprecationWarning: The class `ChatOpenAI` was deprecated in LangChain 0.0.10 and will be removed in 1.0. An updated version of the class exists in the :class:`~langchain-openai package and should be used instead. To use it run `pip install -U :class:`~langchain-openai` and import as `from :class:`~langchain_openai import ChatOpenAI``.\n",
      "  llm = ChatOpenAI(\n"
     ]
    }
   ],
   "source": [
    "from langchain.chat_models import ChatOpenAI\n",
    "from langchain.schema import HumanMessage\n",
    "import os\n",
    "\n",
    "# For Groq\n",
    "os.environ[\"OPENAI_API_KEY\"] = os.getenv(\"GROQ_API_KEY\") or \"your_groq_key\"\n",
    "os.environ[\"OPENAI_API_BASE\"] = \"https://api.groq.com/openai/v1\"\n",
    "\n",
    "llm = ChatOpenAI(\n",
    "    model=\"llama3-70b-8192\",  # or llama3-70b-8192 if supported\n",
    "    temperature=0.6\n",
    ")\n",
    "\n"
   ]
  },
  {
   "cell_type": "code",
   "execution_count": 2,
   "id": "0b60b443",
   "metadata": {},
   "outputs": [],
   "source": [
    "from langchain.prompts import PromptTemplate\n",
    "\n",
    "prompt_template_name = PromptTemplate(\n",
    "    input_variables=['symptoms'],\n",
    "    template= \"Convert the following list of medical symptoms into a natural-sounding, continuous one-paragraph query that a patient might say to a doctor. The patient is unaware of any disease name and is just describing what they are experiencing. Use all the symptoms provided, cover everything, and do not break it into points or sentences. Keep the response concise and human-like, as if someone is verbally describing their condition in one paragraph. Do not include any explanation or extra context—just return the patient's paragraph. Symptoms: {symptoms}\"\n",
    ")\n"
   ]
  },
  {
   "cell_type": "code",
   "execution_count": 3,
   "id": "d8b94b98",
   "metadata": {},
   "outputs": [],
   "source": [
    "chain = prompt_template_name | llm\n"
   ]
  },
  {
   "cell_type": "code",
   "execution_count": 4,
   "id": "e937e22a",
   "metadata": {},
   "outputs": [],
   "source": [
    "input_csv = \"selected_diseases_symptoms.csv\"  # New CSV to create\n",
    "output_csv = \"selected_diseases_symptoms_updated.csv\"  # New CSV to create"
   ]
  },
  {
   "cell_type": "code",
   "execution_count": 5,
   "id": "89ce0954",
   "metadata": {},
   "outputs": [],
   "source": [
    "from tqdm.notebook import tqdm\n"
   ]
  },
  {
   "cell_type": "code",
   "execution_count": 6,
   "id": "efa51f06",
   "metadata": {},
   "outputs": [
    {
     "name": "stderr",
     "output_type": "stream",
     "text": [
      "Processing diseases: 136it [08:01,  3.54s/it]\n"
     ]
    }
   ],
   "source": [
    "import csv\n",
    "from tqdm import tqdm  # or from tqdm.notebook import tqdm for Jupyter\n",
    "\n",
    "with open(input_csv, mode='r', encoding='utf-8') as infile, \\\n",
    "     open(output_csv, mode='w', newline='', encoding='utf-8') as outfile:\n",
    "\n",
    "    reader = csv.DictReader(infile)\n",
    "    writer = csv.DictWriter(outfile, fieldnames=['Disease', 'User_Query'])\n",
    "    writer.writeheader()\n",
    "\n",
    "    for row in tqdm(reader, desc=\"Processing diseases\", ascii=True):  # Better tqdm line\n",
    "        disease = row['Disease']\n",
    "        symptoms = row['Symptoms']\n",
    "\n",
    "        try:\n",
    "            response = chain.invoke({\"symptoms\": symptoms})\n",
    "            user_query = response.content if hasattr(response, \"content\") else str(response)\n",
    "        except Exception as e:\n",
    "            user_query = f\"Error: {e}\"\n",
    "\n",
    "        writer.writerow({\n",
    "            'Disease': disease,\n",
    "            'User_Query': user_query\n",
    "        })\n"
   ]
  },
  {
   "cell_type": "code",
   "execution_count": 24,
   "id": "05740cf8",
   "metadata": {},
   "outputs": [],
   "source": [
    "response = chain.invoke({\"symptoms\":symptoms})\n"
   ]
  },
  {
   "cell_type": "code",
   "execution_count": 26,
   "id": "ca43b05c",
   "metadata": {},
   "outputs": [
    {
     "data": {
      "text/plain": [
       "'\"Doc, I\\'ve been having these weird heart flutters and pains in my chest, and lately, I\\'ve been feeling really dizzy and tired all the time, even when I\\'m just doing simple exercises, and sometimes I get short of breath too.\"'"
      ]
     },
     "execution_count": 26,
     "metadata": {},
     "output_type": "execute_result"
    }
   ],
   "source": [
    "response.content"
   ]
  },
  {
   "cell_type": "code",
   "execution_count": null,
   "id": "7f8446c5",
   "metadata": {},
   "outputs": [],
   "source": []
  }
 ],
 "metadata": {
  "kernelspec": {
   "display_name": "Python 3",
   "language": "python",
   "name": "python3"
  },
  "language_info": {
   "codemirror_mode": {
    "name": "ipython",
    "version": 3
   },
   "file_extension": ".py",
   "mimetype": "text/x-python",
   "name": "python",
   "nbconvert_exporter": "python",
   "pygments_lexer": "ipython3",
   "version": "3.9.13"
  }
 },
 "nbformat": 4,
 "nbformat_minor": 5
}
