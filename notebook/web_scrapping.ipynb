{
 "cells": [
  {
   "cell_type": "code",
   "execution_count": 6,
   "metadata": {},
   "outputs": [],
   "source": [
    "import time\n",
    "import os\n",
    "import csv\n",
    "from bs4 import BeautifulSoup\n",
    "import requests\n",
    "from tqdm import tqdm\n",
    "from IPython.display import clear_output"
   ]
  },
  {
   "cell_type": "code",
   "execution_count": 7,
   "metadata": {},
   "outputs": [],
   "source": [
    "\n",
    "def data_extractor(base_url, retries=3, delay=5):\n",
    "    headers = {\n",
    "        \"User-Agent\": \"Mozilla/5.0 (Windows NT 10.0; Win64; x64) AppleWebKit/537.36\",\n",
    "        \"Accept\": \"text/html,application/xhtml+xml,application/xml;q=0.9,image/webp,*/*;q=0.8\"\n",
    "    }\n",
    "\n",
    "    diagnosis_treatment_link = \"\"\n",
    "    doctors_departments_link = \"\"\n",
    "\n",
    "    for attempt in range(retries):\n",
    "        try:\n",
    "            response = requests.get(base_url, headers=headers, timeout=20)\n",
    "            response.raise_for_status()\n",
    "            soup = BeautifulSoup(response.text, \"html.parser\")\n",
    "\n",
    "            # Extract Diagnosis & Treatment link\n",
    "            content1 = soup.find('a', id=\"et_genericNavigation_diagnosis-treatment\")\n",
    "            if not content1:\n",
    "                # fallback: search by link text containing both words\n",
    "                for a in soup.find_all('a'):\n",
    "                    link_text = a.get_text(separator=' ').strip().lower()\n",
    "                    if \"diagnosis\" in link_text and \"treatment\" in link_text:\n",
    "                        content1 = a\n",
    "                        break\n",
    "            if content1:\n",
    "                href1 = content1.get('href')\n",
    "                diagnosis_treatment_link = f\"https://www.mayoclinic.org{href1}\" if href1 and href1.startswith(\"/\") else href1\n",
    "\n",
    "            # Extract Doctors & Departments link\n",
    "            content2 = soup.find('a', id=\"et_genericNavigation_doctors-departments\")\n",
    "            if not content2:\n",
    "                # fallback: search by link text containing both words\n",
    "                for a in soup.find_all('a'):\n",
    "                    link_text = a.get_text(separator=' ').strip().lower()\n",
    "                    if \"doctors\" in link_text and \"departments\" in link_text:\n",
    "                        content2 = a\n",
    "                        break\n",
    "            if content2:\n",
    "                href2 = content2.get('href')\n",
    "                doctors_departments_link = f\"https://www.mayoclinic.org{href2}\" if href2 and href2.startswith(\"/\") else href2\n",
    "\n",
    "            break  # success, exit retry loop\n",
    "\n",
    "        except requests.exceptions.RequestException as e:\n",
    "            print(f\"[Attempt {attempt + 1}] Error fetching {base_url}: {e}\")\n",
    "            if attempt < retries - 1:\n",
    "                time.sleep(delay)\n",
    "\n",
    "    return diagnosis_treatment_link, doctors_departments_link\n",
    "\n",
    "def web_scraping(base_url):\n",
    "    # Define the expected headers in order\n",
    "    expected_headers = [\"disease\", \"main_link\", \"Diagnosis_treatment_link\", \"Doctors_departments_link\"]\n",
    "    \n",
    "    # Check if file exists and read existing headers if it does\n",
    "    file_exists = os.path.isfile(\"mayo_diseases.csv\")\n",
    "    existing_headers = []\n",
    "    \n",
    "    if file_exists:\n",
    "        with open(\"mayo_diseases.csv\", \"r\", encoding=\"utf-8\") as file:\n",
    "            reader = csv.reader(file)\n",
    "            existing_headers = next(reader, [])\n",
    "    \n",
    "    # Determine if we need to write headers\n",
    "    write_headers = not file_exists or existing_headers != expected_headers\n",
    "    \n",
    "    # Get the webpage content\n",
    "    response = requests.get(base_url)\n",
    "    if response.status_code != 200:\n",
    "        print(\"Failed to retrieve page\")\n",
    "        exit()\n",
    "\n",
    "    soup = BeautifulSoup(response.text, \"html.parser\")\n",
    "    items = soup.select(\".cmp-results-with-primary-name__see-link, .cmp-results-with-primary-name a\")\n",
    "\n",
    "    with open(\"mayo_diseases.csv\", \"a\", newline=\"\", encoding=\"utf-8\") as file:\n",
    "        writer = csv.writer(file)\n",
    "        \n",
    "        # Write headers if needed\n",
    "        if write_headers:\n",
    "            writer.writerow(expected_headers)\n",
    "        \n",
    "        for item in tqdm(items, desc=\"Scraping Diseases\"):\n",
    "            disease_name = item.text.strip()\n",
    "            main_link = f\"https://www.mayoclinic.org{item['href']}\" if item['href'].startswith(\"/\") else item['href']\n",
    "\n",
    "            link1, link2 = data_extractor(main_link)\n",
    "            \n",
    "            # Create a row with all expected columns\n",
    "            row_data = {\n",
    "                \"disease\": disease_name,\n",
    "                \"main_link\": main_link,\n",
    "                \"Diagnosis_treatment_link\": link1,\n",
    "                \"Doctors_departments_link\": link2\n",
    "            }\n",
    "            \n",
    "            # If appending to existing file with different headers, align data with existing headers\n",
    "            if file_exists and existing_headers:\n",
    "                row = [row_data.get(header, \"\") for header in existing_headers]\n",
    "            else:\n",
    "                row = [row_data[header] for header in expected_headers]\n",
    "            \n",
    "            writer.writerow(row)\n",
    "\n",
    "    print(\"Scraping Completed! Data Saved\")\n",
    "\n",
    "# Example usage:\n",
    "# web_scraping(\"https://www.mayoclinic.org/diseases-conditions\")"
   ]
  },
  {
   "cell_type": "code",
   "execution_count": 8,
   "metadata": {},
   "outputs": [
    {
     "name": "stderr",
     "output_type": "stream",
     "text": [
      "Scraping Diseases: 100%|██████████| 132/132 [01:00<00:00,  2.17it/s]"
     ]
    },
    {
     "name": "stdout",
     "output_type": "stream",
     "text": [
      "Scraping Completed! Data Saved\n"
     ]
    },
    {
     "name": "stderr",
     "output_type": "stream",
     "text": [
      "\n"
     ]
    }
   ],
   "source": [
    "base_url = f\"https://www.mayoclinic.org/diseases-conditions/index?letter=A\"\n",
    "web_scraping(base_url) \n"
   ]
  },
  {
   "cell_type": "code",
   "execution_count": null,
   "metadata": {},
   "outputs": [
    {
     "name": "stdout",
     "output_type": "stream",
     "text": [
      "processing C\n"
     ]
    },
    {
     "name": "stderr",
     "output_type": "stream",
     "text": [
      "Scraping Diseases:  90%|████████▉ | 147/164 [01:52<00:12,  1.31it/s]\n"
     ]
    },
    {
     "ename": "KeyboardInterrupt",
     "evalue": "",
     "output_type": "error",
     "traceback": [
      "\u001b[1;31m---------------------------------------------------------------------------\u001b[0m",
      "\u001b[1;31mKeyboardInterrupt\u001b[0m                         Traceback (most recent call last)",
      "Cell \u001b[1;32mIn[5], line 7\u001b[0m\n\u001b[0;32m      4\u001b[0m \u001b[38;5;28mprint\u001b[39m(\u001b[38;5;124mf\u001b[39m\u001b[38;5;124m\"\u001b[39m\u001b[38;5;124mprocessing \u001b[39m\u001b[38;5;132;01m{\u001b[39;00mletter\u001b[38;5;132;01m}\u001b[39;00m\u001b[38;5;124m\"\u001b[39m)\n\u001b[0;32m      5\u001b[0m base_url \u001b[38;5;241m=\u001b[39m \u001b[38;5;124mf\u001b[39m\u001b[38;5;124m\"\u001b[39m\u001b[38;5;124mhttps://www.mayoclinic.org/diseases-conditions/index?letter=\u001b[39m\u001b[38;5;132;01m{\u001b[39;00mletter\u001b[38;5;132;01m}\u001b[39;00m\u001b[38;5;124m\"\u001b[39m\n\u001b[1;32m----> 7\u001b[0m \u001b[43mweb_scraping\u001b[49m\u001b[43m(\u001b[49m\u001b[43mbase_url\u001b[49m\u001b[43m)\u001b[49m \n\u001b[0;32m      8\u001b[0m clear_output(wait\u001b[38;5;241m=\u001b[39m\u001b[38;5;28;01mTrue\u001b[39;00m)\n",
      "Cell \u001b[1;32mIn[2], line 87\u001b[0m, in \u001b[0;36mweb_scraping\u001b[1;34m(base_url)\u001b[0m\n\u001b[0;32m     84\u001b[0m disease_name \u001b[38;5;241m=\u001b[39m item\u001b[38;5;241m.\u001b[39mtext\u001b[38;5;241m.\u001b[39mstrip()\n\u001b[0;32m     85\u001b[0m main_link \u001b[38;5;241m=\u001b[39m \u001b[38;5;124mf\u001b[39m\u001b[38;5;124m\"\u001b[39m\u001b[38;5;124mhttps://www.mayoclinic.org\u001b[39m\u001b[38;5;132;01m{\u001b[39;00mitem[\u001b[38;5;124m'\u001b[39m\u001b[38;5;124mhref\u001b[39m\u001b[38;5;124m'\u001b[39m]\u001b[38;5;132;01m}\u001b[39;00m\u001b[38;5;124m\"\u001b[39m \u001b[38;5;28;01mif\u001b[39;00m item[\u001b[38;5;124m'\u001b[39m\u001b[38;5;124mhref\u001b[39m\u001b[38;5;124m'\u001b[39m]\u001b[38;5;241m.\u001b[39mstartswith(\u001b[38;5;124m\"\u001b[39m\u001b[38;5;124m/\u001b[39m\u001b[38;5;124m\"\u001b[39m) \u001b[38;5;28;01melse\u001b[39;00m item[\u001b[38;5;124m'\u001b[39m\u001b[38;5;124mhref\u001b[39m\u001b[38;5;124m'\u001b[39m]\n\u001b[1;32m---> 87\u001b[0m link1, link2 \u001b[38;5;241m=\u001b[39m \u001b[43mdata_extractor\u001b[49m\u001b[43m(\u001b[49m\u001b[43mmain_link\u001b[49m\u001b[43m)\u001b[49m\n\u001b[0;32m     89\u001b[0m \u001b[38;5;66;03m# Create a row with all expected columns\u001b[39;00m\n\u001b[0;32m     90\u001b[0m row_data \u001b[38;5;241m=\u001b[39m {\n\u001b[0;32m     91\u001b[0m     \u001b[38;5;124m\"\u001b[39m\u001b[38;5;124mdisease\u001b[39m\u001b[38;5;124m\"\u001b[39m: disease_name,\n\u001b[0;32m     92\u001b[0m     \u001b[38;5;124m\"\u001b[39m\u001b[38;5;124mmain_link\u001b[39m\u001b[38;5;124m\"\u001b[39m: main_link,\n\u001b[0;32m     93\u001b[0m     \u001b[38;5;124m\"\u001b[39m\u001b[38;5;124mDiagnosis_treatment_link\u001b[39m\u001b[38;5;124m\"\u001b[39m: link1,\n\u001b[0;32m     94\u001b[0m     \u001b[38;5;124m\"\u001b[39m\u001b[38;5;124mDoctors_departments_link\u001b[39m\u001b[38;5;124m\"\u001b[39m: link2\n\u001b[0;32m     95\u001b[0m }\n",
      "Cell \u001b[1;32mIn[2], line 12\u001b[0m, in \u001b[0;36mdata_extractor\u001b[1;34m(base_url, retries, delay)\u001b[0m\n\u001b[0;32m     10\u001b[0m \u001b[38;5;28;01mfor\u001b[39;00m attempt \u001b[38;5;129;01min\u001b[39;00m \u001b[38;5;28mrange\u001b[39m(retries):\n\u001b[0;32m     11\u001b[0m     \u001b[38;5;28;01mtry\u001b[39;00m:\n\u001b[1;32m---> 12\u001b[0m         response \u001b[38;5;241m=\u001b[39m \u001b[43mrequests\u001b[49m\u001b[38;5;241;43m.\u001b[39;49m\u001b[43mget\u001b[49m\u001b[43m(\u001b[49m\u001b[43mbase_url\u001b[49m\u001b[43m,\u001b[49m\u001b[43m \u001b[49m\u001b[43mheaders\u001b[49m\u001b[38;5;241;43m=\u001b[39;49m\u001b[43mheaders\u001b[49m\u001b[43m,\u001b[49m\u001b[43m \u001b[49m\u001b[43mtimeout\u001b[49m\u001b[38;5;241;43m=\u001b[39;49m\u001b[38;5;241;43m20\u001b[39;49m\u001b[43m)\u001b[49m\n\u001b[0;32m     13\u001b[0m         response\u001b[38;5;241m.\u001b[39mraise_for_status()\n\u001b[0;32m     14\u001b[0m         soup \u001b[38;5;241m=\u001b[39m BeautifulSoup(response\u001b[38;5;241m.\u001b[39mtext, \u001b[38;5;124m\"\u001b[39m\u001b[38;5;124mhtml.parser\u001b[39m\u001b[38;5;124m\"\u001b[39m)\n",
      "File \u001b[1;32mc:\\Users\\harme\\Desktop\\git-hub\\SmartHealth-LLM\\myenv\\lib\\site-packages\\requests\\api.py:73\u001b[0m, in \u001b[0;36mget\u001b[1;34m(url, params, **kwargs)\u001b[0m\n\u001b[0;32m     62\u001b[0m \u001b[38;5;28;01mdef\u001b[39;00m\u001b[38;5;250m \u001b[39m\u001b[38;5;21mget\u001b[39m(url, params\u001b[38;5;241m=\u001b[39m\u001b[38;5;28;01mNone\u001b[39;00m, \u001b[38;5;241m*\u001b[39m\u001b[38;5;241m*\u001b[39mkwargs):\n\u001b[0;32m     63\u001b[0m \u001b[38;5;250m    \u001b[39m\u001b[38;5;124mr\u001b[39m\u001b[38;5;124;03m\"\"\"Sends a GET request.\u001b[39;00m\n\u001b[0;32m     64\u001b[0m \n\u001b[0;32m     65\u001b[0m \u001b[38;5;124;03m    :param url: URL for the new :class:`Request` object.\u001b[39;00m\n\u001b[1;32m   (...)\u001b[0m\n\u001b[0;32m     70\u001b[0m \u001b[38;5;124;03m    :rtype: requests.Response\u001b[39;00m\n\u001b[0;32m     71\u001b[0m \u001b[38;5;124;03m    \"\"\"\u001b[39;00m\n\u001b[1;32m---> 73\u001b[0m     \u001b[38;5;28;01mreturn\u001b[39;00m request(\u001b[38;5;124m\"\u001b[39m\u001b[38;5;124mget\u001b[39m\u001b[38;5;124m\"\u001b[39m, url, params\u001b[38;5;241m=\u001b[39mparams, \u001b[38;5;241m*\u001b[39m\u001b[38;5;241m*\u001b[39mkwargs)\n",
      "File \u001b[1;32mc:\\Users\\harme\\Desktop\\git-hub\\SmartHealth-LLM\\myenv\\lib\\site-packages\\requests\\api.py:59\u001b[0m, in \u001b[0;36mrequest\u001b[1;34m(method, url, **kwargs)\u001b[0m\n\u001b[0;32m     55\u001b[0m \u001b[38;5;66;03m# By using the 'with' statement we are sure the session is closed, thus we\u001b[39;00m\n\u001b[0;32m     56\u001b[0m \u001b[38;5;66;03m# avoid leaving sockets open which can trigger a ResourceWarning in some\u001b[39;00m\n\u001b[0;32m     57\u001b[0m \u001b[38;5;66;03m# cases, and look like a memory leak in others.\u001b[39;00m\n\u001b[0;32m     58\u001b[0m \u001b[38;5;28;01mwith\u001b[39;00m sessions\u001b[38;5;241m.\u001b[39mSession() \u001b[38;5;28;01mas\u001b[39;00m session:\n\u001b[1;32m---> 59\u001b[0m     \u001b[38;5;28;01mreturn\u001b[39;00m session\u001b[38;5;241m.\u001b[39mrequest(method\u001b[38;5;241m=\u001b[39mmethod, url\u001b[38;5;241m=\u001b[39murl, \u001b[38;5;241m*\u001b[39m\u001b[38;5;241m*\u001b[39mkwargs)\n",
      "File \u001b[1;32mc:\\Users\\harme\\Desktop\\git-hub\\SmartHealth-LLM\\myenv\\lib\\site-packages\\requests\\sessions.py:589\u001b[0m, in \u001b[0;36mSession.request\u001b[1;34m(self, method, url, params, data, headers, cookies, files, auth, timeout, allow_redirects, proxies, hooks, stream, verify, cert, json)\u001b[0m\n\u001b[0;32m    584\u001b[0m send_kwargs \u001b[38;5;241m=\u001b[39m {\n\u001b[0;32m    585\u001b[0m     \u001b[38;5;124m\"\u001b[39m\u001b[38;5;124mtimeout\u001b[39m\u001b[38;5;124m\"\u001b[39m: timeout,\n\u001b[0;32m    586\u001b[0m     \u001b[38;5;124m\"\u001b[39m\u001b[38;5;124mallow_redirects\u001b[39m\u001b[38;5;124m\"\u001b[39m: allow_redirects,\n\u001b[0;32m    587\u001b[0m }\n\u001b[0;32m    588\u001b[0m send_kwargs\u001b[38;5;241m.\u001b[39mupdate(settings)\n\u001b[1;32m--> 589\u001b[0m resp \u001b[38;5;241m=\u001b[39m \u001b[38;5;28mself\u001b[39m\u001b[38;5;241m.\u001b[39msend(prep, \u001b[38;5;241m*\u001b[39m\u001b[38;5;241m*\u001b[39msend_kwargs)\n\u001b[0;32m    591\u001b[0m \u001b[38;5;28;01mreturn\u001b[39;00m resp\n",
      "File \u001b[1;32mc:\\Users\\harme\\Desktop\\git-hub\\SmartHealth-LLM\\myenv\\lib\\site-packages\\requests\\sessions.py:703\u001b[0m, in \u001b[0;36mSession.send\u001b[1;34m(self, request, **kwargs)\u001b[0m\n\u001b[0;32m    700\u001b[0m start \u001b[38;5;241m=\u001b[39m preferred_clock()\n\u001b[0;32m    702\u001b[0m \u001b[38;5;66;03m# Send the request\u001b[39;00m\n\u001b[1;32m--> 703\u001b[0m r \u001b[38;5;241m=\u001b[39m adapter\u001b[38;5;241m.\u001b[39msend(request, \u001b[38;5;241m*\u001b[39m\u001b[38;5;241m*\u001b[39mkwargs)\n\u001b[0;32m    705\u001b[0m \u001b[38;5;66;03m# Total elapsed time of the request (approximately)\u001b[39;00m\n\u001b[0;32m    706\u001b[0m elapsed \u001b[38;5;241m=\u001b[39m preferred_clock() \u001b[38;5;241m-\u001b[39m start\n",
      "File \u001b[1;32mc:\\Users\\harme\\Desktop\\git-hub\\SmartHealth-LLM\\myenv\\lib\\site-packages\\requests\\adapters.py:667\u001b[0m, in \u001b[0;36mHTTPAdapter.send\u001b[1;34m(self, request, stream, timeout, verify, cert, proxies)\u001b[0m\n\u001b[0;32m    664\u001b[0m     timeout \u001b[38;5;241m=\u001b[39m TimeoutSauce(connect\u001b[38;5;241m=\u001b[39mtimeout, read\u001b[38;5;241m=\u001b[39mtimeout)\n\u001b[0;32m    666\u001b[0m \u001b[38;5;28;01mtry\u001b[39;00m:\n\u001b[1;32m--> 667\u001b[0m     resp \u001b[38;5;241m=\u001b[39m \u001b[43mconn\u001b[49m\u001b[38;5;241;43m.\u001b[39;49m\u001b[43murlopen\u001b[49m\u001b[43m(\u001b[49m\n\u001b[0;32m    668\u001b[0m \u001b[43m        \u001b[49m\u001b[43mmethod\u001b[49m\u001b[38;5;241;43m=\u001b[39;49m\u001b[43mrequest\u001b[49m\u001b[38;5;241;43m.\u001b[39;49m\u001b[43mmethod\u001b[49m\u001b[43m,\u001b[49m\n\u001b[0;32m    669\u001b[0m \u001b[43m        \u001b[49m\u001b[43murl\u001b[49m\u001b[38;5;241;43m=\u001b[39;49m\u001b[43murl\u001b[49m\u001b[43m,\u001b[49m\n\u001b[0;32m    670\u001b[0m \u001b[43m        \u001b[49m\u001b[43mbody\u001b[49m\u001b[38;5;241;43m=\u001b[39;49m\u001b[43mrequest\u001b[49m\u001b[38;5;241;43m.\u001b[39;49m\u001b[43mbody\u001b[49m\u001b[43m,\u001b[49m\n\u001b[0;32m    671\u001b[0m \u001b[43m        \u001b[49m\u001b[43mheaders\u001b[49m\u001b[38;5;241;43m=\u001b[39;49m\u001b[43mrequest\u001b[49m\u001b[38;5;241;43m.\u001b[39;49m\u001b[43mheaders\u001b[49m\u001b[43m,\u001b[49m\n\u001b[0;32m    672\u001b[0m \u001b[43m        \u001b[49m\u001b[43mredirect\u001b[49m\u001b[38;5;241;43m=\u001b[39;49m\u001b[38;5;28;43;01mFalse\u001b[39;49;00m\u001b[43m,\u001b[49m\n\u001b[0;32m    673\u001b[0m \u001b[43m        \u001b[49m\u001b[43massert_same_host\u001b[49m\u001b[38;5;241;43m=\u001b[39;49m\u001b[38;5;28;43;01mFalse\u001b[39;49;00m\u001b[43m,\u001b[49m\n\u001b[0;32m    674\u001b[0m \u001b[43m        \u001b[49m\u001b[43mpreload_content\u001b[49m\u001b[38;5;241;43m=\u001b[39;49m\u001b[38;5;28;43;01mFalse\u001b[39;49;00m\u001b[43m,\u001b[49m\n\u001b[0;32m    675\u001b[0m \u001b[43m        \u001b[49m\u001b[43mdecode_content\u001b[49m\u001b[38;5;241;43m=\u001b[39;49m\u001b[38;5;28;43;01mFalse\u001b[39;49;00m\u001b[43m,\u001b[49m\n\u001b[0;32m    676\u001b[0m \u001b[43m        \u001b[49m\u001b[43mretries\u001b[49m\u001b[38;5;241;43m=\u001b[39;49m\u001b[38;5;28;43mself\u001b[39;49m\u001b[38;5;241;43m.\u001b[39;49m\u001b[43mmax_retries\u001b[49m\u001b[43m,\u001b[49m\n\u001b[0;32m    677\u001b[0m \u001b[43m        \u001b[49m\u001b[43mtimeout\u001b[49m\u001b[38;5;241;43m=\u001b[39;49m\u001b[43mtimeout\u001b[49m\u001b[43m,\u001b[49m\n\u001b[0;32m    678\u001b[0m \u001b[43m        \u001b[49m\u001b[43mchunked\u001b[49m\u001b[38;5;241;43m=\u001b[39;49m\u001b[43mchunked\u001b[49m\u001b[43m,\u001b[49m\n\u001b[0;32m    679\u001b[0m \u001b[43m    \u001b[49m\u001b[43m)\u001b[49m\n\u001b[0;32m    681\u001b[0m \u001b[38;5;28;01mexcept\u001b[39;00m (ProtocolError, \u001b[38;5;167;01mOSError\u001b[39;00m) \u001b[38;5;28;01mas\u001b[39;00m err:\n\u001b[0;32m    682\u001b[0m     \u001b[38;5;28;01mraise\u001b[39;00m \u001b[38;5;167;01mConnectionError\u001b[39;00m(err, request\u001b[38;5;241m=\u001b[39mrequest)\n",
      "File \u001b[1;32mc:\\Users\\harme\\Desktop\\git-hub\\SmartHealth-LLM\\myenv\\lib\\site-packages\\urllib3\\connectionpool.py:787\u001b[0m, in \u001b[0;36mHTTPConnectionPool.urlopen\u001b[1;34m(self, method, url, body, headers, retries, redirect, assert_same_host, timeout, pool_timeout, release_conn, chunked, body_pos, preload_content, decode_content, **response_kw)\u001b[0m\n\u001b[0;32m    784\u001b[0m response_conn \u001b[38;5;241m=\u001b[39m conn \u001b[38;5;28;01mif\u001b[39;00m \u001b[38;5;129;01mnot\u001b[39;00m release_conn \u001b[38;5;28;01melse\u001b[39;00m \u001b[38;5;28;01mNone\u001b[39;00m\n\u001b[0;32m    786\u001b[0m \u001b[38;5;66;03m# Make the request on the HTTPConnection object\u001b[39;00m\n\u001b[1;32m--> 787\u001b[0m response \u001b[38;5;241m=\u001b[39m \u001b[38;5;28mself\u001b[39m\u001b[38;5;241m.\u001b[39m_make_request(\n\u001b[0;32m    788\u001b[0m     conn,\n\u001b[0;32m    789\u001b[0m     method,\n\u001b[0;32m    790\u001b[0m     url,\n\u001b[0;32m    791\u001b[0m     timeout\u001b[38;5;241m=\u001b[39mtimeout_obj,\n\u001b[0;32m    792\u001b[0m     body\u001b[38;5;241m=\u001b[39mbody,\n\u001b[0;32m    793\u001b[0m     headers\u001b[38;5;241m=\u001b[39mheaders,\n\u001b[0;32m    794\u001b[0m     chunked\u001b[38;5;241m=\u001b[39mchunked,\n\u001b[0;32m    795\u001b[0m     retries\u001b[38;5;241m=\u001b[39mretries,\n\u001b[0;32m    796\u001b[0m     response_conn\u001b[38;5;241m=\u001b[39mresponse_conn,\n\u001b[0;32m    797\u001b[0m     preload_content\u001b[38;5;241m=\u001b[39mpreload_content,\n\u001b[0;32m    798\u001b[0m     decode_content\u001b[38;5;241m=\u001b[39mdecode_content,\n\u001b[0;32m    799\u001b[0m     \u001b[38;5;241m*\u001b[39m\u001b[38;5;241m*\u001b[39mresponse_kw,\n\u001b[0;32m    800\u001b[0m )\n\u001b[0;32m    802\u001b[0m \u001b[38;5;66;03m# Everything went great!\u001b[39;00m\n\u001b[0;32m    803\u001b[0m clean_exit \u001b[38;5;241m=\u001b[39m \u001b[38;5;28;01mTrue\u001b[39;00m\n",
      "File \u001b[1;32mc:\\Users\\harme\\Desktop\\git-hub\\SmartHealth-LLM\\myenv\\lib\\site-packages\\urllib3\\connectionpool.py:534\u001b[0m, in \u001b[0;36mHTTPConnectionPool._make_request\u001b[1;34m(self, conn, method, url, body, headers, retries, timeout, chunked, response_conn, preload_content, decode_content, enforce_content_length)\u001b[0m\n\u001b[0;32m    532\u001b[0m \u001b[38;5;66;03m# Receive the response from the server\u001b[39;00m\n\u001b[0;32m    533\u001b[0m \u001b[38;5;28;01mtry\u001b[39;00m:\n\u001b[1;32m--> 534\u001b[0m     response \u001b[38;5;241m=\u001b[39m \u001b[43mconn\u001b[49m\u001b[38;5;241;43m.\u001b[39;49m\u001b[43mgetresponse\u001b[49m\u001b[43m(\u001b[49m\u001b[43m)\u001b[49m\n\u001b[0;32m    535\u001b[0m \u001b[38;5;28;01mexcept\u001b[39;00m (BaseSSLError, \u001b[38;5;167;01mOSError\u001b[39;00m) \u001b[38;5;28;01mas\u001b[39;00m e:\n\u001b[0;32m    536\u001b[0m     \u001b[38;5;28mself\u001b[39m\u001b[38;5;241m.\u001b[39m_raise_timeout(err\u001b[38;5;241m=\u001b[39me, url\u001b[38;5;241m=\u001b[39murl, timeout_value\u001b[38;5;241m=\u001b[39mread_timeout)\n",
      "File \u001b[1;32mc:\\Users\\harme\\Desktop\\git-hub\\SmartHealth-LLM\\myenv\\lib\\site-packages\\urllib3\\connection.py:516\u001b[0m, in \u001b[0;36mHTTPConnection.getresponse\u001b[1;34m(self)\u001b[0m\n\u001b[0;32m    513\u001b[0m _shutdown \u001b[38;5;241m=\u001b[39m \u001b[38;5;28mgetattr\u001b[39m(\u001b[38;5;28mself\u001b[39m\u001b[38;5;241m.\u001b[39msock, \u001b[38;5;124m\"\u001b[39m\u001b[38;5;124mshutdown\u001b[39m\u001b[38;5;124m\"\u001b[39m, \u001b[38;5;28;01mNone\u001b[39;00m)\n\u001b[0;32m    515\u001b[0m \u001b[38;5;66;03m# Get the response from http.client.HTTPConnection\u001b[39;00m\n\u001b[1;32m--> 516\u001b[0m httplib_response \u001b[38;5;241m=\u001b[39m \u001b[38;5;28;43msuper\u001b[39;49m\u001b[43m(\u001b[49m\u001b[43m)\u001b[49m\u001b[38;5;241;43m.\u001b[39;49m\u001b[43mgetresponse\u001b[49m\u001b[43m(\u001b[49m\u001b[43m)\u001b[49m\n\u001b[0;32m    518\u001b[0m \u001b[38;5;28;01mtry\u001b[39;00m:\n\u001b[0;32m    519\u001b[0m     assert_header_parsing(httplib_response\u001b[38;5;241m.\u001b[39mmsg)\n",
      "File \u001b[1;32m~\\AppData\\Local\\Programs\\Python\\Python39\\lib\\http\\client.py:1377\u001b[0m, in \u001b[0;36mHTTPConnection.getresponse\u001b[1;34m(self)\u001b[0m\n\u001b[0;32m   1375\u001b[0m \u001b[38;5;28;01mtry\u001b[39;00m:\n\u001b[0;32m   1376\u001b[0m     \u001b[38;5;28;01mtry\u001b[39;00m:\n\u001b[1;32m-> 1377\u001b[0m         \u001b[43mresponse\u001b[49m\u001b[38;5;241;43m.\u001b[39;49m\u001b[43mbegin\u001b[49m\u001b[43m(\u001b[49m\u001b[43m)\u001b[49m\n\u001b[0;32m   1378\u001b[0m     \u001b[38;5;28;01mexcept\u001b[39;00m \u001b[38;5;167;01mConnectionError\u001b[39;00m:\n\u001b[0;32m   1379\u001b[0m         \u001b[38;5;28mself\u001b[39m\u001b[38;5;241m.\u001b[39mclose()\n",
      "File \u001b[1;32m~\\AppData\\Local\\Programs\\Python\\Python39\\lib\\http\\client.py:320\u001b[0m, in \u001b[0;36mHTTPResponse.begin\u001b[1;34m(self)\u001b[0m\n\u001b[0;32m    318\u001b[0m \u001b[38;5;66;03m# read until we get a non-100 response\u001b[39;00m\n\u001b[0;32m    319\u001b[0m \u001b[38;5;28;01mwhile\u001b[39;00m \u001b[38;5;28;01mTrue\u001b[39;00m:\n\u001b[1;32m--> 320\u001b[0m     version, status, reason \u001b[38;5;241m=\u001b[39m \u001b[38;5;28;43mself\u001b[39;49m\u001b[38;5;241;43m.\u001b[39;49m\u001b[43m_read_status\u001b[49m\u001b[43m(\u001b[49m\u001b[43m)\u001b[49m\n\u001b[0;32m    321\u001b[0m     \u001b[38;5;28;01mif\u001b[39;00m status \u001b[38;5;241m!=\u001b[39m CONTINUE:\n\u001b[0;32m    322\u001b[0m         \u001b[38;5;28;01mbreak\u001b[39;00m\n",
      "File \u001b[1;32m~\\AppData\\Local\\Programs\\Python\\Python39\\lib\\http\\client.py:281\u001b[0m, in \u001b[0;36mHTTPResponse._read_status\u001b[1;34m(self)\u001b[0m\n\u001b[0;32m    280\u001b[0m \u001b[38;5;28;01mdef\u001b[39;00m\u001b[38;5;250m \u001b[39m\u001b[38;5;21m_read_status\u001b[39m(\u001b[38;5;28mself\u001b[39m):\n\u001b[1;32m--> 281\u001b[0m     line \u001b[38;5;241m=\u001b[39m \u001b[38;5;28mstr\u001b[39m(\u001b[38;5;28;43mself\u001b[39;49m\u001b[38;5;241;43m.\u001b[39;49m\u001b[43mfp\u001b[49m\u001b[38;5;241;43m.\u001b[39;49m\u001b[43mreadline\u001b[49m\u001b[43m(\u001b[49m\u001b[43m_MAXLINE\u001b[49m\u001b[43m \u001b[49m\u001b[38;5;241;43m+\u001b[39;49m\u001b[43m \u001b[49m\u001b[38;5;241;43m1\u001b[39;49m\u001b[43m)\u001b[49m, \u001b[38;5;124m\"\u001b[39m\u001b[38;5;124miso-8859-1\u001b[39m\u001b[38;5;124m\"\u001b[39m)\n\u001b[0;32m    282\u001b[0m     \u001b[38;5;28;01mif\u001b[39;00m \u001b[38;5;28mlen\u001b[39m(line) \u001b[38;5;241m>\u001b[39m _MAXLINE:\n\u001b[0;32m    283\u001b[0m         \u001b[38;5;28;01mraise\u001b[39;00m LineTooLong(\u001b[38;5;124m\"\u001b[39m\u001b[38;5;124mstatus line\u001b[39m\u001b[38;5;124m\"\u001b[39m)\n",
      "File \u001b[1;32m~\\AppData\\Local\\Programs\\Python\\Python39\\lib\\socket.py:704\u001b[0m, in \u001b[0;36mSocketIO.readinto\u001b[1;34m(self, b)\u001b[0m\n\u001b[0;32m    702\u001b[0m \u001b[38;5;28;01mwhile\u001b[39;00m \u001b[38;5;28;01mTrue\u001b[39;00m:\n\u001b[0;32m    703\u001b[0m     \u001b[38;5;28;01mtry\u001b[39;00m:\n\u001b[1;32m--> 704\u001b[0m         \u001b[38;5;28;01mreturn\u001b[39;00m \u001b[38;5;28;43mself\u001b[39;49m\u001b[38;5;241;43m.\u001b[39;49m\u001b[43m_sock\u001b[49m\u001b[38;5;241;43m.\u001b[39;49m\u001b[43mrecv_into\u001b[49m\u001b[43m(\u001b[49m\u001b[43mb\u001b[49m\u001b[43m)\u001b[49m\n\u001b[0;32m    705\u001b[0m     \u001b[38;5;28;01mexcept\u001b[39;00m timeout:\n\u001b[0;32m    706\u001b[0m         \u001b[38;5;28mself\u001b[39m\u001b[38;5;241m.\u001b[39m_timeout_occurred \u001b[38;5;241m=\u001b[39m \u001b[38;5;28;01mTrue\u001b[39;00m\n",
      "File \u001b[1;32m~\\AppData\\Local\\Programs\\Python\\Python39\\lib\\ssl.py:1242\u001b[0m, in \u001b[0;36mSSLSocket.recv_into\u001b[1;34m(self, buffer, nbytes, flags)\u001b[0m\n\u001b[0;32m   1238\u001b[0m     \u001b[38;5;28;01mif\u001b[39;00m flags \u001b[38;5;241m!=\u001b[39m \u001b[38;5;241m0\u001b[39m:\n\u001b[0;32m   1239\u001b[0m         \u001b[38;5;28;01mraise\u001b[39;00m \u001b[38;5;167;01mValueError\u001b[39;00m(\n\u001b[0;32m   1240\u001b[0m           \u001b[38;5;124m\"\u001b[39m\u001b[38;5;124mnon-zero flags not allowed in calls to recv_into() on \u001b[39m\u001b[38;5;132;01m%s\u001b[39;00m\u001b[38;5;124m\"\u001b[39m \u001b[38;5;241m%\u001b[39m\n\u001b[0;32m   1241\u001b[0m           \u001b[38;5;28mself\u001b[39m\u001b[38;5;241m.\u001b[39m\u001b[38;5;18m__class__\u001b[39m)\n\u001b[1;32m-> 1242\u001b[0m     \u001b[38;5;28;01mreturn\u001b[39;00m \u001b[38;5;28;43mself\u001b[39;49m\u001b[38;5;241;43m.\u001b[39;49m\u001b[43mread\u001b[49m\u001b[43m(\u001b[49m\u001b[43mnbytes\u001b[49m\u001b[43m,\u001b[49m\u001b[43m \u001b[49m\u001b[43mbuffer\u001b[49m\u001b[43m)\u001b[49m\n\u001b[0;32m   1243\u001b[0m \u001b[38;5;28;01melse\u001b[39;00m:\n\u001b[0;32m   1244\u001b[0m     \u001b[38;5;28;01mreturn\u001b[39;00m \u001b[38;5;28msuper\u001b[39m()\u001b[38;5;241m.\u001b[39mrecv_into(buffer, nbytes, flags)\n",
      "File \u001b[1;32m~\\AppData\\Local\\Programs\\Python\\Python39\\lib\\ssl.py:1100\u001b[0m, in \u001b[0;36mSSLSocket.read\u001b[1;34m(self, len, buffer)\u001b[0m\n\u001b[0;32m   1098\u001b[0m \u001b[38;5;28;01mtry\u001b[39;00m:\n\u001b[0;32m   1099\u001b[0m     \u001b[38;5;28;01mif\u001b[39;00m buffer \u001b[38;5;129;01mis\u001b[39;00m \u001b[38;5;129;01mnot\u001b[39;00m \u001b[38;5;28;01mNone\u001b[39;00m:\n\u001b[1;32m-> 1100\u001b[0m         \u001b[38;5;28;01mreturn\u001b[39;00m \u001b[38;5;28;43mself\u001b[39;49m\u001b[38;5;241;43m.\u001b[39;49m\u001b[43m_sslobj\u001b[49m\u001b[38;5;241;43m.\u001b[39;49m\u001b[43mread\u001b[49m\u001b[43m(\u001b[49m\u001b[38;5;28;43mlen\u001b[39;49m\u001b[43m,\u001b[49m\u001b[43m \u001b[49m\u001b[43mbuffer\u001b[49m\u001b[43m)\u001b[49m\n\u001b[0;32m   1101\u001b[0m     \u001b[38;5;28;01melse\u001b[39;00m:\n\u001b[0;32m   1102\u001b[0m         \u001b[38;5;28;01mreturn\u001b[39;00m \u001b[38;5;28mself\u001b[39m\u001b[38;5;241m.\u001b[39m_sslobj\u001b[38;5;241m.\u001b[39mread(\u001b[38;5;28mlen\u001b[39m)\n",
      "\u001b[1;31mKeyboardInterrupt\u001b[0m: "
     ]
    }
   ],
   "source": [
    "import string\n",
    "\n",
    "for letter in string.ascii_uppercase:\n",
    "    print(f\"processing {letter}....\")\n",
    "    base_url = f\"https://www.mayoclinic.org/diseases-conditions/index?letter={letter}\"\n",
    "    \n",
    "    web_scraping(base_url) \n",
    "    clear_output(wait=True)"
   ]
  },
  {
   "cell_type": "code",
   "execution_count": 20,
   "metadata": {},
   "outputs": [
    {
     "name": "stdout",
     "output_type": "stream",
     "text": [
      "overview\n",
      "Eggs are one of the most common allergy-causing foods for children.\n",
      "\n",
      "Egg allergy symptoms usually occur a few minutes to a few hours after eating eggs or foods containing eggs. Signs and symptoms range from mild to severe and can include skin rashes, hives, nasal congestion, and vomiting or other digestive problems. Rarely, egg allergy can cause anaphylaxis — a life-threatening reaction.\n",
      "\n",
      "Egg allergy can occur as early as infancy. Most children, but not all, outgrow their egg allergy before adolescence.\n",
      "symptoms\n",
      "Egg allergy reactions vary from person to person and usually occur soon after exposure to egg. Egg allergy symptoms can include:\n",
      "when-to-see-a-doctor\n",
      "See a doctor if you or your child has signs or symptoms of a food allergy shortly after eating eggs or an egg-containing product. If possible, see the doctor when the allergic reaction is occurring. This may help in making a diagnosis.\n",
      "\n",
      "If you or your child has signs and symptoms of anaphylaxis, seek immediate emergency treatment and use an autoinjector if one has been prescribed.\n",
      "causes\n",
      "An immune system overreaction causes food allergies. For egg allergy, the immune system mistakenly identifies certain egg proteins as harmful. When you or your child comes in contact with egg proteins, immune system cells (antibodies) recognize them and signal the immune system to release histamine and other chemicals that cause allergic signs and symptoms.\n",
      "\n",
      "Both egg yolks and egg whites contain proteins that can cause allergies, but allergy to egg whites is most common. It's possible for breast-fed infants to have an allergic reaction to egg proteins in breast milk if the mother consumes eggs.\n",
      "complications\n",
      "The most significant complication of egg allergy is having a severe allergic reaction requiring an epinephrine injection and emergency treatment.\n",
      "\n",
      "The same immune system reaction that causes egg allergy can also cause other conditions. If you or your child has egg allergy, you or your child may be at increased risk of:\n",
      "prevention\n",
      "Here are some things you can do to avoid an allergic reaction, and to keep it from getting worse if one does occur.\n",
      "risk-factors\n",
      "Certain factors can increase the risk of developing egg allergy:\n"
     ]
    }
   ],
   "source": [
    "from bs4 import BeautifulSoup\n",
    "\n",
    "\n",
    "base_url=\"https://www.mayoclinic.org/diseases-conditions/egg-allergy/symptoms-causes/syc-20372115\"\n",
    "headers = {\n",
    "        \"User-Agent\": \"Mozilla/5.0 (Windows NT 10.0; Win64; x64) AppleWebKit/537.36\",\n",
    "        \"Accept\": \"text/html,application/xhtml+xml,application/xml;q=0.9,image/webp,*/*;q=0.8\"\n",
    "    }\n",
    "response = requests.get(base_url, headers=headers, timeout=20)\n",
    "response.raise_for_status()\n",
    "soup = BeautifulSoup(response.text, 'html.parser')\n",
    "extraction_list = [\"overview\",\"symptoms\",\"when-to-see-a-doctor\",\"causes\",\"complications\",\"prevention\",\"risk-factors\"]\n",
    "\n",
    "for i in extraction_list:\n",
    "# Find the overview section by its aria-labelledby attribute\n",
    "   overview_section = soup.find('section', {'aria-labelledby': i})\n",
    "\n",
    "# Extract all paragraph text from the overview content\n",
    "   overview_content = overview_section.find('div', class_='cmp-text__rich-content')\n",
    "   overview_paragraphs = [p.get_text() for p in overview_content.find_all('p')]\n",
    "\n",
    "# Join paragraphs into a single string\n",
    "   overview_text = '\\n\\n'.join(overview_paragraphs)\n",
    "   print(i)\n",
    "   print(overview_text)"
   ]
  },
  {
   "cell_type": "code",
   "execution_count": 37,
   "metadata": {},
   "outputs": [
    {
     "name": "stdout",
     "output_type": "stream",
     "text": [
      "Overview section not found\n"
     ]
    }
   ],
   "source": [
    "from bs4 import BeautifulSoup\n",
    "\n",
    "def extract_overview(html_content):\n",
    "    headers = {\n",
    "        \"User-Agent\": \"Mozilla/5.0 (Windows NT 10.0; Win64; x64) AppleWebKit/537.36\",\n",
    "        \"Accept\": \"text/html,application/xhtml+xml,application/xml;q=0.9,image/webp,*/*;q=0.8\"\n",
    "    }\n",
    "    response = requests.get(base_url, headers=headers, timeout=20)\n",
    "    response.raise_for_status()\n",
    "    soup = BeautifulSoup(response.text, 'html.parser')\n",
    "    \n",
    "    # Find the Overview section - looking for h2 with text \"Overview\"\n",
    "    overview_header = soup.find(lambda tag: tag.name == 'h2' and 'when-to-see-a-doctor\"' in tag.text)\n",
    "    \n",
    "    if not overview_header:\n",
    "        return \"Overview section not found\"\n",
    "    \n",
    "    # Initialize overview paragraphs\n",
    "    overview_paragraphs = []\n",
    "    \n",
    "    # Get all siblings after the h2 until the next h2\n",
    "    for sibling in overview_header.find_next_siblings():\n",
    "        if sibling.name == 'h2':\n",
    "            break  # Stop when we reach the next section\n",
    "        if sibling.name == 'p':\n",
    "            overview_paragraphs.append(sibling.get_text(strip=True))\n",
    "    \n",
    "    if not overview_paragraphs:\n",
    "        return \"No overview content found\"\n",
    "    \n",
    "    return '\\n\\n'.join(overview_paragraphs)\n",
    "\n",
    "# Example usage:\n",
    "base_url=\"https://www.mayoclinic.org/diseases-conditions/hyperhidrosis/symptoms-causes/syc-20367152\"\n",
    "\n",
    "html_content = \"\"\" (your HTML content here) \"\"\"\n",
    "overview_text = extract_overview(base_url)\n",
    "print(overview_text)"
   ]
  },
  {
   "cell_type": "code",
   "execution_count": 43,
   "metadata": {},
   "outputs": [
    {
     "name": "stdout",
     "output_type": "stream",
     "text": [
      "=== OVERVIEW ===\n",
      "Hyperhidrosis (hi-pur-hi-DROE-sis) is excessive sweating that's not always related to heat or exercise. You may sweat so much that it soaks through your clothes or drips off your hands. Heavy sweating can disrupt your day and cause social anxiety and embarrassment.\n",
      "Hyperhidrosis treatment usually helps. It often begins with antiperspirants. If these don't help, you may need to try different medications and therapies. In severe cases, your health care provider may suggest surgery to remove the sweat glands or to disconnect the nerves related to producing too much sweat.\n",
      "Sometimes an underlying condition may be found and treated.\n",
      "\n",
      "==================================================\n",
      "\n",
      "=== SYMPTOMS ===\n",
      "The main symptom of hyperhidrosis is heavy sweating. This goes beyond the sweating from being in a hot environment, exercising, or feeling anxious or stressed. The type of hyperhidrosis that usually affects the hands, feet, underarms or face causes at least one episode a week when you're awake. And the sweating usually happens on both sides of the body.\n",
      "\n",
      "==================================================\n",
      "\n",
      "=== WHEN TO SEE A DOCTOR ===\n",
      "Sometimes excessive sweating is a sign of a serious condition.\n",
      "Seek immediate medical attentionif you have heavy sweating with dizziness, pain in the chest, throat, jaw, arms, shoulders or throat, or cold skin and a rapid pulse.\n",
      "See your health care provider if:\n",
      "Sweating disrupts your daily routine\n",
      "Sweating causes emotional distress or social withdrawal\n",
      "You suddenly begin to sweat more than usual\n",
      "You experience night sweats for no apparent reason\n",
      "\n",
      "==================================================\n",
      "\n",
      "=== CAUSES ===\n",
      "Sweating is the body's mechanism to cool itself. The nervous system automatically triggers sweat glands when your body temperature rises. Sweating also occurs, especially on your palms, when you're nervous.\n",
      "Primary hyperhidrosis is caused by faulty nerve signals that trigger eccrine sweat glands to become overactive. It usually affects the palms, soles, underarms and sometimes the face.\n",
      "There is no medical cause for this type of hyperhidrosis. It can run in families.\n",
      "Secondary hyperhidrosis is caused by an underlying medical condition or by taking certain medications, such as pain relievers, antidepressants, and some diabetes and hormonal medications. This type of hyperhidrosis may cause sweating all over the body. Conditions that might cause it include:\n",
      "Diabetes\n",
      "Menopause hot flashes\n",
      "Thyroid problems\n",
      "Some types of cancer\n",
      "Nervous system disorders\n",
      "Infections\n",
      "\n",
      "==================================================\n",
      "\n",
      "=== RISK FACTORS ===\n",
      "Risk factors for hyperhidrosis include:\n",
      "Having a blood relative, such as a parent, sibling or grandparent, who sweats heavily\n",
      "Taking medicines or supplements that cause sweating\n",
      "Having a medical condition that causes sweating\n",
      "\n",
      "==================================================\n",
      "\n",
      "=== COMPLICATIONS ===\n",
      "Complications of hyperhidrosis include:\n",
      "Infections.People who sweat a lot are more prone to skin infections.\n",
      "Social and emotional effects.Having clammy or dripping hands and sweat-soaked clothes can be embarrassing. Your condition may affect your pursuit of work and educational goals.\n",
      "\n",
      "==================================================\n",
      "\n"
     ]
    }
   ],
   "source": [
    "from bs4 import BeautifulSoup\n",
    "import requests\n",
    "\n",
    "def extract_mayo_clinic_sections(url):\n",
    "    headers = {\n",
    "        \"User-Agent\": \"Mozilla/5.0 (Windows NT 10.0; Win64; x64) AppleWebKit/537.36\",\n",
    "        \"Accept\": \"text/html,application/xhtml+xml,application/xml;q=0.9,image/webp,*/*;q=0.8\"\n",
    "    }\n",
    "    \n",
    "    try:\n",
    "        response = requests.get(url, headers=headers, timeout=20)\n",
    "        response.raise_for_status()\n",
    "        soup = BeautifulSoup(response.text, 'html.parser')\n",
    "        \n",
    "        main_content = soup.find('div', class_='content')\n",
    "        if not main_content:\n",
    "            return {\"error\": \"Main content not found\"}\n",
    "        \n",
    "        sections = {\n",
    "            \"Overview\": None,\n",
    "            \"Symptoms\": None,\n",
    "            \"When to see a doctor\": None,\n",
    "            \"Causes\": None,\n",
    "            \"Risk factors\": None,\n",
    "            \"Complications\": None,\n",
    "            \"Prevention\": None\n",
    "        }\n",
    "        \n",
    "        # Find all headings (h2 and h3)\n",
    "        headings = main_content.find_all(['h2', 'h3'])\n",
    "        \n",
    "        for heading in headings:\n",
    "            heading_text = heading.get_text(strip=True)\n",
    "            \n",
    "            # Handle the typo \"dotor\" in the HTML\n",
    "            if \"When to see a dotor\" in heading_text:\n",
    "                heading_text = \"When to see a doctor\"\n",
    "                \n",
    "            if heading_text in sections:\n",
    "                content = []\n",
    "                next_node = heading.next_sibling\n",
    "                \n",
    "                # Collect content until next heading\n",
    "                while next_node and next_node.name not in ['h2', 'h3']:\n",
    "                    if next_node.name == 'p':\n",
    "                        content.append(next_node.get_text(strip=True))\n",
    "                    elif next_node.name in ['ul', 'ol']:\n",
    "                        items = [li.get_text(strip=True) for li in next_node.find_all('li')]\n",
    "                        content.extend(items)\n",
    "                    next_node = next_node.next_sibling\n",
    "                \n",
    "                sections[heading_text] = '\\n'.join(content) if content else \"No content found\"\n",
    "        \n",
    "        return {k: v for k, v in sections.items() if v is not None}\n",
    "    \n",
    "    except requests.exceptions.RequestException as e:\n",
    "        return {\"error\": f\"Failed to fetch page: {str(e)}\"}\n",
    "\n",
    "# Example usage:\n",
    "url = \"https://www.mayoclinic.org/diseases-conditions/hyperhidrosis/symptoms-causes/syc-20367152\"\n",
    "sections = extract_mayo_clinic_sections(url)\n",
    "\n",
    "for section_name, content in sections.items():\n",
    "    print(f\"=== {section_name.upper()} ===\")\n",
    "    print(content)\n",
    "    print(\"\\n\" + \"=\"*50 + \"\\n\")"
   ]
  },
  {
   "cell_type": "code",
   "execution_count": null,
   "metadata": {},
   "outputs": [
    {
     "name": "stderr",
     "output_type": "stream",
     "text": [
      "  0%|          | 0/132 [00:00<?, ?it/s]"
     ]
    },
    {
     "name": "stdout",
     "output_type": "stream",
     "text": [
      "Processing: Atrial fibrillation\n"
     ]
    },
    {
     "name": "stderr",
     "output_type": "stream",
     "text": [
      "  1%|          | 1/132 [00:00<00:48,  2.70it/s]"
     ]
    },
    {
     "name": "stdout",
     "output_type": "stream",
     "text": [
      "Processing: Hyperhidrosis\n"
     ]
    },
    {
     "name": "stderr",
     "output_type": "stream",
     "text": [
      "  2%|▏         | 2/132 [00:00<00:49,  2.62it/s]"
     ]
    },
    {
     "name": "stdout",
     "output_type": "stream",
     "text": [
      "Processing: Bartholin's cyst\n"
     ]
    },
    {
     "name": "stderr",
     "output_type": "stream",
     "text": [
      "  2%|▏         | 3/132 [00:01<00:47,  2.70it/s]"
     ]
    },
    {
     "name": "stdout",
     "output_type": "stream",
     "text": [
      "Processing: Infant reflux\n"
     ]
    },
    {
     "name": "stderr",
     "output_type": "stream",
     "text": [
      "  3%|▎         | 4/132 [00:01<00:44,  2.89it/s]"
     ]
    },
    {
     "name": "stdout",
     "output_type": "stream",
     "text": [
      "Processing: Hidradenitis suppurativa\n"
     ]
    },
    {
     "name": "stderr",
     "output_type": "stream",
     "text": [
      "  4%|▍         | 5/132 [00:01<00:42,  3.01it/s]"
     ]
    },
    {
     "name": "stdout",
     "output_type": "stream",
     "text": [
      "Processing: HIV/AIDS\n"
     ]
    },
    {
     "name": "stderr",
     "output_type": "stream",
     "text": [
      "  5%|▍         | 6/132 [00:02<00:43,  2.91it/s]"
     ]
    },
    {
     "name": "stdout",
     "output_type": "stream",
     "text": [
      "Processing: Acute myelogenous leukemia\n"
     ]
    },
    {
     "name": "stderr",
     "output_type": "stream",
     "text": [
      "  5%|▌         | 7/132 [00:02<00:41,  2.99it/s]"
     ]
    },
    {
     "name": "stdout",
     "output_type": "stream",
     "text": [
      "Processing: Guillain-Barre syndrome\n"
     ]
    },
    {
     "name": "stderr",
     "output_type": "stream",
     "text": [
      "  6%|▌         | 8/132 [00:02<00:39,  3.13it/s]"
     ]
    },
    {
     "name": "stdout",
     "output_type": "stream",
     "text": [
      "Processing: Acute kidney injury\n"
     ]
    },
    {
     "name": "stderr",
     "output_type": "stream",
     "text": [
      "  7%|▋         | 9/132 [00:02<00:37,  3.29it/s]"
     ]
    },
    {
     "name": "stdout",
     "output_type": "stream",
     "text": [
      "Processing: Acute lymphocytic leukemia\n"
     ]
    },
    {
     "name": "stderr",
     "output_type": "stream",
     "text": [
      "  8%|▊         | 10/132 [00:03<00:37,  3.24it/s]"
     ]
    },
    {
     "name": "stdout",
     "output_type": "stream",
     "text": [
      "Processing: Acute lymphocytic leukemia\n"
     ]
    },
    {
     "name": "stderr",
     "output_type": "stream",
     "text": [
      "  8%|▊         | 11/132 [00:03<00:40,  2.98it/s]"
     ]
    },
    {
     "name": "stdout",
     "output_type": "stream",
     "text": [
      "Processing: Acute myelogenous leukemia\n"
     ]
    },
    {
     "name": "stderr",
     "output_type": "stream",
     "text": [
      "  9%|▉         | 12/132 [00:03<00:38,  3.10it/s]"
     ]
    },
    {
     "name": "stdout",
     "output_type": "stream",
     "text": [
      "Processing: Acute myelogenous leukemia\n"
     ]
    },
    {
     "name": "stderr",
     "output_type": "stream",
     "text": [
      " 10%|▉         | 13/132 [00:04<00:37,  3.14it/s]"
     ]
    },
    {
     "name": "stdout",
     "output_type": "stream",
     "text": [
      "Processing: Acute myelogenous leukemia\n"
     ]
    },
    {
     "name": "stderr",
     "output_type": "stream",
     "text": [
      " 11%|█         | 14/132 [00:04<00:36,  3.24it/s]"
     ]
    },
    {
     "name": "stdout",
     "output_type": "stream",
     "text": [
      "Processing: Radiation sickness\n"
     ]
    },
    {
     "name": "stderr",
     "output_type": "stream",
     "text": [
      " 11%|█▏        | 15/132 [00:04<00:35,  3.31it/s]"
     ]
    },
    {
     "name": "stdout",
     "output_type": "stream",
     "text": [
      "Processing: Radiation sickness\n"
     ]
    },
    {
     "name": "stderr",
     "output_type": "stream",
     "text": [
      " 12%|█▏        | 16/132 [00:05<00:38,  2.98it/s]"
     ]
    },
    {
     "name": "stdout",
     "output_type": "stream",
     "text": [
      "Processing: Acute kidney injury\n"
     ]
    },
    {
     "name": "stderr",
     "output_type": "stream",
     "text": [
      " 13%|█▎        | 17/132 [00:05<00:36,  3.13it/s]"
     ]
    },
    {
     "name": "stdout",
     "output_type": "stream",
     "text": [
      "Processing: ARDS\n"
     ]
    },
    {
     "name": "stderr",
     "output_type": "stream",
     "text": [
      " 14%|█▎        | 18/132 [00:05<00:35,  3.19it/s]"
     ]
    },
    {
     "name": "stdout",
     "output_type": "stream",
     "text": [
      "Processing: Acute sinusitis\n"
     ]
    },
    {
     "name": "stderr",
     "output_type": "stream",
     "text": [
      " 14%|█▍        | 19/132 [00:06<00:36,  3.11it/s]"
     ]
    },
    {
     "name": "stdout",
     "output_type": "stream",
     "text": [
      "Processing: Autoimmune epilepsy\n"
     ]
    },
    {
     "name": "stderr",
     "output_type": "stream",
     "text": [
      " 15%|█▌        | 20/132 [00:06<00:38,  2.93it/s]"
     ]
    },
    {
     "name": "stdout",
     "output_type": "stream",
     "text": [
      "Processing: Alcohol use disorder\n"
     ]
    },
    {
     "name": "stderr",
     "output_type": "stream",
     "text": [
      " 16%|█▌        | 21/132 [00:06<00:37,  2.94it/s]"
     ]
    },
    {
     "name": "stdout",
     "output_type": "stream",
     "text": [
      "Processing: Compulsive gambling\n"
     ]
    },
    {
     "name": "stderr",
     "output_type": "stream",
     "text": [
      " 17%|█▋        | 22/132 [00:07<00:37,  2.93it/s]"
     ]
    },
    {
     "name": "stdout",
     "output_type": "stream",
     "text": [
      "Processing: Nicotine dependence\n"
     ]
    },
    {
     "name": "stderr",
     "output_type": "stream",
     "text": [
      " 17%|█▋        | 23/132 [00:07<00:36,  3.01it/s]"
     ]
    },
    {
     "name": "stdout",
     "output_type": "stream",
     "text": [
      "Processing: Mesenteric lymphadenitis\n"
     ]
    },
    {
     "name": "stderr",
     "output_type": "stream",
     "text": [
      " 18%|█▊        | 24/132 [00:07<00:36,  2.98it/s]"
     ]
    },
    {
     "name": "stdout",
     "output_type": "stream",
     "text": [
      "Processing: Attention-deficit/hyperactivity disorder (ADHD) in children\n"
     ]
    },
    {
     "name": "stderr",
     "output_type": "stream",
     "text": [
      " 19%|█▉        | 25/132 [00:08<00:37,  2.86it/s]"
     ]
    },
    {
     "name": "stdout",
     "output_type": "stream",
     "text": [
      "Processing: Adult attention-deficit/hyperactivity disorder (ADHD)\n"
     ]
    },
    {
     "name": "stderr",
     "output_type": "stream",
     "text": [
      " 20%|█▉        | 26/132 [00:08<00:36,  2.91it/s]"
     ]
    },
    {
     "name": "stdout",
     "output_type": "stream",
     "text": [
      "Processing: Frozen shoulder\n"
     ]
    },
    {
     "name": "stderr",
     "output_type": "stream",
     "text": [
      " 20%|██        | 27/132 [00:08<00:34,  3.03it/s]"
     ]
    },
    {
     "name": "stdout",
     "output_type": "stream",
     "text": [
      "Processing: Childhood schizophrenia\n"
     ]
    },
    {
     "name": "stderr",
     "output_type": "stream",
     "text": [
      " 21%|██        | 28/132 [00:09<00:32,  3.19it/s]"
     ]
    },
    {
     "name": "stdout",
     "output_type": "stream",
     "text": [
      "Processing: Benign adrenal tumors\n"
     ]
    },
    {
     "name": "stderr",
     "output_type": "stream",
     "text": [
      " 22%|██▏       | 29/132 [00:09<00:32,  3.21it/s]"
     ]
    },
    {
     "name": "stdout",
     "output_type": "stream",
     "text": [
      "Processing: Autoimmune encephalitis\n"
     ]
    },
    {
     "name": "stderr",
     "output_type": "stream",
     "text": [
      " 23%|██▎       | 30/132 [00:09<00:33,  3.01it/s]"
     ]
    },
    {
     "name": "stdout",
     "output_type": "stream",
     "text": [
      "Processing: Acute flaccid myelitis (AFM)\n"
     ]
    },
    {
     "name": "stderr",
     "output_type": "stream",
     "text": [
      " 23%|██▎       | 31/132 [00:10<00:33,  2.98it/s]"
     ]
    },
    {
     "name": "stdout",
     "output_type": "stream",
     "text": [
      "Processing: Dry macular degeneration\n"
     ]
    },
    {
     "name": "stderr",
     "output_type": "stream",
     "text": [
      " 24%|██▍       | 32/132 [00:10<00:35,  2.84it/s]"
     ]
    },
    {
     "name": "stdout",
     "output_type": "stream",
     "text": [
      "Processing: Macular degeneration, wet\n"
     ]
    },
    {
     "name": "stderr",
     "output_type": "stream",
     "text": [
      " 25%|██▌       | 33/132 [00:10<00:33,  2.91it/s]"
     ]
    },
    {
     "name": "stdout",
     "output_type": "stream",
     "text": [
      "Processing: Myelofibrosis\n"
     ]
    },
    {
     "name": "stderr",
     "output_type": "stream",
     "text": [
      " 26%|██▌       | 34/132 [00:11<00:34,  2.83it/s]"
     ]
    },
    {
     "name": "stdout",
     "output_type": "stream",
     "text": [
      "Processing: Guillain-Barre syndrome\n"
     ]
    },
    {
     "name": "stderr",
     "output_type": "stream",
     "text": [
      " 27%|██▋       | 35/132 [00:11<00:32,  2.98it/s]"
     ]
    },
    {
     "name": "stdout",
     "output_type": "stream",
     "text": [
      "Processing: HIV/AIDS\n"
     ]
    },
    {
     "name": "stderr",
     "output_type": "stream",
     "text": [
      " 27%|██▋       | 36/132 [00:11<00:31,  3.02it/s]"
     ]
    },
    {
     "name": "stdout",
     "output_type": "stream",
     "text": [
      "Processing: Alcohol use disorder\n"
     ]
    },
    {
     "name": "stderr",
     "output_type": "stream",
     "text": [
      " 28%|██▊       | 37/132 [00:12<00:31,  3.00it/s]"
     ]
    },
    {
     "name": "stdout",
     "output_type": "stream",
     "text": [
      "Processing: Alcoholic hepatitis\n"
     ]
    },
    {
     "name": "stderr",
     "output_type": "stream",
     "text": [
      " 29%|██▉       | 38/132 [00:12<00:30,  3.08it/s]"
     ]
    },
    {
     "name": "stdout",
     "output_type": "stream",
     "text": [
      "Processing: Churg-Strauss syndrome\n"
     ]
    },
    {
     "name": "stderr",
     "output_type": "stream",
     "text": [
      " 30%|██▉       | 39/132 [00:12<00:32,  2.89it/s]"
     ]
    },
    {
     "name": "stdout",
     "output_type": "stream",
     "text": [
      "Processing: Churg-Strauss syndrome\n"
     ]
    },
    {
     "name": "stderr",
     "output_type": "stream",
     "text": [
      " 30%|███       | 40/132 [00:13<00:32,  2.85it/s]"
     ]
    },
    {
     "name": "stdout",
     "output_type": "stream",
     "text": [
      "Processing: Hay fever\n"
     ]
    },
    {
     "name": "stderr",
     "output_type": "stream",
     "text": [
      " 31%|███       | 41/132 [00:13<00:30,  2.96it/s]"
     ]
    },
    {
     "name": "stdout",
     "output_type": "stream",
     "text": [
      "Processing: Dust mite allergy\n"
     ]
    },
    {
     "name": "stderr",
     "output_type": "stream",
     "text": [
      " 32%|███▏      | 42/132 [00:14<00:30,  2.92it/s]"
     ]
    },
    {
     "name": "stdout",
     "output_type": "stream",
     "text": [
      "Processing: Egg allergy\n"
     ]
    },
    {
     "name": "stderr",
     "output_type": "stream",
     "text": [
      " 33%|███▎      | 43/132 [00:14<00:32,  2.78it/s]"
     ]
    },
    {
     "name": "stdout",
     "output_type": "stream",
     "text": [
      "Processing: Food allergy\n"
     ]
    },
    {
     "name": "stderr",
     "output_type": "stream",
     "text": [
      " 33%|███▎      | 44/132 [00:14<00:30,  2.92it/s]"
     ]
    },
    {
     "name": "stdout",
     "output_type": "stream",
     "text": [
      "Processing: Latex allergy\n"
     ]
    },
    {
     "name": "stderr",
     "output_type": "stream",
     "text": [
      " 34%|███▍      | 45/132 [00:14<00:27,  3.14it/s]"
     ]
    },
    {
     "name": "stdout",
     "output_type": "stream",
     "text": [
      "Processing: Milk allergy\n"
     ]
    },
    {
     "name": "stderr",
     "output_type": "stream",
     "text": [
      " 35%|███▍      | 46/132 [00:15<00:28,  3.07it/s]"
     ]
    },
    {
     "name": "stdout",
     "output_type": "stream",
     "text": [
      "Processing: Mold allergy\n"
     ]
    },
    {
     "name": "stderr",
     "output_type": "stream",
     "text": [
      " 36%|███▌      | 47/132 [00:15<00:30,  2.78it/s]"
     ]
    },
    {
     "name": "stdout",
     "output_type": "stream",
     "text": [
      "Processing: Nickel allergy\n"
     ]
    },
    {
     "name": "stderr",
     "output_type": "stream",
     "text": [
      " 36%|███▋      | 48/132 [00:16<00:31,  2.65it/s]"
     ]
    },
    {
     "name": "stdout",
     "output_type": "stream",
     "text": [
      "Processing: Peanut allergy\n"
     ]
    },
    {
     "name": "stderr",
     "output_type": "stream",
     "text": [
      " 37%|███▋      | 49/132 [00:16<00:29,  2.84it/s]"
     ]
    },
    {
     "name": "stdout",
     "output_type": "stream",
     "text": [
      "Processing: Penicillin allergy\n"
     ]
    },
    {
     "name": "stderr",
     "output_type": "stream",
     "text": [
      " 38%|███▊      | 50/132 [00:16<00:29,  2.83it/s]"
     ]
    },
    {
     "name": "stdout",
     "output_type": "stream",
     "text": [
      "Processing: Pet allergy\n"
     ]
    },
    {
     "name": "stderr",
     "output_type": "stream",
     "text": [
      " 39%|███▊      | 51/132 [00:17<00:30,  2.69it/s]"
     ]
    },
    {
     "name": "stdout",
     "output_type": "stream",
     "text": [
      "Processing: Shellfish allergy\n"
     ]
    },
    {
     "name": "stderr",
     "output_type": "stream",
     "text": [
      " 39%|███▉      | 52/132 [00:17<00:28,  2.77it/s]"
     ]
    },
    {
     "name": "stdout",
     "output_type": "stream",
     "text": [
      "Processing: Wheat allergy\n"
     ]
    },
    {
     "name": "stderr",
     "output_type": "stream",
     "text": [
      " 40%|████      | 53/132 [00:17<00:27,  2.82it/s]"
     ]
    },
    {
     "name": "stdout",
     "output_type": "stream",
     "text": [
      "Processing: Hair loss\n"
     ]
    },
    {
     "name": "stderr",
     "output_type": "stream",
     "text": [
      " 41%|████      | 54/132 [00:18<00:27,  2.87it/s]"
     ]
    },
    {
     "name": "stdout",
     "output_type": "stream",
     "text": [
      "Processing: Amyotrophic lateral sclerosis (ALS)\n"
     ]
    },
    {
     "name": "stderr",
     "output_type": "stream",
     "text": [
      " 42%|████▏     | 55/132 [00:18<00:25,  2.99it/s]"
     ]
    },
    {
     "name": "stdout",
     "output_type": "stream",
     "text": [
      "Processing: Dry socket\n"
     ]
    },
    {
     "name": "stderr",
     "output_type": "stream",
     "text": [
      " 42%|████▏     | 56/132 [00:18<00:27,  2.80it/s]"
     ]
    },
    {
     "name": "stdout",
     "output_type": "stream",
     "text": [
      "Processing: Atypical genitalia\n"
     ]
    },
    {
     "name": "stderr",
     "output_type": "stream",
     "text": [
      " 43%|████▎     | 57/132 [00:19<00:26,  2.84it/s]"
     ]
    },
    {
     "name": "stdout",
     "output_type": "stream",
     "text": [
      "Processing: Lazy eye (amblyopia)\n"
     ]
    },
    {
     "name": "stderr",
     "output_type": "stream",
     "text": [
      " 44%|████▍     | 58/132 [00:19<00:25,  2.85it/s]"
     ]
    },
    {
     "name": "stdout",
     "output_type": "stream",
     "text": [
      "Processing: Chagas disease\n"
     ]
    },
    {
     "name": "stderr",
     "output_type": "stream",
     "text": [
      " 45%|████▍     | 59/132 [00:19<00:25,  2.85it/s]"
     ]
    },
    {
     "name": "stdout",
     "output_type": "stream",
     "text": [
      "Processing: Transient global amnesia\n"
     ]
    },
    {
     "name": "stderr",
     "output_type": "stream",
     "text": [
      " 45%|████▌     | 60/132 [00:20<00:28,  2.55it/s]"
     ]
    },
    {
     "name": "stdout",
     "output_type": "stream",
     "text": [
      "Processing: Amnesia\n"
     ]
    },
    {
     "name": "stderr",
     "output_type": "stream",
     "text": [
      " 46%|████▌     | 61/132 [00:20<00:25,  2.81it/s]"
     ]
    },
    {
     "name": "stdout",
     "output_type": "stream",
     "text": [
      "Processing: Amyloidosis\n"
     ]
    },
    {
     "name": "stderr",
     "output_type": "stream",
     "text": [
      " 47%|████▋     | 62/132 [00:21<00:24,  2.81it/s]"
     ]
    },
    {
     "name": "stdout",
     "output_type": "stream",
     "text": [
      "Processing: Aplastic anemia\n"
     ]
    },
    {
     "name": "stderr",
     "output_type": "stream",
     "text": [
      " 48%|████▊     | 63/132 [00:21<00:24,  2.80it/s]"
     ]
    },
    {
     "name": "stdout",
     "output_type": "stream",
     "text": [
      "Processing: Thalassemia\n"
     ]
    },
    {
     "name": "stderr",
     "output_type": "stream",
     "text": [
      " 48%|████▊     | 64/132 [00:21<00:23,  2.88it/s]"
     ]
    },
    {
     "name": "stdout",
     "output_type": "stream",
     "text": [
      "Processing: Iron deficiency anemia\n"
     ]
    },
    {
     "name": "stderr",
     "output_type": "stream",
     "text": [
      " 49%|████▉     | 65/132 [00:22<00:25,  2.63it/s]"
     ]
    },
    {
     "name": "stdout",
     "output_type": "stream",
     "text": [
      "Processing: Thalassemia\n"
     ]
    },
    {
     "name": "stderr",
     "output_type": "stream",
     "text": [
      " 50%|█████     | 66/132 [00:22<00:24,  2.67it/s]"
     ]
    },
    {
     "name": "stdout",
     "output_type": "stream",
     "text": [
      "Processing: Sickle cell anemia\n"
     ]
    },
    {
     "name": "stderr",
     "output_type": "stream",
     "text": [
      " 51%|█████     | 67/132 [00:22<00:24,  2.70it/s]"
     ]
    },
    {
     "name": "stdout",
     "output_type": "stream",
     "text": [
      "Processing: Vitamin deficiency anemia\n"
     ]
    },
    {
     "name": "stderr",
     "output_type": "stream",
     "text": [
      " 52%|█████▏    | 68/132 [00:23<00:27,  2.36it/s]"
     ]
    },
    {
     "name": "stdout",
     "output_type": "stream",
     "text": [
      "Processing: Abdominal aortic aneurysm\n"
     ]
    },
    {
     "name": "stderr",
     "output_type": "stream",
     "text": [
      " 52%|█████▏    | 69/132 [00:23<00:26,  2.38it/s]"
     ]
    },
    {
     "name": "stdout",
     "output_type": "stream",
     "text": [
      "Processing: Aortic aneurysm\n"
     ]
    },
    {
     "name": "stderr",
     "output_type": "stream",
     "text": [
      " 53%|█████▎    | 70/132 [00:24<00:23,  2.60it/s]"
     ]
    },
    {
     "name": "stdout",
     "output_type": "stream",
     "text": [
      "Processing: Brain aneurysm\n"
     ]
    },
    {
     "name": "stderr",
     "output_type": "stream",
     "text": [
      " 54%|█████▍    | 71/132 [00:24<00:22,  2.75it/s]"
     ]
    },
    {
     "name": "stdout",
     "output_type": "stream",
     "text": [
      "Processing: Popliteal artery aneurysm\n"
     ]
    },
    {
     "name": "stderr",
     "output_type": "stream",
     "text": [
      " 55%|█████▍    | 72/132 [00:24<00:20,  2.88it/s]"
     ]
    },
    {
     "name": "stdout",
     "output_type": "stream",
     "text": [
      "Processing: Thoracic aortic aneurysm\n"
     ]
    },
    {
     "name": "stderr",
     "output_type": "stream",
     "text": [
      " 55%|█████▌    | 73/132 [00:25<00:21,  2.70it/s]"
     ]
    },
    {
     "name": "stdout",
     "output_type": "stream",
     "text": [
      "Processing: Vasculitis\n"
     ]
    },
    {
     "name": "stderr",
     "output_type": "stream",
     "text": [
      " 56%|█████▌    | 74/132 [00:25<00:21,  2.65it/s]"
     ]
    },
    {
     "name": "stdout",
     "output_type": "stream",
     "text": [
      "Processing: Angina\n"
     ]
    },
    {
     "name": "stderr",
     "output_type": "stream",
     "text": [
      " 57%|█████▋    | 75/132 [00:26<00:20,  2.74it/s]"
     ]
    },
    {
     "name": "stdout",
     "output_type": "stream",
     "text": [
      "Processing: Hives and angioedema\n"
     ]
    },
    {
     "name": "stderr",
     "output_type": "stream",
     "text": [
      " 58%|█████▊    | 76/132 [00:26<00:19,  2.90it/s]"
     ]
    },
    {
     "name": "stdout",
     "output_type": "stream",
     "text": [
      "Processing: Castleman disease\n"
     ]
    },
    {
     "name": "stderr",
     "output_type": "stream",
     "text": [
      " 58%|█████▊    | 77/132 [00:26<00:17,  3.06it/s]"
     ]
    },
    {
     "name": "stdout",
     "output_type": "stream",
     "text": [
      "Processing: Broken ankle\n"
     ]
    },
    {
     "name": "stderr",
     "output_type": "stream",
     "text": [
      " 59%|█████▉    | 78/132 [00:27<00:19,  2.71it/s]"
     ]
    },
    {
     "name": "stdout",
     "output_type": "stream",
     "text": [
      "Processing: Sprained ankle\n"
     ]
    },
    {
     "name": "stderr",
     "output_type": "stream",
     "text": [
      " 60%|█████▉    | 79/132 [00:27<00:19,  2.74it/s]"
     ]
    },
    {
     "name": "stdout",
     "output_type": "stream",
     "text": [
      "Processing: Tongue-tie (ankyloglossia)\n"
     ]
    },
    {
     "name": "stderr",
     "output_type": "stream",
     "text": [
      " 61%|██████    | 80/132 [00:27<00:17,  2.92it/s]"
     ]
    },
    {
     "name": "stdout",
     "output_type": "stream",
     "text": [
      "Processing: Anorexia nervosa\n"
     ]
    },
    {
     "name": "stderr",
     "output_type": "stream",
     "text": [
      " 61%|██████▏   | 81/132 [00:27<00:16,  3.08it/s]"
     ]
    },
    {
     "name": "stdout",
     "output_type": "stream",
     "text": [
      "Processing: ACL injury\n"
     ]
    },
    {
     "name": "stderr",
     "output_type": "stream",
     "text": [
      " 62%|██████▏   | 82/132 [00:28<00:17,  2.84it/s]"
     ]
    },
    {
     "name": "stdout",
     "output_type": "stream",
     "text": [
      "Processing: Anterior vaginal prolapse (cystocele)\n"
     ]
    },
    {
     "name": "stderr",
     "output_type": "stream",
     "text": [
      " 63%|██████▎   | 83/132 [00:28<00:17,  2.86it/s]"
     ]
    },
    {
     "name": "stdout",
     "output_type": "stream",
     "text": [
      "Processing: Pseudomembranous colitis\n"
     ]
    },
    {
     "name": "stderr",
     "output_type": "stream",
     "text": [
      " 64%|██████▎   | 84/132 [00:29<00:16,  2.92it/s]"
     ]
    },
    {
     "name": "stdout",
     "output_type": "stream",
     "text": [
      "Processing: Generalized anxiety disorder\n"
     ]
    },
    {
     "name": "stderr",
     "output_type": "stream",
     "text": [
      " 64%|██████▍   | 85/132 [00:29<00:15,  2.99it/s]"
     ]
    },
    {
     "name": "stdout",
     "output_type": "stream",
     "text": [
      "Processing: Social anxiety disorder (social phobia)\n"
     ]
    },
    {
     "name": "stderr",
     "output_type": "stream",
     "text": [
      " 65%|██████▌   | 86/132 [00:29<00:15,  2.95it/s]"
     ]
    },
    {
     "name": "stdout",
     "output_type": "stream",
     "text": [
      "Processing: Abdominal aortic aneurysm\n"
     ]
    },
    {
     "name": "stderr",
     "output_type": "stream",
     "text": [
      " 66%|██████▌   | 87/132 [00:30<00:16,  2.74it/s]"
     ]
    },
    {
     "name": "stdout",
     "output_type": "stream",
     "text": [
      "Processing: Coarctation of the aorta\n"
     ]
    },
    {
     "name": "stderr",
     "output_type": "stream",
     "text": [
      " 67%|██████▋   | 88/132 [00:30<00:15,  2.89it/s]"
     ]
    },
    {
     "name": "stdout",
     "output_type": "stream",
     "text": [
      "Processing: Aortic valve regurgitation\n"
     ]
    },
    {
     "name": "stderr",
     "output_type": "stream",
     "text": [
      " 67%|██████▋   | 89/132 [00:30<00:14,  2.94it/s]"
     ]
    },
    {
     "name": "stdout",
     "output_type": "stream",
     "text": [
      "Processing: Aortic valve regurgitation\n"
     ]
    },
    {
     "name": "stderr",
     "output_type": "stream",
     "text": [
      " 68%|██████▊   | 90/132 [00:31<00:14,  2.99it/s]"
     ]
    },
    {
     "name": "stdout",
     "output_type": "stream",
     "text": [
      "Processing: Auditory processing disorder\n"
     ]
    },
    {
     "name": "stderr",
     "output_type": "stream",
     "text": [
      " 69%|██████▉   | 91/132 [00:31<00:14,  2.91it/s]"
     ]
    },
    {
     "name": "stdout",
     "output_type": "stream",
     "text": [
      "Processing: Primary progressive aphasia\n"
     ]
    },
    {
     "name": "stderr",
     "output_type": "stream",
     "text": [
      " 70%|██████▉   | 92/132 [00:31<00:13,  3.06it/s]"
     ]
    },
    {
     "name": "stdout",
     "output_type": "stream",
     "text": [
      "Processing: Canker sore\n"
     ]
    },
    {
     "name": "stderr",
     "output_type": "stream",
     "text": [
      " 70%|███████   | 93/132 [00:32<00:12,  3.09it/s]"
     ]
    },
    {
     "name": "stdout",
     "output_type": "stream",
     "text": [
      "Processing: Canker sore\n"
     ]
    },
    {
     "name": "stderr",
     "output_type": "stream",
     "text": [
      " 71%|███████   | 94/132 [00:32<00:11,  3.24it/s]"
     ]
    },
    {
     "name": "stdout",
     "output_type": "stream",
     "text": [
      "Processing: Broken heart syndrome\n"
     ]
    },
    {
     "name": "stderr",
     "output_type": "stream",
     "text": [
      " 72%|███████▏  | 95/132 [00:32<00:11,  3.30it/s]"
     ]
    },
    {
     "name": "stdout",
     "output_type": "stream",
     "text": [
      "Processing: Antiphospholipid syndrome\n"
     ]
    },
    {
     "name": "stderr",
     "output_type": "stream",
     "text": [
      " 73%|███████▎  | 96/132 [00:33<00:12,  2.96it/s]"
     ]
    },
    {
     "name": "stdout",
     "output_type": "stream",
     "text": [
      "Processing: Viral hemorrhagic fevers\n"
     ]
    },
    {
     "name": "stderr",
     "output_type": "stream",
     "text": [
      " 73%|███████▎  | 97/132 [00:33<00:11,  3.09it/s]"
     ]
    },
    {
     "name": "stdout",
     "output_type": "stream",
     "text": [
      "Processing: Viral hemorrhagic fevers\n"
     ]
    },
    {
     "name": "stderr",
     "output_type": "stream",
     "text": [
      " 74%|███████▍  | 98/132 [00:33<00:10,  3.15it/s]"
     ]
    },
    {
     "name": "stdout",
     "output_type": "stream",
     "text": [
      "Processing: Broken arm\n"
     ]
    },
    {
     "name": "stderr",
     "output_type": "stream",
     "text": [
      " 75%|███████▌  | 99/132 [00:34<00:11,  2.95it/s]"
     ]
    },
    {
     "name": "stdout",
     "output_type": "stream",
     "text": [
      "Processing: Chiari malformation\n"
     ]
    },
    {
     "name": "stderr",
     "output_type": "stream",
     "text": [
      " 76%|███████▌  | 100/132 [00:34<00:10,  3.04it/s]"
     ]
    },
    {
     "name": "stdout",
     "output_type": "stream",
     "text": [
      "Processing: Heart arrhythmia\n"
     ]
    },
    {
     "name": "stderr",
     "output_type": "stream",
     "text": [
      " 77%|███████▋  | 101/132 [00:34<00:10,  2.87it/s]"
     ]
    },
    {
     "name": "stdout",
     "output_type": "stream",
     "text": [
      "Processing: Giant cell arteritis\n"
     ]
    },
    {
     "name": "stderr",
     "output_type": "stream",
     "text": [
      " 77%|███████▋  | 102/132 [00:35<00:10,  2.98it/s]"
     ]
    },
    {
     "name": "stdout",
     "output_type": "stream",
     "text": [
      "Processing: Takayasu's arteritis\n"
     ]
    },
    {
     "name": "stderr",
     "output_type": "stream",
     "text": [
      " 78%|███████▊  | 103/132 [00:35<00:09,  2.96it/s]"
     ]
    },
    {
     "name": "stdout",
     "output_type": "stream",
     "text": [
      "Processing: Thumb arthritis\n"
     ]
    },
    {
     "name": "stderr",
     "output_type": "stream",
     "text": [
      " 79%|███████▉  | 104/132 [00:35<00:09,  2.96it/s]"
     ]
    },
    {
     "name": "stdout",
     "output_type": "stream",
     "text": [
      "Processing: Osteoarthritis\n"
     ]
    },
    {
     "name": "stderr",
     "output_type": "stream",
     "text": [
      " 80%|███████▉  | 105/132 [00:36<00:09,  2.80it/s]"
     ]
    },
    {
     "name": "stdout",
     "output_type": "stream",
     "text": [
      "Processing: Gout\n"
     ]
    },
    {
     "name": "stderr",
     "output_type": "stream",
     "text": [
      " 80%|████████  | 106/132 [00:36<00:09,  2.84it/s]"
     ]
    },
    {
     "name": "stdout",
     "output_type": "stream",
     "text": [
      "Processing: Septic arthritis\n"
     ]
    },
    {
     "name": "stderr",
     "output_type": "stream",
     "text": [
      " 81%|████████  | 107/132 [00:36<00:08,  2.81it/s]"
     ]
    },
    {
     "name": "stdout",
     "output_type": "stream",
     "text": [
      "Processing: Juvenile idiopathic arthritis\n"
     ]
    },
    {
     "name": "stderr",
     "output_type": "stream",
     "text": [
      " 82%|████████▏ | 108/132 [00:37<00:08,  2.96it/s]"
     ]
    },
    {
     "name": "stdout",
     "output_type": "stream",
     "text": [
      "Processing: Osteoarthritis\n"
     ]
    },
    {
     "name": "stderr",
     "output_type": "stream",
     "text": [
      " 83%|████████▎ | 109/132 [00:37<00:08,  2.70it/s]"
     ]
    },
    {
     "name": "stdout",
     "output_type": "stream",
     "text": [
      "Processing: Psoriatic arthritis\n"
     ]
    },
    {
     "name": "stderr",
     "output_type": "stream",
     "text": [
      " 83%|████████▎ | 110/132 [00:37<00:07,  2.78it/s]"
     ]
    },
    {
     "name": "stdout",
     "output_type": "stream",
     "text": [
      "Processing: Reactive arthritis\n"
     ]
    },
    {
     "name": "stderr",
     "output_type": "stream",
     "text": [
      " 84%|████████▍ | 111/132 [00:38<00:07,  2.76it/s]"
     ]
    },
    {
     "name": "stdout",
     "output_type": "stream",
     "text": [
      "Processing: Rheumatoid arthritis\n"
     ]
    },
    {
     "name": "stderr",
     "output_type": "stream",
     "text": [
      " 85%|████████▍ | 112/132 [00:38<00:06,  2.88it/s]"
     ]
    },
    {
     "name": "stdout",
     "output_type": "stream",
     "text": [
      "Processing: Septic arthritis\n"
     ]
    },
    {
     "name": "stderr",
     "output_type": "stream",
     "text": [
      " 86%|████████▌ | 113/132 [00:39<00:07,  2.61it/s]"
     ]
    },
    {
     "name": "stdout",
     "output_type": "stream",
     "text": [
      "Processing: Thumb arthritis\n"
     ]
    },
    {
     "name": "stderr",
     "output_type": "stream",
     "text": [
      " 86%|████████▋ | 114/132 [00:39<00:06,  2.84it/s]"
     ]
    },
    {
     "name": "stdout",
     "output_type": "stream",
     "text": [
      "Processing: Atrial septal defect (ASD)\n"
     ]
    },
    {
     "name": "stderr",
     "output_type": "stream",
     "text": [
      " 87%|████████▋ | 115/132 [00:39<00:05,  2.97it/s]"
     ]
    },
    {
     "name": "stdout",
     "output_type": "stream",
     "text": [
      "Processing: Autism spectrum disorder\n"
     ]
    },
    {
     "name": "stderr",
     "output_type": "stream",
     "text": [
      " 88%|████████▊ | 116/132 [00:39<00:05,  3.14it/s]"
     ]
    },
    {
     "name": "stdout",
     "output_type": "stream",
     "text": [
      "Processing: Avascular necrosis (osteonecrosis)\n"
     ]
    },
    {
     "name": "stderr",
     "output_type": "stream",
     "text": [
      " 89%|████████▊ | 117/132 [00:40<00:05,  2.94it/s]"
     ]
    },
    {
     "name": "stdout",
     "output_type": "stream",
     "text": [
      "Processing: Childhood asthma\n"
     ]
    },
    {
     "name": "stderr",
     "output_type": "stream",
     "text": [
      " 89%|████████▉ | 118/132 [00:40<00:05,  2.70it/s]"
     ]
    },
    {
     "name": "stdout",
     "output_type": "stream",
     "text": [
      "Processing: Exercise-induced asthma\n"
     ]
    },
    {
     "name": "stderr",
     "output_type": "stream",
     "text": [
      " 90%|█████████ | 119/132 [00:41<00:04,  2.72it/s]"
     ]
    },
    {
     "name": "stdout",
     "output_type": "stream",
     "text": [
      "Processing: Occupational asthma\n"
     ]
    },
    {
     "name": "stderr",
     "output_type": "stream",
     "text": [
      " 91%|█████████ | 120/132 [00:41<00:04,  2.74it/s]"
     ]
    },
    {
     "name": "stdout",
     "output_type": "stream",
     "text": [
      "Processing: Atrial tachycardia\n"
     ]
    },
    {
     "name": "stderr",
     "output_type": "stream",
     "text": [
      " 92%|█████████▏| 121/132 [00:41<00:03,  2.90it/s]"
     ]
    },
    {
     "name": "stdout",
     "output_type": "stream",
     "text": [
      "Processing: Arteriosclerosis / atherosclerosis\n"
     ]
    },
    {
     "name": "stderr",
     "output_type": "stream",
     "text": [
      " 92%|█████████▏| 122/132 [00:42<00:03,  2.86it/s]"
     ]
    },
    {
     "name": "stdout",
     "output_type": "stream",
     "text": [
      "Processing: Atrioventricular canal defect\n"
     ]
    },
    {
     "name": "stderr",
     "output_type": "stream",
     "text": [
      " 93%|█████████▎| 123/132 [00:42<00:03,  2.63it/s]"
     ]
    },
    {
     "name": "stdout",
     "output_type": "stream",
     "text": [
      "Processing: Vaginal atrophy\n"
     ]
    },
    {
     "name": "stderr",
     "output_type": "stream",
     "text": [
      " 94%|█████████▍| 124/132 [00:42<00:02,  2.72it/s]"
     ]
    },
    {
     "name": "stdout",
     "output_type": "stream",
     "text": [
      "Processing: Reactive attachment disorder\n"
     ]
    },
    {
     "name": "stderr",
     "output_type": "stream",
     "text": [
      " 95%|█████████▍| 125/132 [00:43<00:02,  2.74it/s]"
     ]
    },
    {
     "name": "stdout",
     "output_type": "stream",
     "text": [
      "Processing: Adult attention-deficit/hyperactivity disorder (ADHD)\n"
     ]
    },
    {
     "name": "stderr",
     "output_type": "stream",
     "text": [
      " 95%|█████████▌| 126/132 [00:43<00:02,  2.78it/s]"
     ]
    },
    {
     "name": "stdout",
     "output_type": "stream",
     "text": [
      "Processing: Auditory processing disorder\n"
     ]
    },
    {
     "name": "stderr",
     "output_type": "stream",
     "text": [
      " 96%|█████████▌| 127/132 [00:43<00:01,  2.82it/s]"
     ]
    },
    {
     "name": "stdout",
     "output_type": "stream",
     "text": [
      "Processing: Autoimmune epilepsy\n"
     ]
    },
    {
     "name": "stderr",
     "output_type": "stream",
     "text": [
      " 97%|█████████▋| 128/132 [00:44<00:01,  2.92it/s]"
     ]
    },
    {
     "name": "stdout",
     "output_type": "stream",
     "text": [
      "Processing: Autoimmune encephalitis\n"
     ]
    },
    {
     "name": "stderr",
     "output_type": "stream",
     "text": [
      " 98%|█████████▊| 129/132 [00:44<00:00,  3.15it/s]"
     ]
    },
    {
     "name": "stdout",
     "output_type": "stream",
     "text": [
      "Processing: Bird flu (avian influenza)\n"
     ]
    },
    {
     "name": "stderr",
     "output_type": "stream",
     "text": [
      " 98%|█████████▊| 130/132 [00:44<00:00,  3.09it/s]"
     ]
    },
    {
     "name": "stdout",
     "output_type": "stream",
     "text": [
      "Processing: Avascular necrosis (osteonecrosis)\n"
     ]
    },
    {
     "name": "stderr",
     "output_type": "stream",
     "text": [
      " 99%|█████████▉| 131/132 [00:45<00:00,  2.85it/s]"
     ]
    },
    {
     "name": "stdout",
     "output_type": "stream",
     "text": [
      "Processing: Atrioventricular nodal reentry tachycardia (AVNRT)\n"
     ]
    },
    {
     "name": "stderr",
     "output_type": "stream",
     "text": [
      "100%|██████████| 132/132 [00:45<00:00,  2.90it/s]"
     ]
    },
    {
     "name": "stdout",
     "output_type": "stream",
     "text": [
      "CSV file updated successfully with 132 rows\n"
     ]
    },
    {
     "name": "stderr",
     "output_type": "stream",
     "text": [
      "\n"
     ]
    }
   ],
   "source": [
    "import csv\n",
    "from bs4 import BeautifulSoup\n",
    "import requests\n",
    "import os\n",
    "from tqdm import tqdm\n",
    "\n",
    "def extract_sections(url):\n",
    "    headers = {\n",
    "        \"User-Agent\": \"Mozilla/5.0 (Windows NT 10.0; Win64; x64) AppleWebKit/537.36\",\n",
    "        \"Accept\": \"text/html,application/xhtml+xml,application/xml;q=0.9,image/webp,*/*;q=0.8\"\n",
    "    }\n",
    "\n",
    "    try:\n",
    "        response = requests.get(url, headers=headers, timeout=20)\n",
    "        response.raise_for_status()\n",
    "        soup = BeautifulSoup(response.text, 'html.parser')\n",
    "\n",
    "        # Try different possible main content containers\n",
    "        main_content = soup.find('div', class_='content') or soup.find('article', id='main-content')\n",
    "        if not main_content:\n",
    "            return {}  # Don't return error; just skip\n",
    "\n",
    "        # Section headings you want\n",
    "        sections = {\n",
    "            \"Overview\": None,\n",
    "            \"Symptoms\": None,\n",
    "            \"When to see a doctor\": None,\n",
    "            \"Causes\": None,\n",
    "            \"Risk factors\": None,\n",
    "            \"Complications\": None,\n",
    "            \"Prevention\": None\n",
    "        }\n",
    "\n",
    "        # Find all headings inside main content\n",
    "        headings = main_content.find_all(['h2', 'h3'])\n",
    "        for idx, heading in enumerate(headings):\n",
    "            heading_text = heading.get_text(strip=True)\n",
    "            # Fix potential typo in heading\n",
    "            if \"When to see a dotor\" in heading_text:\n",
    "                heading_text = \"When to see a doctor\"\n",
    "            # If it's a section we care about\n",
    "            if heading_text in sections:\n",
    "                # Gather all paragraph and list content until next heading\n",
    "                content = []\n",
    "                next_node = heading.find_next_sibling()\n",
    "                while next_node and next_node.name not in ['h2', 'h3']:\n",
    "                    if next_node.name == 'p':\n",
    "                        content.append(next_node.get_text(strip=True))\n",
    "                    elif next_node.name in ['ul', 'ol']:\n",
    "                        items = [li.get_text(strip=True) for li in next_node.find_all('li')]\n",
    "                        content.extend(items)\n",
    "                    next_node = next_node.find_next_sibling()\n",
    "                if content:\n",
    "                    sections[heading_text] = '\\n'.join(content)\n",
    "        # Only return sections with content\n",
    "        return {k: v for k, v in sections.items() if v}\n",
    "    except Exception as e:\n",
    "        # Just return empty dict for error\n",
    "        return {}\n",
    "\n",
    "def update_csv_with_sections(csv_file):\n",
    "    # Read existing data and headers\n",
    "    rows = []\n",
    "    existing_headers = []\n",
    "    if os.path.exists(csv_file):\n",
    "        with open(csv_file, 'r', newline='', encoding='utf-8') as f:\n",
    "            reader = csv.DictReader(f)\n",
    "            existing_headers = reader.fieldnames\n",
    "            rows = list(reader)\n",
    "\n",
    "    # List of desired section headers\n",
    "    section_headers = [\n",
    "        'Overview', 'Symptoms', 'When to see a doctor',\n",
    "        'Causes', 'Risk factors', 'Complications', 'Prevention'\n",
    "    ]\n",
    "    # Columns from csv plus any missing section headers\n",
    "    all_headers = existing_headers.copy() if existing_headers else ['disease', 'main_link']\n",
    "    for header in section_headers:\n",
    "        if header not in all_headers:\n",
    "            all_headers.append(header)\n",
    "\n",
    "    # Process each row and update with extracted sections\n",
    "    updated_rows = []\n",
    "    for row in tqdm(rows):\n",
    "        # Only process if main_link exists\n",
    "        if 'main_link' in row and row['main_link']:\n",
    "            clear_output(wait=True)\n",
    "            print(f\"Processing: {row.get('disease', 'Unknown')}\")\n",
    "            sections = extract_sections(row['main_link'])\n",
    "            # Update row with whatever we could extract\n",
    "            for section, content in sections.items():\n",
    "                row[section] = content\n",
    "        updated_rows.append(row)\n",
    "\n",
    "    # Write back to CSV with updated headers and rows\n",
    "    with open(csv_file, 'w', newline='', encoding='utf-8') as f:\n",
    "        writer = csv.DictWriter(f, fieldnames=all_headers)\n",
    "        writer.writeheader()\n",
    "        writer.writerows(updated_rows)\n",
    "    print(f\"CSV file updated successfully with {len(updated_rows)} rows\")\n",
    "\n",
    "# Example usage\n",
    "if __name__ == \"__main__\":\n",
    "    csv_file = \"mayo_diseases.csv\"\n",
    "    update_csv_with_sections(csv_file)"
   ]
  },
  {
   "cell_type": "code",
   "execution_count": 9,
   "metadata": {},
   "outputs": [
    {
     "name": "stderr",
     "output_type": "stream",
     "text": [
      "Processing diseases:  99%|█████████▉| 131/132 [01:10<00:00,  1.93disease/s]"
     ]
    },
    {
     "name": "stdout",
     "output_type": "stream",
     "text": [
      "Processing: Atrioventricular nodal reentry tachycardia (AVNRT)\n"
     ]
    },
    {
     "name": "stderr",
     "output_type": "stream",
     "text": [
      "Processing diseases: 100%|██████████| 132/132 [01:10<00:00,  1.86disease/s]"
     ]
    },
    {
     "name": "stdout",
     "output_type": "stream",
     "text": [
      "CSV file updated successfully with 132 rows\n"
     ]
    },
    {
     "name": "stderr",
     "output_type": "stream",
     "text": [
      "\n"
     ]
    }
   ],
   "source": [
    "import csv\n",
    "from bs4 import BeautifulSoup\n",
    "import requests\n",
    "import os\n",
    "from tqdm import tqdm\n",
    "\n",
    "# Section slugs for aria-labelledby (new design) and pretty names\n",
    "SECTION_SLUGS = [\n",
    "    (\"overview\", \"Overview\"),\n",
    "    (\"symptoms\", \"Symptoms\"),\n",
    "    (\"when-to-see-a-doctor\", \"When to see a doctor\"),\n",
    "    (\"causes\", \"Causes\"),\n",
    "    (\"risk-factors\", \"Risk factors\"),\n",
    "    (\"complications\", \"Complications\"),\n",
    "    (\"prevention\", \"Prevention\"),\n",
    "]\n",
    "\n",
    "def extract_sections(url):\n",
    "    headers = {\n",
    "        \"User-Agent\": \"Mozilla/5.0 (Windows NT 10.0; Win64; x64) AppleWebKit/537.36\",\n",
    "        \"Accept\": \"text/html,application/xhtml+xml,application/xml;q=0.9,image/webp,*/*;q=0.8\"\n",
    "    }\n",
    "\n",
    "    try:\n",
    "        response = requests.get(url, headers=headers, timeout=20)\n",
    "        response.raise_for_status()\n",
    "        soup = BeautifulSoup(response.text, 'html.parser')\n",
    "\n",
    "        result_sections = {}\n",
    "\n",
    "        # Try method 1: Old layout (div.content or article#main-content)\n",
    "        main_content = soup.find('div', class_='content') or soup.find('article', id='main-content')\n",
    "        if main_content:\n",
    "            headings = main_content.find_all(['h2', 'h3'])\n",
    "            for heading in headings:\n",
    "                heading_text = heading.get_text(strip=True)\n",
    "                # Fix typo\n",
    "                if \"When to see a dotor\" in heading_text:\n",
    "                    heading_text = \"When to see a doctor\"\n",
    "                # If it's a section we care about\n",
    "                for _, section_name in SECTION_SLUGS:\n",
    "                    if heading_text == section_name:\n",
    "                        content = []\n",
    "                        next_node = heading.find_next_sibling()\n",
    "                        while next_node and next_node.name not in ['h2', 'h3']:\n",
    "                            if next_node.name == 'p':\n",
    "                                content.append(next_node.get_text(strip=True))\n",
    "                            elif next_node.name in ['ul', 'ol']:\n",
    "                                items = [li.get_text(strip=True) for li in next_node.find_all('li')]\n",
    "                                content.extend(items)\n",
    "                            next_node = next_node.find_next_sibling()\n",
    "                        if content:\n",
    "                            result_sections[section_name] = '\\n'.join(content)\n",
    "        # Try method 2: New layout (section[aria-labelledby] + cmp-text__rich-content)\n",
    "        for slug, section_name in SECTION_SLUGS:\n",
    "            if section_name in result_sections:\n",
    "                continue  # Already found by old method\n",
    "            # Find aria-labelledby section\n",
    "            section = soup.find('section', {'aria-labelledby': slug})\n",
    "            if section:\n",
    "                content_div = section.find('div', class_='cmp-text__rich-content')\n",
    "                if content_div:\n",
    "                    paragraphs = [p.get_text(strip=True) for p in content_div.find_all('p')]\n",
    "                    if paragraphs:\n",
    "                        result_sections[section_name] = '\\n\\n'.join(paragraphs)\n",
    "        return result_sections\n",
    "    except Exception as e:\n",
    "        # Skip on error, return empty\n",
    "        return {}\n",
    "\n",
    "def update_csv_with_sections(csv_file):\n",
    "    # Read existing data and headers\n",
    "    rows = []\n",
    "    existing_headers = []\n",
    "    if os.path.exists(csv_file):\n",
    "        with open(csv_file, 'r', newline='', encoding='utf-8') as f:\n",
    "            reader = csv.DictReader(f)\n",
    "            existing_headers = reader.fieldnames\n",
    "            rows = list(reader)\n",
    "\n",
    "    section_headers = [section for slug, section in SECTION_SLUGS]\n",
    "    all_headers = existing_headers.copy() if existing_headers else ['disease', 'main_link']\n",
    "    for header in section_headers:\n",
    "        if header not in all_headers:\n",
    "            all_headers.append(header)\n",
    "\n",
    "    # --- SINGLE tqdm bar for ALL rows ---\n",
    "    updated_rows = []\n",
    "    with tqdm(total=len(rows), desc=\"Processing diseases\", unit=\"disease\") as pbar:\n",
    "        for row in rows:\n",
    "            if 'main_link' in row and row['main_link']:\n",
    "                clear_output(wait=True)\n",
    "                # (Optional) tqdm.write() to log messages without disrupting the bar\n",
    "                tqdm.write(f\"Processing: {row.get('disease', 'Unknown')}\")\n",
    "                sections = extract_sections(row['main_link'])\n",
    "                for section, content in sections.items():\n",
    "                    row[section] = content\n",
    "            updated_rows.append(row)\n",
    "            pbar.update(1)  # Always update once per disease\n",
    "\n",
    "    with open(csv_file, 'w', newline='', encoding='utf-8') as f:\n",
    "        writer = csv.DictWriter(f, fieldnames=all_headers)\n",
    "        writer.writeheader()\n",
    "        writer.writerows(updated_rows)\n",
    "    print(f\"CSV file updated successfully with {len(updated_rows)} rows\")\n",
    "\n",
    "# Example usage\n",
    "if __name__ == \"__main__\":\n",
    "    csv_file = \"mayo_diseases.csv\"\n",
    "    update_csv_with_sections(csv_file)"
   ]
  },
  {
   "cell_type": "code",
   "execution_count": 10,
   "metadata": {},
   "outputs": [
    {
     "name": "stderr",
     "output_type": "stream",
     "text": [
      "Processing diseases:  99%|█████████▉| 131/132 [02:31<00:00,  1.04disease/s]"
     ]
    },
    {
     "name": "stdout",
     "output_type": "stream",
     "text": [
      "Processing: Atrioventricular nodal reentry tachycardia (AVNRT)\n"
     ]
    },
    {
     "name": "stderr",
     "output_type": "stream",
     "text": [
      "Processing diseases: 100%|██████████| 132/132 [02:33<00:00,  1.17s/disease]"
     ]
    },
    {
     "name": "stdout",
     "output_type": "stream",
     "text": [
      "CSV file updated successfully with 132 rows\n"
     ]
    },
    {
     "name": "stderr",
     "output_type": "stream",
     "text": [
      "\n"
     ]
    }
   ],
   "source": [
    "import csv\n",
    "from bs4 import BeautifulSoup\n",
    "import requests\n",
    "import os\n",
    "from tqdm import tqdm\n",
    "\n",
    "# Section slugs for aria-labelledby (new design) and pretty names\n",
    "SECTION_SLUGS = [\n",
    "    (\"diagnosis\", \"Diagnosis\"),\n",
    "    (\"treatment\", \"Treatment\"),\n",
    "    (\"coping-and-support\", \"Coping and support\"),\n",
    "    (\"preparing-for-your-appointment\", \"Preparing for your appointment\"),\n",
    "    (\"lifestyle-and-home-remedies\", \"Lifestyle and home remedies\")\n",
    "]\n",
    "\n",
    "def extract_sections(url):\n",
    "    headers = {\n",
    "        \"User-Agent\": \"Mozilla/5.0 (Windows NT 10.0; Win64; x64) AppleWebKit/537.36\",\n",
    "        \"Accept\": \"text/html,application/xhtml+xml,application/xml;q=0.9,image/webp,*/*;q=0.8\"\n",
    "    }\n",
    "\n",
    "    try:\n",
    "        response = requests.get(url, headers=headers, timeout=20)\n",
    "        response.raise_for_status()\n",
    "        soup = BeautifulSoup(response.text, 'html.parser')\n",
    "\n",
    "        result_sections = {}\n",
    "\n",
    "        # Try method 1: Old layout (div.content or article#main-content)\n",
    "        main_content = soup.find('div', class_='content') or soup.find('article', id='main-content')\n",
    "        if main_content:\n",
    "            headings = main_content.find_all(['h2', 'h3'])\n",
    "            for heading in headings:\n",
    "                heading_text = heading.get_text(strip=True)\n",
    "                # Fix typo\n",
    "                if \"When to see a dotor\" in heading_text:\n",
    "                    heading_text = \"When to see a doctor\"\n",
    "                # If it's a section we care about\n",
    "                for _, section_name in SECTION_SLUGS:\n",
    "                    if heading_text == section_name:\n",
    "                        content = []\n",
    "                        next_node = heading.find_next_sibling()\n",
    "                        while next_node and next_node.name not in ['h2', 'h3']:\n",
    "                            if next_node.name == 'p':\n",
    "                                content.append(next_node.get_text(strip=True))\n",
    "                            elif next_node.name in ['ul', 'ol']:\n",
    "                                items = [li.get_text(strip=True) for li in next_node.find_all('li')]\n",
    "                                content.extend(items)\n",
    "                            next_node = next_node.find_next_sibling()\n",
    "                        if content:\n",
    "                            result_sections[section_name] = '\\n'.join(content)\n",
    "        # Try method 2: New layout (section[aria-labelledby] + cmp-text__rich-content)\n",
    "        for slug, section_name in SECTION_SLUGS:\n",
    "            if section_name in result_sections:\n",
    "                continue  # Already found by old method\n",
    "            # Find aria-labelledby section\n",
    "            section = soup.find('section', {'aria-labelledby': slug})\n",
    "            if section:\n",
    "                content_div = section.find('div', class_='cmp-text__rich-content')\n",
    "                if content_div:\n",
    "                    paragraphs = [p.get_text(strip=True) for p in content_div.find_all('p')]\n",
    "                    if paragraphs:\n",
    "                        result_sections[section_name] = '\\n\\n'.join(paragraphs)\n",
    "        return result_sections\n",
    "    except Exception as e:\n",
    "        # Skip on error, return empty\n",
    "        return {}\n",
    "\n",
    "def update_csv_with_sections(csv_file):\n",
    "    # Read existing data and headers\n",
    "    rows = []\n",
    "    existing_headers = []\n",
    "    if os.path.exists(csv_file):\n",
    "        with open(csv_file, 'r', newline='', encoding='utf-8') as f:\n",
    "            reader = csv.DictReader(f)\n",
    "            existing_headers = reader.fieldnames\n",
    "            rows = list(reader)\n",
    "\n",
    "    section_headers = [section for slug, section in SECTION_SLUGS]\n",
    "    all_headers = existing_headers.copy() if existing_headers else ['disease', 'main_link']\n",
    "    for header in section_headers:\n",
    "        if header not in all_headers:\n",
    "            all_headers.append(header)\n",
    "\n",
    "    # --- SINGLE tqdm bar for ALL rows ---\n",
    "    updated_rows = []\n",
    "    with tqdm(total=len(rows), desc=\"Processing diseases\", unit=\"disease\") as pbar:\n",
    "        for row in rows:\n",
    "            if 'main_link' in row and row['Diagnosis_treatment_link']:\n",
    "                clear_output(wait=True)\n",
    "                # (Optional) tqdm.write() to log messages without disrupting the bar\n",
    "                tqdm.write(f\"Processing: {row.get('disease', 'Unknown')}\")\n",
    "                sections = extract_sections(row['Diagnosis_treatment_link'])\n",
    "                for section, content in sections.items():\n",
    "                    row[section] = content\n",
    "            updated_rows.append(row)\n",
    "            pbar.update(1)  # Always update once per disease\n",
    "\n",
    "    with open(csv_file, 'w', newline='', encoding='utf-8') as f:\n",
    "        writer = csv.DictWriter(f, fieldnames=all_headers)\n",
    "        writer.writeheader()\n",
    "        writer.writerows(updated_rows)\n",
    "    print(f\"CSV file updated successfully with {len(updated_rows)} rows\")\n",
    "\n",
    "# Example usage\n",
    "if __name__ == \"__main__\":\n",
    "    csv_file = \"mayo_diseases.csv\"\n",
    "    update_csv_with_sections(csv_file)"
   ]
  },
  {
   "cell_type": "code",
   "execution_count": 31,
   "metadata": {},
   "outputs": [],
   "source": [
    "extraction_list = [\"overview\",\"symptoms\",\"when-to-see-a-doctor\",\"causes\",\"complications\",\"prevention\",\"risk-factors\"]"
   ]
  },
  {
   "cell_type": "code",
   "execution_count": 11,
   "metadata": {},
   "outputs": [],
   "source": [
    "import pandas as pd"
   ]
  },
  {
   "cell_type": "code",
   "execution_count": 12,
   "metadata": {},
   "outputs": [],
   "source": [
    "df = pd.read_csv(\"mayo_diseases.csv\")"
   ]
  },
  {
   "cell_type": "code",
   "execution_count": 14,
   "metadata": {},
   "outputs": [
    {
     "data": {
      "text/plain": [
       "(132, 16)"
      ]
     },
     "execution_count": 14,
     "metadata": {},
     "output_type": "execute_result"
    }
   ],
   "source": [
    "df.shape"
   ]
  },
  {
   "cell_type": "code",
   "execution_count": 13,
   "metadata": {},
   "outputs": [
    {
     "data": {
      "text/plain": [
       "disease                            0\n",
       "main_link                          0\n",
       "Diagnosis_treatment_link           1\n",
       "Doctors_departments_link          25\n",
       "Overview                           0\n",
       "Symptoms                           2\n",
       "When to see a doctor              12\n",
       "Causes                             2\n",
       "Risk factors                       2\n",
       "Complications                     22\n",
       "Prevention                        52\n",
       "Diagnosis                          1\n",
       "Treatment                          1\n",
       "Coping and support                76\n",
       "Preparing for your appointment     6\n",
       "Lifestyle and home remedies       81\n",
       "dtype: int64"
      ]
     },
     "execution_count": 13,
     "metadata": {},
     "output_type": "execute_result"
    }
   ],
   "source": [
    "df.isnull().sum()"
   ]
  },
  {
   "cell_type": "code",
   "execution_count": 15,
   "metadata": {},
   "outputs": [
    {
     "data": {
      "text/html": [
       "<div>\n",
       "<style scoped>\n",
       "    .dataframe tbody tr th:only-of-type {\n",
       "        vertical-align: middle;\n",
       "    }\n",
       "\n",
       "    .dataframe tbody tr th {\n",
       "        vertical-align: top;\n",
       "    }\n",
       "\n",
       "    .dataframe thead th {\n",
       "        text-align: right;\n",
       "    }\n",
       "</style>\n",
       "<table border=\"1\" class=\"dataframe\">\n",
       "  <thead>\n",
       "    <tr style=\"text-align: right;\">\n",
       "      <th></th>\n",
       "      <th>disease</th>\n",
       "      <th>main_link</th>\n",
       "      <th>Diagnosis_treatment_link</th>\n",
       "      <th>Doctors_departments_link</th>\n",
       "      <th>Overview</th>\n",
       "      <th>Symptoms</th>\n",
       "      <th>When to see a doctor</th>\n",
       "      <th>Causes</th>\n",
       "      <th>Risk factors</th>\n",
       "      <th>Complications</th>\n",
       "      <th>Prevention</th>\n",
       "      <th>Diagnosis</th>\n",
       "      <th>Treatment</th>\n",
       "      <th>Coping and support</th>\n",
       "      <th>Preparing for your appointment</th>\n",
       "      <th>Lifestyle and home remedies</th>\n",
       "    </tr>\n",
       "  </thead>\n",
       "  <tbody>\n",
       "    <tr>\n",
       "      <th>0</th>\n",
       "      <td>Atrial fibrillation</td>\n",
       "      <td>https://www.mayoclinic.org/diseases-conditions...</td>\n",
       "      <td>https://www.mayoclinic.org/diseases-conditions...</td>\n",
       "      <td>https://www.mayoclinic.org/diseases-conditions...</td>\n",
       "      <td>Atrial fibrillation (AFib) is an irregular and...</td>\n",
       "      <td>Symptoms ofAFibmay include:\\nFeelings of a fas...</td>\n",
       "      <td>If you have symptoms of atrial fibrillation, m...</td>\n",
       "      <td>To understand the causes of atrial fibrillatio...</td>\n",
       "      <td>Things that can increase the risk of atrial fi...</td>\n",
       "      <td>Blood clots are a dangerous complication of at...</td>\n",
       "      <td>Healthy lifestyle choices can reduce the risk ...</td>\n",
       "      <td>You may not know you have atrial fibrillation ...</td>\n",
       "      <td>The goals of atrial fibrillation treatment are...</td>\n",
       "      <td>NaN</td>\n",
       "      <td>If you have an irregular or pounding heartbeat...</td>\n",
       "      <td>Following a heart-healthy lifestyle can help p...</td>\n",
       "    </tr>\n",
       "    <tr>\n",
       "      <th>1</th>\n",
       "      <td>Hyperhidrosis</td>\n",
       "      <td>https://www.mayoclinic.org/diseases-conditions...</td>\n",
       "      <td>https://www.mayoclinic.org/diseases-conditions...</td>\n",
       "      <td>https://www.mayoclinic.org/diseases-conditions...</td>\n",
       "      <td>Hyperhidrosis (hi-pur-hi-DROE-sis) is excessiv...</td>\n",
       "      <td>The main symptom of hyperhidrosis is heavy swe...</td>\n",
       "      <td>Sometimes excessive sweating is a sign of a se...</td>\n",
       "      <td>Sweating is the body's mechanism to cool itsel...</td>\n",
       "      <td>Risk factors for hyperhidrosis include:\\nHavin...</td>\n",
       "      <td>Complications of hyperhidrosis include:\\nInfec...</td>\n",
       "      <td>NaN</td>\n",
       "      <td>Diagnosing hyperhidrosis may start with your h...</td>\n",
       "      <td>Treating hyperhidrosis may start with treating...</td>\n",
       "      <td>Hyperhidrosis can be the cause of discomfort a...</td>\n",
       "      <td>You may start by seeing your primary care prov...</td>\n",
       "      <td>The following suggestions may help control swe...</td>\n",
       "    </tr>\n",
       "    <tr>\n",
       "      <th>2</th>\n",
       "      <td>Bartholin's cyst</td>\n",
       "      <td>https://www.mayoclinic.org/diseases-conditions...</td>\n",
       "      <td>https://www.mayoclinic.org/diseases-conditions...</td>\n",
       "      <td>https://www.mayoclinic.org/diseases-conditions...</td>\n",
       "      <td>The Bartholin's (BAHR-toe-linz) glands are loc...</td>\n",
       "      <td>If you have a small, noninfected Bartholin's c...</td>\n",
       "      <td>Call your doctor if you have a painful lump ne...</td>\n",
       "      <td>Experts believe that the cause of a Bartholin'...</td>\n",
       "      <td>NaN</td>\n",
       "      <td>A Bartholin's cyst or abscess may recur and ag...</td>\n",
       "      <td>There's no way to prevent a Bartholin's cyst. ...</td>\n",
       "      <td>To diagnose a Bartholin's cyst, your doctor ma...</td>\n",
       "      <td>Often a Bartholin's cyst requires no treatment...</td>\n",
       "      <td>NaN</td>\n",
       "      <td>Your first appointment will likely be with eit...</td>\n",
       "      <td>NaN</td>\n",
       "    </tr>\n",
       "    <tr>\n",
       "      <th>3</th>\n",
       "      <td>Infant reflux</td>\n",
       "      <td>https://www.mayoclinic.org/diseases-conditions...</td>\n",
       "      <td>https://www.mayoclinic.org/diseases-conditions...</td>\n",
       "      <td>NaN</td>\n",
       "      <td>Infant reflux is when a baby spits up liquid o...</td>\n",
       "      <td>Most of the time, infant reflux isn't a cause ...</td>\n",
       "      <td>See a healthcare professional if a baby:\\nIsn'...</td>\n",
       "      <td>In infants, the ring of muscle between the eso...</td>\n",
       "      <td>Infant reflux is common. But some things make ...</td>\n",
       "      <td>Infant reflux usually gets better on its own. ...</td>\n",
       "      <td>NaN</td>\n",
       "      <td>To diagnose infant reflux, a healthcare profes...</td>\n",
       "      <td>For most babies, making some changes to feedin...</td>\n",
       "      <td>NaN</td>\n",
       "      <td>You may start by seeing your baby's primary he...</td>\n",
       "      <td>To minimize reflux:\\nFeed your baby in an upri...</td>\n",
       "    </tr>\n",
       "    <tr>\n",
       "      <th>4</th>\n",
       "      <td>Hidradenitis suppurativa</td>\n",
       "      <td>https://www.mayoclinic.org/diseases-conditions...</td>\n",
       "      <td>https://www.mayoclinic.org/diseases-conditions...</td>\n",
       "      <td>https://www.mayoclinic.org/diseases-conditions...</td>\n",
       "      <td>Hidradenitis suppurativa (hi-drad-uh-NIE-tis s...</td>\n",
       "      <td>Hidradenitis suppurativa can affect one or sev...</td>\n",
       "      <td>Early diagnosis of hidradenitis suppurativa is...</td>\n",
       "      <td>Hidradenitis suppurativa develops when hair fo...</td>\n",
       "      <td>Factors that increase your chance of developin...</td>\n",
       "      <td>Persistent and severe hidradenitis suppurativa...</td>\n",
       "      <td>NaN</td>\n",
       "      <td>Hidradenitis suppurativa can be mistaken for p...</td>\n",
       "      <td>Treatment with medicines, surgery or both can ...</td>\n",
       "      <td>Hidradenitis suppurativa can be a challenge to...</td>\n",
       "      <td>You'll likely first see your primary care prov...</td>\n",
       "      <td>Mild hidradenitis suppurativa can sometimes be...</td>\n",
       "    </tr>\n",
       "  </tbody>\n",
       "</table>\n",
       "</div>"
      ],
      "text/plain": [
       "                    disease  \\\n",
       "0       Atrial fibrillation   \n",
       "1             Hyperhidrosis   \n",
       "2          Bartholin's cyst   \n",
       "3             Infant reflux   \n",
       "4  Hidradenitis suppurativa   \n",
       "\n",
       "                                           main_link  \\\n",
       "0  https://www.mayoclinic.org/diseases-conditions...   \n",
       "1  https://www.mayoclinic.org/diseases-conditions...   \n",
       "2  https://www.mayoclinic.org/diseases-conditions...   \n",
       "3  https://www.mayoclinic.org/diseases-conditions...   \n",
       "4  https://www.mayoclinic.org/diseases-conditions...   \n",
       "\n",
       "                            Diagnosis_treatment_link  \\\n",
       "0  https://www.mayoclinic.org/diseases-conditions...   \n",
       "1  https://www.mayoclinic.org/diseases-conditions...   \n",
       "2  https://www.mayoclinic.org/diseases-conditions...   \n",
       "3  https://www.mayoclinic.org/diseases-conditions...   \n",
       "4  https://www.mayoclinic.org/diseases-conditions...   \n",
       "\n",
       "                            Doctors_departments_link  \\\n",
       "0  https://www.mayoclinic.org/diseases-conditions...   \n",
       "1  https://www.mayoclinic.org/diseases-conditions...   \n",
       "2  https://www.mayoclinic.org/diseases-conditions...   \n",
       "3                                                NaN   \n",
       "4  https://www.mayoclinic.org/diseases-conditions...   \n",
       "\n",
       "                                            Overview  \\\n",
       "0  Atrial fibrillation (AFib) is an irregular and...   \n",
       "1  Hyperhidrosis (hi-pur-hi-DROE-sis) is excessiv...   \n",
       "2  The Bartholin's (BAHR-toe-linz) glands are loc...   \n",
       "3  Infant reflux is when a baby spits up liquid o...   \n",
       "4  Hidradenitis suppurativa (hi-drad-uh-NIE-tis s...   \n",
       "\n",
       "                                            Symptoms  \\\n",
       "0  Symptoms ofAFibmay include:\\nFeelings of a fas...   \n",
       "1  The main symptom of hyperhidrosis is heavy swe...   \n",
       "2  If you have a small, noninfected Bartholin's c...   \n",
       "3  Most of the time, infant reflux isn't a cause ...   \n",
       "4  Hidradenitis suppurativa can affect one or sev...   \n",
       "\n",
       "                                When to see a doctor  \\\n",
       "0  If you have symptoms of atrial fibrillation, m...   \n",
       "1  Sometimes excessive sweating is a sign of a se...   \n",
       "2  Call your doctor if you have a painful lump ne...   \n",
       "3  See a healthcare professional if a baby:\\nIsn'...   \n",
       "4  Early diagnosis of hidradenitis suppurativa is...   \n",
       "\n",
       "                                              Causes  \\\n",
       "0  To understand the causes of atrial fibrillatio...   \n",
       "1  Sweating is the body's mechanism to cool itsel...   \n",
       "2  Experts believe that the cause of a Bartholin'...   \n",
       "3  In infants, the ring of muscle between the eso...   \n",
       "4  Hidradenitis suppurativa develops when hair fo...   \n",
       "\n",
       "                                        Risk factors  \\\n",
       "0  Things that can increase the risk of atrial fi...   \n",
       "1  Risk factors for hyperhidrosis include:\\nHavin...   \n",
       "2                                                NaN   \n",
       "3  Infant reflux is common. But some things make ...   \n",
       "4  Factors that increase your chance of developin...   \n",
       "\n",
       "                                       Complications  \\\n",
       "0  Blood clots are a dangerous complication of at...   \n",
       "1  Complications of hyperhidrosis include:\\nInfec...   \n",
       "2  A Bartholin's cyst or abscess may recur and ag...   \n",
       "3  Infant reflux usually gets better on its own. ...   \n",
       "4  Persistent and severe hidradenitis suppurativa...   \n",
       "\n",
       "                                          Prevention  \\\n",
       "0  Healthy lifestyle choices can reduce the risk ...   \n",
       "1                                                NaN   \n",
       "2  There's no way to prevent a Bartholin's cyst. ...   \n",
       "3                                                NaN   \n",
       "4                                                NaN   \n",
       "\n",
       "                                           Diagnosis  \\\n",
       "0  You may not know you have atrial fibrillation ...   \n",
       "1  Diagnosing hyperhidrosis may start with your h...   \n",
       "2  To diagnose a Bartholin's cyst, your doctor ma...   \n",
       "3  To diagnose infant reflux, a healthcare profes...   \n",
       "4  Hidradenitis suppurativa can be mistaken for p...   \n",
       "\n",
       "                                           Treatment  \\\n",
       "0  The goals of atrial fibrillation treatment are...   \n",
       "1  Treating hyperhidrosis may start with treating...   \n",
       "2  Often a Bartholin's cyst requires no treatment...   \n",
       "3  For most babies, making some changes to feedin...   \n",
       "4  Treatment with medicines, surgery or both can ...   \n",
       "\n",
       "                                  Coping and support  \\\n",
       "0                                                NaN   \n",
       "1  Hyperhidrosis can be the cause of discomfort a...   \n",
       "2                                                NaN   \n",
       "3                                                NaN   \n",
       "4  Hidradenitis suppurativa can be a challenge to...   \n",
       "\n",
       "                      Preparing for your appointment  \\\n",
       "0  If you have an irregular or pounding heartbeat...   \n",
       "1  You may start by seeing your primary care prov...   \n",
       "2  Your first appointment will likely be with eit...   \n",
       "3  You may start by seeing your baby's primary he...   \n",
       "4  You'll likely first see your primary care prov...   \n",
       "\n",
       "                         Lifestyle and home remedies  \n",
       "0  Following a heart-healthy lifestyle can help p...  \n",
       "1  The following suggestions may help control swe...  \n",
       "2                                                NaN  \n",
       "3  To minimize reflux:\\nFeed your baby in an upri...  \n",
       "4  Mild hidradenitis suppurativa can sometimes be...  "
      ]
     },
     "execution_count": 15,
     "metadata": {},
     "output_type": "execute_result"
    }
   ],
   "source": [
    "df.head()"
   ]
  },
  {
   "cell_type": "code",
   "execution_count": 22,
   "metadata": {},
   "outputs": [
    {
     "data": {
      "text/plain": [
       "\"Symptoms ofAFibmay include:\\nFeelings of a fast, fluttering or pounding heartbeat, called palpitations.\\nChest pain.\\nDizziness.\\nFatigue.\\nLightheadedness.\\nReduced ability to exercise.\\nShortness of breath.\\nWeakness.\\nSome people with atrial fibrillation (AFib) don't notice any symptoms.\\nAtrial fibrillation may be:\\nOccasional, also called paroxysmal atrial fibrillation.AFibsymptoms come and go. The symptoms usually last for a few minutes to hours. Some people have symptoms for as long as a week. The episodes can happen repeatedly. Symptoms might go away on their own. Some people with occasionalAFibneed treatment.\\nPersistent.The irregular heartbeat is constant. The heart rhythm does not reset on its own. If symptoms occur, medical treatment is needed to correct the heart rhythm.\\nLong-standing persistent.This type ofAFibis constant and lasts longer than 12 months. Medicines or a procedure are needed to correct the irregular heartbeat.\\nPermanent.In this type of atrial fibrillation, the irregular heart rhythm can't be reset. Medicines are needed to control the heart rate and to prevent blood clots.\""
      ]
     },
     "execution_count": 22,
     "metadata": {},
     "output_type": "execute_result"
    }
   ],
   "source": [
    "df[\"Symptoms\"][0]"
   ]
  },
  {
   "cell_type": "code",
   "execution_count": 20,
   "metadata": {},
   "outputs": [],
   "source": [
    "import nltk"
   ]
  },
  {
   "cell_type": "code",
   "execution_count": 21,
   "metadata": {},
   "outputs": [],
   "source": [
    "symptoms  = df[\"Symptoms\"]"
   ]
  },
  {
   "cell_type": "code",
   "execution_count": null,
   "metadata": {},
   "outputs": [],
   "source": [
    "symptoms[\"symptoms\"] = symptoms[\"symptoms\"]."
   ]
  },
  {
   "cell_type": "code",
   "execution_count": 23,
   "metadata": {},
   "outputs": [],
   "source": [
    "import requests\n",
    "import json"
   ]
  },
  {
   "cell_type": "code",
   "execution_count": 24,
   "metadata": {},
   "outputs": [
    {
     "name": "stdout",
     "output_type": "stream",
     "text": [
      "API Key Loaded Successfully: gsk_7rEOxb*****\n"
     ]
    }
   ],
   "source": [
    "import os\n",
    "\n",
    "# Get the API key from the environment variable\n",
    "api_key = os.getenv(\"GROQ_API_KEY\")\n",
    "\n",
    "# Optional: Check if it's loaded\n",
    "if api_key:\n",
    "    print(\"API Key Loaded Successfully:\", api_key[:10] + \"*****\")\n",
    "else:\n",
    "    print(\"API Key not found. Check if the environment variable is set.\")\n"
   ]
  },
  {
   "cell_type": "code",
   "execution_count": 25,
   "metadata": {},
   "outputs": [],
   "source": [
    "url = \"https://api.groq.com/openai/v1/chat/completions\"\n",
    "headers = {\n",
    "    \"Content-Type\": \"application/json\",\n",
    "    \"Authorization\": f\"Bearer {api_key}\"\n",
    "}"
   ]
  },
  {
   "cell_type": "code",
   "execution_count": 26,
   "metadata": {},
   "outputs": [],
   "source": [
    "text = \"Symptoms ofAFibmay include:\\nFeelings of a fast, fluttering or pounding heartbeat, called palpitations.\\nChest pain.\\nDizziness.\\nFatigue.\\nLightheadedness.\\nReduced ability to exercise.\\nShortness of breath.\\nWeakness.\\nSome people with atrial fibrillation (AFib) don't notice any symptoms.\\nAtrial fibrillation may be:\\nOccasional, also called paroxysmal atrial fibrillation.AFibsymptoms come and go. The symptoms usually last for a few minutes to hours. Some people have symptoms for as long as a week. The episodes can happen repeatedly. Symptoms might go away on their own. Some people with occasionalAFibneed treatment.\\nPersistent.The irregular heartbeat is constant. The heart rhythm does not reset on its own. If symptoms occur, medical treatment is needed to correct the heart rhythm.\\nLong-standing persistent.This type ofAFibis constant and lasts longer than 12 months. Medicines or a procedure are needed to correct the irregular heartbeat.\\nPermanent.In this type of atrial fibrillation, the irregular heart rhythm can't be reset. Medicines are needed to control the heart rate and to prevent blood clots.\"\n",
    "\n",
    "data = {\n",
    "    \"model\": \"llama-3.3-70b-versatile\",\n",
    "    \"messages\": [\n",
    "        {\n",
    "            \"role\": \"user\",\n",
    "            \"content\": f\"\"\"\n",
    "You are a helpful and expert **medical assistant AI**. You read medical or health-related texts and explain them in clear, friendly, and simplified language for non-medical users.\n",
    "\n",
    "Here is a health-related text a user might find hard to understand:\n",
    "\n",
    "\\\"\\\"\\\"{text}\\\"\\\"\\\"\n",
    "\n",
    "Your job is to extract and present the following:\n",
    "\n",
    "1. A user-friendly **summary of all symptoms** mentioned in the text (bullet point format).\n",
    "2. Break down and **explain any types or stages** of the condition (if present), in plain English.\n",
    "3. Provide a short and clear **educational paragraph** on the condition that includes what it is, its symptoms, and when to seek medical help.\n",
    "4. Output everything in **structured JSON** format with the following fields:\n",
    "   - `symptoms`: A list of clear symptoms in bullet point format\n",
    "   - `types`: A list explaining any forms or categories (like “Occasional”, “Persistent”, etc.)\n",
    "   - `summary`: A friendly paragraph explaining the condition and what the user should know\n",
    "\n",
    "Make sure your output is simple, empathetic, and helpful — written in a tone similar to a nurse explaining something gently to a patient.\n",
    "\"\"\"\n",
    "        }\n",
    "    ]\n",
    "}"
   ]
  },
  {
   "cell_type": "code",
   "execution_count": 29,
   "metadata": {},
   "outputs": [
    {
     "name": "stdout",
     "output_type": "stream",
     "text": [
      "AI Response:\n",
      "\n",
      "```json\n",
      "{\n",
      "  \"symptoms\": [\n",
      "    \"Feelings of a fast, fluttering or pounding heartbeat (palpitations)\",\n",
      "    \"Chest pain\",\n",
      "    \"Dizziness\",\n",
      "    \"Fatigue\",\n",
      "    \"Lightheadedness\",\n",
      "    \"Reduced ability to exercise\",\n",
      "    \"Shortness of breath\",\n",
      "    \"Weakness\"\n",
      "  ],\n",
      "  \"types\": [\n",
      "    \"Occasional (paroxysmal): Symptoms come and go, lasting from a few minutes to hours or even a week, and may go away on their own.\",\n",
      "    \"Persistent: The irregular heartbeat is constant and doesn't reset on its own, requiring medical treatment.\",\n",
      "    \"Long-standing persistent: This type lasts longer than 12 months and requires medicine or a procedure to correct the heartbeat.\",\n",
      "    \"Permanent: The irregular heartbeat can't be reset, and medicine is needed to control the heart rate and prevent blood clots.\"\n",
      "  ],\n",
      "  \"summary\": \"Atrial fibrillation, also known as AFib, is a heart condition where the heartbeat becomes irregular. It can cause a range of symptoms, including palpitations, chest pain, dizziness, and shortness of breath. Some people may not notice any symptoms at all. AFib can be occasional, persistent, or even permanent, and it's essential to seek medical help if you experience any symptoms or if they worsen over time. Your doctor can help you manage the condition and prevent any potential complications. Remember, if you're experiencing any unusual heart rhythms or symptoms, don't hesitate to reach out to your healthcare provider for guidance and support.\"\n",
      "}\n",
      "```\n"
     ]
    }
   ],
   "source": [
    "response = requests.post(url, headers=headers, data=json.dumps(data))\n",
    "\n",
    "# ✅ Print the AI response\n",
    "if response.status_code == 200:\n",
    "    result = response.json()\n",
    "    print(\"AI Response:\\n\")\n",
    "    print(result['choices'][0]['message']['content'])\n",
    "else:\n",
    "    print(\"Error:\", response.status_code)\n",
    "    print(response.text)"
   ]
  },
  {
   "cell_type": "code",
   "execution_count": 2,
   "metadata": {},
   "outputs": [
    {
     "name": "stdout",
     "output_type": "stream",
     "text": [
      "tensorFlow== 2.19.0\n",
      "numpy== 2.0.2\n",
      "pillow== 11.0.0\n",
      "keras== 3.10.0\n"
     ]
    }
   ],
   "source": [
    "import tensorflow as tf\n",
    "import numpy as np\n",
    "import PIL\n",
    "import keras\n",
    "\n",
    "print(\"tensorFlow==\", tf.__version__)\n",
    "print(\"numpy==\", np.__version__)\n",
    "print(\"pillow==\", PIL.__version__)\n",
    "print(\"keras==\", keras.__version__)\n"
   ]
  },
  {
   "cell_type": "code",
   "execution_count": null,
   "metadata": {},
   "outputs": [],
   "source": []
  }
 ],
 "metadata": {
  "kernelspec": {
   "display_name": "myenv",
   "language": "python",
   "name": "python3"
  },
  "language_info": {
   "codemirror_mode": {
    "name": "ipython",
    "version": 3
   },
   "file_extension": ".py",
   "mimetype": "text/x-python",
   "name": "python",
   "nbconvert_exporter": "python",
   "pygments_lexer": "ipython3",
   "version": "3.9.13"
  }
 },
 "nbformat": 4,
 "nbformat_minor": 2
}
