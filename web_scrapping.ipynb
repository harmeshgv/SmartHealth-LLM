{
 "cells": [
  {
   "cell_type": "code",
   "execution_count": 1,
   "metadata": {},
   "outputs": [
    {
     "name": "stdout",
     "output_type": "stream",
     "text": [
      "Diseases starting with 'A':\n"
     ]
    }
   ],
   "source": [
    "import requests\n",
    "from bs4 import BeautifulSoup\n",
    "\n",
    "url = \"https://www.mayoclinic.org/diseases-conditions/index?letter=A\"\n",
    "headers = {\"User-Agent\": \"Mozilla/5.0\"}\n",
    "\n",
    "response = requests.get(url, headers=headers)\n",
    "if response.status_code == 200:\n",
    "    soup = BeautifulSoup(response.text, \"html.parser\")\n",
    "    diseases = soup.select(\".index-content a\")\n",
    "    \n",
    "    disease_list = [disease.get_text(strip=True) for disease in diseases]\n",
    "    \n",
    "    print(\"Diseases starting with 'A':\")\n",
    "    for disease in disease_list:\n",
    "        print(disease)\n",
    "else:\n",
    "    print(\"Failed to retrieve data\")\n"
   ]
  },
  {
   "cell_type": "code",
   "execution_count": 1,
   "metadata": {},
   "outputs": [],
   "source": [
    "import requests\n",
    "from bs4 import BeautifulSoup"
   ]
  },
  {
   "cell_type": "code",
   "execution_count": null,
   "metadata": {},
   "outputs": [
    {
     "name": "stderr",
     "output_type": "stream",
     "text": [
      "Scraping diseases.....: 100%|██████████| 133/133 [00:00<?, ?it/s]"
     ]
    },
    {
     "name": "stdout",
     "output_type": "stream",
     "text": [
      "Scraping complete! Data saved in mayo_diseases.csv\n"
     ]
    },
    {
     "name": "stderr",
     "output_type": "stream",
     "text": [
      "\n"
     ]
    }
   ],
   "source": [
    "import requests\n",
    "from bs4 import BeautifulSoup\n",
    "import csv\n",
    "from tqdm import tqdm\n",
    "\n",
    "# Base URL for diseases\n",
    "base_url = \"https://www.mayoclinic.org/diseases-conditions/index?letter=A\"\n",
    "\n",
    "# Send HTTP request\n",
    "response = requests.get(base_url)\n",
    "if response.status_code != 200:\n",
    "    print(\"Failed to retrieve webpage\")\n",
    "    exit()\n",
    "\n",
    "soup = BeautifulSoup(response.text, \"html.parser\")\n",
    "\n",
    "items = soup.select(\".cmp-results-with-primary-name__see-link, .cmp-results-with-primary-name a\")\n",
    "\n",
    "# Extract diseases and links\n",
    "disease_data = []\n",
    "for item in tqdm(items, desc = \"Scraping diseases.....\"):\n",
    "    disease_name = item.text.strip()\n",
    "    disease_link = f\"https://www.mayoclinic.org{item['href']}\" if item['href'].startswith(\"/\") else item['href']\n",
    "    disease_data.append([disease_name, disease_link])\n",
    "\n",
    "# Save to CSV\n",
    "with open(\"mayo_diseases.csv\", \"w\", newline=\"\", encoding=\"utf-8\") as file:\n",
    "    writer = csv.writer(file)\n",
    "    writer.writerow([\"Disease\", \"Link\"])\n",
    "    writer.writerows(disease_data)\n",
    "\n",
    "print(\"Scraping complete! Data saved in mayo_diseases.csv\")\n"
   ]
  },
  {
   "cell_type": "code",
   "execution_count": null,
   "metadata": {},
   "outputs": [],
   "source": [
    "def web_Scrapping(base_url):\n",
    "    response = requests.get(base_url)\n",
    "    if response.status_code != 200:\n",
    "        print(\"Failed to retrieve page\")\n",
    "        exit()\n",
    "        \n",
    "    soup = BeautifulSoup(response.text, \"html.parser\")\n",
    "    \n",
    "    items = soup.select(\".cmp-results-with-primary-name__see-link, .cmp-results-with-primary-name a\")\n",
    "    \n",
    "    \n",
    "    disease_data = []\n",
    "    for item in tqdm(items, desc=\"Scrapping Diseases\"):\n",
    "        disease_name = item.text.strip()\n",
    "        disease_link = f\"https://www.mayoclinic.org{item['href']}\" if item[\"href\"].startswith(\"/\") else item['href']\n",
    "        disease_data.append([disease_name, disease_link])\n",
    "        \n",
    "    file_exists = os.path.isfile(\"mayo_diseases.csv\")\n",
    "        \n",
    "    with open(\"mayo_diseases.csv\", \"a\", newline=\"\", encoding=\"utf-8\") as file:\n",
    "        writer = csv.writer(file)\n",
    "        if not file_exists:\n",
    "            writer.writerow([\"Disease\", \"Link\"])\n",
    "        writer.writerows(disease_data)\n",
    "        \n",
    "    print(\"Scraping Completed! Data Saved\")\n",
    "    \n",
    "    \n",
    "    \n",
    "    "
   ]
  },
  {
   "cell_type": "code",
   "execution_count": 21,
   "metadata": {},
   "outputs": [],
   "source": [
    "import string\n",
    "import os"
   ]
  },
  {
   "cell_type": "code",
   "execution_count": 26,
   "metadata": {},
   "outputs": [
    {
     "name": "stderr",
     "output_type": "stream",
     "text": [
      "Scrapping Diseases: 100%|██████████| 133/133 [00:00<?, ?it/s]\n"
     ]
    },
    {
     "name": "stdout",
     "output_type": "stream",
     "text": [
      "Scraping Completed! Data Saved\n"
     ]
    },
    {
     "name": "stderr",
     "output_type": "stream",
     "text": [
      "Scrapping Diseases: 100%|██████████| 38/38 [00:00<?, ?it/s]\n"
     ]
    },
    {
     "name": "stdout",
     "output_type": "stream",
     "text": [
      "Scraping Completed! Data Saved\n"
     ]
    },
    {
     "name": "stderr",
     "output_type": "stream",
     "text": [
      "Scrapping Diseases: 100%|██████████| 163/163 [00:00<?, ?it/s]\n"
     ]
    },
    {
     "name": "stdout",
     "output_type": "stream",
     "text": [
      "Scraping Completed! Data Saved\n"
     ]
    },
    {
     "name": "stderr",
     "output_type": "stream",
     "text": [
      "Scrapping Diseases: 100%|██████████| 51/51 [00:00<?, ?it/s]\n"
     ]
    },
    {
     "name": "stdout",
     "output_type": "stream",
     "text": [
      "Scraping Completed! Data Saved\n"
     ]
    },
    {
     "name": "stderr",
     "output_type": "stream",
     "text": [
      "Scrapping Diseases: 100%|██████████| 30/30 [00:00<?, ?it/s]\n"
     ]
    },
    {
     "name": "stdout",
     "output_type": "stream",
     "text": [
      "Scraping Completed! Data Saved\n"
     ]
    },
    {
     "name": "stderr",
     "output_type": "stream",
     "text": [
      "Scrapping Diseases: 100%|██████████| 49/49 [00:00<?, ?it/s]\n"
     ]
    },
    {
     "name": "stdout",
     "output_type": "stream",
     "text": [
      "Scraping Completed! Data Saved\n"
     ]
    },
    {
     "name": "stderr",
     "output_type": "stream",
     "text": [
      "Scrapping Diseases: 100%|██████████| 22/22 [00:00<?, ?it/s]\n"
     ]
    },
    {
     "name": "stdout",
     "output_type": "stream",
     "text": [
      "Scraping Completed! Data Saved\n"
     ]
    },
    {
     "name": "stderr",
     "output_type": "stream",
     "text": [
      "Scrapping Diseases: 100%|██████████| 75/75 [00:00<?, ?it/s]\n"
     ]
    },
    {
     "name": "stdout",
     "output_type": "stream",
     "text": [
      "Scraping Completed! Data Saved\n"
     ]
    },
    {
     "name": "stderr",
     "output_type": "stream",
     "text": [
      "Scrapping Diseases: 100%|██████████| 37/37 [00:00<?, ?it/s]\n"
     ]
    },
    {
     "name": "stdout",
     "output_type": "stream",
     "text": [
      "Scraping Completed! Data Saved\n"
     ]
    },
    {
     "name": "stderr",
     "output_type": "stream",
     "text": [
      "Scrapping Diseases: 100%|██████████| 3/3 [00:00<?, ?it/s]\n"
     ]
    },
    {
     "name": "stdout",
     "output_type": "stream",
     "text": [
      "Scraping Completed! Data Saved\n"
     ]
    },
    {
     "name": "stderr",
     "output_type": "stream",
     "text": [
      "Scrapping Diseases: 100%|██████████| 9/9 [00:00<00:00, 8994.22it/s]\n"
     ]
    },
    {
     "name": "stdout",
     "output_type": "stream",
     "text": [
      "Scraping Completed! Data Saved\n"
     ]
    },
    {
     "name": "stderr",
     "output_type": "stream",
     "text": [
      "Scrapping Diseases: 100%|██████████| 42/42 [00:00<?, ?it/s]\n"
     ]
    },
    {
     "name": "stdout",
     "output_type": "stream",
     "text": [
      "Scraping Completed! Data Saved\n"
     ]
    },
    {
     "name": "stderr",
     "output_type": "stream",
     "text": [
      "Scrapping Diseases: 100%|██████████| 43/43 [00:00<?, ?it/s]\n"
     ]
    },
    {
     "name": "stdout",
     "output_type": "stream",
     "text": [
      "Scraping Completed! Data Saved\n"
     ]
    },
    {
     "name": "stderr",
     "output_type": "stream",
     "text": [
      "Scrapping Diseases: 100%|██████████| 33/33 [00:00<00:00, 33312.16it/s]\n"
     ]
    },
    {
     "name": "stdout",
     "output_type": "stream",
     "text": [
      "Scraping Completed! Data Saved\n"
     ]
    },
    {
     "name": "stderr",
     "output_type": "stream",
     "text": [
      "Scrapping Diseases: 100%|██████████| 25/25 [00:00<?, ?it/s]\n"
     ]
    },
    {
     "name": "stdout",
     "output_type": "stream",
     "text": [
      "Scraping Completed! Data Saved\n"
     ]
    },
    {
     "name": "stderr",
     "output_type": "stream",
     "text": [
      "Scrapping Diseases: 100%|██████████| 100/100 [00:00<?, ?it/s]\n"
     ]
    },
    {
     "name": "stdout",
     "output_type": "stream",
     "text": [
      "Scraping Completed! Data Saved\n"
     ]
    },
    {
     "name": "stderr",
     "output_type": "stream",
     "text": [
      "Scrapping Diseases: 0it [00:00, ?it/s]\n"
     ]
    },
    {
     "name": "stdout",
     "output_type": "stream",
     "text": [
      "Scraping Completed! Data Saved\n"
     ]
    },
    {
     "name": "stderr",
     "output_type": "stream",
     "text": [
      "Scrapping Diseases: 100%|██████████| 34/34 [00:00<?, ?it/s]\n"
     ]
    },
    {
     "name": "stdout",
     "output_type": "stream",
     "text": [
      "Scraping Completed! Data Saved\n"
     ]
    },
    {
     "name": "stderr",
     "output_type": "stream",
     "text": [
      "Scrapping Diseases: 100%|██████████| 99/99 [00:00<?, ?it/s]\n"
     ]
    },
    {
     "name": "stdout",
     "output_type": "stream",
     "text": [
      "Scraping Completed! Data Saved\n"
     ]
    },
    {
     "name": "stderr",
     "output_type": "stream",
     "text": [
      "Scrapping Diseases: 100%|██████████| 47/47 [00:00<?, ?it/s]\n"
     ]
    },
    {
     "name": "stdout",
     "output_type": "stream",
     "text": [
      "Scraping Completed! Data Saved\n"
     ]
    },
    {
     "name": "stderr",
     "output_type": "stream",
     "text": [
      "Scrapping Diseases: 100%|██████████| 16/16 [00:00<?, ?it/s]\n"
     ]
    },
    {
     "name": "stdout",
     "output_type": "stream",
     "text": [
      "Scraping Completed! Data Saved\n"
     ]
    },
    {
     "name": "stderr",
     "output_type": "stream",
     "text": [
      "Scrapping Diseases: 100%|██████████| 20/20 [00:00<?, ?it/s]\n"
     ]
    },
    {
     "name": "stdout",
     "output_type": "stream",
     "text": [
      "Scraping Completed! Data Saved\n"
     ]
    },
    {
     "name": "stderr",
     "output_type": "stream",
     "text": [
      "Scrapping Diseases: 100%|██████████| 13/13 [00:00<?, ?it/s]\n"
     ]
    },
    {
     "name": "stdout",
     "output_type": "stream",
     "text": [
      "Scraping Completed! Data Saved\n"
     ]
    },
    {
     "name": "stderr",
     "output_type": "stream",
     "text": [
      "Scrapping Diseases: 100%|██████████| 3/3 [00:00<?, ?it/s]\n"
     ]
    },
    {
     "name": "stdout",
     "output_type": "stream",
     "text": [
      "Scraping Completed! Data Saved\n"
     ]
    },
    {
     "name": "stderr",
     "output_type": "stream",
     "text": [
      "Scrapping Diseases: 100%|██████████| 1/1 [00:00<?, ?it/s]\n"
     ]
    },
    {
     "name": "stdout",
     "output_type": "stream",
     "text": [
      "Scraping Completed! Data Saved\n"
     ]
    },
    {
     "name": "stderr",
     "output_type": "stream",
     "text": [
      "Scrapping Diseases: 100%|██████████| 1/1 [00:00<?, ?it/s]"
     ]
    },
    {
     "name": "stdout",
     "output_type": "stream",
     "text": [
      "Scraping Completed! Data Saved\n",
      "done\n"
     ]
    },
    {
     "name": "stderr",
     "output_type": "stream",
     "text": [
      "\n"
     ]
    }
   ],
   "source": [
    "for letter in string.ascii_uppercase:\n",
    "    base_url = f\"https://www.mayoclinic.org/diseases-conditions/index?letter={letter}\"\n",
    "    web_Scrapping(base_url)\n",
    "print(\"done\")"
   ]
  },
  {
   "cell_type": "code",
   "execution_count": 2,
   "metadata": {},
   "outputs": [],
   "source": [
    "import pandas as pd"
   ]
  },
  {
   "cell_type": "code",
   "execution_count": 4,
   "metadata": {},
   "outputs": [],
   "source": [
    "df = pd.read_csv(\"mayo_diseases.csv\")"
   ]
  },
  {
   "cell_type": "code",
   "execution_count": 5,
   "metadata": {},
   "outputs": [
    {
     "data": {
      "text/plain": [
       "'https://www.mayoclinic.org/diseases-conditions/atrial-fibrillation/symptoms-causes/syc-20350624'"
      ]
     },
     "execution_count": 5,
     "metadata": {},
     "output_type": "execute_result"
    }
   ],
   "source": []
  },
  {
   "cell_type": "code",
   "execution_count": 7,
   "metadata": {},
   "outputs": [
    {
     "name": "stdout",
     "output_type": "stream",
     "text": [
      "\n",
      "Overview:\n",
      "Hyperhidrosis (hi-pur-hi-DROE-sis) is excessive sweating that's not always related to heat or exercise. You may sweat so much that it soaks through your clothes or drips off your hands. Heavy sweating can disrupt your day and cause social anxiety and embarrassment. Hyperhidrosis treatment usually helps. It often begins with antiperspirants. If these don't help, you may need to try different medications and therapies. In severe cases, your health care provider may suggest surgery to remove the sweat glands or to disconnect the nerves related to producing too much sweat. Sometimes an underlying condition may be found and treated. The main symptom of hyperhidrosis is heavy sweating. This goes beyond the sweating from being in a hot environment, exercising, or feeling anxious or stressed. The type of hyperhidrosis that usually affects the hands, feet, underarms or face causes at least one episode a week when you're awake. And the sweating usually happens on both sides of the body. Sometimes excessive sweating is a sign of a serious condition. Seek immediate medical attentionif you have heavy sweating with dizziness, pain in the chest, throat, jaw, arms, shoulders or throat, or cold skin and a rapid pulse. See your health care provider if: Sweating disrupts your daily routineSweating causes emotional distress or social withdrawalYou suddenly begin to sweat more than usualYou experience night sweats for no apparent reason Sweating is the body's mechanism to cool itself. The nervous system automatically triggers sweat glands when your body temperature rises. Sweating also occurs, especially on your palms, when you're nervous. Primary hyperhidrosis is caused by faulty nerve signals that trigger eccrine sweat glands to become overactive. It usually affects the palms, soles, underarms and sometimes the face. There is no medical cause for this type of hyperhidrosis. It can run in families. Secondary hyperhidrosis is caused by an underlying medical condition or by taking certain medications, such as pain relievers, antidepressants, and some diabetes and hormonal medications. This type of hyperhidrosis may cause sweating all over the body. Conditions that might cause it include: DiabetesMenopause hot flashesThyroid problemsSome types of cancerNervous system disordersInfections Risk factors for hyperhidrosis include: Having a blood relative, such as a parent, sibling or grandparent, who sweats heavilyTaking medicines or supplements that cause sweatingHaving a medical condition that causes sweating Complications of hyperhidrosis include: Infections.People who sweat a lot are more prone to skin infections.Social and emotional effects.Having clammy or dripping hands and sweat-soaked clothes can be embarrassing. Your condition may affect your pursuit of work and educational goals. \n",
      "\n",
      "--------------------------------------------------------------------------------\n",
      "\n",
      "Symptoms:\n",
      "The main symptom of hyperhidrosis is heavy sweating. This goes beyond the sweating from being in a hot environment, exercising, or feeling anxious or stressed. The type of hyperhidrosis that usually affects the hands, feet, underarms or face causes at least one episode a week when you're awake. And the sweating usually happens on both sides of the body. Sometimes excessive sweating is a sign of a serious condition. Seek immediate medical attentionif you have heavy sweating with dizziness, pain in the chest, throat, jaw, arms, shoulders or throat, or cold skin and a rapid pulse. See your health care provider if: Sweating disrupts your daily routineSweating causes emotional distress or social withdrawalYou suddenly begin to sweat more than usualYou experience night sweats for no apparent reason Sweating is the body's mechanism to cool itself. The nervous system automatically triggers sweat glands when your body temperature rises. Sweating also occurs, especially on your palms, when you're nervous. Primary hyperhidrosis is caused by faulty nerve signals that trigger eccrine sweat glands to become overactive. It usually affects the palms, soles, underarms and sometimes the face. There is no medical cause for this type of hyperhidrosis. It can run in families. Secondary hyperhidrosis is caused by an underlying medical condition or by taking certain medications, such as pain relievers, antidepressants, and some diabetes and hormonal medications. This type of hyperhidrosis may cause sweating all over the body. Conditions that might cause it include: DiabetesMenopause hot flashesThyroid problemsSome types of cancerNervous system disordersInfections Risk factors for hyperhidrosis include: Having a blood relative, such as a parent, sibling or grandparent, who sweats heavilyTaking medicines or supplements that cause sweatingHaving a medical condition that causes sweating Complications of hyperhidrosis include: Infections.People who sweat a lot are more prone to skin infections.Social and emotional effects.Having clammy or dripping hands and sweat-soaked clothes can be embarrassing. Your condition may affect your pursuit of work and educational goals. \n",
      "\n",
      "--------------------------------------------------------------------------------\n",
      "\n",
      "When to see a doctor:\n",
      "Sometimes excessive sweating is a sign of a serious condition. Seek immediate medical attentionif you have heavy sweating with dizziness, pain in the chest, throat, jaw, arms, shoulders or throat, or cold skin and a rapid pulse. See your health care provider if: Sweating disrupts your daily routineSweating causes emotional distress or social withdrawalYou suddenly begin to sweat more than usualYou experience night sweats for no apparent reason Sweating is the body's mechanism to cool itself. The nervous system automatically triggers sweat glands when your body temperature rises. Sweating also occurs, especially on your palms, when you're nervous. Primary hyperhidrosis is caused by faulty nerve signals that trigger eccrine sweat glands to become overactive. It usually affects the palms, soles, underarms and sometimes the face. There is no medical cause for this type of hyperhidrosis. It can run in families. Secondary hyperhidrosis is caused by an underlying medical condition or by taking certain medications, such as pain relievers, antidepressants, and some diabetes and hormonal medications. This type of hyperhidrosis may cause sweating all over the body. Conditions that might cause it include: DiabetesMenopause hot flashesThyroid problemsSome types of cancerNervous system disordersInfections Risk factors for hyperhidrosis include: Having a blood relative, such as a parent, sibling or grandparent, who sweats heavilyTaking medicines or supplements that cause sweatingHaving a medical condition that causes sweating Complications of hyperhidrosis include: Infections.People who sweat a lot are more prone to skin infections.Social and emotional effects.Having clammy or dripping hands and sweat-soaked clothes can be embarrassing. Your condition may affect your pursuit of work and educational goals. \n",
      "\n",
      "--------------------------------------------------------------------------------\n",
      "\n",
      "Causes:\n",
      "Sweating is the body's mechanism to cool itself. The nervous system automatically triggers sweat glands when your body temperature rises. Sweating also occurs, especially on your palms, when you're nervous. Primary hyperhidrosis is caused by faulty nerve signals that trigger eccrine sweat glands to become overactive. It usually affects the palms, soles, underarms and sometimes the face. There is no medical cause for this type of hyperhidrosis. It can run in families. Secondary hyperhidrosis is caused by an underlying medical condition or by taking certain medications, such as pain relievers, antidepressants, and some diabetes and hormonal medications. This type of hyperhidrosis may cause sweating all over the body. Conditions that might cause it include: DiabetesMenopause hot flashesThyroid problemsSome types of cancerNervous system disordersInfections Risk factors for hyperhidrosis include: Having a blood relative, such as a parent, sibling or grandparent, who sweats heavilyTaking medicines or supplements that cause sweatingHaving a medical condition that causes sweating Complications of hyperhidrosis include: Infections.People who sweat a lot are more prone to skin infections.Social and emotional effects.Having clammy or dripping hands and sweat-soaked clothes can be embarrassing. Your condition may affect your pursuit of work and educational goals. \n",
      "\n",
      "--------------------------------------------------------------------------------\n",
      "\n",
      "Risk factors:\n",
      "Risk factors for hyperhidrosis include: Having a blood relative, such as a parent, sibling or grandparent, who sweats heavilyTaking medicines or supplements that cause sweatingHaving a medical condition that causes sweating Complications of hyperhidrosis include: Infections.People who sweat a lot are more prone to skin infections.Social and emotional effects.Having clammy or dripping hands and sweat-soaked clothes can be embarrassing. Your condition may affect your pursuit of work and educational goals. \n",
      "\n",
      "--------------------------------------------------------------------------------\n",
      "\n",
      "Complications:\n",
      "Complications of hyperhidrosis include: Infections.People who sweat a lot are more prone to skin infections.Social and emotional effects.Having clammy or dripping hands and sweat-soaked clothes can be embarrassing. Your condition may affect your pursuit of work and educational goals. \n",
      "\n",
      "--------------------------------------------------------------------------------\n",
      "\n",
      "Prevention:\n",
      "No data found\n",
      "\n",
      "--------------------------------------------------------------------------------\n"
     ]
    }
   ],
   "source": [
    "import requests\n",
    "from bs4 import BeautifulSoup\n",
    "from typing import Dict\n",
    "import logging\n",
    "\n",
    "def scrape_medical_info(url: str) -> Dict[str, str]:\n",
    "    \"\"\"\n",
    "    Scrapes medical information from Mayo Clinic website.\n",
    "    \n",
    "    Args:\n",
    "        url (str): Mayo Clinic URL to scrape\n",
    "        \n",
    "    Returns:\n",
    "        Dict[str, str]: Dictionary containing medical information by section\n",
    "    \"\"\"\n",
    "    # Setup logging\n",
    "    logging.basicConfig(level=logging.INFO)\n",
    "    logger = logging.getLogger(__name__)\n",
    "\n",
    "    # Headers to mimic browser request\n",
    "    headers = {\n",
    "        \"User-Agent\": \"Mozilla/5.0 (Windows NT 10.0; Win64; x64) AppleWebKit/537.36\",\n",
    "        \"Accept\": \"text/html,application/xhtml+xml,application/xml;q=0.9,image/webp,*/*;q=0.8\"\n",
    "    }\n",
    "\n",
    "    sections = [\n",
    "        \"Overview\", \"Symptoms\", \"When to see a doctor\", \n",
    "        \"Causes\", \"Risk factors\", \"Complications\", \"Prevention\"\n",
    "    ]\n",
    "    \n",
    "    content = {}\n",
    "\n",
    "    try:\n",
    "        # Fetch webpage\n",
    "        response = requests.get(url, headers=headers, timeout=10)\n",
    "        response.raise_for_status()\n",
    "        \n",
    "        # Parse HTML\n",
    "        soup = BeautifulSoup(response.text, 'html.parser')\n",
    "        \n",
    "        # Extract content for each section\n",
    "        for section in sections:\n",
    "            section_content = []\n",
    "            \n",
    "            # Find section header\n",
    "            header = soup.find(['h2', 'h3'], string=section)\n",
    "            if header:\n",
    "                # Get all text elements after header until next section\n",
    "                for elem in header.find_next_siblings(['p', 'ul', 'li']):\n",
    "                    if elem.name in ['h2', 'h3']:\n",
    "                        break\n",
    "                    section_content.append(elem.get_text(strip=True))\n",
    "                    \n",
    "            content[section] = \" \".join(section_content) if section_content else \"No data found\"\n",
    "            \n",
    "        return content\n",
    "\n",
    "    except requests.exceptions.RequestException as e:\n",
    "        logger.error(f\"Failed to fetch URL: {e}\")\n",
    "        return {section: \"Error fetching data\" for section in sections}\n",
    "    \n",
    "    except Exception as e:\n",
    "        logger.error(f\"Unexpected error: {e}\")\n",
    "        return {section: \"Error processing data\" for section in sections}\n",
    "\n",
    "# Example usage\n",
    "if __name__ == \"__main__\":\n",
    "    url = df[\"Link\"][1]\n",
    "    data = scrape_medical_info(url)\n",
    "    \n",
    "    # Print results\n",
    "    for section, text in data.items():\n",
    "        print(f\"\\n{section}:\")\n",
    "        print(f\"{text}\\n\")\n",
    "        print(\"-\" * 80)"
   ]
  },
  {
   "cell_type": "code",
   "execution_count": 9,
   "metadata": {},
   "outputs": [
    {
     "data": {
      "text/plain": [
       "'https://www.mayoclinic.org/diseases-conditions/bartholin-cyst/symptoms-causes/syc-20369976'"
      ]
     },
     "execution_count": 9,
     "metadata": {},
     "output_type": "execute_result"
    }
   ],
   "source": [
    "df[\"Link\"][2]"
   ]
  },
  {
   "cell_type": "code",
   "execution_count": null,
   "metadata": {},
   "outputs": [],
   "source": [
    "\n",
    "\n"
   ]
  }
 ],
 "metadata": {
  "kernelspec": {
   "display_name": "myenv",
   "language": "python",
   "name": "python3"
  },
  "language_info": {
   "codemirror_mode": {
    "name": "ipython",
    "version": 3
   },
   "file_extension": ".py",
   "mimetype": "text/x-python",
   "name": "python",
   "nbconvert_exporter": "python",
   "pygments_lexer": "ipython3",
   "version": "3.9.13"
  }
 },
 "nbformat": 4,
 "nbformat_minor": 2
}
