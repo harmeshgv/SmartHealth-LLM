{
 "cells": [
  {
   "cell_type": "code",
   "execution_count": 2,
   "metadata": {},
   "outputs": [],
   "source": [
    "\n",
    "import requests\n",
    "from bs4 import BeautifulSoup\n",
    "import string\n",
    "import os\n",
    "from tqdm import tqdm\n",
    "import csv\n",
    "import pandas as pd\n",
    "import logging \n"
   ]
  },
  {
   "cell_type": "code",
   "execution_count": null,
   "metadata": {},
   "outputs": [],
   "source": [
    "def web_Scrapping(base_url):\n",
    "    response = requests.get(base_url)\n",
    "    if response.status_code != 200:\n",
    "        print(\"Failed to retrieve page\")\n",
    "        exit()\n",
    "        \n",
    "    soup = BeautifulSoup(response.text, \"html.parser\")\n",
    "    \n",
    "    items = soup.select(\".cmp-results-with-primary-name__see-link, .cmp-results-with-primary-name a\")\n",
    "    \n",
    "    \n",
    "    disease_data = []\n",
    "    for item in tqdm(items, desc=\"Scrapping Diseases\"):\n",
    "        disease_name = item.text.strip()\n",
    "        disease_link = f\"https://www.mayoclinic.org{item['href']}\" if item[\"href\"].startswith(\"/\") else item['href']\n",
    "        disease_data.append([disease_name, disease_link])\n",
    "        \n",
    "    file_exists = os.path.isfile(\"mayo_diseases.csv\")\n",
    "        \n",
    "    with open(\"mayo_diseases.csv\", \"a\", newline=\"\", encoding=\"utf-8\") as file:\n",
    "        writer = csv.writer(file)\n",
    "        if not file_exists:\n",
    "            writer.writerow([\"Disease\", \"Link\"])\n",
    "        writer.writerows(disease_data)\n",
    "        \n",
    "    print(\"Scraping Completed! Data Saved\")      \n",
    "    "
   ]
  },
  {
   "cell_type": "code",
   "execution_count": 26,
   "metadata": {},
   "outputs": [
    {
     "name": "stderr",
     "output_type": "stream",
     "text": [
      "Scrapping Diseases: 100%|██████████| 133/133 [00:00<?, ?it/s]\n"
     ]
    },
    {
     "name": "stdout",
     "output_type": "stream",
     "text": [
      "Scraping Completed! Data Saved\n"
     ]
    },
    {
     "name": "stderr",
     "output_type": "stream",
     "text": [
      "Scrapping Diseases: 100%|██████████| 38/38 [00:00<?, ?it/s]\n"
     ]
    },
    {
     "name": "stdout",
     "output_type": "stream",
     "text": [
      "Scraping Completed! Data Saved\n"
     ]
    },
    {
     "name": "stderr",
     "output_type": "stream",
     "text": [
      "Scrapping Diseases: 100%|██████████| 163/163 [00:00<?, ?it/s]\n"
     ]
    },
    {
     "name": "stdout",
     "output_type": "stream",
     "text": [
      "Scraping Completed! Data Saved\n"
     ]
    },
    {
     "name": "stderr",
     "output_type": "stream",
     "text": [
      "Scrapping Diseases: 100%|██████████| 51/51 [00:00<?, ?it/s]\n"
     ]
    },
    {
     "name": "stdout",
     "output_type": "stream",
     "text": [
      "Scraping Completed! Data Saved\n"
     ]
    },
    {
     "name": "stderr",
     "output_type": "stream",
     "text": [
      "Scrapping Diseases: 100%|██████████| 30/30 [00:00<?, ?it/s]\n"
     ]
    },
    {
     "name": "stdout",
     "output_type": "stream",
     "text": [
      "Scraping Completed! Data Saved\n"
     ]
    },
    {
     "name": "stderr",
     "output_type": "stream",
     "text": [
      "Scrapping Diseases: 100%|██████████| 49/49 [00:00<?, ?it/s]\n"
     ]
    },
    {
     "name": "stdout",
     "output_type": "stream",
     "text": [
      "Scraping Completed! Data Saved\n"
     ]
    },
    {
     "name": "stderr",
     "output_type": "stream",
     "text": [
      "Scrapping Diseases: 100%|██████████| 22/22 [00:00<?, ?it/s]\n"
     ]
    },
    {
     "name": "stdout",
     "output_type": "stream",
     "text": [
      "Scraping Completed! Data Saved\n"
     ]
    },
    {
     "name": "stderr",
     "output_type": "stream",
     "text": [
      "Scrapping Diseases: 100%|██████████| 75/75 [00:00<?, ?it/s]\n"
     ]
    },
    {
     "name": "stdout",
     "output_type": "stream",
     "text": [
      "Scraping Completed! Data Saved\n"
     ]
    },
    {
     "name": "stderr",
     "output_type": "stream",
     "text": [
      "Scrapping Diseases: 100%|██████████| 37/37 [00:00<?, ?it/s]\n"
     ]
    },
    {
     "name": "stdout",
     "output_type": "stream",
     "text": [
      "Scraping Completed! Data Saved\n"
     ]
    },
    {
     "name": "stderr",
     "output_type": "stream",
     "text": [
      "Scrapping Diseases: 100%|██████████| 3/3 [00:00<?, ?it/s]\n"
     ]
    },
    {
     "name": "stdout",
     "output_type": "stream",
     "text": [
      "Scraping Completed! Data Saved\n"
     ]
    },
    {
     "name": "stderr",
     "output_type": "stream",
     "text": [
      "Scrapping Diseases: 100%|██████████| 9/9 [00:00<00:00, 8994.22it/s]\n"
     ]
    },
    {
     "name": "stdout",
     "output_type": "stream",
     "text": [
      "Scraping Completed! Data Saved\n"
     ]
    },
    {
     "name": "stderr",
     "output_type": "stream",
     "text": [
      "Scrapping Diseases: 100%|██████████| 42/42 [00:00<?, ?it/s]\n"
     ]
    },
    {
     "name": "stdout",
     "output_type": "stream",
     "text": [
      "Scraping Completed! Data Saved\n"
     ]
    },
    {
     "name": "stderr",
     "output_type": "stream",
     "text": [
      "Scrapping Diseases: 100%|██████████| 43/43 [00:00<?, ?it/s]\n"
     ]
    },
    {
     "name": "stdout",
     "output_type": "stream",
     "text": [
      "Scraping Completed! Data Saved\n"
     ]
    },
    {
     "name": "stderr",
     "output_type": "stream",
     "text": [
      "Scrapping Diseases: 100%|██████████| 33/33 [00:00<00:00, 33312.16it/s]\n"
     ]
    },
    {
     "name": "stdout",
     "output_type": "stream",
     "text": [
      "Scraping Completed! Data Saved\n"
     ]
    },
    {
     "name": "stderr",
     "output_type": "stream",
     "text": [
      "Scrapping Diseases: 100%|██████████| 25/25 [00:00<?, ?it/s]\n"
     ]
    },
    {
     "name": "stdout",
     "output_type": "stream",
     "text": [
      "Scraping Completed! Data Saved\n"
     ]
    },
    {
     "name": "stderr",
     "output_type": "stream",
     "text": [
      "Scrapping Diseases: 100%|██████████| 100/100 [00:00<?, ?it/s]\n"
     ]
    },
    {
     "name": "stdout",
     "output_type": "stream",
     "text": [
      "Scraping Completed! Data Saved\n"
     ]
    },
    {
     "name": "stderr",
     "output_type": "stream",
     "text": [
      "Scrapping Diseases: 0it [00:00, ?it/s]\n"
     ]
    },
    {
     "name": "stdout",
     "output_type": "stream",
     "text": [
      "Scraping Completed! Data Saved\n"
     ]
    },
    {
     "name": "stderr",
     "output_type": "stream",
     "text": [
      "Scrapping Diseases: 100%|██████████| 34/34 [00:00<?, ?it/s]\n"
     ]
    },
    {
     "name": "stdout",
     "output_type": "stream",
     "text": [
      "Scraping Completed! Data Saved\n"
     ]
    },
    {
     "name": "stderr",
     "output_type": "stream",
     "text": [
      "Scrapping Diseases: 100%|██████████| 99/99 [00:00<?, ?it/s]\n"
     ]
    },
    {
     "name": "stdout",
     "output_type": "stream",
     "text": [
      "Scraping Completed! Data Saved\n"
     ]
    },
    {
     "name": "stderr",
     "output_type": "stream",
     "text": [
      "Scrapping Diseases: 100%|██████████| 47/47 [00:00<?, ?it/s]\n"
     ]
    },
    {
     "name": "stdout",
     "output_type": "stream",
     "text": [
      "Scraping Completed! Data Saved\n"
     ]
    },
    {
     "name": "stderr",
     "output_type": "stream",
     "text": [
      "Scrapping Diseases: 100%|██████████| 16/16 [00:00<?, ?it/s]\n"
     ]
    },
    {
     "name": "stdout",
     "output_type": "stream",
     "text": [
      "Scraping Completed! Data Saved\n"
     ]
    },
    {
     "name": "stderr",
     "output_type": "stream",
     "text": [
      "Scrapping Diseases: 100%|██████████| 20/20 [00:00<?, ?it/s]\n"
     ]
    },
    {
     "name": "stdout",
     "output_type": "stream",
     "text": [
      "Scraping Completed! Data Saved\n"
     ]
    },
    {
     "name": "stderr",
     "output_type": "stream",
     "text": [
      "Scrapping Diseases: 100%|██████████| 13/13 [00:00<?, ?it/s]\n"
     ]
    },
    {
     "name": "stdout",
     "output_type": "stream",
     "text": [
      "Scraping Completed! Data Saved\n"
     ]
    },
    {
     "name": "stderr",
     "output_type": "stream",
     "text": [
      "Scrapping Diseases: 100%|██████████| 3/3 [00:00<?, ?it/s]\n"
     ]
    },
    {
     "name": "stdout",
     "output_type": "stream",
     "text": [
      "Scraping Completed! Data Saved\n"
     ]
    },
    {
     "name": "stderr",
     "output_type": "stream",
     "text": [
      "Scrapping Diseases: 100%|██████████| 1/1 [00:00<?, ?it/s]\n"
     ]
    },
    {
     "name": "stdout",
     "output_type": "stream",
     "text": [
      "Scraping Completed! Data Saved\n"
     ]
    },
    {
     "name": "stderr",
     "output_type": "stream",
     "text": [
      "Scrapping Diseases: 100%|██████████| 1/1 [00:00<?, ?it/s]"
     ]
    },
    {
     "name": "stdout",
     "output_type": "stream",
     "text": [
      "Scraping Completed! Data Saved\n",
      "done\n"
     ]
    },
    {
     "name": "stderr",
     "output_type": "stream",
     "text": [
      "\n"
     ]
    }
   ],
   "source": [
    "for letter in string.ascii_uppercase:\n",
    "    base_url = f\"https://www.mayoclinic.org/diseases-conditions/index?letter={letter}\"\n",
    "    web_Scrapping(base_url)\n",
    "print(\"done\")"
   ]
  },
  {
   "cell_type": "code",
   "execution_count": null,
   "metadata": {},
   "outputs": [],
   "source": [
    "\n",
    "# Set up logging once\n",
    "logging.basicConfig(level=logging.ERROR)\n",
    "logger = logging.getLogger(__name__)\n",
    "\n",
    "def data_extractor(base_url):\n",
    "    headers = {\n",
    "        \"User-Agent\": \"Mozilla/5.0 (Windows NT 10.0; Win64; x64) AppleWebKit/537.36\",\n",
    "        \"Accept\": \"text/html,application/xhtml+xml,application/xml;q=0.9,image/webp,*/*;q=0.8\"\n",
    "    }\n",
    "    \n",
    "    try:\n",
    "        response = requests.get(base_url, headers=headers, timeout=10)\n",
    "        response.raise_for_status()\n",
    "        \n",
    "        soup = BeautifulSoup(response.text, \"html.parser\")\n",
    "        \n",
    "        link_tags = soup.find_all('a', class_=\"cmp-tab-navigation-tab__button\")\n",
    "        \n",
    "        if len(link_tags) >= 2:\n",
    "            href_1 = link_tags[1].get('href')\n",
    "            href_2 = link_tags[2].get('href')\n",
    "\n",
    "        else:\n",
    "            print(\"Second link not found.\")\n",
    "\n",
    "    except requests.exceptions.RequestException as e:\n",
    "        logger.error(f\"Failed to fetch URL: {e}\")\n",
    "        return None\n"
   ]
  },
  {
   "cell_type": "code",
   "execution_count": 38,
   "metadata": {},
   "outputs": [
    {
     "name": "stdout",
     "output_type": "stream",
     "text": [
      "Extracted: /diseases-conditions/bartholin-cyst/diagnosis-treatment/drc-20369981\n",
      "Link extracted successfully: /diseases-conditions/bartholin-cyst/diagnosis-treatment/drc-20369981\n"
     ]
    }
   ],
   "source": [
    "url = \"https://www.mayoclinic.org/diseases-conditions/bartholin-cyst/symptoms-causes/syc-20369976\"\n",
    "second_link = data_extractor(url)\n",
    "\n",
    "if second_link:\n",
    "    print(\"Link extracted successfully:\", second_link)\n",
    "else:\n",
    "    print(\"Link extraction failed.\")\n"
   ]
  },
  {
   "cell_type": "code",
   "execution_count": 7,
   "metadata": {},
   "outputs": [
    {
     "name": "stdout",
     "output_type": "stream",
     "text": [
      "\n",
      "Overview:\n",
      "Hyperhidrosis (hi-pur-hi-DROE-sis) is excessive sweating that's not always related to heat or exercise. You may sweat so much that it soaks through your clothes or drips off your hands. Heavy sweating can disrupt your day and cause social anxiety and embarrassment. Hyperhidrosis treatment usually helps. It often begins with antiperspirants. If these don't help, you may need to try different medications and therapies. In severe cases, your health care provider may suggest surgery to remove the sweat glands or to disconnect the nerves related to producing too much sweat. Sometimes an underlying condition may be found and treated. The main symptom of hyperhidrosis is heavy sweating. This goes beyond the sweating from being in a hot environment, exercising, or feeling anxious or stressed. The type of hyperhidrosis that usually affects the hands, feet, underarms or face causes at least one episode a week when you're awake. And the sweating usually happens on both sides of the body. Sometimes excessive sweating is a sign of a serious condition. Seek immediate medical attentionif you have heavy sweating with dizziness, pain in the chest, throat, jaw, arms, shoulders or throat, or cold skin and a rapid pulse. See your health care provider if: Sweating disrupts your daily routineSweating causes emotional distress or social withdrawalYou suddenly begin to sweat more than usualYou experience night sweats for no apparent reason Sweating is the body's mechanism to cool itself. The nervous system automatically triggers sweat glands when your body temperature rises. Sweating also occurs, especially on your palms, when you're nervous. Primary hyperhidrosis is caused by faulty nerve signals that trigger eccrine sweat glands to become overactive. It usually affects the palms, soles, underarms and sometimes the face. There is no medical cause for this type of hyperhidrosis. It can run in families. Secondary hyperhidrosis is caused by an underlying medical condition or by taking certain medications, such as pain relievers, antidepressants, and some diabetes and hormonal medications. This type of hyperhidrosis may cause sweating all over the body. Conditions that might cause it include: DiabetesMenopause hot flashesThyroid problemsSome types of cancerNervous system disordersInfections Risk factors for hyperhidrosis include: Having a blood relative, such as a parent, sibling or grandparent, who sweats heavilyTaking medicines or supplements that cause sweatingHaving a medical condition that causes sweating Complications of hyperhidrosis include: Infections.People who sweat a lot are more prone to skin infections.Social and emotional effects.Having clammy or dripping hands and sweat-soaked clothes can be embarrassing. Your condition may affect your pursuit of work and educational goals. \n",
      "\n",
      "--------------------------------------------------------------------------------\n",
      "\n",
      "Symptoms:\n",
      "The main symptom of hyperhidrosis is heavy sweating. This goes beyond the sweating from being in a hot environment, exercising, or feeling anxious or stressed. The type of hyperhidrosis that usually affects the hands, feet, underarms or face causes at least one episode a week when you're awake. And the sweating usually happens on both sides of the body. Sometimes excessive sweating is a sign of a serious condition. Seek immediate medical attentionif you have heavy sweating with dizziness, pain in the chest, throat, jaw, arms, shoulders or throat, or cold skin and a rapid pulse. See your health care provider if: Sweating disrupts your daily routineSweating causes emotional distress or social withdrawalYou suddenly begin to sweat more than usualYou experience night sweats for no apparent reason Sweating is the body's mechanism to cool itself. The nervous system automatically triggers sweat glands when your body temperature rises. Sweating also occurs, especially on your palms, when you're nervous. Primary hyperhidrosis is caused by faulty nerve signals that trigger eccrine sweat glands to become overactive. It usually affects the palms, soles, underarms and sometimes the face. There is no medical cause for this type of hyperhidrosis. It can run in families. Secondary hyperhidrosis is caused by an underlying medical condition or by taking certain medications, such as pain relievers, antidepressants, and some diabetes and hormonal medications. This type of hyperhidrosis may cause sweating all over the body. Conditions that might cause it include: DiabetesMenopause hot flashesThyroid problemsSome types of cancerNervous system disordersInfections Risk factors for hyperhidrosis include: Having a blood relative, such as a parent, sibling or grandparent, who sweats heavilyTaking medicines or supplements that cause sweatingHaving a medical condition that causes sweating Complications of hyperhidrosis include: Infections.People who sweat a lot are more prone to skin infections.Social and emotional effects.Having clammy or dripping hands and sweat-soaked clothes can be embarrassing. Your condition may affect your pursuit of work and educational goals. \n",
      "\n",
      "--------------------------------------------------------------------------------\n",
      "\n",
      "When to see a doctor:\n",
      "Sometimes excessive sweating is a sign of a serious condition. Seek immediate medical attentionif you have heavy sweating with dizziness, pain in the chest, throat, jaw, arms, shoulders or throat, or cold skin and a rapid pulse. See your health care provider if: Sweating disrupts your daily routineSweating causes emotional distress or social withdrawalYou suddenly begin to sweat more than usualYou experience night sweats for no apparent reason Sweating is the body's mechanism to cool itself. The nervous system automatically triggers sweat glands when your body temperature rises. Sweating also occurs, especially on your palms, when you're nervous. Primary hyperhidrosis is caused by faulty nerve signals that trigger eccrine sweat glands to become overactive. It usually affects the palms, soles, underarms and sometimes the face. There is no medical cause for this type of hyperhidrosis. It can run in families. Secondary hyperhidrosis is caused by an underlying medical condition or by taking certain medications, such as pain relievers, antidepressants, and some diabetes and hormonal medications. This type of hyperhidrosis may cause sweating all over the body. Conditions that might cause it include: DiabetesMenopause hot flashesThyroid problemsSome types of cancerNervous system disordersInfections Risk factors for hyperhidrosis include: Having a blood relative, such as a parent, sibling or grandparent, who sweats heavilyTaking medicines or supplements that cause sweatingHaving a medical condition that causes sweating Complications of hyperhidrosis include: Infections.People who sweat a lot are more prone to skin infections.Social and emotional effects.Having clammy or dripping hands and sweat-soaked clothes can be embarrassing. Your condition may affect your pursuit of work and educational goals. \n",
      "\n",
      "--------------------------------------------------------------------------------\n",
      "\n",
      "Causes:\n",
      "Sweating is the body's mechanism to cool itself. The nervous system automatically triggers sweat glands when your body temperature rises. Sweating also occurs, especially on your palms, when you're nervous. Primary hyperhidrosis is caused by faulty nerve signals that trigger eccrine sweat glands to become overactive. It usually affects the palms, soles, underarms and sometimes the face. There is no medical cause for this type of hyperhidrosis. It can run in families. Secondary hyperhidrosis is caused by an underlying medical condition or by taking certain medications, such as pain relievers, antidepressants, and some diabetes and hormonal medications. This type of hyperhidrosis may cause sweating all over the body. Conditions that might cause it include: DiabetesMenopause hot flashesThyroid problemsSome types of cancerNervous system disordersInfections Risk factors for hyperhidrosis include: Having a blood relative, such as a parent, sibling or grandparent, who sweats heavilyTaking medicines or supplements that cause sweatingHaving a medical condition that causes sweating Complications of hyperhidrosis include: Infections.People who sweat a lot are more prone to skin infections.Social and emotional effects.Having clammy or dripping hands and sweat-soaked clothes can be embarrassing. Your condition may affect your pursuit of work and educational goals. \n",
      "\n",
      "--------------------------------------------------------------------------------\n",
      "\n",
      "Risk factors:\n",
      "Risk factors for hyperhidrosis include: Having a blood relative, such as a parent, sibling or grandparent, who sweats heavilyTaking medicines or supplements that cause sweatingHaving a medical condition that causes sweating Complications of hyperhidrosis include: Infections.People who sweat a lot are more prone to skin infections.Social and emotional effects.Having clammy or dripping hands and sweat-soaked clothes can be embarrassing. Your condition may affect your pursuit of work and educational goals. \n",
      "\n",
      "--------------------------------------------------------------------------------\n",
      "\n",
      "Complications:\n",
      "Complications of hyperhidrosis include: Infections.People who sweat a lot are more prone to skin infections.Social and emotional effects.Having clammy or dripping hands and sweat-soaked clothes can be embarrassing. Your condition may affect your pursuit of work and educational goals. \n",
      "\n",
      "--------------------------------------------------------------------------------\n",
      "\n",
      "Prevention:\n",
      "No data found\n",
      "\n",
      "--------------------------------------------------------------------------------\n"
     ]
    }
   ],
   "source": [
    "import requests\n",
    "from bs4 import BeautifulSoup\n",
    "from typing import Dict\n",
    "import logging\n",
    "\n",
    "def scrape_medical_info(url: str) -> Dict[str, str]:\n",
    "    \"\"\"\n",
    "    Scrapes medical information from Mayo Clinic website.\n",
    "    \n",
    "    Args:\n",
    "        url (str): Mayo Clinic URL to scrape\n",
    "        \n",
    "    Returns:\n",
    "        Dict[str, str]: Dictionary containing medical information by section\n",
    "    \"\"\"\n",
    "    # Setup logging\n",
    "    logging.basicConfig(level=logging.INFO)\n",
    "    logger = logging.getLogger(__name__)\n",
    "\n",
    "    # Headers to mimic browser request\n",
    "    headers = {\n",
    "        \"User-Agent\": \"Mozilla/5.0 (Windows NT 10.0; Win64; x64) AppleWebKit/537.36\",\n",
    "        \"Accept\": \"text/html,application/xhtml+xml,application/xml;q=0.9,image/webp,*/*;q=0.8\"\n",
    "    }\n",
    "\n",
    "    sections = [\n",
    "        \"Overview\", \"Symptoms\", \"When to see a doctor\", \n",
    "        \"Causes\", \"Risk factors\", \"Complications\", \"Prevention\"\n",
    "    ]\n",
    "    \n",
    "    content = {}\n",
    "\n",
    "    try:\n",
    "        # Fetch webpage\n",
    "        response = requests.get(url, headers=headers, timeout=10)\n",
    "        response.raise_for_status()\n",
    "        \n",
    "        # Parse HTML\n",
    "        soup = BeautifulSoup(response.text, 'html.parser')\n",
    "        \n",
    "        # Extract content for each section\n",
    "        for section in sections:\n",
    "            section_content = []\n",
    "            \n",
    "            # Find section header\n",
    "            header = soup.find(['h2', 'h3'], string=section)\n",
    "            if header:\n",
    "                # Get all text elements after header until next section\n",
    "                for elem in header.find_next_siblings(['p', 'ul', 'li']):\n",
    "                    if elem.name in ['h2', 'h3']:\n",
    "                        break\n",
    "                    section_content.append(elem.get_text(strip=True))\n",
    "                    \n",
    "            content[section] = \" \".join(section_content) if section_content else \"No data found\"\n",
    "            \n",
    "        return content\n",
    "\n",
    "    except requests.exceptions.RequestException as e:\n",
    "        logger.error(f\"Failed to fetch URL: {e}\")\n",
    "        return {section: \"Error fetching data\" for section in sections}\n",
    "    \n",
    "    except Exception as e:\n",
    "        logger.error(f\"Unexpected error: {e}\")\n",
    "        return {section: \"Error processing data\" for section in sections}\n",
    "\n",
    "# Example usage\n",
    "if __name__ == \"__main__\":\n",
    "    url = df[\"Link\"][1]\n",
    "    data = scrape_medical_info(url)\n",
    "    \n",
    "    # Print results\n",
    "    for section, text in data.items():\n",
    "        print(f\"\\n{section}:\")\n",
    "        print(f\"{text}\\n\")\n",
    "        print(\"-\" * 80)"
   ]
  },
  {
   "cell_type": "code",
   "execution_count": 9,
   "metadata": {},
   "outputs": [
    {
     "data": {
      "text/plain": [
       "'https://www.mayoclinic.org/diseases-conditions/bartholin-cyst/symptoms-causes/syc-20369976'"
      ]
     },
     "execution_count": 9,
     "metadata": {},
     "output_type": "execute_result"
    }
   ],
   "source": [
    "df[\"Link\"][2]"
   ]
  },
  {
   "cell_type": "code",
   "execution_count": null,
   "metadata": {},
   "outputs": [],
   "source": [
    "import os\n",
    "import csv\n",
    "import requests\n",
    "import logging\n",
    "from bs4 import BeautifulSoup\n",
    "from tqdm import tqdm\n",
    "\n",
    "# Logging setup\n",
    "logging.basicConfig(level=logging.ERROR)\n",
    "logger = logging.getLogger(__name__)\n",
    "\n",
    "\n",
    "def data_extractor(base_url):\n",
    "    headers = {\n",
    "        \"User-Agent\": \"Mozilla/5.0 (Windows NT 10.0; Win64; x64) AppleWebKit/537.36\",\n",
    "        \"Accept\": \"text/html,application/xhtml+xml,application/xml;q=0.9,image/webp,*/*;q=0.8\"\n",
    "    }\n",
    "\n",
    "    try:\n",
    "        response = requests.get(base_url, headers=headers, timeout=20)\n",
    "        response.raise_for_status()\n",
    "\n",
    "        soup = BeautifulSoup(response.text, \"html.parser\")\n",
    "        link_tags = soup.find_all('a', class_=\"cmp-tab-navigation-tab__button\")\n",
    "\n",
    "        link1 = \"\"\n",
    "        link2 = \"\"\n",
    "\n",
    "        if len(link_tags) > 1:\n",
    "            href1 = link_tags[1].get('href')\n",
    "            if href1:\n",
    "                link1 = f\"https://www.mayoclinic.org{href1}\" if href1.startswith(\"/\") else href1\n",
    "\n",
    "        if len(link_tags) > 2:\n",
    "            href2 = link_tags[2].get('href')\n",
    "            if href2:\n",
    "                link2 = f\"https://www.mayoclinic.org{href2}\" if href2.startswith(\"/\") else href2\n",
    "\n",
    "        return link1, link2\n",
    "\n",
    "    except requests.exceptions.RequestException as e:\n",
    "        logger.error(f\"Failed to fetch additional links for {base_url}: {e}\")\n",
    "        return \"\", \"\"\n",
    "\n",
    "\n",
    "def web_Scrapping(base_url):\n",
    "    response = requests.get(base_url)\n",
    "    if response.status_code != 200:\n",
    "        print(\"Failed to retrieve page\")\n",
    "        exit()\n",
    "\n",
    "    soup = BeautifulSoup(response.text, \"html.parser\")\n",
    "    items = soup.select(\".cmp-results-with-primary-name__see-link, .cmp-results-with-primary-name a\")\n",
    "\n",
    "    file_exists = os.path.isfile(\"mayo_diseases.csv\")\n",
    "    with open(\"mayo_diseases.csv\", \"a\", newline=\"\", encoding=\"utf-8\") as file:\n",
    "        writer = csv.writer(file)\n",
    "        if not file_exists:\n",
    "            writer.writerow([\"Disease\", \"Main Link\", \"Link 1\", \"Link 2\"])\n",
    "\n",
    "        for item in tqdm(items, desc=\"Scraping Diseases\"):\n",
    "            disease_name = item.text.strip()\n",
    "            main_link = f\"https://www.mayoclinic.org{item['href']}\" if item['href'].startswith(\"/\") else item['href']\n",
    "\n",
    "            link1, link2 = data_extractor(main_link)\n",
    "            writer.writerow([disease_name, main_link, link1, link2])\n",
    "\n",
    "    print(\"Scraping Completed! Data Saved\")\n",
    "\n",
    "\n",
    "# Example usage\n",
    "# web_Scrapping(\"https://www.mayoclinic.org/diseases-conditions/index\")\n"
   ]
  },
  {
   "cell_type": "code",
   "execution_count": 42,
   "metadata": {},
   "outputs": [
    {
     "name": "stderr",
     "output_type": "stream",
     "text": [
      "Scraping Diseases:   1%|          | 1/133 [00:00<00:31,  4.25it/s]ERROR:__main__:Failed to fetch additional links for https://www.mayoclinic.org/diseases-conditions/hyperhidrosis/symptoms-causes/syc-20367152: HTTPSConnectionPool(host='www.mayoclinic.org', port=443): Read timed out. (read timeout=10)\n",
      "Scraping Diseases:  10%|▉         | 13/133 [00:21<01:40,  1.20it/s]ERROR:__main__:Failed to fetch additional links for https://www.mayoclinic.org/diseases-conditions/acute-myelogenous-leukemia/symptoms-causes/syc-20369109: HTTPSConnectionPool(host='www.mayoclinic.org', port=443): Read timed out. (read timeout=10)\n",
      "Scraping Diseases: 100%|██████████| 133/133 [01:09<00:00,  1.93it/s]"
     ]
    },
    {
     "name": "stdout",
     "output_type": "stream",
     "text": [
      "Scraping Completed! Data Saved\n"
     ]
    },
    {
     "name": "stderr",
     "output_type": "stream",
     "text": [
      "\n"
     ]
    }
   ],
   "source": [
    "base_url = f\"https://www.mayoclinic.org/diseases-conditions/index?letter=A\"\n",
    "web_Scrapping(base_url)"
   ]
  },
  {
   "cell_type": "code",
   "execution_count": null,
   "metadata": {},
   "outputs": [],
   "source": [
    "import time\n",
    "\n",
    "def data_extractor(base_url, retries=3, delay=5):\n",
    "    headers = {\n",
    "        \"User-Agent\": \"Mozilla/5.0 (Windows NT 10.0; Win64; x64) AppleWebKit/537.36\",\n",
    "        \"Accept\": \"text/html,application/xhtml+xml,application/xml;q=0.9,image/webp,*/*;q=0.8\"\n",
    "    }\n",
    "\n",
    "    diagnosis_treatment_link = \"\"\n",
    "    doctors_departments_link = \"\"\n",
    "\n",
    "    for attempt in range(retries):\n",
    "        try:\n",
    "            response = requests.get(base_url, headers=headers, timeout=20)\n",
    "            response.raise_for_status()\n",
    "            soup = BeautifulSoup(response.text, \"html.parser\")   \n",
    "\n",
    "            content1 = soup.find('a', id=\"et_genericNavigation_diagnosis-treatment\")\n",
    "            if content1:\n",
    "                href1 = content1.get('href')\n",
    "                diagnosis_treatment_link = f\"https://www.mayoclinic.org{href1}\" if href1.startswith(\"/\") else href1\n",
    "\n",
    "            content2 = soup.find('a', id=\"et_genericNavigation_doctors-departments\")\n",
    "            if content2:\n",
    "                href2 = content2.get('href')\n",
    "                doctors_departments_link = f\"https://www.mayoclinic.org{href2}\" if href2.startswith(\"/\") else href2\n",
    "\n",
    "            break  # success, exit loop\n",
    "\n",
    "        except requests.exceptions.RequestException as e:\n",
    "            print(f\"[Attempt {attempt + 1}] Error fetching {base_url}: {e}\")\n",
    "            time.sleep(delay)\n",
    "\n",
    "    return diagnosis_treatment_link, doctors_departments_link\n",
    "\n",
    "    \n",
    "def web_Scrapping(base_url):\n",
    "    response = requests.get(base_url)\n",
    "    if response.status_code != 200:\n",
    "        print(\"Failed to retrieve page\")\n",
    "        exit()\n",
    "\n",
    "    soup = BeautifulSoup(response.text, \"html.parser\")\n",
    "    items = soup.select(\".cmp-results-with-primary-name__see-link, .cmp-results-with-primary-name a\")\n",
    "\n",
    "    file_exists = os.path.isfile(\"mayo_diseases.csv\")\n",
    "    with open(\"mayo_diseases.csv\", \"a\", newline=\"\", encoding=\"utf-8\") as file:\n",
    "        writer = csv.writer(file)\n",
    "        if not file_exists:\n",
    "            writer.writerow([\"disease\", \"main_link\", \"Diagnosis_treatment_link\", \"\"])\n",
    "\n",
    "        for item in tqdm(items, desc=\"Scraping Diseases\"):\n",
    "            disease_name = item.text.strip()\n",
    "            main_link = f\"https://www.mayoclinic.org{item['href']}\" if item['href'].startswith(\"/\") else item['href']\n",
    "\n",
    "            link1, link2 = data_extractor(main_link)\n",
    "            writer.writerow([disease_name, main_link, link1, link2])\n",
    "\n",
    "    print(\"Scraping Completed! Data Saved\")"
   ]
  },
  {
   "cell_type": "code",
   "execution_count": null,
   "metadata": {},
   "outputs": [
    {
     "name": "stderr",
     "output_type": "stream",
     "text": [
      "Scraping Diseases: 100%|██████████| 133/133 [01:02<00:00,  2.14it/s]"
     ]
    },
    {
     "name": "stdout",
     "output_type": "stream",
     "text": [
      "Scraping Completed! Data Saved\n"
     ]
    },
    {
     "name": "stderr",
     "output_type": "stream",
     "text": [
      "\n"
     ]
    }
   ],
   "source": [
    "base_url = f\"https://www.mayoclinic.org/diseases-conditions/index?letter=A\"\n",
    "web_Scrapping(base_url) "
   ]
  },
  {
   "cell_type": "code",
   "execution_count": 2,
   "metadata": {},
   "outputs": [
    {
     "name": "stdout",
     "output_type": "stream",
     "text": [
      "True\n",
      "0\n",
      "NVIDIA GeForce RTX 3050 Laptop GPU\n"
     ]
    }
   ],
   "source": [
    "import torch\n",
    "\n",
    "print(torch.cuda.is_available())  # True if GPU is available\n",
    "print(torch.cuda.current_device())  # ID of current GPU\n",
    "print(torch.cuda.get_device_name(0))  # GPU name\n"
   ]
  },
  {
   "cell_type": "code",
   "execution_count": 13,
   "metadata": {},
   "outputs": [
    {
     "name": "stdout",
     "output_type": "stream",
     "text": [
      "Using device: cuda\n",
      "Applying heavy transformations on GPU...\n"
     ]
    },
    {
     "name": "stderr",
     "output_type": "stream",
     "text": [
      "100%|██████████| 100/100 [00:05<00:00, 19.22it/s]\n"
     ]
    }
   ],
   "source": [
    "import torch\n",
    "import kornia.augmentation as K\n",
    "import kornia.filters as KF\n",
    "import torchvision.transforms as T\n",
    "from tqdm import tqdm\n",
    "\n",
    "# Check GPU availability\n",
    "device = torch.device(\"cuda\" if torch.cuda.is_available() else \"cpu\")\n",
    "print(f\"Using device: {device}\")\n",
    "\n",
    "# Create a dummy image batch (e.g., 32 images of 3x224x224)\n",
    "batch_size = 32\n",
    "image_batch = torch.rand(batch_size, 3, 224, 224).to(device)\n",
    "\n",
    "# Heavy Kornia transformations\n",
    "transform = torch.nn.Sequential(\n",
    "    K.RandomPerspective(p=1.0, distortion_scale=0.6),\n",
    "    K.ColorJitter(brightness=0.8, contrast=0.8, saturation=0.8, hue=0.2, p=1.0),\n",
    "    K.RandomGaussianBlur(kernel_size=(9, 9), sigma=(0.1, 2.0), p=1.0),\n",
    "    K.RandomAffine(degrees=60, translate=(0.2, 0.2), scale=(0.5, 1.5), shear=30, p=1.0),\n",
    "    K.RandomSolarize(thresholds=0.4, additions=0.2, p=1.0),\n",
    ").to(device)\n",
    "\n",
    "# Loop with tqdm to apply transformations\n",
    "print(\"Applying heavy transformations on GPU...\")\n",
    "for i in tqdm(range(100)):  # Simulate 100 batches\n",
    "    images = image_batch.clone()  # Simulate a new batch\n",
    "    transformed = transform(images)\n",
    "    assert transformed.device.type == 'cuda', \"Transform not applied on GPU\"\n"
   ]
  },
  {
   "cell_type": "code",
   "execution_count": 14,
   "metadata": {},
   "outputs": [
    {
     "name": "stdout",
     "output_type": "stream",
     "text": [
      "Using device: cpu\n",
      "Applying heavy transformations on CPU...\n"
     ]
    },
    {
     "name": "stderr",
     "output_type": "stream",
     "text": [
      "100%|██████████| 100/100 [01:14<00:00,  1.35it/s]\n"
     ]
    }
   ],
   "source": [
    "import torch\n",
    "import kornia.augmentation as K\n",
    "import kornia.filters as KF\n",
    "import torchvision.transforms as T\n",
    "from tqdm import tqdm\n",
    "\n",
    "# Force CPU usage\n",
    "device = torch.device(\"cpu\")\n",
    "print(f\"Using device: {device}\")\n",
    "\n",
    "# Create a dummy image batch\n",
    "batch_size = 100\n",
    "image_batch = torch.rand(batch_size, 3, 224, 224).to(device)\n",
    "\n",
    "# Heavy Kornia transformations on CPU\n",
    "transform = torch.nn.Sequential(\n",
    "    K.RandomPerspective(p=1.0, distortion_scale=0.6),\n",
    "    K.ColorJitter(brightness=0.8, contrast=0.8, saturation=0.8, hue=0.2, p=1.0),\n",
    "    K.RandomGaussianBlur(kernel_size=(9, 9), sigma=(0.1, 2.0), p=1.0),\n",
    "    K.RandomAffine(degrees=60, translate=(0.2, 0.2), scale=(0.5, 1.5), shear=30, p=1.0),\n",
    "    K.RandomSolarize(thresholds=0.4, additions=0.2, p=1.0),\n",
    ").to(device)\n",
    "\n",
    "# Loop with tqdm to apply transformations\n",
    "print(\"Applying heavy transformations on CPU...\")\n",
    "for i in tqdm(range(100)):\n",
    "    images = image_batch.clone()\n",
    "    transformed = transform(images)\n",
    "    assert transformed.device.type == 'cpu', \"Transform not applied on CPU\"\n"
   ]
  },
  {
   "cell_type": "code",
   "execution_count": 9,
   "metadata": {},
   "outputs": [
    {
     "name": "stdout",
     "output_type": "stream",
     "text": [
      "cuda:0\n"
     ]
    },
    {
     "ename": "StopIteration",
     "evalue": "",
     "output_type": "error",
     "traceback": [
      "\u001b[1;31m---------------------------------------------------------------------------\u001b[0m",
      "\u001b[1;31mStopIteration\u001b[0m                             Traceback (most recent call last)",
      "Cell \u001b[1;32mIn[9], line 2\u001b[0m\n\u001b[0;32m      1\u001b[0m \u001b[38;5;28mprint\u001b[39m(image\u001b[38;5;241m.\u001b[39mdevice)                            \u001b[38;5;66;03m# Should say: cuda:0\u001b[39;00m\n\u001b[1;32m----> 2\u001b[0m \u001b[38;5;28mprint\u001b[39m(\u001b[38;5;28;43mnext\u001b[39;49m\u001b[43m(\u001b[49m\u001b[43mtransform\u001b[49m\u001b[38;5;241;43m.\u001b[39;49m\u001b[43mparameters\u001b[49m\u001b[43m(\u001b[49m\u001b[43m)\u001b[49m\u001b[43m)\u001b[49m\u001b[38;5;241m.\u001b[39mdevice)     \u001b[38;5;66;03m# Should also say: cuda:0\u001b[39;00m\n",
      "\u001b[1;31mStopIteration\u001b[0m: "
     ]
    }
   ],
   "source": [
    "print(image.device)                            # Should say: cuda:0\n",
    "print(next(transform.parameters()).device)     # Should also say: cuda:0\n"
   ]
  },
  {
   "cell_type": "code",
   "execution_count": 22,
   "metadata": {},
   "outputs": [],
   "source": [
    "import os\n",
    "\n",
    "file_path = \"skin-disease-datasaet/test_set/BA- cellulitis\"\n",
    "\n",
    "\n",
    "\n",
    "file_names = os.listdir(file_path)"
   ]
  },
  {
   "cell_type": "code",
   "execution_count": 27,
   "metadata": {},
   "outputs": [],
   "source": [
    "file_names.sort()"
   ]
  },
  {
   "cell_type": "code",
   "execution_count": 9,
   "metadata": {},
   "outputs": [
    {
     "name": "stdout",
     "output_type": "stream",
     "text": [
      "cuda\n",
      "torch.Size([1, 3, 224, 224])\n"
     ]
    }
   ],
   "source": [
    "import torch\n",
    "import torch.nn as nn\n",
    "import kornia.augmentation as K\n",
    "from kornia.geometry.transform import Resize\n",
    "from kornia.constants import Resample\n",
    "from PIL import Image\n",
    "import torchvision.transforms.functional as TF\n",
    "\n",
    "\n",
    "device = torch.device(\"cuda\" if torch.cuda.is_available() else \"cpu\")\n",
    "print(device)\n",
    "\n",
    "\n",
    "image_path = \"skin-disease-datasaet/train_set/BA- cellulitis/BA- cellulitis (1).jpeg\"\n",
    "\n",
    "resnet_transform = nn.Sequential(\n",
    "    Resize(size=(224, 224), interpolation=Resample.BILINEAR),\n",
    "    K.Normalize(mean=torch.tensor([0.485, 0.456, 0.406]), \n",
    "                std=torch.tensor([0.229, 0.224, 0.225]))\n",
    ").to(device)\n",
    "\n",
    "image = Image.open(image_path).convert(\"RGB\")\n",
    "\n",
    "image_tensor = TF.to_tensor(image).unsqueeze(0).to(device)  # [1, C, H, W]\n",
    "\n",
    "\n",
    "image =resnet_transform(image)\n",
    "\n",
    "print(image.shape)\n"
   ]
  },
  {
   "cell_type": "code",
   "execution_count": null,
   "metadata": {},
   "outputs": [],
   "source": []
  }
 ],
 "metadata": {
  "kernelspec": {
   "display_name": "myenv",
   "language": "python",
   "name": "python3"
  },
  "language_info": {
   "codemirror_mode": {
    "name": "ipython",
    "version": 3
   },
   "file_extension": ".py",
   "mimetype": "text/x-python",
   "name": "python",
   "nbconvert_exporter": "python",
   "pygments_lexer": "ipython3",
   "version": "3.9.13"
  }
 },
 "nbformat": 4,
 "nbformat_minor": 2
}
