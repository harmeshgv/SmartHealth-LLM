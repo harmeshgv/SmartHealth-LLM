{
 "cells": [
  {
   "cell_type": "code",
   "execution_count": 21,
   "metadata": {},
   "outputs": [],
   "source": [
    "import time\n",
    "import os\n",
    "import csv\n",
    "from bs4 import BeautifulSoup\n",
    "import requests\n",
    "from tqdm import tqdm\n"
   ]
  },
  {
   "cell_type": "code",
   "execution_count": 22,
   "metadata": {},
   "outputs": [],
   "source": [
    "\n",
    "def data_extractor(base_url, retries=3, delay=5):\n",
    "    headers = {\n",
    "        \"User-Agent\": \"Mozilla/5.0 (Windows NT 10.0; Win64; x64) AppleWebKit/537.36\",\n",
    "        \"Accept\": \"text/html,application/xhtml+xml,application/xml;q=0.9,image/webp,*/*;q=0.8\"\n",
    "    }\n",
    "\n",
    "    diagnosis_treatment_link = \"\"\n",
    "    doctors_departments_link = \"\"\n",
    "\n",
    "    for attempt in range(retries):\n",
    "        try:\n",
    "            response = requests.get(base_url, headers=headers, timeout=20)\n",
    "            response.raise_for_status()\n",
    "            soup = BeautifulSoup(response.text, \"html.parser\")\n",
    "\n",
    "            # Extract Diagnosis & Treatment link\n",
    "            content1 = soup.find('a', id=\"et_genericNavigation_diagnosis-treatment\")\n",
    "            if not content1:\n",
    "                # fallback: search by link text containing both words\n",
    "                for a in soup.find_all('a'):\n",
    "                    link_text = a.get_text(separator=' ').strip().lower()\n",
    "                    if \"diagnosis\" in link_text and \"treatment\" in link_text:\n",
    "                        content1 = a\n",
    "                        break\n",
    "            if content1:\n",
    "                href1 = content1.get('href')\n",
    "                diagnosis_treatment_link = f\"https://www.mayoclinic.org{href1}\" if href1 and href1.startswith(\"/\") else href1\n",
    "\n",
    "            # Extract Doctors & Departments link\n",
    "            content2 = soup.find('a', id=\"et_genericNavigation_doctors-departments\")\n",
    "            if not content2:\n",
    "                # fallback: search by link text containing both words\n",
    "                for a in soup.find_all('a'):\n",
    "                    link_text = a.get_text(separator=' ').strip().lower()\n",
    "                    if \"doctors\" in link_text and \"departments\" in link_text:\n",
    "                        content2 = a\n",
    "                        break\n",
    "            if content2:\n",
    "                href2 = content2.get('href')\n",
    "                doctors_departments_link = f\"https://www.mayoclinic.org{href2}\" if href2 and href2.startswith(\"/\") else href2\n",
    "\n",
    "            break  # success, exit retry loop\n",
    "\n",
    "        except requests.exceptions.RequestException as e:\n",
    "            print(f\"[Attempt {attempt + 1}] Error fetching {base_url}: {e}\")\n",
    "            if attempt < retries - 1:\n",
    "                time.sleep(delay)\n",
    "\n",
    "    return diagnosis_treatment_link, doctors_departments_link\n",
    "\n",
    "def web_scraping(base_url):\n",
    "    # Define the expected headers in order\n",
    "    expected_headers = [\"disease\", \"main_link\", \"Diagnosis_treatment_link\", \"Doctors_departments_link\"]\n",
    "    \n",
    "    # Check if file exists and read existing headers if it does\n",
    "    file_exists = os.path.isfile(\"mayo_diseases.csv\")\n",
    "    existing_headers = []\n",
    "    \n",
    "    if file_exists:\n",
    "        with open(\"mayo_diseases.csv\", \"r\", encoding=\"utf-8\") as file:\n",
    "            reader = csv.reader(file)\n",
    "            existing_headers = next(reader, [])\n",
    "    \n",
    "    # Determine if we need to write headers\n",
    "    write_headers = not file_exists or existing_headers != expected_headers\n",
    "    \n",
    "    # Get the webpage content\n",
    "    response = requests.get(base_url)\n",
    "    if response.status_code != 200:\n",
    "        print(\"Failed to retrieve page\")\n",
    "        exit()\n",
    "\n",
    "    soup = BeautifulSoup(response.text, \"html.parser\")\n",
    "    items = soup.select(\".cmp-results-with-primary-name__see-link, .cmp-results-with-primary-name a\")\n",
    "\n",
    "    with open(\"mayo_diseases.csv\", \"a\", newline=\"\", encoding=\"utf-8\") as file:\n",
    "        writer = csv.writer(file)\n",
    "        \n",
    "        # Write headers if needed\n",
    "        if write_headers:\n",
    "            writer.writerow(expected_headers)\n",
    "        \n",
    "        for item in tqdm(items, desc=\"Scraping Diseases\"):\n",
    "            disease_name = item.text.strip()\n",
    "            main_link = f\"https://www.mayoclinic.org{item['href']}\" if item['href'].startswith(\"/\") else item['href']\n",
    "\n",
    "            link1, link2 = data_extractor(main_link)\n",
    "            \n",
    "            # Create a row with all expected columns\n",
    "            row_data = {\n",
    "                \"disease\": disease_name,\n",
    "                \"main_link\": main_link,\n",
    "                \"Diagnosis_treatment_link\": link1,\n",
    "                \"Doctors_departments_link\": link2\n",
    "            }\n",
    "            \n",
    "            # If appending to existing file with different headers, align data with existing headers\n",
    "            if file_exists and existing_headers:\n",
    "                row = [row_data.get(header, \"\") for header in existing_headers]\n",
    "            else:\n",
    "                row = [row_data[header] for header in expected_headers]\n",
    "            \n",
    "            writer.writerow(row)\n",
    "\n",
    "    print(\"Scraping Completed! Data Saved\")\n",
    "\n",
    "# Example usage:\n",
    "# web_scraping(\"https://www.mayoclinic.org/diseases-conditions\")"
   ]
  },
  {
   "cell_type": "code",
   "execution_count": 23,
   "metadata": {},
   "outputs": [
    {
     "name": "stderr",
     "output_type": "stream",
     "text": [
      "Scraping Diseases: 100%|██████████| 132/132 [00:44<00:00,  2.98it/s]"
     ]
    },
    {
     "name": "stdout",
     "output_type": "stream",
     "text": [
      "Scraping Completed! Data Saved\n"
     ]
    },
    {
     "name": "stderr",
     "output_type": "stream",
     "text": [
      "\n"
     ]
    }
   ],
   "source": [
    "base_url = f\"https://www.mayoclinic.org/diseases-conditions/index?letter=A\"\n",
    "web_scraping(base_url) "
   ]
  },
  {
   "cell_type": "code",
   "execution_count": 20,
   "metadata": {},
   "outputs": [
    {
     "name": "stdout",
     "output_type": "stream",
     "text": [
      "overview\n",
      "Eggs are one of the most common allergy-causing foods for children.\n",
      "\n",
      "Egg allergy symptoms usually occur a few minutes to a few hours after eating eggs or foods containing eggs. Signs and symptoms range from mild to severe and can include skin rashes, hives, nasal congestion, and vomiting or other digestive problems. Rarely, egg allergy can cause anaphylaxis — a life-threatening reaction.\n",
      "\n",
      "Egg allergy can occur as early as infancy. Most children, but not all, outgrow their egg allergy before adolescence.\n",
      "symptoms\n",
      "Egg allergy reactions vary from person to person and usually occur soon after exposure to egg. Egg allergy symptoms can include:\n",
      "when-to-see-a-doctor\n",
      "See a doctor if you or your child has signs or symptoms of a food allergy shortly after eating eggs or an egg-containing product. If possible, see the doctor when the allergic reaction is occurring. This may help in making a diagnosis.\n",
      "\n",
      "If you or your child has signs and symptoms of anaphylaxis, seek immediate emergency treatment and use an autoinjector if one has been prescribed.\n",
      "causes\n",
      "An immune system overreaction causes food allergies. For egg allergy, the immune system mistakenly identifies certain egg proteins as harmful. When you or your child comes in contact with egg proteins, immune system cells (antibodies) recognize them and signal the immune system to release histamine and other chemicals that cause allergic signs and symptoms.\n",
      "\n",
      "Both egg yolks and egg whites contain proteins that can cause allergies, but allergy to egg whites is most common. It's possible for breast-fed infants to have an allergic reaction to egg proteins in breast milk if the mother consumes eggs.\n",
      "complications\n",
      "The most significant complication of egg allergy is having a severe allergic reaction requiring an epinephrine injection and emergency treatment.\n",
      "\n",
      "The same immune system reaction that causes egg allergy can also cause other conditions. If you or your child has egg allergy, you or your child may be at increased risk of:\n",
      "prevention\n",
      "Here are some things you can do to avoid an allergic reaction, and to keep it from getting worse if one does occur.\n",
      "risk-factors\n",
      "Certain factors can increase the risk of developing egg allergy:\n"
     ]
    }
   ],
   "source": [
    "from bs4 import BeautifulSoup\n",
    "\n",
    "\n",
    "base_url=\"https://www.mayoclinic.org/diseases-conditions/egg-allergy/symptoms-causes/syc-20372115\"\n",
    "headers = {\n",
    "        \"User-Agent\": \"Mozilla/5.0 (Windows NT 10.0; Win64; x64) AppleWebKit/537.36\",\n",
    "        \"Accept\": \"text/html,application/xhtml+xml,application/xml;q=0.9,image/webp,*/*;q=0.8\"\n",
    "    }\n",
    "response = requests.get(base_url, headers=headers, timeout=20)\n",
    "response.raise_for_status()\n",
    "soup = BeautifulSoup(response.text, 'html.parser')\n",
    "extraction_list = [\"overview\",\"symptoms\",\"when-to-see-a-doctor\",\"causes\",\"complications\",\"prevention\",\"risk-factors\"]\n",
    "\n",
    "for i in extraction_list:\n",
    "# Find the overview section by its aria-labelledby attribute\n",
    "   overview_section = soup.find('section', {'aria-labelledby': i})\n",
    "\n",
    "# Extract all paragraph text from the overview content\n",
    "   overview_content = overview_section.find('div', class_='cmp-text__rich-content')\n",
    "   overview_paragraphs = [p.get_text() for p in overview_content.find_all('p')]\n",
    "\n",
    "# Join paragraphs into a single string\n",
    "   overview_text = '\\n\\n'.join(overview_paragraphs)\n",
    "   print(i)\n",
    "   print(overview_text)"
   ]
  },
  {
   "cell_type": "code",
   "execution_count": 37,
   "metadata": {},
   "outputs": [
    {
     "name": "stdout",
     "output_type": "stream",
     "text": [
      "Overview section not found\n"
     ]
    }
   ],
   "source": [
    "from bs4 import BeautifulSoup\n",
    "\n",
    "def extract_overview(html_content):\n",
    "    headers = {\n",
    "        \"User-Agent\": \"Mozilla/5.0 (Windows NT 10.0; Win64; x64) AppleWebKit/537.36\",\n",
    "        \"Accept\": \"text/html,application/xhtml+xml,application/xml;q=0.9,image/webp,*/*;q=0.8\"\n",
    "    }\n",
    "    response = requests.get(base_url, headers=headers, timeout=20)\n",
    "    response.raise_for_status()\n",
    "    soup = BeautifulSoup(response.text, 'html.parser')\n",
    "    \n",
    "    # Find the Overview section - looking for h2 with text \"Overview\"\n",
    "    overview_header = soup.find(lambda tag: tag.name == 'h2' and 'when-to-see-a-doctor\"' in tag.text)\n",
    "    \n",
    "    if not overview_header:\n",
    "        return \"Overview section not found\"\n",
    "    \n",
    "    # Initialize overview paragraphs\n",
    "    overview_paragraphs = []\n",
    "    \n",
    "    # Get all siblings after the h2 until the next h2\n",
    "    for sibling in overview_header.find_next_siblings():\n",
    "        if sibling.name == 'h2':\n",
    "            break  # Stop when we reach the next section\n",
    "        if sibling.name == 'p':\n",
    "            overview_paragraphs.append(sibling.get_text(strip=True))\n",
    "    \n",
    "    if not overview_paragraphs:\n",
    "        return \"No overview content found\"\n",
    "    \n",
    "    return '\\n\\n'.join(overview_paragraphs)\n",
    "\n",
    "# Example usage:\n",
    "base_url=\"https://www.mayoclinic.org/diseases-conditions/hyperhidrosis/symptoms-causes/syc-20367152\"\n",
    "\n",
    "html_content = \"\"\" (your HTML content here) \"\"\"\n",
    "overview_text = extract_overview(base_url)\n",
    "print(overview_text)"
   ]
  },
  {
   "cell_type": "code",
   "execution_count": 43,
   "metadata": {},
   "outputs": [
    {
     "name": "stdout",
     "output_type": "stream",
     "text": [
      "=== OVERVIEW ===\n",
      "Hyperhidrosis (hi-pur-hi-DROE-sis) is excessive sweating that's not always related to heat or exercise. You may sweat so much that it soaks through your clothes or drips off your hands. Heavy sweating can disrupt your day and cause social anxiety and embarrassment.\n",
      "Hyperhidrosis treatment usually helps. It often begins with antiperspirants. If these don't help, you may need to try different medications and therapies. In severe cases, your health care provider may suggest surgery to remove the sweat glands or to disconnect the nerves related to producing too much sweat.\n",
      "Sometimes an underlying condition may be found and treated.\n",
      "\n",
      "==================================================\n",
      "\n",
      "=== SYMPTOMS ===\n",
      "The main symptom of hyperhidrosis is heavy sweating. This goes beyond the sweating from being in a hot environment, exercising, or feeling anxious or stressed. The type of hyperhidrosis that usually affects the hands, feet, underarms or face causes at least one episode a week when you're awake. And the sweating usually happens on both sides of the body.\n",
      "\n",
      "==================================================\n",
      "\n",
      "=== WHEN TO SEE A DOCTOR ===\n",
      "Sometimes excessive sweating is a sign of a serious condition.\n",
      "Seek immediate medical attentionif you have heavy sweating with dizziness, pain in the chest, throat, jaw, arms, shoulders or throat, or cold skin and a rapid pulse.\n",
      "See your health care provider if:\n",
      "Sweating disrupts your daily routine\n",
      "Sweating causes emotional distress or social withdrawal\n",
      "You suddenly begin to sweat more than usual\n",
      "You experience night sweats for no apparent reason\n",
      "\n",
      "==================================================\n",
      "\n",
      "=== CAUSES ===\n",
      "Sweating is the body's mechanism to cool itself. The nervous system automatically triggers sweat glands when your body temperature rises. Sweating also occurs, especially on your palms, when you're nervous.\n",
      "Primary hyperhidrosis is caused by faulty nerve signals that trigger eccrine sweat glands to become overactive. It usually affects the palms, soles, underarms and sometimes the face.\n",
      "There is no medical cause for this type of hyperhidrosis. It can run in families.\n",
      "Secondary hyperhidrosis is caused by an underlying medical condition or by taking certain medications, such as pain relievers, antidepressants, and some diabetes and hormonal medications. This type of hyperhidrosis may cause sweating all over the body. Conditions that might cause it include:\n",
      "Diabetes\n",
      "Menopause hot flashes\n",
      "Thyroid problems\n",
      "Some types of cancer\n",
      "Nervous system disorders\n",
      "Infections\n",
      "\n",
      "==================================================\n",
      "\n",
      "=== RISK FACTORS ===\n",
      "Risk factors for hyperhidrosis include:\n",
      "Having a blood relative, such as a parent, sibling or grandparent, who sweats heavily\n",
      "Taking medicines or supplements that cause sweating\n",
      "Having a medical condition that causes sweating\n",
      "\n",
      "==================================================\n",
      "\n",
      "=== COMPLICATIONS ===\n",
      "Complications of hyperhidrosis include:\n",
      "Infections.People who sweat a lot are more prone to skin infections.\n",
      "Social and emotional effects.Having clammy or dripping hands and sweat-soaked clothes can be embarrassing. Your condition may affect your pursuit of work and educational goals.\n",
      "\n",
      "==================================================\n",
      "\n"
     ]
    }
   ],
   "source": [
    "from bs4 import BeautifulSoup\n",
    "import requests\n",
    "\n",
    "def extract_mayo_clinic_sections(url):\n",
    "    headers = {\n",
    "        \"User-Agent\": \"Mozilla/5.0 (Windows NT 10.0; Win64; x64) AppleWebKit/537.36\",\n",
    "        \"Accept\": \"text/html,application/xhtml+xml,application/xml;q=0.9,image/webp,*/*;q=0.8\"\n",
    "    }\n",
    "    \n",
    "    try:\n",
    "        response = requests.get(url, headers=headers, timeout=20)\n",
    "        response.raise_for_status()\n",
    "        soup = BeautifulSoup(response.text, 'html.parser')\n",
    "        \n",
    "        main_content = soup.find('div', class_='content')\n",
    "        if not main_content:\n",
    "            return {\"error\": \"Main content not found\"}\n",
    "        \n",
    "        sections = {\n",
    "            \"Overview\": None,\n",
    "            \"Symptoms\": None,\n",
    "            \"When to see a doctor\": None,\n",
    "            \"Causes\": None,\n",
    "            \"Risk factors\": None,\n",
    "            \"Complications\": None,\n",
    "            \"Prevention\": None\n",
    "        }\n",
    "        \n",
    "        # Find all headings (h2 and h3)\n",
    "        headings = main_content.find_all(['h2', 'h3'])\n",
    "        \n",
    "        for heading in headings:\n",
    "            heading_text = heading.get_text(strip=True)\n",
    "            \n",
    "            # Handle the typo \"dotor\" in the HTML\n",
    "            if \"When to see a dotor\" in heading_text:\n",
    "                heading_text = \"When to see a doctor\"\n",
    "                \n",
    "            if heading_text in sections:\n",
    "                content = []\n",
    "                next_node = heading.next_sibling\n",
    "                \n",
    "                # Collect content until next heading\n",
    "                while next_node and next_node.name not in ['h2', 'h3']:\n",
    "                    if next_node.name == 'p':\n",
    "                        content.append(next_node.get_text(strip=True))\n",
    "                    elif next_node.name in ['ul', 'ol']:\n",
    "                        items = [li.get_text(strip=True) for li in next_node.find_all('li')]\n",
    "                        content.extend(items)\n",
    "                    next_node = next_node.next_sibling\n",
    "                \n",
    "                sections[heading_text] = '\\n'.join(content) if content else \"No content found\"\n",
    "        \n",
    "        return {k: v for k, v in sections.items() if v is not None}\n",
    "    \n",
    "    except requests.exceptions.RequestException as e:\n",
    "        return {\"error\": f\"Failed to fetch page: {str(e)}\"}\n",
    "\n",
    "# Example usage:\n",
    "url = \"https://www.mayoclinic.org/diseases-conditions/hyperhidrosis/symptoms-causes/syc-20367152\"\n",
    "sections = extract_mayo_clinic_sections(url)\n",
    "\n",
    "for section_name, content in sections.items():\n",
    "    print(f\"=== {section_name.upper()} ===\")\n",
    "    print(content)\n",
    "    print(\"\\n\" + \"=\"*50 + \"\\n\")"
   ]
  },
  {
   "cell_type": "code",
   "execution_count": 8,
   "metadata": {},
   "outputs": [
    {
     "name": "stderr",
     "output_type": "stream",
     "text": [
      "  0%|          | 0/132 [00:00<?, ?it/s]"
     ]
    },
    {
     "name": "stdout",
     "output_type": "stream",
     "text": [
      "Processing: Atrial fibrillation\n"
     ]
    },
    {
     "name": "stderr",
     "output_type": "stream",
     "text": [
      "  1%|          | 1/132 [00:00<00:48,  2.70it/s]"
     ]
    },
    {
     "name": "stdout",
     "output_type": "stream",
     "text": [
      "Processing: Hyperhidrosis\n"
     ]
    },
    {
     "name": "stderr",
     "output_type": "stream",
     "text": [
      "  2%|▏         | 2/132 [00:00<00:49,  2.62it/s]"
     ]
    },
    {
     "name": "stdout",
     "output_type": "stream",
     "text": [
      "Processing: Bartholin's cyst\n"
     ]
    },
    {
     "name": "stderr",
     "output_type": "stream",
     "text": [
      "  2%|▏         | 3/132 [00:01<00:47,  2.70it/s]"
     ]
    },
    {
     "name": "stdout",
     "output_type": "stream",
     "text": [
      "Processing: Infant reflux\n"
     ]
    },
    {
     "name": "stderr",
     "output_type": "stream",
     "text": [
      "  3%|▎         | 4/132 [00:01<00:44,  2.89it/s]"
     ]
    },
    {
     "name": "stdout",
     "output_type": "stream",
     "text": [
      "Processing: Hidradenitis suppurativa\n"
     ]
    },
    {
     "name": "stderr",
     "output_type": "stream",
     "text": [
      "  4%|▍         | 5/132 [00:01<00:42,  3.01it/s]"
     ]
    },
    {
     "name": "stdout",
     "output_type": "stream",
     "text": [
      "Processing: HIV/AIDS\n"
     ]
    },
    {
     "name": "stderr",
     "output_type": "stream",
     "text": [
      "  5%|▍         | 6/132 [00:02<00:43,  2.91it/s]"
     ]
    },
    {
     "name": "stdout",
     "output_type": "stream",
     "text": [
      "Processing: Acute myelogenous leukemia\n"
     ]
    },
    {
     "name": "stderr",
     "output_type": "stream",
     "text": [
      "  5%|▌         | 7/132 [00:02<00:41,  2.99it/s]"
     ]
    },
    {
     "name": "stdout",
     "output_type": "stream",
     "text": [
      "Processing: Guillain-Barre syndrome\n"
     ]
    },
    {
     "name": "stderr",
     "output_type": "stream",
     "text": [
      "  6%|▌         | 8/132 [00:02<00:39,  3.13it/s]"
     ]
    },
    {
     "name": "stdout",
     "output_type": "stream",
     "text": [
      "Processing: Acute kidney injury\n"
     ]
    },
    {
     "name": "stderr",
     "output_type": "stream",
     "text": [
      "  7%|▋         | 9/132 [00:02<00:37,  3.29it/s]"
     ]
    },
    {
     "name": "stdout",
     "output_type": "stream",
     "text": [
      "Processing: Acute lymphocytic leukemia\n"
     ]
    },
    {
     "name": "stderr",
     "output_type": "stream",
     "text": [
      "  8%|▊         | 10/132 [00:03<00:37,  3.24it/s]"
     ]
    },
    {
     "name": "stdout",
     "output_type": "stream",
     "text": [
      "Processing: Acute lymphocytic leukemia\n"
     ]
    },
    {
     "name": "stderr",
     "output_type": "stream",
     "text": [
      "  8%|▊         | 11/132 [00:03<00:40,  2.98it/s]"
     ]
    },
    {
     "name": "stdout",
     "output_type": "stream",
     "text": [
      "Processing: Acute myelogenous leukemia\n"
     ]
    },
    {
     "name": "stderr",
     "output_type": "stream",
     "text": [
      "  9%|▉         | 12/132 [00:03<00:38,  3.10it/s]"
     ]
    },
    {
     "name": "stdout",
     "output_type": "stream",
     "text": [
      "Processing: Acute myelogenous leukemia\n"
     ]
    },
    {
     "name": "stderr",
     "output_type": "stream",
     "text": [
      " 10%|▉         | 13/132 [00:04<00:37,  3.14it/s]"
     ]
    },
    {
     "name": "stdout",
     "output_type": "stream",
     "text": [
      "Processing: Acute myelogenous leukemia\n"
     ]
    },
    {
     "name": "stderr",
     "output_type": "stream",
     "text": [
      " 11%|█         | 14/132 [00:04<00:36,  3.24it/s]"
     ]
    },
    {
     "name": "stdout",
     "output_type": "stream",
     "text": [
      "Processing: Radiation sickness\n"
     ]
    },
    {
     "name": "stderr",
     "output_type": "stream",
     "text": [
      " 11%|█▏        | 15/132 [00:04<00:35,  3.31it/s]"
     ]
    },
    {
     "name": "stdout",
     "output_type": "stream",
     "text": [
      "Processing: Radiation sickness\n"
     ]
    },
    {
     "name": "stderr",
     "output_type": "stream",
     "text": [
      " 12%|█▏        | 16/132 [00:05<00:38,  2.98it/s]"
     ]
    },
    {
     "name": "stdout",
     "output_type": "stream",
     "text": [
      "Processing: Acute kidney injury\n"
     ]
    },
    {
     "name": "stderr",
     "output_type": "stream",
     "text": [
      " 13%|█▎        | 17/132 [00:05<00:36,  3.13it/s]"
     ]
    },
    {
     "name": "stdout",
     "output_type": "stream",
     "text": [
      "Processing: ARDS\n"
     ]
    },
    {
     "name": "stderr",
     "output_type": "stream",
     "text": [
      " 14%|█▎        | 18/132 [00:05<00:35,  3.19it/s]"
     ]
    },
    {
     "name": "stdout",
     "output_type": "stream",
     "text": [
      "Processing: Acute sinusitis\n"
     ]
    },
    {
     "name": "stderr",
     "output_type": "stream",
     "text": [
      " 14%|█▍        | 19/132 [00:06<00:36,  3.11it/s]"
     ]
    },
    {
     "name": "stdout",
     "output_type": "stream",
     "text": [
      "Processing: Autoimmune epilepsy\n"
     ]
    },
    {
     "name": "stderr",
     "output_type": "stream",
     "text": [
      " 15%|█▌        | 20/132 [00:06<00:38,  2.93it/s]"
     ]
    },
    {
     "name": "stdout",
     "output_type": "stream",
     "text": [
      "Processing: Alcohol use disorder\n"
     ]
    },
    {
     "name": "stderr",
     "output_type": "stream",
     "text": [
      " 16%|█▌        | 21/132 [00:06<00:37,  2.94it/s]"
     ]
    },
    {
     "name": "stdout",
     "output_type": "stream",
     "text": [
      "Processing: Compulsive gambling\n"
     ]
    },
    {
     "name": "stderr",
     "output_type": "stream",
     "text": [
      " 17%|█▋        | 22/132 [00:07<00:37,  2.93it/s]"
     ]
    },
    {
     "name": "stdout",
     "output_type": "stream",
     "text": [
      "Processing: Nicotine dependence\n"
     ]
    },
    {
     "name": "stderr",
     "output_type": "stream",
     "text": [
      " 17%|█▋        | 23/132 [00:07<00:36,  3.01it/s]"
     ]
    },
    {
     "name": "stdout",
     "output_type": "stream",
     "text": [
      "Processing: Mesenteric lymphadenitis\n"
     ]
    },
    {
     "name": "stderr",
     "output_type": "stream",
     "text": [
      " 18%|█▊        | 24/132 [00:07<00:36,  2.98it/s]"
     ]
    },
    {
     "name": "stdout",
     "output_type": "stream",
     "text": [
      "Processing: Attention-deficit/hyperactivity disorder (ADHD) in children\n"
     ]
    },
    {
     "name": "stderr",
     "output_type": "stream",
     "text": [
      " 19%|█▉        | 25/132 [00:08<00:37,  2.86it/s]"
     ]
    },
    {
     "name": "stdout",
     "output_type": "stream",
     "text": [
      "Processing: Adult attention-deficit/hyperactivity disorder (ADHD)\n"
     ]
    },
    {
     "name": "stderr",
     "output_type": "stream",
     "text": [
      " 20%|█▉        | 26/132 [00:08<00:36,  2.91it/s]"
     ]
    },
    {
     "name": "stdout",
     "output_type": "stream",
     "text": [
      "Processing: Frozen shoulder\n"
     ]
    },
    {
     "name": "stderr",
     "output_type": "stream",
     "text": [
      " 20%|██        | 27/132 [00:08<00:34,  3.03it/s]"
     ]
    },
    {
     "name": "stdout",
     "output_type": "stream",
     "text": [
      "Processing: Childhood schizophrenia\n"
     ]
    },
    {
     "name": "stderr",
     "output_type": "stream",
     "text": [
      " 21%|██        | 28/132 [00:09<00:32,  3.19it/s]"
     ]
    },
    {
     "name": "stdout",
     "output_type": "stream",
     "text": [
      "Processing: Benign adrenal tumors\n"
     ]
    },
    {
     "name": "stderr",
     "output_type": "stream",
     "text": [
      " 22%|██▏       | 29/132 [00:09<00:32,  3.21it/s]"
     ]
    },
    {
     "name": "stdout",
     "output_type": "stream",
     "text": [
      "Processing: Autoimmune encephalitis\n"
     ]
    },
    {
     "name": "stderr",
     "output_type": "stream",
     "text": [
      " 23%|██▎       | 30/132 [00:09<00:33,  3.01it/s]"
     ]
    },
    {
     "name": "stdout",
     "output_type": "stream",
     "text": [
      "Processing: Acute flaccid myelitis (AFM)\n"
     ]
    },
    {
     "name": "stderr",
     "output_type": "stream",
     "text": [
      " 23%|██▎       | 31/132 [00:10<00:33,  2.98it/s]"
     ]
    },
    {
     "name": "stdout",
     "output_type": "stream",
     "text": [
      "Processing: Dry macular degeneration\n"
     ]
    },
    {
     "name": "stderr",
     "output_type": "stream",
     "text": [
      " 24%|██▍       | 32/132 [00:10<00:35,  2.84it/s]"
     ]
    },
    {
     "name": "stdout",
     "output_type": "stream",
     "text": [
      "Processing: Macular degeneration, wet\n"
     ]
    },
    {
     "name": "stderr",
     "output_type": "stream",
     "text": [
      " 25%|██▌       | 33/132 [00:10<00:33,  2.91it/s]"
     ]
    },
    {
     "name": "stdout",
     "output_type": "stream",
     "text": [
      "Processing: Myelofibrosis\n"
     ]
    },
    {
     "name": "stderr",
     "output_type": "stream",
     "text": [
      " 26%|██▌       | 34/132 [00:11<00:34,  2.83it/s]"
     ]
    },
    {
     "name": "stdout",
     "output_type": "stream",
     "text": [
      "Processing: Guillain-Barre syndrome\n"
     ]
    },
    {
     "name": "stderr",
     "output_type": "stream",
     "text": [
      " 27%|██▋       | 35/132 [00:11<00:32,  2.98it/s]"
     ]
    },
    {
     "name": "stdout",
     "output_type": "stream",
     "text": [
      "Processing: HIV/AIDS\n"
     ]
    },
    {
     "name": "stderr",
     "output_type": "stream",
     "text": [
      " 27%|██▋       | 36/132 [00:11<00:31,  3.02it/s]"
     ]
    },
    {
     "name": "stdout",
     "output_type": "stream",
     "text": [
      "Processing: Alcohol use disorder\n"
     ]
    },
    {
     "name": "stderr",
     "output_type": "stream",
     "text": [
      " 28%|██▊       | 37/132 [00:12<00:31,  3.00it/s]"
     ]
    },
    {
     "name": "stdout",
     "output_type": "stream",
     "text": [
      "Processing: Alcoholic hepatitis\n"
     ]
    },
    {
     "name": "stderr",
     "output_type": "stream",
     "text": [
      " 29%|██▉       | 38/132 [00:12<00:30,  3.08it/s]"
     ]
    },
    {
     "name": "stdout",
     "output_type": "stream",
     "text": [
      "Processing: Churg-Strauss syndrome\n"
     ]
    },
    {
     "name": "stderr",
     "output_type": "stream",
     "text": [
      " 30%|██▉       | 39/132 [00:12<00:32,  2.89it/s]"
     ]
    },
    {
     "name": "stdout",
     "output_type": "stream",
     "text": [
      "Processing: Churg-Strauss syndrome\n"
     ]
    },
    {
     "name": "stderr",
     "output_type": "stream",
     "text": [
      " 30%|███       | 40/132 [00:13<00:32,  2.85it/s]"
     ]
    },
    {
     "name": "stdout",
     "output_type": "stream",
     "text": [
      "Processing: Hay fever\n"
     ]
    },
    {
     "name": "stderr",
     "output_type": "stream",
     "text": [
      " 31%|███       | 41/132 [00:13<00:30,  2.96it/s]"
     ]
    },
    {
     "name": "stdout",
     "output_type": "stream",
     "text": [
      "Processing: Dust mite allergy\n"
     ]
    },
    {
     "name": "stderr",
     "output_type": "stream",
     "text": [
      " 32%|███▏      | 42/132 [00:14<00:30,  2.92it/s]"
     ]
    },
    {
     "name": "stdout",
     "output_type": "stream",
     "text": [
      "Processing: Egg allergy\n"
     ]
    },
    {
     "name": "stderr",
     "output_type": "stream",
     "text": [
      " 33%|███▎      | 43/132 [00:14<00:32,  2.78it/s]"
     ]
    },
    {
     "name": "stdout",
     "output_type": "stream",
     "text": [
      "Processing: Food allergy\n"
     ]
    },
    {
     "name": "stderr",
     "output_type": "stream",
     "text": [
      " 33%|███▎      | 44/132 [00:14<00:30,  2.92it/s]"
     ]
    },
    {
     "name": "stdout",
     "output_type": "stream",
     "text": [
      "Processing: Latex allergy\n"
     ]
    },
    {
     "name": "stderr",
     "output_type": "stream",
     "text": [
      " 34%|███▍      | 45/132 [00:14<00:27,  3.14it/s]"
     ]
    },
    {
     "name": "stdout",
     "output_type": "stream",
     "text": [
      "Processing: Milk allergy\n"
     ]
    },
    {
     "name": "stderr",
     "output_type": "stream",
     "text": [
      " 35%|███▍      | 46/132 [00:15<00:28,  3.07it/s]"
     ]
    },
    {
     "name": "stdout",
     "output_type": "stream",
     "text": [
      "Processing: Mold allergy\n"
     ]
    },
    {
     "name": "stderr",
     "output_type": "stream",
     "text": [
      " 36%|███▌      | 47/132 [00:15<00:30,  2.78it/s]"
     ]
    },
    {
     "name": "stdout",
     "output_type": "stream",
     "text": [
      "Processing: Nickel allergy\n"
     ]
    },
    {
     "name": "stderr",
     "output_type": "stream",
     "text": [
      " 36%|███▋      | 48/132 [00:16<00:31,  2.65it/s]"
     ]
    },
    {
     "name": "stdout",
     "output_type": "stream",
     "text": [
      "Processing: Peanut allergy\n"
     ]
    },
    {
     "name": "stderr",
     "output_type": "stream",
     "text": [
      " 37%|███▋      | 49/132 [00:16<00:29,  2.84it/s]"
     ]
    },
    {
     "name": "stdout",
     "output_type": "stream",
     "text": [
      "Processing: Penicillin allergy\n"
     ]
    },
    {
     "name": "stderr",
     "output_type": "stream",
     "text": [
      " 38%|███▊      | 50/132 [00:16<00:29,  2.83it/s]"
     ]
    },
    {
     "name": "stdout",
     "output_type": "stream",
     "text": [
      "Processing: Pet allergy\n"
     ]
    },
    {
     "name": "stderr",
     "output_type": "stream",
     "text": [
      " 39%|███▊      | 51/132 [00:17<00:30,  2.69it/s]"
     ]
    },
    {
     "name": "stdout",
     "output_type": "stream",
     "text": [
      "Processing: Shellfish allergy\n"
     ]
    },
    {
     "name": "stderr",
     "output_type": "stream",
     "text": [
      " 39%|███▉      | 52/132 [00:17<00:28,  2.77it/s]"
     ]
    },
    {
     "name": "stdout",
     "output_type": "stream",
     "text": [
      "Processing: Wheat allergy\n"
     ]
    },
    {
     "name": "stderr",
     "output_type": "stream",
     "text": [
      " 40%|████      | 53/132 [00:17<00:27,  2.82it/s]"
     ]
    },
    {
     "name": "stdout",
     "output_type": "stream",
     "text": [
      "Processing: Hair loss\n"
     ]
    },
    {
     "name": "stderr",
     "output_type": "stream",
     "text": [
      " 41%|████      | 54/132 [00:18<00:27,  2.87it/s]"
     ]
    },
    {
     "name": "stdout",
     "output_type": "stream",
     "text": [
      "Processing: Amyotrophic lateral sclerosis (ALS)\n"
     ]
    },
    {
     "name": "stderr",
     "output_type": "stream",
     "text": [
      " 42%|████▏     | 55/132 [00:18<00:25,  2.99it/s]"
     ]
    },
    {
     "name": "stdout",
     "output_type": "stream",
     "text": [
      "Processing: Dry socket\n"
     ]
    },
    {
     "name": "stderr",
     "output_type": "stream",
     "text": [
      " 42%|████▏     | 56/132 [00:18<00:27,  2.80it/s]"
     ]
    },
    {
     "name": "stdout",
     "output_type": "stream",
     "text": [
      "Processing: Atypical genitalia\n"
     ]
    },
    {
     "name": "stderr",
     "output_type": "stream",
     "text": [
      " 43%|████▎     | 57/132 [00:19<00:26,  2.84it/s]"
     ]
    },
    {
     "name": "stdout",
     "output_type": "stream",
     "text": [
      "Processing: Lazy eye (amblyopia)\n"
     ]
    },
    {
     "name": "stderr",
     "output_type": "stream",
     "text": [
      " 44%|████▍     | 58/132 [00:19<00:25,  2.85it/s]"
     ]
    },
    {
     "name": "stdout",
     "output_type": "stream",
     "text": [
      "Processing: Chagas disease\n"
     ]
    },
    {
     "name": "stderr",
     "output_type": "stream",
     "text": [
      " 45%|████▍     | 59/132 [00:19<00:25,  2.85it/s]"
     ]
    },
    {
     "name": "stdout",
     "output_type": "stream",
     "text": [
      "Processing: Transient global amnesia\n"
     ]
    },
    {
     "name": "stderr",
     "output_type": "stream",
     "text": [
      " 45%|████▌     | 60/132 [00:20<00:28,  2.55it/s]"
     ]
    },
    {
     "name": "stdout",
     "output_type": "stream",
     "text": [
      "Processing: Amnesia\n"
     ]
    },
    {
     "name": "stderr",
     "output_type": "stream",
     "text": [
      " 46%|████▌     | 61/132 [00:20<00:25,  2.81it/s]"
     ]
    },
    {
     "name": "stdout",
     "output_type": "stream",
     "text": [
      "Processing: Amyloidosis\n"
     ]
    },
    {
     "name": "stderr",
     "output_type": "stream",
     "text": [
      " 47%|████▋     | 62/132 [00:21<00:24,  2.81it/s]"
     ]
    },
    {
     "name": "stdout",
     "output_type": "stream",
     "text": [
      "Processing: Aplastic anemia\n"
     ]
    },
    {
     "name": "stderr",
     "output_type": "stream",
     "text": [
      " 48%|████▊     | 63/132 [00:21<00:24,  2.80it/s]"
     ]
    },
    {
     "name": "stdout",
     "output_type": "stream",
     "text": [
      "Processing: Thalassemia\n"
     ]
    },
    {
     "name": "stderr",
     "output_type": "stream",
     "text": [
      " 48%|████▊     | 64/132 [00:21<00:23,  2.88it/s]"
     ]
    },
    {
     "name": "stdout",
     "output_type": "stream",
     "text": [
      "Processing: Iron deficiency anemia\n"
     ]
    },
    {
     "name": "stderr",
     "output_type": "stream",
     "text": [
      " 49%|████▉     | 65/132 [00:22<00:25,  2.63it/s]"
     ]
    },
    {
     "name": "stdout",
     "output_type": "stream",
     "text": [
      "Processing: Thalassemia\n"
     ]
    },
    {
     "name": "stderr",
     "output_type": "stream",
     "text": [
      " 50%|█████     | 66/132 [00:22<00:24,  2.67it/s]"
     ]
    },
    {
     "name": "stdout",
     "output_type": "stream",
     "text": [
      "Processing: Sickle cell anemia\n"
     ]
    },
    {
     "name": "stderr",
     "output_type": "stream",
     "text": [
      " 51%|█████     | 67/132 [00:22<00:24,  2.70it/s]"
     ]
    },
    {
     "name": "stdout",
     "output_type": "stream",
     "text": [
      "Processing: Vitamin deficiency anemia\n"
     ]
    },
    {
     "name": "stderr",
     "output_type": "stream",
     "text": [
      " 52%|█████▏    | 68/132 [00:23<00:27,  2.36it/s]"
     ]
    },
    {
     "name": "stdout",
     "output_type": "stream",
     "text": [
      "Processing: Abdominal aortic aneurysm\n"
     ]
    },
    {
     "name": "stderr",
     "output_type": "stream",
     "text": [
      " 52%|█████▏    | 69/132 [00:23<00:26,  2.38it/s]"
     ]
    },
    {
     "name": "stdout",
     "output_type": "stream",
     "text": [
      "Processing: Aortic aneurysm\n"
     ]
    },
    {
     "name": "stderr",
     "output_type": "stream",
     "text": [
      " 53%|█████▎    | 70/132 [00:24<00:23,  2.60it/s]"
     ]
    },
    {
     "name": "stdout",
     "output_type": "stream",
     "text": [
      "Processing: Brain aneurysm\n"
     ]
    },
    {
     "name": "stderr",
     "output_type": "stream",
     "text": [
      " 54%|█████▍    | 71/132 [00:24<00:22,  2.75it/s]"
     ]
    },
    {
     "name": "stdout",
     "output_type": "stream",
     "text": [
      "Processing: Popliteal artery aneurysm\n"
     ]
    },
    {
     "name": "stderr",
     "output_type": "stream",
     "text": [
      " 55%|█████▍    | 72/132 [00:24<00:20,  2.88it/s]"
     ]
    },
    {
     "name": "stdout",
     "output_type": "stream",
     "text": [
      "Processing: Thoracic aortic aneurysm\n"
     ]
    },
    {
     "name": "stderr",
     "output_type": "stream",
     "text": [
      " 55%|█████▌    | 73/132 [00:25<00:21,  2.70it/s]"
     ]
    },
    {
     "name": "stdout",
     "output_type": "stream",
     "text": [
      "Processing: Vasculitis\n"
     ]
    },
    {
     "name": "stderr",
     "output_type": "stream",
     "text": [
      " 56%|█████▌    | 74/132 [00:25<00:21,  2.65it/s]"
     ]
    },
    {
     "name": "stdout",
     "output_type": "stream",
     "text": [
      "Processing: Angina\n"
     ]
    },
    {
     "name": "stderr",
     "output_type": "stream",
     "text": [
      " 57%|█████▋    | 75/132 [00:26<00:20,  2.74it/s]"
     ]
    },
    {
     "name": "stdout",
     "output_type": "stream",
     "text": [
      "Processing: Hives and angioedema\n"
     ]
    },
    {
     "name": "stderr",
     "output_type": "stream",
     "text": [
      " 58%|█████▊    | 76/132 [00:26<00:19,  2.90it/s]"
     ]
    },
    {
     "name": "stdout",
     "output_type": "stream",
     "text": [
      "Processing: Castleman disease\n"
     ]
    },
    {
     "name": "stderr",
     "output_type": "stream",
     "text": [
      " 58%|█████▊    | 77/132 [00:26<00:17,  3.06it/s]"
     ]
    },
    {
     "name": "stdout",
     "output_type": "stream",
     "text": [
      "Processing: Broken ankle\n"
     ]
    },
    {
     "name": "stderr",
     "output_type": "stream",
     "text": [
      " 59%|█████▉    | 78/132 [00:27<00:19,  2.71it/s]"
     ]
    },
    {
     "name": "stdout",
     "output_type": "stream",
     "text": [
      "Processing: Sprained ankle\n"
     ]
    },
    {
     "name": "stderr",
     "output_type": "stream",
     "text": [
      " 60%|█████▉    | 79/132 [00:27<00:19,  2.74it/s]"
     ]
    },
    {
     "name": "stdout",
     "output_type": "stream",
     "text": [
      "Processing: Tongue-tie (ankyloglossia)\n"
     ]
    },
    {
     "name": "stderr",
     "output_type": "stream",
     "text": [
      " 61%|██████    | 80/132 [00:27<00:17,  2.92it/s]"
     ]
    },
    {
     "name": "stdout",
     "output_type": "stream",
     "text": [
      "Processing: Anorexia nervosa\n"
     ]
    },
    {
     "name": "stderr",
     "output_type": "stream",
     "text": [
      " 61%|██████▏   | 81/132 [00:27<00:16,  3.08it/s]"
     ]
    },
    {
     "name": "stdout",
     "output_type": "stream",
     "text": [
      "Processing: ACL injury\n"
     ]
    },
    {
     "name": "stderr",
     "output_type": "stream",
     "text": [
      " 62%|██████▏   | 82/132 [00:28<00:17,  2.84it/s]"
     ]
    },
    {
     "name": "stdout",
     "output_type": "stream",
     "text": [
      "Processing: Anterior vaginal prolapse (cystocele)\n"
     ]
    },
    {
     "name": "stderr",
     "output_type": "stream",
     "text": [
      " 63%|██████▎   | 83/132 [00:28<00:17,  2.86it/s]"
     ]
    },
    {
     "name": "stdout",
     "output_type": "stream",
     "text": [
      "Processing: Pseudomembranous colitis\n"
     ]
    },
    {
     "name": "stderr",
     "output_type": "stream",
     "text": [
      " 64%|██████▎   | 84/132 [00:29<00:16,  2.92it/s]"
     ]
    },
    {
     "name": "stdout",
     "output_type": "stream",
     "text": [
      "Processing: Generalized anxiety disorder\n"
     ]
    },
    {
     "name": "stderr",
     "output_type": "stream",
     "text": [
      " 64%|██████▍   | 85/132 [00:29<00:15,  2.99it/s]"
     ]
    },
    {
     "name": "stdout",
     "output_type": "stream",
     "text": [
      "Processing: Social anxiety disorder (social phobia)\n"
     ]
    },
    {
     "name": "stderr",
     "output_type": "stream",
     "text": [
      " 65%|██████▌   | 86/132 [00:29<00:15,  2.95it/s]"
     ]
    },
    {
     "name": "stdout",
     "output_type": "stream",
     "text": [
      "Processing: Abdominal aortic aneurysm\n"
     ]
    },
    {
     "name": "stderr",
     "output_type": "stream",
     "text": [
      " 66%|██████▌   | 87/132 [00:30<00:16,  2.74it/s]"
     ]
    },
    {
     "name": "stdout",
     "output_type": "stream",
     "text": [
      "Processing: Coarctation of the aorta\n"
     ]
    },
    {
     "name": "stderr",
     "output_type": "stream",
     "text": [
      " 67%|██████▋   | 88/132 [00:30<00:15,  2.89it/s]"
     ]
    },
    {
     "name": "stdout",
     "output_type": "stream",
     "text": [
      "Processing: Aortic valve regurgitation\n"
     ]
    },
    {
     "name": "stderr",
     "output_type": "stream",
     "text": [
      " 67%|██████▋   | 89/132 [00:30<00:14,  2.94it/s]"
     ]
    },
    {
     "name": "stdout",
     "output_type": "stream",
     "text": [
      "Processing: Aortic valve regurgitation\n"
     ]
    },
    {
     "name": "stderr",
     "output_type": "stream",
     "text": [
      " 68%|██████▊   | 90/132 [00:31<00:14,  2.99it/s]"
     ]
    },
    {
     "name": "stdout",
     "output_type": "stream",
     "text": [
      "Processing: Auditory processing disorder\n"
     ]
    },
    {
     "name": "stderr",
     "output_type": "stream",
     "text": [
      " 69%|██████▉   | 91/132 [00:31<00:14,  2.91it/s]"
     ]
    },
    {
     "name": "stdout",
     "output_type": "stream",
     "text": [
      "Processing: Primary progressive aphasia\n"
     ]
    },
    {
     "name": "stderr",
     "output_type": "stream",
     "text": [
      " 70%|██████▉   | 92/132 [00:31<00:13,  3.06it/s]"
     ]
    },
    {
     "name": "stdout",
     "output_type": "stream",
     "text": [
      "Processing: Canker sore\n"
     ]
    },
    {
     "name": "stderr",
     "output_type": "stream",
     "text": [
      " 70%|███████   | 93/132 [00:32<00:12,  3.09it/s]"
     ]
    },
    {
     "name": "stdout",
     "output_type": "stream",
     "text": [
      "Processing: Canker sore\n"
     ]
    },
    {
     "name": "stderr",
     "output_type": "stream",
     "text": [
      " 71%|███████   | 94/132 [00:32<00:11,  3.24it/s]"
     ]
    },
    {
     "name": "stdout",
     "output_type": "stream",
     "text": [
      "Processing: Broken heart syndrome\n"
     ]
    },
    {
     "name": "stderr",
     "output_type": "stream",
     "text": [
      " 72%|███████▏  | 95/132 [00:32<00:11,  3.30it/s]"
     ]
    },
    {
     "name": "stdout",
     "output_type": "stream",
     "text": [
      "Processing: Antiphospholipid syndrome\n"
     ]
    },
    {
     "name": "stderr",
     "output_type": "stream",
     "text": [
      " 73%|███████▎  | 96/132 [00:33<00:12,  2.96it/s]"
     ]
    },
    {
     "name": "stdout",
     "output_type": "stream",
     "text": [
      "Processing: Viral hemorrhagic fevers\n"
     ]
    },
    {
     "name": "stderr",
     "output_type": "stream",
     "text": [
      " 73%|███████▎  | 97/132 [00:33<00:11,  3.09it/s]"
     ]
    },
    {
     "name": "stdout",
     "output_type": "stream",
     "text": [
      "Processing: Viral hemorrhagic fevers\n"
     ]
    },
    {
     "name": "stderr",
     "output_type": "stream",
     "text": [
      " 74%|███████▍  | 98/132 [00:33<00:10,  3.15it/s]"
     ]
    },
    {
     "name": "stdout",
     "output_type": "stream",
     "text": [
      "Processing: Broken arm\n"
     ]
    },
    {
     "name": "stderr",
     "output_type": "stream",
     "text": [
      " 75%|███████▌  | 99/132 [00:34<00:11,  2.95it/s]"
     ]
    },
    {
     "name": "stdout",
     "output_type": "stream",
     "text": [
      "Processing: Chiari malformation\n"
     ]
    },
    {
     "name": "stderr",
     "output_type": "stream",
     "text": [
      " 76%|███████▌  | 100/132 [00:34<00:10,  3.04it/s]"
     ]
    },
    {
     "name": "stdout",
     "output_type": "stream",
     "text": [
      "Processing: Heart arrhythmia\n"
     ]
    },
    {
     "name": "stderr",
     "output_type": "stream",
     "text": [
      " 77%|███████▋  | 101/132 [00:34<00:10,  2.87it/s]"
     ]
    },
    {
     "name": "stdout",
     "output_type": "stream",
     "text": [
      "Processing: Giant cell arteritis\n"
     ]
    },
    {
     "name": "stderr",
     "output_type": "stream",
     "text": [
      " 77%|███████▋  | 102/132 [00:35<00:10,  2.98it/s]"
     ]
    },
    {
     "name": "stdout",
     "output_type": "stream",
     "text": [
      "Processing: Takayasu's arteritis\n"
     ]
    },
    {
     "name": "stderr",
     "output_type": "stream",
     "text": [
      " 78%|███████▊  | 103/132 [00:35<00:09,  2.96it/s]"
     ]
    },
    {
     "name": "stdout",
     "output_type": "stream",
     "text": [
      "Processing: Thumb arthritis\n"
     ]
    },
    {
     "name": "stderr",
     "output_type": "stream",
     "text": [
      " 79%|███████▉  | 104/132 [00:35<00:09,  2.96it/s]"
     ]
    },
    {
     "name": "stdout",
     "output_type": "stream",
     "text": [
      "Processing: Osteoarthritis\n"
     ]
    },
    {
     "name": "stderr",
     "output_type": "stream",
     "text": [
      " 80%|███████▉  | 105/132 [00:36<00:09,  2.80it/s]"
     ]
    },
    {
     "name": "stdout",
     "output_type": "stream",
     "text": [
      "Processing: Gout\n"
     ]
    },
    {
     "name": "stderr",
     "output_type": "stream",
     "text": [
      " 80%|████████  | 106/132 [00:36<00:09,  2.84it/s]"
     ]
    },
    {
     "name": "stdout",
     "output_type": "stream",
     "text": [
      "Processing: Septic arthritis\n"
     ]
    },
    {
     "name": "stderr",
     "output_type": "stream",
     "text": [
      " 81%|████████  | 107/132 [00:36<00:08,  2.81it/s]"
     ]
    },
    {
     "name": "stdout",
     "output_type": "stream",
     "text": [
      "Processing: Juvenile idiopathic arthritis\n"
     ]
    },
    {
     "name": "stderr",
     "output_type": "stream",
     "text": [
      " 82%|████████▏ | 108/132 [00:37<00:08,  2.96it/s]"
     ]
    },
    {
     "name": "stdout",
     "output_type": "stream",
     "text": [
      "Processing: Osteoarthritis\n"
     ]
    },
    {
     "name": "stderr",
     "output_type": "stream",
     "text": [
      " 83%|████████▎ | 109/132 [00:37<00:08,  2.70it/s]"
     ]
    },
    {
     "name": "stdout",
     "output_type": "stream",
     "text": [
      "Processing: Psoriatic arthritis\n"
     ]
    },
    {
     "name": "stderr",
     "output_type": "stream",
     "text": [
      " 83%|████████▎ | 110/132 [00:37<00:07,  2.78it/s]"
     ]
    },
    {
     "name": "stdout",
     "output_type": "stream",
     "text": [
      "Processing: Reactive arthritis\n"
     ]
    },
    {
     "name": "stderr",
     "output_type": "stream",
     "text": [
      " 84%|████████▍ | 111/132 [00:38<00:07,  2.76it/s]"
     ]
    },
    {
     "name": "stdout",
     "output_type": "stream",
     "text": [
      "Processing: Rheumatoid arthritis\n"
     ]
    },
    {
     "name": "stderr",
     "output_type": "stream",
     "text": [
      " 85%|████████▍ | 112/132 [00:38<00:06,  2.88it/s]"
     ]
    },
    {
     "name": "stdout",
     "output_type": "stream",
     "text": [
      "Processing: Septic arthritis\n"
     ]
    },
    {
     "name": "stderr",
     "output_type": "stream",
     "text": [
      " 86%|████████▌ | 113/132 [00:39<00:07,  2.61it/s]"
     ]
    },
    {
     "name": "stdout",
     "output_type": "stream",
     "text": [
      "Processing: Thumb arthritis\n"
     ]
    },
    {
     "name": "stderr",
     "output_type": "stream",
     "text": [
      " 86%|████████▋ | 114/132 [00:39<00:06,  2.84it/s]"
     ]
    },
    {
     "name": "stdout",
     "output_type": "stream",
     "text": [
      "Processing: Atrial septal defect (ASD)\n"
     ]
    },
    {
     "name": "stderr",
     "output_type": "stream",
     "text": [
      " 87%|████████▋ | 115/132 [00:39<00:05,  2.97it/s]"
     ]
    },
    {
     "name": "stdout",
     "output_type": "stream",
     "text": [
      "Processing: Autism spectrum disorder\n"
     ]
    },
    {
     "name": "stderr",
     "output_type": "stream",
     "text": [
      " 88%|████████▊ | 116/132 [00:39<00:05,  3.14it/s]"
     ]
    },
    {
     "name": "stdout",
     "output_type": "stream",
     "text": [
      "Processing: Avascular necrosis (osteonecrosis)\n"
     ]
    },
    {
     "name": "stderr",
     "output_type": "stream",
     "text": [
      " 89%|████████▊ | 117/132 [00:40<00:05,  2.94it/s]"
     ]
    },
    {
     "name": "stdout",
     "output_type": "stream",
     "text": [
      "Processing: Childhood asthma\n"
     ]
    },
    {
     "name": "stderr",
     "output_type": "stream",
     "text": [
      " 89%|████████▉ | 118/132 [00:40<00:05,  2.70it/s]"
     ]
    },
    {
     "name": "stdout",
     "output_type": "stream",
     "text": [
      "Processing: Exercise-induced asthma\n"
     ]
    },
    {
     "name": "stderr",
     "output_type": "stream",
     "text": [
      " 90%|█████████ | 119/132 [00:41<00:04,  2.72it/s]"
     ]
    },
    {
     "name": "stdout",
     "output_type": "stream",
     "text": [
      "Processing: Occupational asthma\n"
     ]
    },
    {
     "name": "stderr",
     "output_type": "stream",
     "text": [
      " 91%|█████████ | 120/132 [00:41<00:04,  2.74it/s]"
     ]
    },
    {
     "name": "stdout",
     "output_type": "stream",
     "text": [
      "Processing: Atrial tachycardia\n"
     ]
    },
    {
     "name": "stderr",
     "output_type": "stream",
     "text": [
      " 92%|█████████▏| 121/132 [00:41<00:03,  2.90it/s]"
     ]
    },
    {
     "name": "stdout",
     "output_type": "stream",
     "text": [
      "Processing: Arteriosclerosis / atherosclerosis\n"
     ]
    },
    {
     "name": "stderr",
     "output_type": "stream",
     "text": [
      " 92%|█████████▏| 122/132 [00:42<00:03,  2.86it/s]"
     ]
    },
    {
     "name": "stdout",
     "output_type": "stream",
     "text": [
      "Processing: Atrioventricular canal defect\n"
     ]
    },
    {
     "name": "stderr",
     "output_type": "stream",
     "text": [
      " 93%|█████████▎| 123/132 [00:42<00:03,  2.63it/s]"
     ]
    },
    {
     "name": "stdout",
     "output_type": "stream",
     "text": [
      "Processing: Vaginal atrophy\n"
     ]
    },
    {
     "name": "stderr",
     "output_type": "stream",
     "text": [
      " 94%|█████████▍| 124/132 [00:42<00:02,  2.72it/s]"
     ]
    },
    {
     "name": "stdout",
     "output_type": "stream",
     "text": [
      "Processing: Reactive attachment disorder\n"
     ]
    },
    {
     "name": "stderr",
     "output_type": "stream",
     "text": [
      " 95%|█████████▍| 125/132 [00:43<00:02,  2.74it/s]"
     ]
    },
    {
     "name": "stdout",
     "output_type": "stream",
     "text": [
      "Processing: Adult attention-deficit/hyperactivity disorder (ADHD)\n"
     ]
    },
    {
     "name": "stderr",
     "output_type": "stream",
     "text": [
      " 95%|█████████▌| 126/132 [00:43<00:02,  2.78it/s]"
     ]
    },
    {
     "name": "stdout",
     "output_type": "stream",
     "text": [
      "Processing: Auditory processing disorder\n"
     ]
    },
    {
     "name": "stderr",
     "output_type": "stream",
     "text": [
      " 96%|█████████▌| 127/132 [00:43<00:01,  2.82it/s]"
     ]
    },
    {
     "name": "stdout",
     "output_type": "stream",
     "text": [
      "Processing: Autoimmune epilepsy\n"
     ]
    },
    {
     "name": "stderr",
     "output_type": "stream",
     "text": [
      " 97%|█████████▋| 128/132 [00:44<00:01,  2.92it/s]"
     ]
    },
    {
     "name": "stdout",
     "output_type": "stream",
     "text": [
      "Processing: Autoimmune encephalitis\n"
     ]
    },
    {
     "name": "stderr",
     "output_type": "stream",
     "text": [
      " 98%|█████████▊| 129/132 [00:44<00:00,  3.15it/s]"
     ]
    },
    {
     "name": "stdout",
     "output_type": "stream",
     "text": [
      "Processing: Bird flu (avian influenza)\n"
     ]
    },
    {
     "name": "stderr",
     "output_type": "stream",
     "text": [
      " 98%|█████████▊| 130/132 [00:44<00:00,  3.09it/s]"
     ]
    },
    {
     "name": "stdout",
     "output_type": "stream",
     "text": [
      "Processing: Avascular necrosis (osteonecrosis)\n"
     ]
    },
    {
     "name": "stderr",
     "output_type": "stream",
     "text": [
      " 99%|█████████▉| 131/132 [00:45<00:00,  2.85it/s]"
     ]
    },
    {
     "name": "stdout",
     "output_type": "stream",
     "text": [
      "Processing: Atrioventricular nodal reentry tachycardia (AVNRT)\n"
     ]
    },
    {
     "name": "stderr",
     "output_type": "stream",
     "text": [
      "100%|██████████| 132/132 [00:45<00:00,  2.90it/s]"
     ]
    },
    {
     "name": "stdout",
     "output_type": "stream",
     "text": [
      "CSV file updated successfully with 132 rows\n"
     ]
    },
    {
     "name": "stderr",
     "output_type": "stream",
     "text": [
      "\n"
     ]
    }
   ],
   "source": [
    "import csv\n",
    "from bs4 import BeautifulSoup\n",
    "import requests\n",
    "import os\n",
    "from tqdm import tqdm\n",
    "\n",
    "def extract_sections(url):\n",
    "    headers = {\n",
    "        \"User-Agent\": \"Mozilla/5.0 (Windows NT 10.0; Win64; x64) AppleWebKit/537.36\",\n",
    "        \"Accept\": \"text/html,application/xhtml+xml,application/xml;q=0.9,image/webp,*/*;q=0.8\"\n",
    "    }\n",
    "\n",
    "    try:\n",
    "        response = requests.get(url, headers=headers, timeout=20)\n",
    "        response.raise_for_status()\n",
    "        soup = BeautifulSoup(response.text, 'html.parser')\n",
    "\n",
    "        # Try different possible main content containers\n",
    "        main_content = soup.find('div', class_='content') or soup.find('article', id='main-content')\n",
    "        if not main_content:\n",
    "            return {}  # Don't return error; just skip\n",
    "\n",
    "        # Section headings you want\n",
    "        sections = {\n",
    "            \"Overview\": None,\n",
    "            \"Symptoms\": None,\n",
    "            \"When to see a doctor\": None,\n",
    "            \"Causes\": None,\n",
    "            \"Risk factors\": None,\n",
    "            \"Complications\": None,\n",
    "            \"Prevention\": None\n",
    "        }\n",
    "\n",
    "        # Find all headings inside main content\n",
    "        headings = main_content.find_all(['h2', 'h3'])\n",
    "        for idx, heading in enumerate(headings):\n",
    "            heading_text = heading.get_text(strip=True)\n",
    "            # Fix potential typo in heading\n",
    "            if \"When to see a dotor\" in heading_text:\n",
    "                heading_text = \"When to see a doctor\"\n",
    "            # If it's a section we care about\n",
    "            if heading_text in sections:\n",
    "                # Gather all paragraph and list content until next heading\n",
    "                content = []\n",
    "                next_node = heading.find_next_sibling()\n",
    "                while next_node and next_node.name not in ['h2', 'h3']:\n",
    "                    if next_node.name == 'p':\n",
    "                        content.append(next_node.get_text(strip=True))\n",
    "                    elif next_node.name in ['ul', 'ol']:\n",
    "                        items = [li.get_text(strip=True) for li in next_node.find_all('li')]\n",
    "                        content.extend(items)\n",
    "                    next_node = next_node.find_next_sibling()\n",
    "                if content:\n",
    "                    sections[heading_text] = '\\n'.join(content)\n",
    "        # Only return sections with content\n",
    "        return {k: v for k, v in sections.items() if v}\n",
    "    except Exception as e:\n",
    "        # Just return empty dict for error\n",
    "        return {}\n",
    "\n",
    "def update_csv_with_sections(csv_file):\n",
    "    # Read existing data and headers\n",
    "    rows = []\n",
    "    existing_headers = []\n",
    "    if os.path.exists(csv_file):\n",
    "        with open(csv_file, 'r', newline='', encoding='utf-8') as f:\n",
    "            reader = csv.DictReader(f)\n",
    "            existing_headers = reader.fieldnames\n",
    "            rows = list(reader)\n",
    "\n",
    "    # List of desired section headers\n",
    "    section_headers = [\n",
    "        'Overview', 'Symptoms', 'When to see a doctor',\n",
    "        'Causes', 'Risk factors', 'Complications', 'Prevention'\n",
    "    ]\n",
    "    # Columns from csv plus any missing section headers\n",
    "    all_headers = existing_headers.copy() if existing_headers else ['disease', 'main_link']\n",
    "    for header in section_headers:\n",
    "        if header not in all_headers:\n",
    "            all_headers.append(header)\n",
    "\n",
    "    # Process each row and update with extracted sections\n",
    "    updated_rows = []\n",
    "    for row in tqdm(rows):\n",
    "        # Only process if main_link exists\n",
    "        if 'main_link' in row and row['main_link']:\n",
    "            print(f\"Processing: {row.get('disease', 'Unknown')}\")\n",
    "            sections = extract_sections(row['main_link'])\n",
    "            # Update row with whatever we could extract\n",
    "            for section, content in sections.items():\n",
    "                row[section] = content\n",
    "        updated_rows.append(row)\n",
    "\n",
    "    # Write back to CSV with updated headers and rows\n",
    "    with open(csv_file, 'w', newline='', encoding='utf-8') as f:\n",
    "        writer = csv.DictWriter(f, fieldnames=all_headers)\n",
    "        writer.writeheader()\n",
    "        writer.writerows(updated_rows)\n",
    "    print(f\"CSV file updated successfully with {len(updated_rows)} rows\")\n",
    "\n",
    "# Example usage\n",
    "if __name__ == \"__main__\":\n",
    "    csv_file = \"mayo_diseases.csv\"\n",
    "    update_csv_with_sections(csv_file)"
   ]
  },
  {
   "cell_type": "code",
   "execution_count": 24,
   "metadata": {},
   "outputs": [
    {
     "name": "stderr",
     "output_type": "stream",
     "text": [
      "Processing diseases:   0%|          | 0/132 [00:00<?, ?disease/s]"
     ]
    },
    {
     "name": "stdout",
     "output_type": "stream",
     "text": [
      "Processing: Atrial fibrillation\n"
     ]
    },
    {
     "name": "stderr",
     "output_type": "stream",
     "text": [
      "Processing diseases:   1%|          | 1/132 [00:00<00:42,  3.09disease/s]"
     ]
    },
    {
     "name": "stdout",
     "output_type": "stream",
     "text": [
      "Processing: Hyperhidrosis\n"
     ]
    },
    {
     "name": "stderr",
     "output_type": "stream",
     "text": [
      "Processing diseases:   2%|▏         | 2/132 [00:00<00:45,  2.83disease/s]"
     ]
    },
    {
     "name": "stdout",
     "output_type": "stream",
     "text": [
      "Processing: Bartholin's cyst\n"
     ]
    },
    {
     "name": "stderr",
     "output_type": "stream",
     "text": [
      "Processing diseases:   2%|▏         | 3/132 [00:01<00:43,  2.96disease/s]"
     ]
    },
    {
     "name": "stdout",
     "output_type": "stream",
     "text": [
      "Processing: Infant reflux\n"
     ]
    },
    {
     "name": "stderr",
     "output_type": "stream",
     "text": [
      "Processing diseases:   3%|▎         | 4/132 [00:01<00:39,  3.20disease/s]"
     ]
    },
    {
     "name": "stdout",
     "output_type": "stream",
     "text": [
      "Processing: Hidradenitis suppurativa\n"
     ]
    },
    {
     "name": "stderr",
     "output_type": "stream",
     "text": [
      "Processing diseases:   4%|▍         | 5/132 [00:01<00:37,  3.37disease/s]"
     ]
    },
    {
     "name": "stdout",
     "output_type": "stream",
     "text": [
      "Processing: HIV/AIDS\n"
     ]
    },
    {
     "name": "stderr",
     "output_type": "stream",
     "text": [
      "Processing diseases:   5%|▍         | 6/132 [00:01<00:41,  3.05disease/s]"
     ]
    },
    {
     "name": "stdout",
     "output_type": "stream",
     "text": [
      "Processing: Acute myelogenous leukemia\n"
     ]
    },
    {
     "name": "stderr",
     "output_type": "stream",
     "text": [
      "Processing diseases:   5%|▌         | 7/132 [00:02<00:42,  2.91disease/s]"
     ]
    },
    {
     "name": "stdout",
     "output_type": "stream",
     "text": [
      "Processing: Guillain-Barre syndrome\n"
     ]
    },
    {
     "name": "stderr",
     "output_type": "stream",
     "text": [
      "Processing diseases:   6%|▌         | 8/132 [00:02<00:41,  2.95disease/s]"
     ]
    },
    {
     "name": "stdout",
     "output_type": "stream",
     "text": [
      "Processing: Acute kidney injury\n"
     ]
    },
    {
     "name": "stderr",
     "output_type": "stream",
     "text": [
      "Processing diseases:   7%|▋         | 9/132 [00:02<00:39,  3.12disease/s]"
     ]
    },
    {
     "name": "stdout",
     "output_type": "stream",
     "text": [
      "Processing: Acute lymphocytic leukemia\n"
     ]
    },
    {
     "name": "stderr",
     "output_type": "stream",
     "text": [
      "Processing diseases:   8%|▊         | 10/132 [00:03<00:37,  3.25disease/s]"
     ]
    },
    {
     "name": "stdout",
     "output_type": "stream",
     "text": [
      "Processing: Acute lymphocytic leukemia\n"
     ]
    },
    {
     "name": "stderr",
     "output_type": "stream",
     "text": [
      "Processing diseases:   8%|▊         | 11/132 [00:03<00:40,  3.02disease/s]"
     ]
    },
    {
     "name": "stdout",
     "output_type": "stream",
     "text": [
      "Processing: Acute myelogenous leukemia\n"
     ]
    },
    {
     "name": "stderr",
     "output_type": "stream",
     "text": [
      "Processing diseases:   9%|▉         | 12/132 [00:03<00:38,  3.12disease/s]"
     ]
    },
    {
     "name": "stdout",
     "output_type": "stream",
     "text": [
      "Processing: Acute myelogenous leukemia\n"
     ]
    },
    {
     "name": "stderr",
     "output_type": "stream",
     "text": [
      "Processing diseases:  10%|▉         | 13/132 [00:04<00:40,  2.95disease/s]"
     ]
    },
    {
     "name": "stdout",
     "output_type": "stream",
     "text": [
      "Processing: Acute myelogenous leukemia\n"
     ]
    },
    {
     "name": "stderr",
     "output_type": "stream",
     "text": [
      "Processing diseases:  11%|█         | 14/132 [00:04<00:40,  2.91disease/s]"
     ]
    },
    {
     "name": "stdout",
     "output_type": "stream",
     "text": [
      "Processing: Radiation sickness\n"
     ]
    },
    {
     "name": "stderr",
     "output_type": "stream",
     "text": [
      "Processing diseases:  11%|█▏        | 15/132 [00:05<00:41,  2.79disease/s]"
     ]
    },
    {
     "name": "stdout",
     "output_type": "stream",
     "text": [
      "Processing: Radiation sickness\n"
     ]
    },
    {
     "name": "stderr",
     "output_type": "stream",
     "text": [
      "Processing diseases:  12%|█▏        | 16/132 [00:05<00:39,  2.95disease/s]"
     ]
    },
    {
     "name": "stdout",
     "output_type": "stream",
     "text": [
      "Processing: Acute kidney injury\n"
     ]
    },
    {
     "name": "stderr",
     "output_type": "stream",
     "text": [
      "Processing diseases:  13%|█▎        | 17/132 [00:05<00:38,  3.01disease/s]"
     ]
    },
    {
     "name": "stdout",
     "output_type": "stream",
     "text": [
      "Processing: ARDS\n"
     ]
    },
    {
     "name": "stderr",
     "output_type": "stream",
     "text": [
      "Processing diseases:  14%|█▎        | 18/132 [00:05<00:36,  3.09disease/s]"
     ]
    },
    {
     "name": "stdout",
     "output_type": "stream",
     "text": [
      "Processing: Acute sinusitis\n"
     ]
    },
    {
     "name": "stderr",
     "output_type": "stream",
     "text": [
      "Processing diseases:  14%|█▍        | 19/132 [00:06<00:35,  3.20disease/s]"
     ]
    },
    {
     "name": "stdout",
     "output_type": "stream",
     "text": [
      "Processing: Autoimmune epilepsy\n"
     ]
    },
    {
     "name": "stderr",
     "output_type": "stream",
     "text": [
      "Processing diseases:  15%|█▌        | 20/132 [00:06<00:39,  2.84disease/s]"
     ]
    },
    {
     "name": "stdout",
     "output_type": "stream",
     "text": [
      "Processing: Alcohol use disorder\n"
     ]
    },
    {
     "name": "stderr",
     "output_type": "stream",
     "text": [
      "Processing diseases:  16%|█▌        | 21/132 [00:07<00:38,  2.89disease/s]"
     ]
    },
    {
     "name": "stdout",
     "output_type": "stream",
     "text": [
      "Processing: Compulsive gambling\n"
     ]
    },
    {
     "name": "stderr",
     "output_type": "stream",
     "text": [
      "Processing diseases:  17%|█▋        | 22/132 [00:07<00:38,  2.84disease/s]"
     ]
    },
    {
     "name": "stdout",
     "output_type": "stream",
     "text": [
      "Processing: Nicotine dependence\n"
     ]
    },
    {
     "name": "stderr",
     "output_type": "stream",
     "text": [
      "Processing diseases:  17%|█▋        | 23/132 [00:07<00:36,  2.99disease/s]"
     ]
    },
    {
     "name": "stdout",
     "output_type": "stream",
     "text": [
      "Processing: Mesenteric lymphadenitis\n"
     ]
    },
    {
     "name": "stderr",
     "output_type": "stream",
     "text": [
      "Processing diseases:  18%|█▊        | 24/132 [00:07<00:34,  3.13disease/s]"
     ]
    },
    {
     "name": "stdout",
     "output_type": "stream",
     "text": [
      "Processing: Attention-deficit/hyperactivity disorder (ADHD) in children\n"
     ]
    },
    {
     "name": "stderr",
     "output_type": "stream",
     "text": [
      "Processing diseases:  19%|█▉        | 25/132 [00:08<00:36,  2.93disease/s]"
     ]
    },
    {
     "name": "stdout",
     "output_type": "stream",
     "text": [
      "Processing: Adult attention-deficit/hyperactivity disorder (ADHD)\n"
     ]
    },
    {
     "name": "stderr",
     "output_type": "stream",
     "text": [
      "Processing diseases:  20%|█▉        | 26/132 [00:08<00:36,  2.90disease/s]"
     ]
    },
    {
     "name": "stdout",
     "output_type": "stream",
     "text": [
      "Processing: Frozen shoulder\n"
     ]
    },
    {
     "name": "stderr",
     "output_type": "stream",
     "text": [
      "Processing diseases:  20%|██        | 27/132 [00:09<00:35,  2.97disease/s]"
     ]
    },
    {
     "name": "stdout",
     "output_type": "stream",
     "text": [
      "Processing: Childhood schizophrenia\n"
     ]
    },
    {
     "name": "stderr",
     "output_type": "stream",
     "text": [
      "Processing diseases:  21%|██        | 28/132 [00:09<00:37,  2.80disease/s]"
     ]
    },
    {
     "name": "stdout",
     "output_type": "stream",
     "text": [
      "Processing: Benign adrenal tumors\n"
     ]
    },
    {
     "name": "stderr",
     "output_type": "stream",
     "text": [
      "Processing diseases:  22%|██▏       | 29/132 [00:09<00:37,  2.73disease/s]"
     ]
    },
    {
     "name": "stdout",
     "output_type": "stream",
     "text": [
      "Processing: Autoimmune encephalitis\n"
     ]
    },
    {
     "name": "stderr",
     "output_type": "stream",
     "text": [
      "Processing diseases:  23%|██▎       | 30/132 [00:10<00:34,  2.92disease/s]"
     ]
    },
    {
     "name": "stdout",
     "output_type": "stream",
     "text": [
      "Processing: Acute flaccid myelitis (AFM)\n"
     ]
    },
    {
     "name": "stderr",
     "output_type": "stream",
     "text": [
      "Processing diseases:  23%|██▎       | 31/132 [00:10<00:34,  2.92disease/s]"
     ]
    },
    {
     "name": "stdout",
     "output_type": "stream",
     "text": [
      "Processing: Dry macular degeneration\n"
     ]
    },
    {
     "name": "stderr",
     "output_type": "stream",
     "text": [
      "Processing diseases:  24%|██▍       | 32/132 [00:10<00:32,  3.09disease/s]"
     ]
    },
    {
     "name": "stdout",
     "output_type": "stream",
     "text": [
      "Processing: Macular degeneration, wet\n"
     ]
    },
    {
     "name": "stderr",
     "output_type": "stream",
     "text": [
      "Processing diseases:  25%|██▌       | 33/132 [00:11<00:31,  3.16disease/s]"
     ]
    },
    {
     "name": "stdout",
     "output_type": "stream",
     "text": [
      "Processing: Myelofibrosis\n"
     ]
    },
    {
     "name": "stderr",
     "output_type": "stream",
     "text": [
      "Processing diseases:  26%|██▌       | 34/132 [00:11<00:33,  2.95disease/s]"
     ]
    },
    {
     "name": "stdout",
     "output_type": "stream",
     "text": [
      "Processing: Guillain-Barre syndrome\n"
     ]
    },
    {
     "name": "stderr",
     "output_type": "stream",
     "text": [
      "Processing diseases:  27%|██▋       | 35/132 [00:11<00:32,  2.94disease/s]"
     ]
    },
    {
     "name": "stdout",
     "output_type": "stream",
     "text": [
      "Processing: HIV/AIDS\n"
     ]
    },
    {
     "name": "stderr",
     "output_type": "stream",
     "text": [
      "Processing diseases:  27%|██▋       | 36/132 [00:12<00:31,  3.03disease/s]"
     ]
    },
    {
     "name": "stdout",
     "output_type": "stream",
     "text": [
      "Processing: Alcohol use disorder\n"
     ]
    },
    {
     "name": "stderr",
     "output_type": "stream",
     "text": [
      "Processing diseases:  28%|██▊       | 37/132 [00:12<00:30,  3.08disease/s]"
     ]
    },
    {
     "name": "stdout",
     "output_type": "stream",
     "text": [
      "Processing: Alcoholic hepatitis\n"
     ]
    },
    {
     "name": "stderr",
     "output_type": "stream",
     "text": [
      "Processing diseases:  29%|██▉       | 38/132 [00:12<00:32,  2.90disease/s]"
     ]
    },
    {
     "name": "stdout",
     "output_type": "stream",
     "text": [
      "Processing: Churg-Strauss syndrome\n"
     ]
    },
    {
     "name": "stderr",
     "output_type": "stream",
     "text": [
      "Processing diseases:  30%|██▉       | 39/132 [00:13<00:31,  2.94disease/s]"
     ]
    },
    {
     "name": "stdout",
     "output_type": "stream",
     "text": [
      "Processing: Churg-Strauss syndrome\n"
     ]
    },
    {
     "name": "stderr",
     "output_type": "stream",
     "text": [
      "Processing diseases:  30%|███       | 40/132 [00:13<00:31,  2.93disease/s]"
     ]
    },
    {
     "name": "stdout",
     "output_type": "stream",
     "text": [
      "Processing: Hay fever\n"
     ]
    },
    {
     "name": "stderr",
     "output_type": "stream",
     "text": [
      "Processing diseases:  31%|███       | 41/132 [00:13<00:31,  2.92disease/s]"
     ]
    },
    {
     "name": "stdout",
     "output_type": "stream",
     "text": [
      "Processing: Dust mite allergy\n"
     ]
    },
    {
     "name": "stderr",
     "output_type": "stream",
     "text": [
      "Processing diseases:  32%|███▏      | 42/132 [00:14<00:30,  2.96disease/s]"
     ]
    },
    {
     "name": "stdout",
     "output_type": "stream",
     "text": [
      "Processing: Egg allergy\n"
     ]
    },
    {
     "name": "stderr",
     "output_type": "stream",
     "text": [
      "Processing diseases:  33%|███▎      | 43/132 [00:14<00:32,  2.73disease/s]"
     ]
    },
    {
     "name": "stdout",
     "output_type": "stream",
     "text": [
      "Processing: Food allergy\n"
     ]
    },
    {
     "name": "stderr",
     "output_type": "stream",
     "text": [
      "Processing diseases:  33%|███▎      | 44/132 [00:14<00:30,  2.91disease/s]"
     ]
    },
    {
     "name": "stdout",
     "output_type": "stream",
     "text": [
      "Processing: Latex allergy\n"
     ]
    },
    {
     "name": "stderr",
     "output_type": "stream",
     "text": [
      "Processing diseases:  34%|███▍      | 45/132 [00:15<00:28,  3.07disease/s]"
     ]
    },
    {
     "name": "stdout",
     "output_type": "stream",
     "text": [
      "Processing: Milk allergy\n"
     ]
    },
    {
     "name": "stderr",
     "output_type": "stream",
     "text": [
      "Processing diseases:  35%|███▍      | 46/132 [00:15<00:27,  3.07disease/s]"
     ]
    },
    {
     "name": "stdout",
     "output_type": "stream",
     "text": [
      "Processing: Mold allergy\n"
     ]
    },
    {
     "name": "stderr",
     "output_type": "stream",
     "text": [
      "Processing diseases:  36%|███▌      | 47/132 [00:15<00:32,  2.64disease/s]"
     ]
    },
    {
     "name": "stdout",
     "output_type": "stream",
     "text": [
      "Processing: Nickel allergy\n"
     ]
    },
    {
     "name": "stderr",
     "output_type": "stream",
     "text": [
      "Processing diseases:  36%|███▋      | 48/132 [00:16<00:31,  2.69disease/s]"
     ]
    },
    {
     "name": "stdout",
     "output_type": "stream",
     "text": [
      "Processing: Peanut allergy\n"
     ]
    },
    {
     "name": "stderr",
     "output_type": "stream",
     "text": [
      "Processing diseases:  37%|███▋      | 49/132 [00:16<00:29,  2.83disease/s]"
     ]
    },
    {
     "name": "stdout",
     "output_type": "stream",
     "text": [
      "Processing: Penicillin allergy\n"
     ]
    },
    {
     "name": "stderr",
     "output_type": "stream",
     "text": [
      "Processing diseases:  38%|███▊      | 50/132 [00:16<00:29,  2.74disease/s]"
     ]
    },
    {
     "name": "stdout",
     "output_type": "stream",
     "text": [
      "Processing: Pet allergy\n"
     ]
    },
    {
     "name": "stderr",
     "output_type": "stream",
     "text": [
      "Processing diseases:  39%|███▊      | 51/132 [00:17<00:31,  2.55disease/s]"
     ]
    },
    {
     "name": "stdout",
     "output_type": "stream",
     "text": [
      "Processing: Shellfish allergy\n"
     ]
    },
    {
     "name": "stderr",
     "output_type": "stream",
     "text": [
      "Processing diseases:  39%|███▉      | 52/132 [00:17<00:28,  2.77disease/s]"
     ]
    },
    {
     "name": "stdout",
     "output_type": "stream",
     "text": [
      "Processing: Wheat allergy\n"
     ]
    },
    {
     "name": "stderr",
     "output_type": "stream",
     "text": [
      "Processing diseases:  40%|████      | 53/132 [00:18<00:29,  2.72disease/s]"
     ]
    },
    {
     "name": "stdout",
     "output_type": "stream",
     "text": [
      "Processing: Hair loss\n"
     ]
    },
    {
     "name": "stderr",
     "output_type": "stream",
     "text": [
      "Processing diseases:  41%|████      | 54/132 [00:18<00:28,  2.76disease/s]"
     ]
    },
    {
     "name": "stdout",
     "output_type": "stream",
     "text": [
      "Processing: Amyotrophic lateral sclerosis (ALS)\n"
     ]
    },
    {
     "name": "stderr",
     "output_type": "stream",
     "text": [
      "Processing diseases:  42%|████▏     | 55/132 [00:18<00:26,  2.87disease/s]"
     ]
    },
    {
     "name": "stdout",
     "output_type": "stream",
     "text": [
      "Processing: Dry socket\n"
     ]
    },
    {
     "name": "stderr",
     "output_type": "stream",
     "text": [
      "Processing diseases:  42%|████▏     | 56/132 [00:19<00:28,  2.68disease/s]"
     ]
    },
    {
     "name": "stdout",
     "output_type": "stream",
     "text": [
      "Processing: Atypical genitalia\n"
     ]
    },
    {
     "name": "stderr",
     "output_type": "stream",
     "text": [
      "Processing diseases:  43%|████▎     | 57/132 [00:19<00:28,  2.65disease/s]"
     ]
    },
    {
     "name": "stdout",
     "output_type": "stream",
     "text": [
      "Processing: Lazy eye (amblyopia)\n"
     ]
    },
    {
     "name": "stderr",
     "output_type": "stream",
     "text": [
      "Processing diseases:  44%|████▍     | 58/132 [00:20<00:30,  2.45disease/s]"
     ]
    },
    {
     "name": "stdout",
     "output_type": "stream",
     "text": [
      "Processing: Chagas disease\n"
     ]
    },
    {
     "name": "stderr",
     "output_type": "stream",
     "text": [
      "Processing diseases:  45%|████▍     | 59/132 [00:20<00:29,  2.43disease/s]"
     ]
    },
    {
     "name": "stdout",
     "output_type": "stream",
     "text": [
      "Processing: Transient global amnesia\n"
     ]
    },
    {
     "name": "stderr",
     "output_type": "stream",
     "text": [
      "Processing diseases:  45%|████▌     | 60/132 [00:20<00:30,  2.33disease/s]"
     ]
    },
    {
     "name": "stdout",
     "output_type": "stream",
     "text": [
      "Processing: Amnesia\n"
     ]
    },
    {
     "name": "stderr",
     "output_type": "stream",
     "text": [
      "Processing diseases:  46%|████▌     | 61/132 [00:21<00:28,  2.52disease/s]"
     ]
    },
    {
     "name": "stdout",
     "output_type": "stream",
     "text": [
      "Processing: Amyloidosis\n"
     ]
    },
    {
     "name": "stderr",
     "output_type": "stream",
     "text": [
      "Processing diseases:  47%|████▋     | 62/132 [00:21<00:26,  2.68disease/s]"
     ]
    },
    {
     "name": "stdout",
     "output_type": "stream",
     "text": [
      "Processing: Aplastic anemia\n"
     ]
    },
    {
     "name": "stderr",
     "output_type": "stream",
     "text": [
      "Processing diseases:  48%|████▊     | 63/132 [00:22<00:26,  2.62disease/s]"
     ]
    },
    {
     "name": "stdout",
     "output_type": "stream",
     "text": [
      "Processing: Thalassemia\n"
     ]
    },
    {
     "name": "stderr",
     "output_type": "stream",
     "text": [
      "Processing diseases:  48%|████▊     | 64/132 [00:22<00:26,  2.52disease/s]"
     ]
    },
    {
     "name": "stdout",
     "output_type": "stream",
     "text": [
      "Processing: Iron deficiency anemia\n"
     ]
    },
    {
     "name": "stderr",
     "output_type": "stream",
     "text": [
      "Processing diseases:  49%|████▉     | 65/132 [00:22<00:27,  2.40disease/s]"
     ]
    },
    {
     "name": "stdout",
     "output_type": "stream",
     "text": [
      "Processing: Thalassemia\n"
     ]
    },
    {
     "name": "stderr",
     "output_type": "stream",
     "text": [
      "Processing diseases:  50%|█████     | 66/132 [00:23<00:26,  2.51disease/s]"
     ]
    },
    {
     "name": "stdout",
     "output_type": "stream",
     "text": [
      "Processing: Sickle cell anemia\n"
     ]
    },
    {
     "name": "stderr",
     "output_type": "stream",
     "text": [
      "Processing diseases:  51%|█████     | 67/132 [00:23<00:25,  2.53disease/s]"
     ]
    },
    {
     "name": "stdout",
     "output_type": "stream",
     "text": [
      "Processing: Vitamin deficiency anemia\n"
     ]
    },
    {
     "name": "stderr",
     "output_type": "stream",
     "text": [
      "Processing diseases:  52%|█████▏    | 68/132 [00:24<00:26,  2.43disease/s]"
     ]
    },
    {
     "name": "stdout",
     "output_type": "stream",
     "text": [
      "Processing: Abdominal aortic aneurysm\n"
     ]
    },
    {
     "name": "stderr",
     "output_type": "stream",
     "text": [
      "Processing diseases:  52%|█████▏    | 69/132 [00:24<00:25,  2.45disease/s]"
     ]
    },
    {
     "name": "stdout",
     "output_type": "stream",
     "text": [
      "Processing: Aortic aneurysm\n"
     ]
    },
    {
     "name": "stderr",
     "output_type": "stream",
     "text": [
      "Processing diseases:  53%|█████▎    | 70/132 [00:24<00:23,  2.59disease/s]"
     ]
    },
    {
     "name": "stdout",
     "output_type": "stream",
     "text": [
      "Processing: Brain aneurysm\n"
     ]
    },
    {
     "name": "stderr",
     "output_type": "stream",
     "text": [
      "Processing diseases:  54%|█████▍    | 71/132 [00:25<00:21,  2.77disease/s]"
     ]
    },
    {
     "name": "stdout",
     "output_type": "stream",
     "text": [
      "Processing: Popliteal artery aneurysm\n"
     ]
    },
    {
     "name": "stderr",
     "output_type": "stream",
     "text": [
      "Processing diseases:  55%|█████▍    | 72/132 [00:25<00:20,  2.91disease/s]"
     ]
    },
    {
     "name": "stdout",
     "output_type": "stream",
     "text": [
      "Processing: Thoracic aortic aneurysm\n"
     ]
    },
    {
     "name": "stderr",
     "output_type": "stream",
     "text": [
      "Processing diseases:  55%|█████▌    | 73/132 [00:25<00:22,  2.64disease/s]"
     ]
    },
    {
     "name": "stdout",
     "output_type": "stream",
     "text": [
      "Processing: Vasculitis\n"
     ]
    },
    {
     "name": "stderr",
     "output_type": "stream",
     "text": [
      "Processing diseases:  56%|█████▌    | 74/132 [00:26<00:20,  2.83disease/s]"
     ]
    },
    {
     "name": "stdout",
     "output_type": "stream",
     "text": [
      "Processing: Angina\n"
     ]
    },
    {
     "name": "stderr",
     "output_type": "stream",
     "text": [
      "Processing diseases:  57%|█████▋    | 75/132 [00:26<00:20,  2.73disease/s]"
     ]
    },
    {
     "name": "stdout",
     "output_type": "stream",
     "text": [
      "Processing: Hives and angioedema\n"
     ]
    },
    {
     "name": "stderr",
     "output_type": "stream",
     "text": [
      "Processing diseases:  58%|█████▊    | 76/132 [00:26<00:20,  2.73disease/s]"
     ]
    },
    {
     "name": "stdout",
     "output_type": "stream",
     "text": [
      "Processing: Castleman disease\n"
     ]
    },
    {
     "name": "stderr",
     "output_type": "stream",
     "text": [
      "Processing diseases:  58%|█████▊    | 77/132 [00:27<00:20,  2.66disease/s]"
     ]
    },
    {
     "name": "stdout",
     "output_type": "stream",
     "text": [
      "Processing: Broken ankle\n"
     ]
    },
    {
     "name": "stderr",
     "output_type": "stream",
     "text": [
      "Processing diseases:  59%|█████▉    | 78/132 [00:27<00:20,  2.66disease/s]"
     ]
    },
    {
     "name": "stdout",
     "output_type": "stream",
     "text": [
      "Processing: Sprained ankle\n"
     ]
    },
    {
     "name": "stderr",
     "output_type": "stream",
     "text": [
      "Processing diseases:  60%|█████▉    | 79/132 [00:28<00:18,  2.80disease/s]"
     ]
    },
    {
     "name": "stdout",
     "output_type": "stream",
     "text": [
      "Processing: Tongue-tie (ankyloglossia)\n"
     ]
    },
    {
     "name": "stderr",
     "output_type": "stream",
     "text": [
      "Processing diseases:  61%|██████    | 80/132 [00:28<00:18,  2.87disease/s]"
     ]
    },
    {
     "name": "stdout",
     "output_type": "stream",
     "text": [
      "Processing: Anorexia nervosa\n"
     ]
    },
    {
     "name": "stderr",
     "output_type": "stream",
     "text": [
      "Processing diseases:  61%|██████▏   | 81/132 [00:28<00:17,  2.93disease/s]"
     ]
    },
    {
     "name": "stdout",
     "output_type": "stream",
     "text": [
      "Processing: ACL injury\n"
     ]
    },
    {
     "name": "stderr",
     "output_type": "stream",
     "text": [
      "Processing diseases:  62%|██████▏   | 82/132 [00:29<00:17,  2.83disease/s]"
     ]
    },
    {
     "name": "stdout",
     "output_type": "stream",
     "text": [
      "Processing: Anterior vaginal prolapse (cystocele)\n"
     ]
    },
    {
     "name": "stderr",
     "output_type": "stream",
     "text": [
      "Processing diseases:  63%|██████▎   | 83/132 [00:29<00:16,  2.91disease/s]"
     ]
    },
    {
     "name": "stdout",
     "output_type": "stream",
     "text": [
      "Processing: Pseudomembranous colitis\n"
     ]
    },
    {
     "name": "stderr",
     "output_type": "stream",
     "text": [
      "Processing diseases:  64%|██████▎   | 84/132 [00:29<00:16,  2.88disease/s]"
     ]
    },
    {
     "name": "stdout",
     "output_type": "stream",
     "text": [
      "Processing: Generalized anxiety disorder\n"
     ]
    },
    {
     "name": "stderr",
     "output_type": "stream",
     "text": [
      "Processing diseases:  64%|██████▍   | 85/132 [00:30<00:15,  3.07disease/s]"
     ]
    },
    {
     "name": "stdout",
     "output_type": "stream",
     "text": [
      "Processing: Social anxiety disorder (social phobia)\n"
     ]
    },
    {
     "name": "stderr",
     "output_type": "stream",
     "text": [
      "Processing diseases:  65%|██████▌   | 86/132 [00:30<00:16,  2.85disease/s]"
     ]
    },
    {
     "name": "stdout",
     "output_type": "stream",
     "text": [
      "Processing: Abdominal aortic aneurysm\n"
     ]
    },
    {
     "name": "stderr",
     "output_type": "stream",
     "text": [
      "Processing diseases:  66%|██████▌   | 87/132 [00:30<00:15,  2.94disease/s]"
     ]
    },
    {
     "name": "stdout",
     "output_type": "stream",
     "text": [
      "Processing: Coarctation of the aorta\n"
     ]
    },
    {
     "name": "stderr",
     "output_type": "stream",
     "text": [
      "Processing diseases:  67%|██████▋   | 88/132 [00:31<00:14,  2.95disease/s]"
     ]
    },
    {
     "name": "stdout",
     "output_type": "stream",
     "text": [
      "Processing: Aortic valve regurgitation\n"
     ]
    },
    {
     "name": "stderr",
     "output_type": "stream",
     "text": [
      "Processing diseases:  67%|██████▋   | 89/132 [00:31<00:13,  3.09disease/s]"
     ]
    },
    {
     "name": "stdout",
     "output_type": "stream",
     "text": [
      "Processing: Aortic valve regurgitation\n"
     ]
    },
    {
     "name": "stderr",
     "output_type": "stream",
     "text": [
      "Processing diseases:  68%|██████▊   | 90/132 [00:31<00:13,  3.12disease/s]"
     ]
    },
    {
     "name": "stdout",
     "output_type": "stream",
     "text": [
      "Processing: Auditory processing disorder\n"
     ]
    },
    {
     "name": "stderr",
     "output_type": "stream",
     "text": [
      "Processing diseases:  69%|██████▉   | 91/132 [00:32<00:13,  2.98disease/s]"
     ]
    },
    {
     "name": "stdout",
     "output_type": "stream",
     "text": [
      "Processing: Primary progressive aphasia\n"
     ]
    },
    {
     "name": "stderr",
     "output_type": "stream",
     "text": [
      "Processing diseases:  70%|██████▉   | 92/132 [00:32<00:13,  3.04disease/s]"
     ]
    },
    {
     "name": "stdout",
     "output_type": "stream",
     "text": [
      "Processing: Canker sore\n"
     ]
    },
    {
     "name": "stderr",
     "output_type": "stream",
     "text": [
      "Processing diseases:  70%|███████   | 93/132 [00:32<00:12,  3.03disease/s]"
     ]
    },
    {
     "name": "stdout",
     "output_type": "stream",
     "text": [
      "Processing: Canker sore\n"
     ]
    },
    {
     "name": "stderr",
     "output_type": "stream",
     "text": [
      "Processing diseases:  71%|███████   | 94/132 [00:33<00:12,  3.02disease/s]"
     ]
    },
    {
     "name": "stdout",
     "output_type": "stream",
     "text": [
      "Processing: Broken heart syndrome\n"
     ]
    },
    {
     "name": "stderr",
     "output_type": "stream",
     "text": [
      "Processing diseases:  72%|███████▏  | 95/132 [00:33<00:11,  3.15disease/s]"
     ]
    },
    {
     "name": "stdout",
     "output_type": "stream",
     "text": [
      "Processing: Antiphospholipid syndrome\n"
     ]
    },
    {
     "name": "stderr",
     "output_type": "stream",
     "text": [
      "Processing diseases:  73%|███████▎  | 96/132 [00:33<00:12,  2.87disease/s]"
     ]
    },
    {
     "name": "stdout",
     "output_type": "stream",
     "text": [
      "Processing: Viral hemorrhagic fevers\n"
     ]
    },
    {
     "name": "stderr",
     "output_type": "stream",
     "text": [
      "Processing diseases:  73%|███████▎  | 97/132 [00:34<00:11,  3.08disease/s]"
     ]
    },
    {
     "name": "stdout",
     "output_type": "stream",
     "text": [
      "Processing: Viral hemorrhagic fevers\n"
     ]
    },
    {
     "name": "stderr",
     "output_type": "stream",
     "text": [
      "Processing diseases:  74%|███████▍  | 98/132 [00:34<00:11,  3.07disease/s]"
     ]
    },
    {
     "name": "stdout",
     "output_type": "stream",
     "text": [
      "Processing: Broken arm\n"
     ]
    },
    {
     "name": "stderr",
     "output_type": "stream",
     "text": [
      "Processing diseases:  75%|███████▌  | 99/132 [00:34<00:10,  3.04disease/s]"
     ]
    },
    {
     "name": "stdout",
     "output_type": "stream",
     "text": [
      "Processing: Chiari malformation\n"
     ]
    },
    {
     "name": "stderr",
     "output_type": "stream",
     "text": [
      "Processing diseases:  76%|███████▌  | 100/132 [00:35<00:11,  2.72disease/s]"
     ]
    },
    {
     "name": "stdout",
     "output_type": "stream",
     "text": [
      "Processing: Heart arrhythmia\n"
     ]
    },
    {
     "name": "stderr",
     "output_type": "stream",
     "text": [
      "Processing diseases:  77%|███████▋  | 101/132 [00:35<00:11,  2.76disease/s]"
     ]
    },
    {
     "name": "stdout",
     "output_type": "stream",
     "text": [
      "Processing: Giant cell arteritis\n"
     ]
    },
    {
     "name": "stderr",
     "output_type": "stream",
     "text": [
      "Processing diseases:  77%|███████▋  | 102/132 [00:35<00:10,  2.87disease/s]"
     ]
    },
    {
     "name": "stdout",
     "output_type": "stream",
     "text": [
      "Processing: Takayasu's arteritis\n"
     ]
    },
    {
     "name": "stderr",
     "output_type": "stream",
     "text": [
      "Processing diseases:  78%|███████▊  | 103/132 [00:36<00:10,  2.79disease/s]"
     ]
    },
    {
     "name": "stdout",
     "output_type": "stream",
     "text": [
      "Processing: Thumb arthritis\n"
     ]
    },
    {
     "name": "stderr",
     "output_type": "stream",
     "text": [
      "Processing diseases:  79%|███████▉  | 104/132 [00:36<00:09,  2.85disease/s]"
     ]
    },
    {
     "name": "stdout",
     "output_type": "stream",
     "text": [
      "Processing: Osteoarthritis\n"
     ]
    },
    {
     "name": "stderr",
     "output_type": "stream",
     "text": [
      "Processing diseases:  80%|███████▉  | 105/132 [00:37<00:11,  2.29disease/s]"
     ]
    },
    {
     "name": "stdout",
     "output_type": "stream",
     "text": [
      "Processing: Gout\n"
     ]
    },
    {
     "name": "stderr",
     "output_type": "stream",
     "text": [
      "Processing diseases:  80%|████████  | 106/132 [00:37<00:10,  2.45disease/s]"
     ]
    },
    {
     "name": "stdout",
     "output_type": "stream",
     "text": [
      "Processing: Septic arthritis\n"
     ]
    },
    {
     "name": "stderr",
     "output_type": "stream",
     "text": [
      "Processing diseases:  81%|████████  | 107/132 [00:37<00:09,  2.50disease/s]"
     ]
    },
    {
     "name": "stdout",
     "output_type": "stream",
     "text": [
      "Processing: Juvenile idiopathic arthritis\n"
     ]
    },
    {
     "name": "stderr",
     "output_type": "stream",
     "text": [
      "Processing diseases:  82%|████████▏ | 108/132 [00:38<00:09,  2.55disease/s]"
     ]
    },
    {
     "name": "stdout",
     "output_type": "stream",
     "text": [
      "Processing: Osteoarthritis\n"
     ]
    },
    {
     "name": "stderr",
     "output_type": "stream",
     "text": [
      "Processing diseases:  83%|████████▎ | 109/132 [00:38<00:09,  2.33disease/s]"
     ]
    },
    {
     "name": "stdout",
     "output_type": "stream",
     "text": [
      "Processing: Psoriatic arthritis\n"
     ]
    },
    {
     "name": "stderr",
     "output_type": "stream",
     "text": [
      "Processing diseases:  83%|████████▎ | 110/132 [00:39<00:09,  2.30disease/s]"
     ]
    },
    {
     "name": "stdout",
     "output_type": "stream",
     "text": [
      "Processing: Reactive arthritis\n"
     ]
    },
    {
     "name": "stderr",
     "output_type": "stream",
     "text": [
      "Processing diseases:  84%|████████▍ | 111/132 [00:39<00:08,  2.41disease/s]"
     ]
    },
    {
     "name": "stdout",
     "output_type": "stream",
     "text": [
      "Processing: Rheumatoid arthritis\n"
     ]
    },
    {
     "name": "stderr",
     "output_type": "stream",
     "text": [
      "Processing diseases:  85%|████████▍ | 112/132 [00:39<00:07,  2.55disease/s]"
     ]
    },
    {
     "name": "stdout",
     "output_type": "stream",
     "text": [
      "Processing: Septic arthritis\n"
     ]
    },
    {
     "name": "stderr",
     "output_type": "stream",
     "text": [
      "Processing diseases:  86%|████████▌ | 113/132 [00:40<00:07,  2.50disease/s]"
     ]
    },
    {
     "name": "stdout",
     "output_type": "stream",
     "text": [
      "Processing: Thumb arthritis\n"
     ]
    },
    {
     "name": "stderr",
     "output_type": "stream",
     "text": [
      "Processing diseases:  86%|████████▋ | 114/132 [00:40<00:06,  2.67disease/s]"
     ]
    },
    {
     "name": "stdout",
     "output_type": "stream",
     "text": [
      "Processing: Atrial septal defect (ASD)\n"
     ]
    },
    {
     "name": "stderr",
     "output_type": "stream",
     "text": [
      "Processing diseases:  87%|████████▋ | 115/132 [00:40<00:06,  2.76disease/s]"
     ]
    },
    {
     "name": "stdout",
     "output_type": "stream",
     "text": [
      "Processing: Autism spectrum disorder\n"
     ]
    },
    {
     "name": "stderr",
     "output_type": "stream",
     "text": [
      "Processing diseases:  88%|████████▊ | 116/132 [00:41<00:05,  2.87disease/s]"
     ]
    },
    {
     "name": "stdout",
     "output_type": "stream",
     "text": [
      "Processing: Avascular necrosis (osteonecrosis)\n"
     ]
    },
    {
     "name": "stderr",
     "output_type": "stream",
     "text": [
      "Processing diseases:  89%|████████▊ | 117/132 [00:41<00:05,  2.61disease/s]"
     ]
    },
    {
     "name": "stdout",
     "output_type": "stream",
     "text": [
      "Processing: Childhood asthma\n"
     ]
    },
    {
     "name": "stderr",
     "output_type": "stream",
     "text": [
      "Processing diseases:  89%|████████▉ | 118/132 [00:42<00:05,  2.71disease/s]"
     ]
    },
    {
     "name": "stdout",
     "output_type": "stream",
     "text": [
      "Processing: Exercise-induced asthma\n"
     ]
    },
    {
     "name": "stderr",
     "output_type": "stream",
     "text": [
      "Processing diseases:  90%|█████████ | 119/132 [00:42<00:04,  2.83disease/s]"
     ]
    },
    {
     "name": "stdout",
     "output_type": "stream",
     "text": [
      "Processing: Occupational asthma\n"
     ]
    },
    {
     "name": "stderr",
     "output_type": "stream",
     "text": [
      "Processing diseases:  91%|█████████ | 120/132 [00:42<00:04,  2.99disease/s]"
     ]
    },
    {
     "name": "stdout",
     "output_type": "stream",
     "text": [
      "Processing: Atrial tachycardia\n"
     ]
    },
    {
     "name": "stderr",
     "output_type": "stream",
     "text": [
      "Processing diseases:  92%|█████████▏| 121/132 [00:42<00:03,  3.14disease/s]"
     ]
    },
    {
     "name": "stdout",
     "output_type": "stream",
     "text": [
      "Processing: Arteriosclerosis / atherosclerosis\n"
     ]
    },
    {
     "name": "stderr",
     "output_type": "stream",
     "text": [
      "Processing diseases:  92%|█████████▏| 122/132 [00:43<00:03,  2.87disease/s]"
     ]
    },
    {
     "name": "stdout",
     "output_type": "stream",
     "text": [
      "Processing: Atrioventricular canal defect\n"
     ]
    },
    {
     "name": "stderr",
     "output_type": "stream",
     "text": [
      "Processing diseases:  93%|█████████▎| 123/132 [00:43<00:03,  2.75disease/s]"
     ]
    },
    {
     "name": "stdout",
     "output_type": "stream",
     "text": [
      "Processing: Vaginal atrophy\n"
     ]
    },
    {
     "name": "stderr",
     "output_type": "stream",
     "text": [
      "Processing diseases:  94%|█████████▍| 124/132 [00:44<00:02,  2.81disease/s]"
     ]
    },
    {
     "name": "stdout",
     "output_type": "stream",
     "text": [
      "Processing: Reactive attachment disorder\n"
     ]
    },
    {
     "name": "stderr",
     "output_type": "stream",
     "text": [
      "Processing diseases:  95%|█████████▍| 125/132 [00:44<00:02,  2.82disease/s]"
     ]
    },
    {
     "name": "stdout",
     "output_type": "stream",
     "text": [
      "Processing: Adult attention-deficit/hyperactivity disorder (ADHD)\n"
     ]
    },
    {
     "name": "stderr",
     "output_type": "stream",
     "text": [
      "Processing diseases:  95%|█████████▌| 126/132 [00:44<00:02,  2.73disease/s]"
     ]
    },
    {
     "name": "stdout",
     "output_type": "stream",
     "text": [
      "Processing: Auditory processing disorder\n"
     ]
    },
    {
     "name": "stderr",
     "output_type": "stream",
     "text": [
      "Processing diseases:  96%|█████████▌| 127/132 [00:45<00:01,  2.71disease/s]"
     ]
    },
    {
     "name": "stdout",
     "output_type": "stream",
     "text": [
      "Processing: Autoimmune epilepsy\n"
     ]
    },
    {
     "name": "stderr",
     "output_type": "stream",
     "text": [
      "Processing diseases:  97%|█████████▋| 128/132 [00:45<00:01,  2.93disease/s]"
     ]
    },
    {
     "name": "stdout",
     "output_type": "stream",
     "text": [
      "Processing: Autoimmune encephalitis\n"
     ]
    },
    {
     "name": "stderr",
     "output_type": "stream",
     "text": [
      "Processing diseases:  98%|█████████▊| 129/132 [00:45<00:00,  3.18disease/s]"
     ]
    },
    {
     "name": "stdout",
     "output_type": "stream",
     "text": [
      "Processing: Bird flu (avian influenza)\n"
     ]
    },
    {
     "name": "stderr",
     "output_type": "stream",
     "text": [
      "Processing diseases:  98%|█████████▊| 130/132 [00:46<00:00,  3.39disease/s]"
     ]
    },
    {
     "name": "stdout",
     "output_type": "stream",
     "text": [
      "Processing: Avascular necrosis (osteonecrosis)\n"
     ]
    },
    {
     "name": "stderr",
     "output_type": "stream",
     "text": [
      "Processing diseases:  99%|█████████▉| 131/132 [00:46<00:00,  3.01disease/s]"
     ]
    },
    {
     "name": "stdout",
     "output_type": "stream",
     "text": [
      "Processing: Atrioventricular nodal reentry tachycardia (AVNRT)\n"
     ]
    },
    {
     "name": "stderr",
     "output_type": "stream",
     "text": [
      "Processing diseases: 100%|██████████| 132/132 [00:46<00:00,  2.82disease/s]"
     ]
    },
    {
     "name": "stdout",
     "output_type": "stream",
     "text": [
      "CSV file updated successfully with 132 rows\n"
     ]
    },
    {
     "name": "stderr",
     "output_type": "stream",
     "text": [
      "\n"
     ]
    }
   ],
   "source": [
    "import csv\n",
    "from bs4 import BeautifulSoup\n",
    "import requests\n",
    "import os\n",
    "from tqdm import tqdm\n",
    "\n",
    "# Section slugs for aria-labelledby (new design) and pretty names\n",
    "SECTION_SLUGS = [\n",
    "    (\"overview\", \"Overview\"),\n",
    "    (\"symptoms\", \"Symptoms\"),\n",
    "    (\"when-to-see-a-doctor\", \"When to see a doctor\"),\n",
    "    (\"causes\", \"Causes\"),\n",
    "    (\"risk-factors\", \"Risk factors\"),\n",
    "    (\"complications\", \"Complications\"),\n",
    "    (\"prevention\", \"Prevention\"),\n",
    "]\n",
    "\n",
    "def extract_sections(url):\n",
    "    headers = {\n",
    "        \"User-Agent\": \"Mozilla/5.0 (Windows NT 10.0; Win64; x64) AppleWebKit/537.36\",\n",
    "        \"Accept\": \"text/html,application/xhtml+xml,application/xml;q=0.9,image/webp,*/*;q=0.8\"\n",
    "    }\n",
    "\n",
    "    try:\n",
    "        response = requests.get(url, headers=headers, timeout=20)\n",
    "        response.raise_for_status()\n",
    "        soup = BeautifulSoup(response.text, 'html.parser')\n",
    "\n",
    "        result_sections = {}\n",
    "\n",
    "        # Try method 1: Old layout (div.content or article#main-content)\n",
    "        main_content = soup.find('div', class_='content') or soup.find('article', id='main-content')\n",
    "        if main_content:\n",
    "            headings = main_content.find_all(['h2', 'h3'])\n",
    "            for heading in headings:\n",
    "                heading_text = heading.get_text(strip=True)\n",
    "                # Fix typo\n",
    "                if \"When to see a dotor\" in heading_text:\n",
    "                    heading_text = \"When to see a doctor\"\n",
    "                # If it's a section we care about\n",
    "                for _, section_name in SECTION_SLUGS:\n",
    "                    if heading_text == section_name:\n",
    "                        content = []\n",
    "                        next_node = heading.find_next_sibling()\n",
    "                        while next_node and next_node.name not in ['h2', 'h3']:\n",
    "                            if next_node.name == 'p':\n",
    "                                content.append(next_node.get_text(strip=True))\n",
    "                            elif next_node.name in ['ul', 'ol']:\n",
    "                                items = [li.get_text(strip=True) for li in next_node.find_all('li')]\n",
    "                                content.extend(items)\n",
    "                            next_node = next_node.find_next_sibling()\n",
    "                        if content:\n",
    "                            result_sections[section_name] = '\\n'.join(content)\n",
    "        # Try method 2: New layout (section[aria-labelledby] + cmp-text__rich-content)\n",
    "        for slug, section_name in SECTION_SLUGS:\n",
    "            if section_name in result_sections:\n",
    "                continue  # Already found by old method\n",
    "            # Find aria-labelledby section\n",
    "            section = soup.find('section', {'aria-labelledby': slug})\n",
    "            if section:\n",
    "                content_div = section.find('div', class_='cmp-text__rich-content')\n",
    "                if content_div:\n",
    "                    paragraphs = [p.get_text(strip=True) for p in content_div.find_all('p')]\n",
    "                    if paragraphs:\n",
    "                        result_sections[section_name] = '\\n\\n'.join(paragraphs)\n",
    "        return result_sections\n",
    "    except Exception as e:\n",
    "        # Skip on error, return empty\n",
    "        return {}\n",
    "\n",
    "def update_csv_with_sections(csv_file):\n",
    "    # Read existing data and headers\n",
    "    rows = []\n",
    "    existing_headers = []\n",
    "    if os.path.exists(csv_file):\n",
    "        with open(csv_file, 'r', newline='', encoding='utf-8') as f:\n",
    "            reader = csv.DictReader(f)\n",
    "            existing_headers = reader.fieldnames\n",
    "            rows = list(reader)\n",
    "\n",
    "    section_headers = [section for slug, section in SECTION_SLUGS]\n",
    "    all_headers = existing_headers.copy() if existing_headers else ['disease', 'main_link']\n",
    "    for header in section_headers:\n",
    "        if header not in all_headers:\n",
    "            all_headers.append(header)\n",
    "\n",
    "    # --- SINGLE tqdm bar for ALL rows ---\n",
    "    updated_rows = []\n",
    "    with tqdm(total=len(rows), desc=\"Processing diseases\", unit=\"disease\") as pbar:\n",
    "        for row in rows:\n",
    "            if 'main_link' in row and row['main_link']:\n",
    "                # (Optional) tqdm.write() to log messages without disrupting the bar\n",
    "                tqdm.write(f\"Processing: {row.get('disease', 'Unknown')}\")\n",
    "                sections = extract_sections(row['main_link'])\n",
    "                for section, content in sections.items():\n",
    "                    row[section] = content\n",
    "            updated_rows.append(row)\n",
    "            pbar.update(1)  # Always update once per disease\n",
    "\n",
    "    with open(csv_file, 'w', newline='', encoding='utf-8') as f:\n",
    "        writer = csv.DictWriter(f, fieldnames=all_headers)\n",
    "        writer.writeheader()\n",
    "        writer.writerows(updated_rows)\n",
    "    print(f\"CSV file updated successfully with {len(updated_rows)} rows\")\n",
    "\n",
    "# Example usage\n",
    "if __name__ == \"__main__\":\n",
    "    csv_file = \"mayo_diseases.csv\"\n",
    "    update_csv_with_sections(csv_file)"
   ]
  },
  {
   "cell_type": "code",
   "execution_count": null,
   "metadata": {},
   "outputs": [
    {
     "name": "stderr",
     "output_type": "stream",
     "text": [
      "Processing diseases:   0%|          | 0/132 [00:00<?, ?disease/s]"
     ]
    },
    {
     "name": "stdout",
     "output_type": "stream",
     "text": [
      "Processing: Atrial fibrillation\n"
     ]
    },
    {
     "name": "stderr",
     "output_type": "stream",
     "text": [
      "Processing diseases:   1%|          | 1/132 [00:00<00:54,  2.39disease/s]"
     ]
    },
    {
     "name": "stdout",
     "output_type": "stream",
     "text": [
      "Processing: Hyperhidrosis\n"
     ]
    },
    {
     "name": "stderr",
     "output_type": "stream",
     "text": [
      "Processing diseases:   2%|▏         | 2/132 [00:01<01:08,  1.90disease/s]"
     ]
    },
    {
     "name": "stdout",
     "output_type": "stream",
     "text": [
      "Processing: Bartholin's cyst\n"
     ]
    },
    {
     "name": "stderr",
     "output_type": "stream",
     "text": [
      "Processing diseases:   2%|▏         | 3/132 [00:01<01:04,  2.01disease/s]"
     ]
    },
    {
     "name": "stdout",
     "output_type": "stream",
     "text": [
      "Processing: Infant reflux\n"
     ]
    },
    {
     "name": "stderr",
     "output_type": "stream",
     "text": [
      "Processing diseases:   3%|▎         | 4/132 [00:02<01:20,  1.60disease/s]"
     ]
    },
    {
     "name": "stdout",
     "output_type": "stream",
     "text": [
      "Processing: Hidradenitis suppurativa\n"
     ]
    },
    {
     "name": "stderr",
     "output_type": "stream",
     "text": [
      "Processing diseases:   4%|▍         | 5/132 [00:02<01:15,  1.69disease/s]"
     ]
    },
    {
     "name": "stdout",
     "output_type": "stream",
     "text": [
      "Processing: HIV/AIDS\n"
     ]
    },
    {
     "name": "stderr",
     "output_type": "stream",
     "text": [
      "Processing diseases:   5%|▍         | 6/132 [00:03<01:15,  1.67disease/s]"
     ]
    },
    {
     "name": "stdout",
     "output_type": "stream",
     "text": [
      "Processing: Acute myelogenous leukemia\n"
     ]
    },
    {
     "name": "stderr",
     "output_type": "stream",
     "text": [
      "Processing diseases:   5%|▌         | 7/132 [00:04<01:51,  1.12disease/s]"
     ]
    },
    {
     "name": "stdout",
     "output_type": "stream",
     "text": [
      "Processing: Guillain-Barre syndrome\n"
     ]
    },
    {
     "name": "stderr",
     "output_type": "stream",
     "text": [
      "Processing diseases:   6%|▌         | 8/132 [00:05<01:43,  1.20disease/s]"
     ]
    },
    {
     "name": "stdout",
     "output_type": "stream",
     "text": [
      "Processing: Acute kidney injury\n"
     ]
    },
    {
     "name": "stderr",
     "output_type": "stream",
     "text": [
      "Processing diseases:   7%|▋         | 9/132 [00:06<01:32,  1.32disease/s]"
     ]
    },
    {
     "name": "stdout",
     "output_type": "stream",
     "text": [
      "Processing: Acute lymphocytic leukemia\n"
     ]
    },
    {
     "name": "stderr",
     "output_type": "stream",
     "text": [
      "Processing diseases:   8%|▊         | 10/132 [00:06<01:23,  1.46disease/s]"
     ]
    },
    {
     "name": "stdout",
     "output_type": "stream",
     "text": [
      "Processing: Acute lymphocytic leukemia\n"
     ]
    },
    {
     "name": "stderr",
     "output_type": "stream",
     "text": [
      "Processing diseases:   8%|▊         | 11/132 [00:07<01:07,  1.78disease/s]"
     ]
    },
    {
     "name": "stdout",
     "output_type": "stream",
     "text": [
      "Processing: Acute myelogenous leukemia\n"
     ]
    },
    {
     "name": "stderr",
     "output_type": "stream",
     "text": [
      "Processing diseases:   9%|▉         | 12/132 [00:07<00:59,  2.00disease/s]"
     ]
    },
    {
     "name": "stdout",
     "output_type": "stream",
     "text": [
      "Processing: Acute myelogenous leukemia\n"
     ]
    },
    {
     "name": "stderr",
     "output_type": "stream",
     "text": [
      "Processing diseases:  10%|▉         | 13/132 [00:07<00:53,  2.23disease/s]"
     ]
    },
    {
     "name": "stdout",
     "output_type": "stream",
     "text": [
      "Processing: Acute myelogenous leukemia\n"
     ]
    },
    {
     "name": "stderr",
     "output_type": "stream",
     "text": [
      "Processing diseases:  11%|█         | 14/132 [00:08<00:49,  2.40disease/s]"
     ]
    },
    {
     "name": "stdout",
     "output_type": "stream",
     "text": [
      "Processing: Radiation sickness\n"
     ]
    },
    {
     "name": "stderr",
     "output_type": "stream",
     "text": [
      "Processing diseases:  11%|█▏        | 15/132 [00:08<00:55,  2.10disease/s]"
     ]
    },
    {
     "name": "stdout",
     "output_type": "stream",
     "text": [
      "Processing: Radiation sickness\n"
     ]
    },
    {
     "name": "stderr",
     "output_type": "stream",
     "text": [
      "Processing diseases:  12%|█▏        | 16/132 [00:09<00:56,  2.04disease/s]"
     ]
    },
    {
     "name": "stdout",
     "output_type": "stream",
     "text": [
      "Processing: Acute kidney injury\n"
     ]
    },
    {
     "name": "stderr",
     "output_type": "stream",
     "text": [
      "Processing diseases:  13%|█▎        | 17/132 [00:10<01:21,  1.40disease/s]"
     ]
    },
    {
     "name": "stdout",
     "output_type": "stream",
     "text": [
      "Processing: ARDS\n"
     ]
    },
    {
     "name": "stderr",
     "output_type": "stream",
     "text": [
      "Processing diseases:  14%|█▎        | 18/132 [00:11<01:19,  1.44disease/s]"
     ]
    },
    {
     "name": "stdout",
     "output_type": "stream",
     "text": [
      "Processing: Acute sinusitis\n"
     ]
    },
    {
     "name": "stderr",
     "output_type": "stream",
     "text": [
      "Processing diseases:  14%|█▍        | 19/132 [00:12<01:35,  1.18disease/s]"
     ]
    },
    {
     "name": "stdout",
     "output_type": "stream",
     "text": [
      "Processing: Autoimmune epilepsy\n"
     ]
    },
    {
     "name": "stderr",
     "output_type": "stream",
     "text": [
      "Processing diseases:  15%|█▌        | 20/132 [00:13<01:31,  1.22disease/s]"
     ]
    },
    {
     "name": "stdout",
     "output_type": "stream",
     "text": [
      "Processing: Alcohol use disorder\n"
     ]
    },
    {
     "name": "stderr",
     "output_type": "stream",
     "text": [
      "Processing diseases:  16%|█▌        | 21/132 [00:13<01:33,  1.18disease/s]"
     ]
    },
    {
     "name": "stdout",
     "output_type": "stream",
     "text": [
      "Processing: Compulsive gambling\n"
     ]
    },
    {
     "name": "stderr",
     "output_type": "stream",
     "text": [
      "Processing diseases:  17%|█▋        | 22/132 [00:14<01:23,  1.32disease/s]"
     ]
    },
    {
     "name": "stdout",
     "output_type": "stream",
     "text": [
      "Processing: Nicotine dependence\n"
     ]
    },
    {
     "name": "stderr",
     "output_type": "stream",
     "text": [
      "Processing diseases:  17%|█▋        | 23/132 [00:15<01:16,  1.43disease/s]"
     ]
    },
    {
     "name": "stdout",
     "output_type": "stream",
     "text": [
      "Processing: Mesenteric lymphadenitis\n"
     ]
    },
    {
     "name": "stderr",
     "output_type": "stream",
     "text": [
      "Processing diseases:  18%|█▊        | 24/132 [00:15<01:02,  1.73disease/s]"
     ]
    },
    {
     "name": "stdout",
     "output_type": "stream",
     "text": [
      "Processing: Attention-deficit/hyperactivity disorder (ADHD) in children\n"
     ]
    },
    {
     "name": "stderr",
     "output_type": "stream",
     "text": [
      "Processing diseases:  19%|█▉        | 25/132 [00:15<01:00,  1.78disease/s]"
     ]
    },
    {
     "name": "stdout",
     "output_type": "stream",
     "text": [
      "Processing: Adult attention-deficit/hyperactivity disorder (ADHD)\n"
     ]
    },
    {
     "name": "stderr",
     "output_type": "stream",
     "text": [
      "Processing diseases:  20%|█▉        | 26/132 [00:16<01:02,  1.69disease/s]"
     ]
    },
    {
     "name": "stdout",
     "output_type": "stream",
     "text": [
      "Processing: Frozen shoulder\n"
     ]
    },
    {
     "name": "stderr",
     "output_type": "stream",
     "text": [
      "Processing diseases:  20%|██        | 27/132 [00:16<00:57,  1.84disease/s]"
     ]
    },
    {
     "name": "stdout",
     "output_type": "stream",
     "text": [
      "Processing: Childhood schizophrenia\n"
     ]
    },
    {
     "name": "stderr",
     "output_type": "stream",
     "text": [
      "Processing diseases:  21%|██        | 28/132 [00:17<01:00,  1.72disease/s]"
     ]
    },
    {
     "name": "stdout",
     "output_type": "stream",
     "text": [
      "Processing: Benign adrenal tumors\n"
     ]
    },
    {
     "name": "stderr",
     "output_type": "stream",
     "text": [
      "Processing diseases:  22%|██▏       | 29/132 [00:18<01:01,  1.69disease/s]"
     ]
    },
    {
     "name": "stdout",
     "output_type": "stream",
     "text": [
      "Processing: Autoimmune encephalitis\n"
     ]
    },
    {
     "name": "stderr",
     "output_type": "stream",
     "text": [
      "Processing diseases:  23%|██▎       | 30/132 [00:20<01:37,  1.05disease/s]"
     ]
    },
    {
     "name": "stdout",
     "output_type": "stream",
     "text": [
      "Processing: Acute flaccid myelitis (AFM)\n"
     ]
    },
    {
     "name": "stderr",
     "output_type": "stream",
     "text": [
      "Processing diseases:  23%|██▎       | 31/132 [00:22<02:14,  1.33s/disease]"
     ]
    },
    {
     "name": "stdout",
     "output_type": "stream",
     "text": [
      "Processing: Dry macular degeneration\n"
     ]
    },
    {
     "name": "stderr",
     "output_type": "stream",
     "text": [
      "Processing diseases:  24%|██▍       | 32/132 [00:22<01:46,  1.07s/disease]"
     ]
    },
    {
     "name": "stdout",
     "output_type": "stream",
     "text": [
      "Processing: Macular degeneration, wet\n"
     ]
    },
    {
     "name": "stderr",
     "output_type": "stream",
     "text": [
      "Processing diseases:  25%|██▌       | 33/132 [00:23<01:27,  1.13disease/s]"
     ]
    },
    {
     "name": "stdout",
     "output_type": "stream",
     "text": [
      "Processing: Myelofibrosis\n"
     ]
    },
    {
     "name": "stderr",
     "output_type": "stream",
     "text": [
      "Processing diseases:  26%|██▌       | 34/132 [00:23<01:13,  1.32disease/s]"
     ]
    },
    {
     "name": "stdout",
     "output_type": "stream",
     "text": [
      "Processing: Guillain-Barre syndrome\n"
     ]
    },
    {
     "name": "stderr",
     "output_type": "stream",
     "text": [
      "Processing diseases:  27%|██▋       | 35/132 [00:24<01:06,  1.45disease/s]"
     ]
    },
    {
     "name": "stdout",
     "output_type": "stream",
     "text": [
      "Processing: HIV/AIDS\n"
     ]
    },
    {
     "name": "stderr",
     "output_type": "stream",
     "text": [
      "Processing diseases:  27%|██▋       | 36/132 [00:24<01:00,  1.59disease/s]"
     ]
    },
    {
     "name": "stdout",
     "output_type": "stream",
     "text": [
      "Processing: Alcohol use disorder\n"
     ]
    },
    {
     "name": "stderr",
     "output_type": "stream",
     "text": [
      "Processing diseases:  28%|██▊       | 37/132 [00:25<00:54,  1.75disease/s]"
     ]
    },
    {
     "name": "stdout",
     "output_type": "stream",
     "text": [
      "Processing: Alcoholic hepatitis\n"
     ]
    },
    {
     "name": "stderr",
     "output_type": "stream",
     "text": [
      "Processing diseases:  29%|██▉       | 38/132 [00:27<01:31,  1.03disease/s]"
     ]
    },
    {
     "name": "stdout",
     "output_type": "stream",
     "text": [
      "Processing: Churg-Strauss syndrome\n"
     ]
    },
    {
     "name": "stderr",
     "output_type": "stream",
     "text": [
      "Processing diseases:  30%|██▉       | 39/132 [00:27<01:19,  1.17disease/s]"
     ]
    },
    {
     "name": "stdout",
     "output_type": "stream",
     "text": [
      "Processing: Churg-Strauss syndrome\n"
     ]
    },
    {
     "name": "stderr",
     "output_type": "stream",
     "text": [
      "Processing diseases:  30%|███       | 40/132 [00:27<01:02,  1.47disease/s]"
     ]
    },
    {
     "name": "stdout",
     "output_type": "stream",
     "text": [
      "Processing: Hay fever\n"
     ]
    },
    {
     "name": "stderr",
     "output_type": "stream",
     "text": [
      "Processing diseases:  31%|███       | 41/132 [00:28<00:55,  1.63disease/s]"
     ]
    },
    {
     "name": "stdout",
     "output_type": "stream",
     "text": [
      "Processing: Dust mite allergy\n"
     ]
    },
    {
     "name": "stderr",
     "output_type": "stream",
     "text": [
      "Processing diseases:  32%|███▏      | 42/132 [00:28<00:51,  1.75disease/s]"
     ]
    },
    {
     "name": "stdout",
     "output_type": "stream",
     "text": [
      "Processing: Egg allergy\n"
     ]
    },
    {
     "name": "stderr",
     "output_type": "stream",
     "text": [
      "Processing diseases:  33%|███▎      | 43/132 [00:29<00:48,  1.84disease/s]"
     ]
    },
    {
     "name": "stdout",
     "output_type": "stream",
     "text": [
      "Processing: Food allergy\n"
     ]
    },
    {
     "name": "stderr",
     "output_type": "stream",
     "text": [
      "Processing diseases:  33%|███▎      | 44/132 [00:29<00:47,  1.85disease/s]"
     ]
    },
    {
     "name": "stdout",
     "output_type": "stream",
     "text": [
      "Processing: Latex allergy\n"
     ]
    },
    {
     "name": "stderr",
     "output_type": "stream",
     "text": [
      "Processing diseases:  34%|███▍      | 45/132 [00:30<00:45,  1.93disease/s]"
     ]
    },
    {
     "name": "stdout",
     "output_type": "stream",
     "text": [
      "Processing: Milk allergy\n"
     ]
    },
    {
     "name": "stderr",
     "output_type": "stream",
     "text": [
      "Processing diseases:  35%|███▍      | 46/132 [00:30<00:44,  1.93disease/s]"
     ]
    },
    {
     "name": "stdout",
     "output_type": "stream",
     "text": [
      "Processing: Mold allergy\n"
     ]
    },
    {
     "name": "stderr",
     "output_type": "stream",
     "text": [
      "Processing diseases:  36%|███▌      | 47/132 [00:31<00:44,  1.93disease/s]"
     ]
    },
    {
     "name": "stdout",
     "output_type": "stream",
     "text": [
      "Processing: Nickel allergy\n"
     ]
    },
    {
     "name": "stderr",
     "output_type": "stream",
     "text": [
      "Processing diseases:  36%|███▋      | 48/132 [00:32<00:57,  1.46disease/s]"
     ]
    },
    {
     "name": "stdout",
     "output_type": "stream",
     "text": [
      "Processing: Peanut allergy\n"
     ]
    },
    {
     "name": "stderr",
     "output_type": "stream",
     "text": [
      "Processing diseases:  37%|███▋      | 49/132 [00:32<00:51,  1.61disease/s]"
     ]
    },
    {
     "name": "stdout",
     "output_type": "stream",
     "text": [
      "Processing: Penicillin allergy\n"
     ]
    },
    {
     "name": "stderr",
     "output_type": "stream",
     "text": [
      "Processing diseases:  38%|███▊      | 50/132 [00:33<00:47,  1.73disease/s]"
     ]
    },
    {
     "name": "stdout",
     "output_type": "stream",
     "text": [
      "Processing: Pet allergy\n"
     ]
    },
    {
     "name": "stderr",
     "output_type": "stream",
     "text": [
      "Processing diseases:  39%|███▊      | 51/132 [00:33<00:46,  1.75disease/s]"
     ]
    },
    {
     "name": "stdout",
     "output_type": "stream",
     "text": [
      "Processing: Shellfish allergy\n"
     ]
    },
    {
     "name": "stderr",
     "output_type": "stream",
     "text": [
      "Processing diseases:  39%|███▉      | 52/132 [00:34<00:43,  1.84disease/s]"
     ]
    },
    {
     "name": "stdout",
     "output_type": "stream",
     "text": [
      "Processing: Wheat allergy\n"
     ]
    },
    {
     "name": "stderr",
     "output_type": "stream",
     "text": [
      "Processing diseases:  40%|████      | 53/132 [00:36<01:19,  1.00s/disease]"
     ]
    },
    {
     "name": "stdout",
     "output_type": "stream",
     "text": [
      "Processing: Hair loss\n"
     ]
    },
    {
     "name": "stderr",
     "output_type": "stream",
     "text": [
      "Processing diseases:  41%|████      | 54/132 [00:37<01:08,  1.15disease/s]"
     ]
    },
    {
     "name": "stdout",
     "output_type": "stream",
     "text": [
      "Processing: Amyotrophic lateral sclerosis (ALS)\n"
     ]
    },
    {
     "name": "stderr",
     "output_type": "stream",
     "text": [
      "Processing diseases:  42%|████▏     | 55/132 [00:37<00:57,  1.34disease/s]"
     ]
    },
    {
     "name": "stdout",
     "output_type": "stream",
     "text": [
      "Processing: Dry socket\n"
     ]
    },
    {
     "name": "stderr",
     "output_type": "stream",
     "text": [
      "Processing diseases:  42%|████▏     | 56/132 [00:37<00:50,  1.50disease/s]"
     ]
    },
    {
     "name": "stdout",
     "output_type": "stream",
     "text": [
      "Processing: Atypical genitalia\n"
     ]
    },
    {
     "name": "stderr",
     "output_type": "stream",
     "text": [
      "Processing diseases:  43%|████▎     | 57/132 [00:38<00:47,  1.57disease/s]"
     ]
    },
    {
     "name": "stdout",
     "output_type": "stream",
     "text": [
      "Processing: Lazy eye (amblyopia)\n"
     ]
    },
    {
     "name": "stderr",
     "output_type": "stream",
     "text": [
      "Processing diseases:  44%|████▍     | 58/132 [00:39<00:45,  1.64disease/s]"
     ]
    },
    {
     "name": "stdout",
     "output_type": "stream",
     "text": [
      "Processing: Chagas disease\n"
     ]
    },
    {
     "name": "stderr",
     "output_type": "stream",
     "text": [
      "Processing diseases:  45%|████▍     | 59/132 [00:39<00:41,  1.74disease/s]"
     ]
    },
    {
     "name": "stdout",
     "output_type": "stream",
     "text": [
      "Processing: Transient global amnesia\n"
     ]
    },
    {
     "name": "stderr",
     "output_type": "stream",
     "text": [
      "Processing diseases:  45%|████▌     | 60/132 [00:40<00:58,  1.23disease/s]"
     ]
    },
    {
     "name": "stdout",
     "output_type": "stream",
     "text": [
      "Processing: Amnesia\n"
     ]
    },
    {
     "name": "stderr",
     "output_type": "stream",
     "text": [
      "Processing diseases:  46%|████▌     | 61/132 [00:41<00:51,  1.38disease/s]"
     ]
    },
    {
     "name": "stdout",
     "output_type": "stream",
     "text": [
      "Processing: Amyloidosis\n"
     ]
    },
    {
     "name": "stderr",
     "output_type": "stream",
     "text": [
      "Processing diseases:  47%|████▋     | 62/132 [00:42<01:07,  1.04disease/s]"
     ]
    },
    {
     "name": "stdout",
     "output_type": "stream",
     "text": [
      "Processing: Aplastic anemia\n"
     ]
    },
    {
     "name": "stderr",
     "output_type": "stream",
     "text": [
      "Processing diseases:  48%|████▊     | 63/132 [00:43<01:00,  1.14disease/s]"
     ]
    },
    {
     "name": "stdout",
     "output_type": "stream",
     "text": [
      "Processing: Thalassemia\n"
     ]
    },
    {
     "name": "stderr",
     "output_type": "stream",
     "text": [
      "Processing diseases:  48%|████▊     | 64/132 [00:44<00:53,  1.27disease/s]"
     ]
    },
    {
     "name": "stdout",
     "output_type": "stream",
     "text": [
      "Processing: Iron deficiency anemia\n"
     ]
    },
    {
     "name": "stderr",
     "output_type": "stream",
     "text": [
      "Processing diseases:  49%|████▉     | 65/132 [00:44<00:50,  1.34disease/s]"
     ]
    },
    {
     "name": "stdout",
     "output_type": "stream",
     "text": [
      "Processing: Thalassemia\n"
     ]
    },
    {
     "name": "stderr",
     "output_type": "stream",
     "text": [
      "Processing diseases:  50%|█████     | 66/132 [00:45<00:43,  1.51disease/s]"
     ]
    },
    {
     "name": "stdout",
     "output_type": "stream",
     "text": [
      "Processing: Sickle cell anemia\n"
     ]
    },
    {
     "name": "stderr",
     "output_type": "stream",
     "text": [
      "Processing diseases:  51%|█████     | 67/132 [00:46<00:45,  1.43disease/s]"
     ]
    },
    {
     "name": "stdout",
     "output_type": "stream",
     "text": [
      "Processing: Vitamin deficiency anemia\n"
     ]
    },
    {
     "name": "stderr",
     "output_type": "stream",
     "text": [
      "Processing diseases:  52%|█████▏    | 68/132 [00:47<00:48,  1.31disease/s]"
     ]
    },
    {
     "name": "stdout",
     "output_type": "stream",
     "text": [
      "Processing: Abdominal aortic aneurysm\n"
     ]
    },
    {
     "name": "stderr",
     "output_type": "stream",
     "text": [
      "Processing diseases:  53%|█████▎    | 70/132 [00:47<00:46,  1.33disease/s]"
     ]
    },
    {
     "name": "stdout",
     "output_type": "stream",
     "text": [
      "Processing: Brain aneurysm\n"
     ]
    },
    {
     "name": "stderr",
     "output_type": "stream",
     "text": [
      "Processing diseases:  54%|█████▍    | 71/132 [00:48<00:35,  1.72disease/s]"
     ]
    },
    {
     "name": "stdout",
     "output_type": "stream",
     "text": [
      "Processing: Popliteal artery aneurysm\n"
     ]
    },
    {
     "name": "stderr",
     "output_type": "stream",
     "text": [
      "Processing diseases:  55%|█████▍    | 72/132 [00:49<00:34,  1.75disease/s]"
     ]
    },
    {
     "name": "stdout",
     "output_type": "stream",
     "text": [
      "Processing: Thoracic aortic aneurysm\n"
     ]
    },
    {
     "name": "stderr",
     "output_type": "stream",
     "text": [
      "Processing diseases:  55%|█████▌    | 73/132 [00:49<00:32,  1.80disease/s]"
     ]
    },
    {
     "name": "stdout",
     "output_type": "stream",
     "text": [
      "Processing: Vasculitis\n"
     ]
    },
    {
     "name": "stderr",
     "output_type": "stream",
     "text": [
      "Processing diseases:  56%|█████▌    | 74/132 [00:50<00:34,  1.68disease/s]"
     ]
    },
    {
     "name": "stdout",
     "output_type": "stream",
     "text": [
      "Processing: Angina\n"
     ]
    },
    {
     "name": "stderr",
     "output_type": "stream",
     "text": [
      "Processing diseases:  57%|█████▋    | 75/132 [00:50<00:33,  1.71disease/s]"
     ]
    },
    {
     "name": "stdout",
     "output_type": "stream",
     "text": [
      "Processing: Hives and angioedema\n"
     ]
    },
    {
     "name": "stderr",
     "output_type": "stream",
     "text": [
      "Processing diseases:  58%|█████▊    | 76/132 [00:51<00:31,  1.78disease/s]"
     ]
    },
    {
     "name": "stdout",
     "output_type": "stream",
     "text": [
      "Processing: Castleman disease\n"
     ]
    },
    {
     "name": "stderr",
     "output_type": "stream",
     "text": [
      "Processing diseases:  58%|█████▊    | 77/132 [00:51<00:29,  1.84disease/s]"
     ]
    },
    {
     "name": "stdout",
     "output_type": "stream",
     "text": [
      "Processing: Broken ankle\n"
     ]
    },
    {
     "name": "stderr",
     "output_type": "stream",
     "text": [
      "Processing diseases:  59%|█████▉    | 78/132 [00:52<00:34,  1.55disease/s]"
     ]
    },
    {
     "name": "stdout",
     "output_type": "stream",
     "text": [
      "Processing: Sprained ankle\n"
     ]
    },
    {
     "name": "stderr",
     "output_type": "stream",
     "text": [
      "Processing diseases:  60%|█████▉    | 79/132 [00:53<00:31,  1.67disease/s]"
     ]
    },
    {
     "name": "stdout",
     "output_type": "stream",
     "text": [
      "Processing: Tongue-tie (ankyloglossia)\n"
     ]
    },
    {
     "name": "stderr",
     "output_type": "stream",
     "text": [
      "Processing diseases:  61%|██████    | 80/132 [00:53<00:30,  1.68disease/s]"
     ]
    },
    {
     "name": "stdout",
     "output_type": "stream",
     "text": [
      "Processing: Anorexia nervosa\n"
     ]
    },
    {
     "name": "stderr",
     "output_type": "stream",
     "text": [
      "Processing diseases:  61%|██████▏   | 81/132 [00:54<00:32,  1.55disease/s]"
     ]
    },
    {
     "name": "stdout",
     "output_type": "stream",
     "text": [
      "Processing: ACL injury\n"
     ]
    },
    {
     "name": "stderr",
     "output_type": "stream",
     "text": [
      "Processing diseases:  62%|██████▏   | 82/132 [00:55<00:29,  1.69disease/s]"
     ]
    },
    {
     "name": "stdout",
     "output_type": "stream",
     "text": [
      "Processing: Anterior vaginal prolapse (cystocele)\n"
     ]
    },
    {
     "name": "stderr",
     "output_type": "stream",
     "text": [
      "Processing diseases:  63%|██████▎   | 83/132 [00:57<00:51,  1.06s/disease]"
     ]
    },
    {
     "name": "stdout",
     "output_type": "stream",
     "text": [
      "Processing: Pseudomembranous colitis\n"
     ]
    },
    {
     "name": "stderr",
     "output_type": "stream",
     "text": [
      "Processing diseases:  64%|██████▎   | 84/132 [00:57<00:42,  1.12disease/s]"
     ]
    },
    {
     "name": "stdout",
     "output_type": "stream",
     "text": [
      "Processing: Generalized anxiety disorder\n"
     ]
    },
    {
     "name": "stderr",
     "output_type": "stream",
     "text": [
      "Processing diseases:  64%|██████▍   | 85/132 [00:58<00:37,  1.25disease/s]"
     ]
    },
    {
     "name": "stdout",
     "output_type": "stream",
     "text": [
      "Processing: Social anxiety disorder (social phobia)\n"
     ]
    },
    {
     "name": "stderr",
     "output_type": "stream",
     "text": [
      "Processing diseases:  65%|██████▌   | 86/132 [00:58<00:32,  1.41disease/s]"
     ]
    },
    {
     "name": "stdout",
     "output_type": "stream",
     "text": [
      "Processing: Abdominal aortic aneurysm\n"
     ]
    },
    {
     "name": "stderr",
     "output_type": "stream",
     "text": [
      "Processing diseases:  66%|██████▌   | 87/132 [00:59<00:26,  1.67disease/s]"
     ]
    },
    {
     "name": "stdout",
     "output_type": "stream",
     "text": [
      "Processing: Coarctation of the aorta\n"
     ]
    },
    {
     "name": "stderr",
     "output_type": "stream",
     "text": [
      "Processing diseases:  67%|██████▋   | 88/132 [00:59<00:26,  1.66disease/s]"
     ]
    },
    {
     "name": "stdout",
     "output_type": "stream",
     "text": [
      "Processing: Aortic valve regurgitation\n"
     ]
    },
    {
     "name": "stderr",
     "output_type": "stream",
     "text": [
      "Processing diseases:  67%|██████▋   | 89/132 [01:00<00:25,  1.71disease/s]"
     ]
    },
    {
     "name": "stdout",
     "output_type": "stream",
     "text": [
      "Processing: Aortic valve regurgitation\n"
     ]
    },
    {
     "name": "stderr",
     "output_type": "stream",
     "text": [
      "Processing diseases:  68%|██████▊   | 90/132 [01:00<00:22,  1.84disease/s]"
     ]
    },
    {
     "name": "stdout",
     "output_type": "stream",
     "text": [
      "Processing: Auditory processing disorder\n"
     ]
    },
    {
     "name": "stderr",
     "output_type": "stream",
     "text": [
      "Processing diseases:  69%|██████▉   | 91/132 [01:01<00:21,  1.92disease/s]"
     ]
    },
    {
     "name": "stdout",
     "output_type": "stream",
     "text": [
      "Processing: Primary progressive aphasia\n"
     ]
    },
    {
     "name": "stderr",
     "output_type": "stream",
     "text": [
      "Processing diseases:  70%|██████▉   | 92/132 [01:02<00:27,  1.44disease/s]"
     ]
    },
    {
     "name": "stdout",
     "output_type": "stream",
     "text": [
      "Processing: Canker sore\n"
     ]
    },
    {
     "name": "stderr",
     "output_type": "stream",
     "text": [
      "Processing diseases:  70%|███████   | 93/132 [01:02<00:24,  1.59disease/s]"
     ]
    },
    {
     "name": "stdout",
     "output_type": "stream",
     "text": [
      "Processing: Canker sore\n"
     ]
    },
    {
     "name": "stderr",
     "output_type": "stream",
     "text": [
      "Processing diseases:  71%|███████   | 94/132 [01:03<00:20,  1.81disease/s]"
     ]
    },
    {
     "name": "stdout",
     "output_type": "stream",
     "text": [
      "Processing: Broken heart syndrome\n"
     ]
    },
    {
     "name": "stderr",
     "output_type": "stream",
     "text": [
      "Processing diseases:  72%|███████▏  | 95/132 [01:04<00:33,  1.10disease/s]"
     ]
    },
    {
     "name": "stdout",
     "output_type": "stream",
     "text": [
      "Processing: Antiphospholipid syndrome\n"
     ]
    },
    {
     "name": "stderr",
     "output_type": "stream",
     "text": [
      "Processing diseases:  73%|███████▎  | 96/132 [01:05<00:28,  1.27disease/s]"
     ]
    },
    {
     "name": "stdout",
     "output_type": "stream",
     "text": [
      "Processing: Viral hemorrhagic fevers\n"
     ]
    },
    {
     "name": "stderr",
     "output_type": "stream",
     "text": [
      "Processing diseases:  73%|███████▎  | 97/132 [01:07<00:39,  1.12s/disease]"
     ]
    },
    {
     "name": "stdout",
     "output_type": "stream",
     "text": [
      "Processing: Viral hemorrhagic fevers\n"
     ]
    },
    {
     "name": "stderr",
     "output_type": "stream",
     "text": [
      "Processing diseases:  74%|███████▍  | 98/132 [01:07<00:30,  1.13disease/s]"
     ]
    },
    {
     "name": "stdout",
     "output_type": "stream",
     "text": [
      "Processing: Broken arm\n"
     ]
    },
    {
     "name": "stderr",
     "output_type": "stream",
     "text": [
      "Processing diseases:  75%|███████▌  | 99/132 [01:08<00:25,  1.27disease/s]"
     ]
    },
    {
     "name": "stdout",
     "output_type": "stream",
     "text": [
      "Processing: Chiari malformation\n"
     ]
    },
    {
     "name": "stderr",
     "output_type": "stream",
     "text": [
      "Processing diseases:  76%|███████▌  | 100/132 [01:08<00:24,  1.32disease/s]"
     ]
    },
    {
     "name": "stdout",
     "output_type": "stream",
     "text": [
      "Processing: Heart arrhythmia\n"
     ]
    },
    {
     "name": "stderr",
     "output_type": "stream",
     "text": [
      "Processing diseases:  77%|███████▋  | 101/132 [01:09<00:20,  1.48disease/s]"
     ]
    },
    {
     "name": "stdout",
     "output_type": "stream",
     "text": [
      "Processing: Giant cell arteritis\n"
     ]
    },
    {
     "name": "stderr",
     "output_type": "stream",
     "text": [
      "Processing diseases:  77%|███████▋  | 102/132 [01:10<00:21,  1.37disease/s]"
     ]
    },
    {
     "name": "stdout",
     "output_type": "stream",
     "text": [
      "Processing: Takayasu's arteritis\n"
     ]
    },
    {
     "name": "stderr",
     "output_type": "stream",
     "text": [
      "Processing diseases:  78%|███████▊  | 103/132 [01:10<00:19,  1.45disease/s]"
     ]
    },
    {
     "name": "stdout",
     "output_type": "stream",
     "text": [
      "Processing: Thumb arthritis\n"
     ]
    },
    {
     "name": "stderr",
     "output_type": "stream",
     "text": [
      "Processing diseases:  79%|███████▉  | 104/132 [01:11<00:18,  1.49disease/s]"
     ]
    },
    {
     "name": "stdout",
     "output_type": "stream",
     "text": [
      "Processing: Osteoarthritis\n"
     ]
    },
    {
     "name": "stderr",
     "output_type": "stream",
     "text": [
      "Processing diseases:  80%|███████▉  | 105/132 [01:12<00:18,  1.42disease/s]"
     ]
    },
    {
     "name": "stdout",
     "output_type": "stream",
     "text": [
      "Processing: Gout\n"
     ]
    },
    {
     "name": "stderr",
     "output_type": "stream",
     "text": [
      "Processing diseases:  80%|████████  | 106/132 [01:12<00:16,  1.58disease/s]"
     ]
    },
    {
     "name": "stdout",
     "output_type": "stream",
     "text": [
      "Processing: Septic arthritis\n"
     ]
    },
    {
     "name": "stderr",
     "output_type": "stream",
     "text": [
      "Processing diseases:  81%|████████  | 107/132 [01:13<00:15,  1.58disease/s]"
     ]
    },
    {
     "name": "stdout",
     "output_type": "stream",
     "text": [
      "Processing: Juvenile idiopathic arthritis\n"
     ]
    },
    {
     "name": "stderr",
     "output_type": "stream",
     "text": [
      "Processing diseases:  82%|████████▏ | 108/132 [01:13<00:14,  1.65disease/s]"
     ]
    },
    {
     "name": "stdout",
     "output_type": "stream",
     "text": [
      "Processing: Osteoarthritis\n"
     ]
    },
    {
     "name": "stderr",
     "output_type": "stream",
     "text": [
      "Processing diseases:  83%|████████▎ | 109/132 [01:14<00:12,  1.88disease/s]"
     ]
    },
    {
     "name": "stdout",
     "output_type": "stream",
     "text": [
      "Processing: Psoriatic arthritis\n"
     ]
    },
    {
     "name": "stderr",
     "output_type": "stream",
     "text": [
      "Processing diseases:  83%|████████▎ | 110/132 [01:14<00:11,  1.91disease/s]"
     ]
    },
    {
     "name": "stdout",
     "output_type": "stream",
     "text": [
      "Processing: Reactive arthritis\n"
     ]
    },
    {
     "name": "stderr",
     "output_type": "stream",
     "text": [
      "Processing diseases:  84%|████████▍ | 111/132 [01:16<00:16,  1.28disease/s]"
     ]
    },
    {
     "name": "stdout",
     "output_type": "stream",
     "text": [
      "Processing: Rheumatoid arthritis\n"
     ]
    },
    {
     "name": "stderr",
     "output_type": "stream",
     "text": [
      "Processing diseases:  85%|████████▍ | 112/132 [01:16<00:14,  1.42disease/s]"
     ]
    },
    {
     "name": "stdout",
     "output_type": "stream",
     "text": [
      "Processing: Septic arthritis\n"
     ]
    },
    {
     "name": "stderr",
     "output_type": "stream",
     "text": [
      "Processing diseases:  86%|████████▌ | 113/132 [01:17<00:11,  1.58disease/s]"
     ]
    },
    {
     "name": "stdout",
     "output_type": "stream",
     "text": [
      "Processing: Thumb arthritis\n"
     ]
    },
    {
     "name": "stderr",
     "output_type": "stream",
     "text": [
      "Processing diseases:  86%|████████▋ | 114/132 [01:17<00:09,  1.84disease/s]"
     ]
    },
    {
     "name": "stdout",
     "output_type": "stream",
     "text": [
      "Processing: Atrial septal defect (ASD)\n"
     ]
    },
    {
     "name": "stderr",
     "output_type": "stream",
     "text": [
      "Processing diseases:  87%|████████▋ | 115/132 [01:18<00:09,  1.79disease/s]"
     ]
    },
    {
     "name": "stdout",
     "output_type": "stream",
     "text": [
      "Processing: Autism spectrum disorder\n"
     ]
    },
    {
     "name": "stderr",
     "output_type": "stream",
     "text": [
      "Processing diseases:  88%|████████▊ | 116/132 [01:18<00:10,  1.54disease/s]"
     ]
    },
    {
     "name": "stdout",
     "output_type": "stream",
     "text": [
      "Processing: Avascular necrosis (osteonecrosis)\n"
     ]
    },
    {
     "name": "stderr",
     "output_type": "stream",
     "text": [
      "Processing diseases:  89%|████████▊ | 117/132 [01:19<00:09,  1.59disease/s]"
     ]
    },
    {
     "name": "stdout",
     "output_type": "stream",
     "text": [
      "Processing: Childhood asthma\n"
     ]
    },
    {
     "name": "stderr",
     "output_type": "stream",
     "text": [
      "Processing diseases:  89%|████████▉ | 118/132 [01:20<00:08,  1.58disease/s]"
     ]
    },
    {
     "name": "stdout",
     "output_type": "stream",
     "text": [
      "Processing: Exercise-induced asthma\n"
     ]
    },
    {
     "name": "stderr",
     "output_type": "stream",
     "text": [
      "Processing diseases:  90%|█████████ | 119/132 [01:21<00:10,  1.20disease/s]"
     ]
    },
    {
     "name": "stdout",
     "output_type": "stream",
     "text": [
      "Processing: Occupational asthma\n"
     ]
    },
    {
     "name": "stderr",
     "output_type": "stream",
     "text": [
      "Processing diseases:  91%|█████████ | 120/132 [01:22<00:09,  1.26disease/s]"
     ]
    },
    {
     "name": "stdout",
     "output_type": "stream",
     "text": [
      "Processing: Atrial tachycardia\n"
     ]
    },
    {
     "name": "stderr",
     "output_type": "stream",
     "text": [
      "Processing diseases:  92%|█████████▏| 121/132 [01:25<00:16,  1.54s/disease]"
     ]
    },
    {
     "name": "stdout",
     "output_type": "stream",
     "text": [
      "Processing: Arteriosclerosis / atherosclerosis\n"
     ]
    },
    {
     "name": "stderr",
     "output_type": "stream",
     "text": [
      "Processing diseases:  92%|█████████▏| 122/132 [01:25<00:12,  1.24s/disease]"
     ]
    },
    {
     "name": "stdout",
     "output_type": "stream",
     "text": [
      "Processing: Atrioventricular canal defect\n"
     ]
    },
    {
     "name": "stderr",
     "output_type": "stream",
     "text": [
      "Processing diseases:  93%|█████████▎| 123/132 [01:26<00:09,  1.05s/disease]"
     ]
    },
    {
     "name": "stdout",
     "output_type": "stream",
     "text": [
      "Processing: Vaginal atrophy\n"
     ]
    },
    {
     "name": "stderr",
     "output_type": "stream",
     "text": [
      "Processing diseases:  94%|█████████▍| 124/132 [01:27<00:07,  1.07disease/s]"
     ]
    },
    {
     "name": "stdout",
     "output_type": "stream",
     "text": [
      "Processing: Reactive attachment disorder\n"
     ]
    },
    {
     "name": "stderr",
     "output_type": "stream",
     "text": [
      "Processing diseases:  95%|█████████▍| 125/132 [01:28<00:07,  1.05s/disease]"
     ]
    },
    {
     "name": "stdout",
     "output_type": "stream",
     "text": [
      "Processing: Adult attention-deficit/hyperactivity disorder (ADHD)\n"
     ]
    },
    {
     "name": "stderr",
     "output_type": "stream",
     "text": [
      "Processing diseases:  95%|█████████▌| 126/132 [01:29<00:05,  1.03disease/s]"
     ]
    },
    {
     "name": "stdout",
     "output_type": "stream",
     "text": [
      "Processing: Auditory processing disorder\n"
     ]
    },
    {
     "name": "stderr",
     "output_type": "stream",
     "text": [
      "Processing diseases:  96%|█████████▌| 127/132 [01:29<00:04,  1.21disease/s]"
     ]
    },
    {
     "name": "stdout",
     "output_type": "stream",
     "text": [
      "Processing: Autoimmune epilepsy\n"
     ]
    },
    {
     "name": "stderr",
     "output_type": "stream",
     "text": [
      "Processing diseases:  97%|█████████▋| 128/132 [01:30<00:02,  1.39disease/s]"
     ]
    },
    {
     "name": "stdout",
     "output_type": "stream",
     "text": [
      "Processing: Autoimmune encephalitis\n"
     ]
    },
    {
     "name": "stderr",
     "output_type": "stream",
     "text": [
      "Processing diseases:  98%|█████████▊| 129/132 [01:30<00:01,  1.52disease/s]"
     ]
    },
    {
     "name": "stdout",
     "output_type": "stream",
     "text": [
      "Processing: Bird flu (avian influenza)\n"
     ]
    },
    {
     "name": "stderr",
     "output_type": "stream",
     "text": [
      "Processing diseases:  98%|█████████▊| 130/132 [01:31<00:01,  1.66disease/s]"
     ]
    },
    {
     "name": "stdout",
     "output_type": "stream",
     "text": [
      "Processing: Avascular necrosis (osteonecrosis)\n"
     ]
    },
    {
     "name": "stderr",
     "output_type": "stream",
     "text": [
      "Processing diseases:  99%|█████████▉| 131/132 [01:31<00:00,  1.92disease/s]"
     ]
    },
    {
     "name": "stdout",
     "output_type": "stream",
     "text": [
      "Processing: Atrioventricular nodal reentry tachycardia (AVNRT)\n"
     ]
    },
    {
     "name": "stderr",
     "output_type": "stream",
     "text": [
      "Processing diseases: 100%|██████████| 132/132 [01:34<00:00,  1.39disease/s]"
     ]
    },
    {
     "name": "stdout",
     "output_type": "stream",
     "text": [
      "CSV file updated successfully with 132 rows\n"
     ]
    },
    {
     "name": "stderr",
     "output_type": "stream",
     "text": [
      "\n"
     ]
    }
   ],
   "source": [
    "import csv\n",
    "from bs4 import BeautifulSoup\n",
    "import requests\n",
    "import os\n",
    "from tqdm import tqdm\n",
    "\n",
    "# Section slugs for aria-labelledby (new design) and pretty names\n",
    "SECTION_SLUGS = [\n",
    "    (\"diagnosis\", \"Diagnosis\"),\n",
    "    (\"treatment\", \"Treatment\"),\n",
    "    (\"coping-and-support\", \"Coping and support\"),\n",
    "    (\"preparing-for-your-appointment\", \"Preparing for your appointment\"),\n",
    "    (\"lifestyle-and-home-remedies\", \"Lifestyle and home remedies\")\n",
    "]\n",
    "\n",
    "def extract_sections(url):\n",
    "    headers = {\n",
    "        \"User-Agent\": \"Mozilla/5.0 (Windows NT 10.0; Win64; x64) AppleWebKit/537.36\",\n",
    "        \"Accept\": \"text/html,application/xhtml+xml,application/xml;q=0.9,image/webp,*/*;q=0.8\"\n",
    "    }\n",
    "\n",
    "    try:\n",
    "        response = requests.get(url, headers=headers, timeout=20)\n",
    "        response.raise_for_status()\n",
    "        soup = BeautifulSoup(response.text, 'html.parser')\n",
    "\n",
    "        result_sections = {}\n",
    "\n",
    "        # Try method 1: Old layout (div.content or article#main-content)\n",
    "        main_content = soup.find('div', class_='content') or soup.find('article', id='main-content')\n",
    "        if main_content:\n",
    "            headings = main_content.find_all(['h2', 'h3'])\n",
    "            for heading in headings:\n",
    "                heading_text = heading.get_text(strip=True)\n",
    "                # Fix typo\n",
    "                if \"When to see a dotor\" in heading_text:\n",
    "                    heading_text = \"When to see a doctor\"\n",
    "                # If it's a section we care about\n",
    "                for _, section_name in SECTION_SLUGS:\n",
    "                    if heading_text == section_name:\n",
    "                        content = []\n",
    "                        next_node = heading.find_next_sibling()\n",
    "                        while next_node and next_node.name not in ['h2', 'h3']:\n",
    "                            if next_node.name == 'p':\n",
    "                                content.append(next_node.get_text(strip=True))\n",
    "                            elif next_node.name in ['ul', 'ol']:\n",
    "                                items = [li.get_text(strip=True) for li in next_node.find_all('li')]\n",
    "                                content.extend(items)\n",
    "                            next_node = next_node.find_next_sibling()\n",
    "                        if content:\n",
    "                            result_sections[section_name] = '\\n'.join(content)\n",
    "        # Try method 2: New layout (section[aria-labelledby] + cmp-text__rich-content)\n",
    "        for slug, section_name in SECTION_SLUGS:\n",
    "            if section_name in result_sections:\n",
    "                continue  # Already found by old method\n",
    "            # Find aria-labelledby section\n",
    "            section = soup.find('section', {'aria-labelledby': slug})\n",
    "            if section:\n",
    "                content_div = section.find('div', class_='cmp-text__rich-content')\n",
    "                if content_div:\n",
    "                    paragraphs = [p.get_text(strip=True) for p in content_div.find_all('p')]\n",
    "                    if paragraphs:\n",
    "                        result_sections[section_name] = '\\n\\n'.join(paragraphs)\n",
    "        return result_sections\n",
    "    except Exception as e:\n",
    "        # Skip on error, return empty\n",
    "        return {}\n",
    "\n",
    "def update_csv_with_sections(csv_file):\n",
    "    # Read existing data and headers\n",
    "    rows = []\n",
    "    existing_headers = []\n",
    "    if os.path.exists(csv_file):\n",
    "        with open(csv_file, 'r', newline='', encoding='utf-8') as f:\n",
    "            reader = csv.DictReader(f)\n",
    "            existing_headers = reader.fieldnames\n",
    "            rows = list(reader)\n",
    "\n",
    "    section_headers = [section for slug, section in SECTION_SLUGS]\n",
    "    all_headers = existing_headers.copy() if existing_headers else ['disease', 'main_link']\n",
    "    for header in section_headers:\n",
    "        if header not in all_headers:\n",
    "            all_headers.append(header)\n",
    "\n",
    "    # --- SINGLE tqdm bar for ALL rows ---\n",
    "    updated_rows = []\n",
    "    with tqdm(total=len(rows), desc=\"Processing diseases\", unit=\"disease\") as pbar:\n",
    "        for row in rows:\n",
    "            if 'main_link' in row and row['Diagnosis_treatment_link']:\n",
    "                # (Optional) tqdm.write() to log messages without disrupting the bar\n",
    "                tqdm.write(f\"Processing: {row.get('disease', 'Unknown')}\")\n",
    "                sections = extract_sections(row['Diagnosis_treatment_link'])\n",
    "                for section, content in sections.items():\n",
    "                    row[section] = content\n",
    "            updated_rows.append(row)\n",
    "            pbar.update(1)  # Always update once per disease\n",
    "\n",
    "    with open(csv_file, 'w', newline='', encoding='utf-8') as f:\n",
    "        writer = csv.DictWriter(f, fieldnames=all_headers)\n",
    "        writer.writeheader()\n",
    "        writer.writerows(updated_rows)\n",
    "    print(f\"CSV file updated successfully with {len(updated_rows)} rows\")\n",
    "\n",
    "# Example usage\n",
    "if __name__ == \"__main__\":\n",
    "    csv_file = \"mayo_diseases.csv\"\n",
    "    update_csv_with_sections(csv_file)"
   ]
  },
  {
   "cell_type": "code",
   "execution_count": 31,
   "metadata": {},
   "outputs": [],
   "source": [
    "extraction_list = [\"overview\",\"symptoms\",\"when-to-see-a-doctor\",\"causes\",\"complications\",\"prevention\",\"risk-factors\"]"
   ]
  },
  {
   "cell_type": "code",
   "execution_count": 40,
   "metadata": {},
   "outputs": [],
   "source": [
    "import pandas as pd"
   ]
  },
  {
   "cell_type": "code",
   "execution_count": 41,
   "metadata": {},
   "outputs": [],
   "source": [
    "df = pd.read_csv(\"mayo_diseases.csv\")"
   ]
  },
  {
   "cell_type": "code",
   "execution_count": 42,
   "metadata": {},
   "outputs": [
    {
     "data": {
      "text/plain": [
       "disease                            0\n",
       "main_link                          0\n",
       "Diagnosis_treatment_link           1\n",
       "Doctors_departments_link          25\n",
       "Diagnosis                          1\n",
       "Treatment                          1\n",
       "Coping and support                76\n",
       "Preparing for your appointment     6\n",
       "dtype: int64"
      ]
     },
     "execution_count": 42,
     "metadata": {},
     "output_type": "execute_result"
    }
   ],
   "source": [
    "df.isnull().sum()"
   ]
  },
  {
   "cell_type": "code",
   "execution_count": 44,
   "metadata": {},
   "outputs": [
    {
     "data": {
      "text/html": [
       "<div>\n",
       "<style scoped>\n",
       "    .dataframe tbody tr th:only-of-type {\n",
       "        vertical-align: middle;\n",
       "    }\n",
       "\n",
       "    .dataframe tbody tr th {\n",
       "        vertical-align: top;\n",
       "    }\n",
       "\n",
       "    .dataframe thead th {\n",
       "        text-align: right;\n",
       "    }\n",
       "</style>\n",
       "<table border=\"1\" class=\"dataframe\">\n",
       "  <thead>\n",
       "    <tr style=\"text-align: right;\">\n",
       "      <th></th>\n",
       "      <th>disease</th>\n",
       "      <th>main_link</th>\n",
       "      <th>Diagnosis_treatment_link</th>\n",
       "      <th>Doctors_departments_link</th>\n",
       "      <th>Diagnosis</th>\n",
       "      <th>Treatment</th>\n",
       "      <th>Coping and support</th>\n",
       "      <th>Preparing for your appointment</th>\n",
       "    </tr>\n",
       "  </thead>\n",
       "  <tbody>\n",
       "    <tr>\n",
       "      <th>0</th>\n",
       "      <td>Atrial fibrillation</td>\n",
       "      <td>https://www.mayoclinic.org/diseases-conditions...</td>\n",
       "      <td>https://www.mayoclinic.org/diseases-conditions...</td>\n",
       "      <td>https://www.mayoclinic.org/diseases-conditions...</td>\n",
       "      <td>You may not know you have atrial fibrillation ...</td>\n",
       "      <td>The goals of atrial fibrillation treatment are...</td>\n",
       "      <td>NaN</td>\n",
       "      <td>If you have an irregular or pounding heartbeat...</td>\n",
       "    </tr>\n",
       "    <tr>\n",
       "      <th>1</th>\n",
       "      <td>Hyperhidrosis</td>\n",
       "      <td>https://www.mayoclinic.org/diseases-conditions...</td>\n",
       "      <td>https://www.mayoclinic.org/diseases-conditions...</td>\n",
       "      <td>https://www.mayoclinic.org/diseases-conditions...</td>\n",
       "      <td>Diagnosing hyperhidrosis may start with your h...</td>\n",
       "      <td>Treating hyperhidrosis may start with treating...</td>\n",
       "      <td>Hyperhidrosis can be the cause of discomfort a...</td>\n",
       "      <td>You may start by seeing your primary care prov...</td>\n",
       "    </tr>\n",
       "    <tr>\n",
       "      <th>2</th>\n",
       "      <td>Bartholin's cyst</td>\n",
       "      <td>https://www.mayoclinic.org/diseases-conditions...</td>\n",
       "      <td>https://www.mayoclinic.org/diseases-conditions...</td>\n",
       "      <td>https://www.mayoclinic.org/diseases-conditions...</td>\n",
       "      <td>To diagnose a Bartholin's cyst, your doctor ma...</td>\n",
       "      <td>Often a Bartholin's cyst requires no treatment...</td>\n",
       "      <td>NaN</td>\n",
       "      <td>Your first appointment will likely be with eit...</td>\n",
       "    </tr>\n",
       "    <tr>\n",
       "      <th>3</th>\n",
       "      <td>Infant reflux</td>\n",
       "      <td>https://www.mayoclinic.org/diseases-conditions...</td>\n",
       "      <td>https://www.mayoclinic.org/diseases-conditions...</td>\n",
       "      <td>NaN</td>\n",
       "      <td>To diagnose infant reflux, a healthcare profes...</td>\n",
       "      <td>For most babies, making some changes to feedin...</td>\n",
       "      <td>NaN</td>\n",
       "      <td>You may start by seeing your baby's primary he...</td>\n",
       "    </tr>\n",
       "    <tr>\n",
       "      <th>4</th>\n",
       "      <td>Hidradenitis suppurativa</td>\n",
       "      <td>https://www.mayoclinic.org/diseases-conditions...</td>\n",
       "      <td>https://www.mayoclinic.org/diseases-conditions...</td>\n",
       "      <td>https://www.mayoclinic.org/diseases-conditions...</td>\n",
       "      <td>Hidradenitis suppurativa can be mistaken for p...</td>\n",
       "      <td>Treatment with medicines, surgery or both can ...</td>\n",
       "      <td>Hidradenitis suppurativa can be a challenge to...</td>\n",
       "      <td>You'll likely first see your primary care prov...</td>\n",
       "    </tr>\n",
       "  </tbody>\n",
       "</table>\n",
       "</div>"
      ],
      "text/plain": [
       "                    disease  \\\n",
       "0       Atrial fibrillation   \n",
       "1             Hyperhidrosis   \n",
       "2          Bartholin's cyst   \n",
       "3             Infant reflux   \n",
       "4  Hidradenitis suppurativa   \n",
       "\n",
       "                                           main_link  \\\n",
       "0  https://www.mayoclinic.org/diseases-conditions...   \n",
       "1  https://www.mayoclinic.org/diseases-conditions...   \n",
       "2  https://www.mayoclinic.org/diseases-conditions...   \n",
       "3  https://www.mayoclinic.org/diseases-conditions...   \n",
       "4  https://www.mayoclinic.org/diseases-conditions...   \n",
       "\n",
       "                            Diagnosis_treatment_link  \\\n",
       "0  https://www.mayoclinic.org/diseases-conditions...   \n",
       "1  https://www.mayoclinic.org/diseases-conditions...   \n",
       "2  https://www.mayoclinic.org/diseases-conditions...   \n",
       "3  https://www.mayoclinic.org/diseases-conditions...   \n",
       "4  https://www.mayoclinic.org/diseases-conditions...   \n",
       "\n",
       "                            Doctors_departments_link  \\\n",
       "0  https://www.mayoclinic.org/diseases-conditions...   \n",
       "1  https://www.mayoclinic.org/diseases-conditions...   \n",
       "2  https://www.mayoclinic.org/diseases-conditions...   \n",
       "3                                                NaN   \n",
       "4  https://www.mayoclinic.org/diseases-conditions...   \n",
       "\n",
       "                                           Diagnosis  \\\n",
       "0  You may not know you have atrial fibrillation ...   \n",
       "1  Diagnosing hyperhidrosis may start with your h...   \n",
       "2  To diagnose a Bartholin's cyst, your doctor ma...   \n",
       "3  To diagnose infant reflux, a healthcare profes...   \n",
       "4  Hidradenitis suppurativa can be mistaken for p...   \n",
       "\n",
       "                                           Treatment  \\\n",
       "0  The goals of atrial fibrillation treatment are...   \n",
       "1  Treating hyperhidrosis may start with treating...   \n",
       "2  Often a Bartholin's cyst requires no treatment...   \n",
       "3  For most babies, making some changes to feedin...   \n",
       "4  Treatment with medicines, surgery or both can ...   \n",
       "\n",
       "                                  Coping and support  \\\n",
       "0                                                NaN   \n",
       "1  Hyperhidrosis can be the cause of discomfort a...   \n",
       "2                                                NaN   \n",
       "3                                                NaN   \n",
       "4  Hidradenitis suppurativa can be a challenge to...   \n",
       "\n",
       "                      Preparing for your appointment  \n",
       "0  If you have an irregular or pounding heartbeat...  \n",
       "1  You may start by seeing your primary care prov...  \n",
       "2  Your first appointment will likely be with eit...  \n",
       "3  You may start by seeing your baby's primary he...  \n",
       "4  You'll likely first see your primary care prov...  "
      ]
     },
     "execution_count": 44,
     "metadata": {},
     "output_type": "execute_result"
    }
   ],
   "source": [
    "df.head()"
   ]
  },
  {
   "cell_type": "code",
   "execution_count": 46,
   "metadata": {},
   "outputs": [
    {
     "name": "stdout",
     "output_type": "stream",
     "text": [
      "Diseases with all info columns missing (6 found):\n"
     ]
    },
    {
     "name": "stderr",
     "output_type": "stream",
     "text": [
      "C:\\Users\\harme\\AppData\\Local\\Temp\\ipykernel_23608\\687039859.py:12: FutureWarning: DataFrame.applymap has been deprecated. Use DataFrame.map instead.\n",
      "  mask = df[cols_to_check].isnull() | (df[cols_to_check].applymap(lambda x: str(x).strip() == \"\"))\n"
     ]
    }
   ],
   "source": [
    "import pandas as pd\n",
    "\n",
    "# Load your CSV\n",
    "df = pd.read_csv('mayo_diseases.csv')\n",
    "\n",
    "# List of columns to check for all-null per disease\n",
    "cols_to_check = [\n",
    "'Preparing for your appointment'\n",
    "]\n",
    "\n",
    "# Find rows where all these columns are null (or empty string, or only whitespace)\n",
    "mask = df[cols_to_check].isnull() | (df[cols_to_check].applymap(lambda x: str(x).strip() == \"\"))\n",
    "\n",
    "# Disease rows where ALL of the specified columns are null/empty\n",
    "fully_null = df[mask.all(axis=1)]\n",
    "\n",
    "print(f\"Diseases with all info columns missing ({len(fully_null)} found):\")\n"
   ]
  },
  {
   "cell_type": "code",
   "execution_count": 47,
   "metadata": {},
   "outputs": [
    {
     "data": {
      "text/html": [
       "<div>\n",
       "<style scoped>\n",
       "    .dataframe tbody tr th:only-of-type {\n",
       "        vertical-align: middle;\n",
       "    }\n",
       "\n",
       "    .dataframe tbody tr th {\n",
       "        vertical-align: top;\n",
       "    }\n",
       "\n",
       "    .dataframe thead th {\n",
       "        text-align: right;\n",
       "    }\n",
       "</style>\n",
       "<table border=\"1\" class=\"dataframe\">\n",
       "  <thead>\n",
       "    <tr style=\"text-align: right;\">\n",
       "      <th></th>\n",
       "      <th>disease</th>\n",
       "      <th>main_link</th>\n",
       "      <th>Diagnosis_treatment_link</th>\n",
       "      <th>Doctors_departments_link</th>\n",
       "      <th>Diagnosis</th>\n",
       "      <th>Treatment</th>\n",
       "      <th>Coping and support</th>\n",
       "      <th>Preparing for your appointment</th>\n",
       "    </tr>\n",
       "  </thead>\n",
       "  <tbody>\n",
       "    <tr>\n",
       "      <th>14</th>\n",
       "      <td>Radiation sickness</td>\n",
       "      <td>https://www.mayoclinic.org/diseases-conditions...</td>\n",
       "      <td>https://www.mayoclinic.org/diseases-conditions...</td>\n",
       "      <td>NaN</td>\n",
       "      <td>When a person has experienced known or probabl...</td>\n",
       "      <td>The treatment goals for radiation sickness are...</td>\n",
       "      <td>NaN</td>\n",
       "      <td>NaN</td>\n",
       "    </tr>\n",
       "    <tr>\n",
       "      <th>15</th>\n",
       "      <td>Radiation sickness</td>\n",
       "      <td>https://www.mayoclinic.org/diseases-conditions...</td>\n",
       "      <td>https://www.mayoclinic.org/diseases-conditions...</td>\n",
       "      <td>NaN</td>\n",
       "      <td>When a person has experienced known or probabl...</td>\n",
       "      <td>The treatment goals for radiation sickness are...</td>\n",
       "      <td>NaN</td>\n",
       "      <td>NaN</td>\n",
       "    </tr>\n",
       "    <tr>\n",
       "      <th>17</th>\n",
       "      <td>ARDS</td>\n",
       "      <td>https://www.mayoclinic.org/diseases-conditions...</td>\n",
       "      <td>https://www.mayoclinic.org/diseases-conditions...</td>\n",
       "      <td>https://www.mayoclinic.org/diseases-conditions...</td>\n",
       "      <td>There's no specific test for ARDS. Healthcare ...</td>\n",
       "      <td>The first goal in treating ARDS is to improve ...</td>\n",
       "      <td>Recovery from ARDS can take time, and you're l...</td>\n",
       "      <td>NaN</td>\n",
       "    </tr>\n",
       "    <tr>\n",
       "      <th>69</th>\n",
       "      <td>Aortic aneurysm</td>\n",
       "      <td>https://www.mayoclinic.org/diseases-conditions...</td>\n",
       "      <td>NaN</td>\n",
       "      <td>https://www.mayoclinic.org/diseases-conditions...</td>\n",
       "      <td>NaN</td>\n",
       "      <td>NaN</td>\n",
       "      <td>NaN</td>\n",
       "      <td>NaN</td>\n",
       "    </tr>\n",
       "    <tr>\n",
       "      <th>71</th>\n",
       "      <td>Popliteal artery aneurysm</td>\n",
       "      <td>https://www.mayoclinic.org/diseases-conditions...</td>\n",
       "      <td>https://www.mayoclinic.org/diseases-conditions...</td>\n",
       "      <td>https://www.mayoclinic.org/diseases-conditions...</td>\n",
       "      <td>To diagnose popliteal artery aneurysm, a healt...</td>\n",
       "      <td>Treatment of popliteal artery aneurysm depends...</td>\n",
       "      <td>NaN</td>\n",
       "      <td>NaN</td>\n",
       "    </tr>\n",
       "  </tbody>\n",
       "</table>\n",
       "</div>"
      ],
      "text/plain": [
       "                      disease  \\\n",
       "14         Radiation sickness   \n",
       "15         Radiation sickness   \n",
       "17                       ARDS   \n",
       "69            Aortic aneurysm   \n",
       "71  Popliteal artery aneurysm   \n",
       "\n",
       "                                            main_link  \\\n",
       "14  https://www.mayoclinic.org/diseases-conditions...   \n",
       "15  https://www.mayoclinic.org/diseases-conditions...   \n",
       "17  https://www.mayoclinic.org/diseases-conditions...   \n",
       "69  https://www.mayoclinic.org/diseases-conditions...   \n",
       "71  https://www.mayoclinic.org/diseases-conditions...   \n",
       "\n",
       "                             Diagnosis_treatment_link  \\\n",
       "14  https://www.mayoclinic.org/diseases-conditions...   \n",
       "15  https://www.mayoclinic.org/diseases-conditions...   \n",
       "17  https://www.mayoclinic.org/diseases-conditions...   \n",
       "69                                                NaN   \n",
       "71  https://www.mayoclinic.org/diseases-conditions...   \n",
       "\n",
       "                             Doctors_departments_link  \\\n",
       "14                                                NaN   \n",
       "15                                                NaN   \n",
       "17  https://www.mayoclinic.org/diseases-conditions...   \n",
       "69  https://www.mayoclinic.org/diseases-conditions...   \n",
       "71  https://www.mayoclinic.org/diseases-conditions...   \n",
       "\n",
       "                                            Diagnosis  \\\n",
       "14  When a person has experienced known or probabl...   \n",
       "15  When a person has experienced known or probabl...   \n",
       "17  There's no specific test for ARDS. Healthcare ...   \n",
       "69                                                NaN   \n",
       "71  To diagnose popliteal artery aneurysm, a healt...   \n",
       "\n",
       "                                            Treatment  \\\n",
       "14  The treatment goals for radiation sickness are...   \n",
       "15  The treatment goals for radiation sickness are...   \n",
       "17  The first goal in treating ARDS is to improve ...   \n",
       "69                                                NaN   \n",
       "71  Treatment of popliteal artery aneurysm depends...   \n",
       "\n",
       "                                   Coping and support  \\\n",
       "14                                                NaN   \n",
       "15                                                NaN   \n",
       "17  Recovery from ARDS can take time, and you're l...   \n",
       "69                                                NaN   \n",
       "71                                                NaN   \n",
       "\n",
       "   Preparing for your appointment  \n",
       "14                            NaN  \n",
       "15                            NaN  \n",
       "17                            NaN  \n",
       "69                            NaN  \n",
       "71                            NaN  "
      ]
     },
     "execution_count": 47,
     "metadata": {},
     "output_type": "execute_result"
    }
   ],
   "source": [
    "fully_null.head()"
   ]
  },
  {
   "cell_type": "code",
   "execution_count": null,
   "metadata": {},
   "outputs": [],
   "source": []
  }
 ],
 "metadata": {
  "kernelspec": {
   "display_name": "myenv",
   "language": "python",
   "name": "python3"
  },
  "language_info": {
   "codemirror_mode": {
    "name": "ipython",
    "version": 3
   },
   "file_extension": ".py",
   "mimetype": "text/x-python",
   "name": "python",
   "nbconvert_exporter": "python",
   "pygments_lexer": "ipython3",
   "version": "3.9.13"
  }
 },
 "nbformat": 4,
 "nbformat_minor": 2
}
