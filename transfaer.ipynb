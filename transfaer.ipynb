{
 "cells": [
  {
   "cell_type": "code",
   "execution_count": 5,
   "id": "c4de0542",
   "metadata": {},
   "outputs": [],
   "source": [
    "import pandas as pd"
   ]
  },
  {
   "cell_type": "code",
   "execution_count": 6,
   "id": "c53cb51b",
   "metadata": {},
   "outputs": [],
   "source": [
    "df = pd.read_csv(\"mayo_diseases.csv\")"
   ]
  },
  {
   "cell_type": "code",
   "execution_count": 7,
   "id": "17c22f4c",
   "metadata": {},
   "outputs": [],
   "source": [
    "text = df[\"Symptoms\"][0]"
   ]
  },
  {
   "cell_type": "code",
   "execution_count": 8,
   "id": "120b4bed",
   "metadata": {},
   "outputs": [],
   "source": [
    "import re\n",
    "import spacy\n",
    "\n",
    "class Text_Preprocessing:\n",
    "    \n",
    "    def __init__(self):\n",
    "        self.nlp = spacy.load(\"en_core_web_sm\")\n",
    "    \n",
    "    def work_with_extras(self, text: str) -> list:\n",
    "        clean_text = re.sub(r\"[\\n.,:]\", \" \", text)\n",
    "        return clean_text.split()\n",
    "    \n",
    "    def work_with_spaces(self, text: list) -> list:\n",
    "        return [word.strip().lower() for word in text if word.strip()]\n",
    "    \n",
    "    def process_text(self, text: list) -> list:\n",
    "        # Join list into a string before passing to spaCy\n",
    "        doc = self.nlp(\" \".join(text))\n",
    "        return [\n",
    "            token.lemma_\n",
    "            for token in doc\n",
    "            if not token.is_stop\n",
    "            and not token.is_punct\n",
    "            and not token.like_num\n",
    "            and token.is_alpha\n",
    "        ]\n",
    "        \n",
    "    def go_on(self, text: str) -> list:\n",
    "        text = self.work_with_extras(text)\n",
    "        text = self.work_with_spaces(text)\n",
    "        return self.process_text(text)\n"
   ]
  },
  {
   "cell_type": "code",
   "execution_count": 9,
   "id": "4836f7d3",
   "metadata": {},
   "outputs": [
    {
     "data": {
      "text/plain": [
       "\"Symptoms ofAFibmay include:\\nFeelings of a fast, fluttering or pounding heartbeat, called palpitations.\\nChest pain.\\nDizziness.\\nFatigue.\\nLightheadedness.\\nReduced ability to exercise.\\nShortness of breath.\\nWeakness.\\nSome people with atrial fibrillation (AFib) don't notice any symptoms.\\nAtrial fibrillation may be:\\nOccasional, also called paroxysmal atrial fibrillation.AFibsymptoms come and go. The symptoms usually last for a few minutes to hours. Some people have symptoms for as long as a week. The episodes can happen repeatedly. Symptoms might go away on their own. Some people with occasionalAFibneed treatment.\\nPersistent.The irregular heartbeat is constant. The heart rhythm does not reset on its own. If symptoms occur, medical treatment is needed to correct the heart rhythm.\\nLong-standing persistent.This type ofAFibis constant and lasts longer than 12 months. Medicines or a procedure are needed to correct the irregular heartbeat.\\nPermanent.In this type of atrial fibrillation, the irregular heart rhythm can't be reset. Medicines are needed to control the heart rate and to prevent blood clots.\""
      ]
     },
     "execution_count": 9,
     "metadata": {},
     "output_type": "execute_result"
    }
   ],
   "source": [
    "text"
   ]
  },
  {
   "cell_type": "code",
   "execution_count": 10,
   "id": "94d5fd58",
   "metadata": {},
   "outputs": [],
   "source": [
    "t =  Text_Preprocessing()\n",
    "pp = t.go_on(text)"
   ]
  },
  {
   "cell_type": "code",
   "execution_count": 11,
   "id": "afff88d6",
   "metadata": {},
   "outputs": [
    {
     "data": {
      "text/plain": [
       "['symptom',\n",
       " 'ofafibmay',\n",
       " 'include',\n",
       " 'feeling',\n",
       " 'fast',\n",
       " 'fluttering',\n",
       " 'pound',\n",
       " 'heartbeat',\n",
       " 'call',\n",
       " 'palpitation',\n",
       " 'chest',\n",
       " 'pain',\n",
       " 'dizziness',\n",
       " 'fatigue',\n",
       " 'lightheadedness',\n",
       " 'reduce',\n",
       " 'ability',\n",
       " 'exercise',\n",
       " 'shortness',\n",
       " 'breath',\n",
       " 'weakness',\n",
       " 'people',\n",
       " 'atrial',\n",
       " 'fibrillation',\n",
       " 'afib',\n",
       " 'notice',\n",
       " 'symptom',\n",
       " 'atrial',\n",
       " 'fibrillation',\n",
       " 'occasional',\n",
       " 'call',\n",
       " 'paroxysmal',\n",
       " 'atrial',\n",
       " 'fibrillation',\n",
       " 'afibsymptom',\n",
       " 'come',\n",
       " 'symptom',\n",
       " 'usually',\n",
       " 'minute',\n",
       " 'hour',\n",
       " 'people',\n",
       " 'symptom',\n",
       " 'long',\n",
       " 'week',\n",
       " 'episode',\n",
       " 'happen',\n",
       " 'repeatedly',\n",
       " 'symptom',\n",
       " 'away',\n",
       " 'people',\n",
       " 'occasionalafibneed',\n",
       " 'treatment',\n",
       " 'persistent',\n",
       " 'irregular',\n",
       " 'heartbeat',\n",
       " 'constant',\n",
       " 'heart',\n",
       " 'rhythm',\n",
       " 'reset',\n",
       " 'symptom',\n",
       " 'occur',\n",
       " 'medical',\n",
       " 'treatment',\n",
       " 'need',\n",
       " 'correct',\n",
       " 'heart',\n",
       " 'rhythm',\n",
       " 'long',\n",
       " 'stand',\n",
       " 'persistent',\n",
       " 'type',\n",
       " 'ofafibis',\n",
       " 'constant',\n",
       " 'last',\n",
       " 'long',\n",
       " 'month',\n",
       " 'medicine',\n",
       " 'procedure',\n",
       " 'need',\n",
       " 'correct',\n",
       " 'irregular',\n",
       " 'heartbeat',\n",
       " 'permanent',\n",
       " 'type',\n",
       " 'atrial',\n",
       " 'fibrillation',\n",
       " 'irregular',\n",
       " 'heart',\n",
       " 'rhythm',\n",
       " 'reset',\n",
       " 'medicine',\n",
       " 'need',\n",
       " 'control',\n",
       " 'heart',\n",
       " 'rate',\n",
       " 'prevent',\n",
       " 'blood',\n",
       " 'clot']"
      ]
     },
     "execution_count": 11,
     "metadata": {},
     "output_type": "execute_result"
    }
   ],
   "source": [
    "pp"
   ]
  },
  {
   "cell_type": "code",
   "execution_count": 12,
   "id": "e34b87e2",
   "metadata": {},
   "outputs": [],
   "source": [
    "from transformers import AutoTokenizer, AutoModelForTokenClassification, pipeline\n",
    "\n",
    "class RemoveUselessWords:\n",
    "    \n",
    "    def __init__(self):\n",
    "        self.model_name = \"d4data/biomedical-ner-all\"\n",
    "        self.tokenizer = AutoTokenizer.from_pretrained(self.model_name)\n",
    "        self.model = AutoModelForTokenClassification.from_pretrained(self.model_name)\n",
    "        self.ner = pipeline(\"ner\", model=self.model, tokenizer=self.tokenizer, aggregation_strategy=\"simple\")\n",
    "        \n",
    "        # Define entity types you WANT to KEEP\n",
    "        self.allowed_entities = [\n",
    "            \"Sign_symptom\",\n",
    "            \"Disease_disorder\",\n",
    "            \"Biological_structure\",\n",
    "            \"Medication\",\n",
    "            \"Therapeutic_procedure\",\n",
    "            \"Duration\"\n",
    "        ]\n",
    "        \n",
    "    def process_entities(self, words: list) -> list:\n",
    "        results = []\n",
    "        for word in words:\n",
    "            entity = self.ner(word)\n",
    "            if entity:\n",
    "                ent_type = entity[0]['entity_group']\n",
    "                if ent_type in self.allowed_entities:\n",
    "                    results.append(word)\n",
    "        return results\n"
   ]
  },
  {
   "cell_type": "code",
   "execution_count": 13,
   "id": "a2a92317",
   "metadata": {},
   "outputs": [
    {
     "name": "stderr",
     "output_type": "stream",
     "text": [
      "Device set to use cpu\n"
     ]
    },
    {
     "name": "stdout",
     "output_type": "stream",
     "text": [
      "['symptom', 'ofafibmay', 'fluttering', 'palpitation', 'chest', 'pain', 'dizziness', 'fatigue', 'lightheadedness', 'shortness', 'weakness', 'atrial', 'fibrillation', 'symptom', 'atrial', 'fibrillation', 'atrial', 'fibrillation', 'afibsymptom', 'symptom', 'symptom', 'symptom', 'treatment', 'heart', 'reset', 'symptom', 'treatment', 'heart', 'ofafibis', 'medicine', 'atrial', 'fibrillation', 'heart', 'reset', 'medicine', 'heart', 'blood']\n"
     ]
    }
   ],
   "source": [
    "processor = RemoveUselessWords()\n",
    "filtered = processor.process_entities(pp)\n",
    "print(filtered)\n"
   ]
  },
  {
   "cell_type": "code",
   "execution_count": 15,
   "id": "8cc43d9d",
   "metadata": {},
   "outputs": [],
   "source": [
    "from transformers import BertTokenizer, BertModel\n",
    "import torch\n",
    "\n",
    "tokenizer = BertTokenizer.from_pretrained(\"bert-base-uncased\")\n",
    "model = BertModel.from_pretrained(\"bert-base-uncased\")\n"
   ]
  },
  {
   "cell_type": "code",
   "execution_count": 16,
   "id": "5b34433f",
   "metadata": {},
   "outputs": [],
   "source": [
    "final = \" \".join(filtered)"
   ]
  },
  {
   "cell_type": "code",
   "execution_count": 17,
   "id": "a98938c1",
   "metadata": {},
   "outputs": [],
   "source": [
    "\n",
    "inputs = tokenizer(final, return_tensors=\"pt\")\n",
    "outputs = model(**inputs)\n",
    "word_embeddings = outputs.last_hidden_state \n"
   ]
  },
  {
   "cell_type": "code",
   "execution_count": 20,
   "id": "3ac2143e",
   "metadata": {},
   "outputs": [
    {
     "data": {
      "text/plain": [
       "37"
      ]
     },
     "execution_count": 20,
     "metadata": {},
     "output_type": "execute_result"
    }
   ],
   "source": [
    "len(filtered)"
   ]
  },
  {
   "cell_type": "code",
   "execution_count": 19,
   "id": "6c46be0b",
   "metadata": {},
   "outputs": [
    {
     "data": {
      "text/plain": [
       "torch.Size([1, 80, 768])"
      ]
     },
     "execution_count": 19,
     "metadata": {},
     "output_type": "execute_result"
    }
   ],
   "source": [
    "word_embeddings.shape"
   ]
  },
  {
   "cell_type": "code",
   "execution_count": 2,
   "id": "75211e92",
   "metadata": {},
   "outputs": [
    {
     "name": "stdout",
     "output_type": "stream",
     "text": [
      "📄 .gitattributes\n",
      "📄 .gitignore\n",
      "📄 LICENSE\n",
      "📄 README.md\n",
      "📁 Vector\n",
      "    📁 symptom_faiss_db\n",
      "📁 backend\n",
      "    📁 api\n",
      "        📄 upload.py\n",
      "    📄 config.py\n",
      "    📄 main.py\n",
      "    📁 models\n",
      "        📄 skin_disease_model.h5\n",
      "    📁 services\n",
      "        📄 evaluate_rag_symptom.py\n",
      "        📄 image_classifier.py\n",
      "        📄 symptom_to_disease.py\n",
      "    📁 utils\n",
      "        📄 filtering_with_ner.py\n",
      "        📄 image_preprocessing.py\n",
      "        📄 text_cleaning.py\n",
      "📁 data\n",
      "    📁 Vector\n",
      "        📁 symptom_faiss_db\n",
      "            📄 index.faiss\n",
      "            📄 index.pkl\n",
      "    📄 labels.json\n",
      "    📄 test_symptom_cases.csv\n",
      "📁 evaluation\n",
      "    📄 rag_model_score.txt\n",
      "📁 frontend\n",
      "    📄 index.html\n",
      "📁 notebook\n",
      "    📄 llm.ipynb\n",
      "    📄 mayo_diseases.csv\n",
      "    📄 skin_disease_prediction.ipynb\n",
      "    📄 test_symptom_cases.csv\n",
      "    📄 web_scrapping.ipynb\n",
      "📄 requirements.txt\n",
      "📁 scripts\n",
      "    📁 scrapers\n",
      "        📄 main.py\n",
      "        📄 web_scraper2.py\n",
      "        📄 web_scrapers.py\n",
      "    📄 symptoms_to_vectordb.py\n",
      "📄 transfaer.ipynb\n"
     ]
    }
   ],
   "source": [
    "import os\n",
    "\n",
    "# Folders to exclude\n",
    "EXCLUDED_FOLDERS = {'myenv', 'scipy', '__pycache__', '.git','skin-disease-datasaet'}\n",
    "\n",
    "def print_tree(start_path, indent=\"\"):\n",
    "    for item in sorted(os.listdir(start_path)):\n",
    "        item_path = os.path.join(start_path, item)\n",
    "        if item in EXCLUDED_FOLDERS:\n",
    "            continue\n",
    "        if os.path.isdir(item_path):\n",
    "            print(f\"{indent}📁 {item}\")\n",
    "            print_tree(item_path, indent + \"    \")\n",
    "        else:\n",
    "            print(f\"{indent}📄 {item}\")\n",
    "\n",
    "# Replace '.' with your desired root directory\n",
    "print_tree('.')\n"
   ]
  },
  {
   "cell_type": "code",
   "execution_count": null,
   "id": "283c8097",
   "metadata": {},
   "outputs": [],
   "source": []
  }
 ],
 "metadata": {
  "kernelspec": {
   "display_name": "Python 3",
   "language": "python",
   "name": "python3"
  },
  "language_info": {
   "codemirror_mode": {
    "name": "ipython",
    "version": 3
   },
   "file_extension": ".py",
   "mimetype": "text/x-python",
   "name": "python",
   "nbconvert_exporter": "python",
   "pygments_lexer": "ipython3",
   "version": "3.9.13"
  }
 },
 "nbformat": 4,
 "nbformat_minor": 5
}
