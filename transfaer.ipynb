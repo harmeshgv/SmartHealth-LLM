{
 "cells": [
  {
   "cell_type": "code",
   "execution_count": null,
   "id": "75211e92",
   "metadata": {},
   "outputs": [
    {
     "name": "stdout",
     "output_type": "stream",
     "text": [
      "📄 .gitattributes\n",
      "📄 .gitignore\n",
      "📄 LICENSE\n",
      "📄 README (3).md\n",
      "📄 README.md\n",
      "📁 backend\n",
      "    📁 api\n",
      "        📄 upload.py\n",
      "    📄 config.py\n",
      "    📄 main.py\n",
      "    📁 models\n",
      "        📄 skin_disease_model.h5\n",
      "    📁 services\n",
      "        📄 image_classifier.py\n",
      "        📄 symptom_to_disease.py\n",
      "    📁 utils\n",
      "        📄 filtering_with_ner.py\n",
      "        📄 image_preprocessing.py\n",
      "        📄 text_cleaning.py\n",
      "📁 data\n",
      "    📁 Vector\n",
      "        📁 symptom_faiss_db\n",
      "            📄 index.faiss\n",
      "            📄 index.pkl\n",
      "    📄 labels.json\n",
      "    📄 mayo_diseases.csv\n",
      "    📄 test_symptom_cases.csv\n",
      "📁 evaluation\n",
      "    📄 evaluate_rag_symptom.py\n",
      "📁 frontend\n",
      "    📄 index.html\n",
      "📄 logo.png\n",
      "📁 notebook\n",
      "    📄 llm.ipynb\n",
      "    📄 skin_disease_prediction.ipynb\n",
      "    📄 web_scrapping.ipynb\n",
      "📄 requirements.txt\n",
      "📁 scripts\n",
      "    📄 model.py\n",
      "    📁 scrapers\n",
      "        📄 main.py\n",
      "        📄 web_scraper2.py\n",
      "        📄 web_scrapers.py\n",
      "    📄 symptoms_to_vectordb.py\n",
      "📄 transfaer.ipynb\n"
     ]
    }
   ],
   "source": []
  },
  {
   "cell_type": "code",
   "execution_count": 1,
   "id": "740fa18a",
   "metadata": {},
   "outputs": [],
   "source": [
    "import re\n",
    "import json\n",
    "import os\n",
    "import sys"
   ]
  },
  {
   "cell_type": "code",
   "execution_count": null,
   "id": "6048fa68",
   "metadata": {},
   "outputs": [],
   "source": []
  }
 ],
 "metadata": {
  "kernelspec": {
   "display_name": "Python 3",
   "language": "python",
   "name": "python3"
  },
  "language_info": {
   "codemirror_mode": {
    "name": "ipython",
    "version": 3
   },
   "file_extension": ".py",
   "mimetype": "text/x-python",
   "name": "python",
   "nbconvert_exporter": "python",
   "pygments_lexer": "ipython3",
   "version": "3.9.13"
  }
 },
 "nbformat": 4,
 "nbformat_minor": 5
}
